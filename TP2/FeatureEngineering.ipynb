{
 "cells": [
  {
   "cell_type": "code",
   "execution_count": 12,
   "metadata": {
    "tags": []
   },
   "outputs": [
    {
     "output_type": "stream",
     "name": "stderr",
     "text": "[nltk_data] Downloading package vader_lexicon to\n[nltk_data]     C:\\Users\\franc\\AppData\\Roaming\\nltk_data...\n[nltk_data]   Package vader_lexicon is already up-to-date!\n[nltk_data] Downloading package stopwords to\n[nltk_data]     C:\\Users\\franc\\AppData\\Roaming\\nltk_data...\n[nltk_data]   Package stopwords is already up-to-date!\n[nltk_data] Downloading package punkt to\n[nltk_data]     C:\\Users\\franc\\AppData\\Roaming\\nltk_data...\n[nltk_data]   Package punkt is already up-to-date!\n[nltk_data] Downloading package averaged_perceptron_tagger to\n[nltk_data]     C:\\Users\\franc\\AppData\\Roaming\\nltk_data...\n[nltk_data]   Package averaged_perceptron_tagger is already up-to-\n[nltk_data]       date!\n"
    },
    {
     "output_type": "execute_result",
     "data": {
      "text/plain": "True"
     },
     "metadata": {},
     "execution_count": 12
    }
   ],
   "source": [
    "import numpy as np\n",
    "import pandas as pd\n",
    "import string\n",
    "import xgboost as xgb\n",
    "import io\n",
    "import nltk\n",
    "import matplotlib\n",
    "%matplotlib inline\n",
    "%config InlineBackend.figure_format = 'retina'\n",
    "from matplotlib import pyplot as plt\n",
    "from sklearn import preprocessing\n",
    "from sklearn.feature_extraction.text import CountVectorizer, TfidfVectorizer\n",
    "from sklearn.model_selection import train_test_split, KFold\n",
    "from nltk.corpus import stopwords\n",
    "from nltk.stem.snowball import SnowballStemmer\n",
    "from nltk.corpus import stopwords\n",
    "from nltk.sentiment.vader import SentimentIntensityAnalyzer\n",
    "nltk.download('vader_lexicon')\n",
    "nltk.download('stopwords')\n",
    "stopwords = stopwords.words('english')\n",
    "stemmer = SnowballStemmer('english')\n",
    "\n",
    "from textblob import TextBlob\n",
    "nltk.download('punkt')\n",
    "nltk.download('averaged_perceptron_tagger')"
   ]
  },
  {
   "cell_type": "code",
   "execution_count": 13,
   "metadata": {
    "tags": []
   },
   "outputs": [],
   "source": [
    "\n",
    "sia = SentimentIntensityAnalyzer()\n",
    "def return_sia_compound_values(text):\n",
    "    return sia.polarity_scores(text)['compound']"
   ]
  },
  {
   "cell_type": "code",
   "execution_count": 14,
   "metadata": {},
   "outputs": [],
   "source": [
    "def remove_stopword(text):\n",
    "    new_text = []\n",
    "    for e in text:\n",
    "        if e not in stopwords and e.isalpha():\n",
    "            new_text.append(e)\n",
    "    text = new_text\n",
    "    return \" \".join(new_text)\n",
    "\n",
    "def stemm(text):\n",
    "    text = [stemmer.stem(word) for word in text.split()]\n",
    "    return \" \".join(text)\n",
    "\n",
    "def contains_punctuation(text):\n",
    "    punctuation = set(string.punctuation)\n",
    "    for character in text:\n",
    "        if character in punctuation:\n",
    "            return True\n",
    "    return False\n",
    "\n",
    "def amount_of_punctuation(text):\n",
    "    punctuation = set(string.punctuation)\n",
    "    amount = 0\n",
    "    for character in text:\n",
    "        if character in punctuation: amount += 1\n",
    "    return amount\n",
    "\n",
    "def get_adjectives(text):\n",
    "    blob = TextBlob(text)\n",
    "    return len([word for (word,tag) in blob.tags if tag.startswith(\"JJ\")])\n",
    "\n",
    "def get_nouns(text):\n",
    "    blob = TextBlob(text)\n",
    "    return len([word for (word,tag) in blob.tags if tag.startswith(\"NN\")])\n",
    "\n",
    "def get_verbs(text):\n",
    "    blob = TextBlob(text)\n",
    "    return len([word for (word,tag) in blob.tags if tag.startswith(\"VB\")])\n",
    "\n",
    "def get_adverbs(text):\n",
    "    blob = TextBlob(text)\n",
    "    return len([word for (word,tag) in blob.tags if tag.startswith(\"RB\")])"
   ]
  },
  {
   "cell_type": "code",
   "execution_count": 15,
   "metadata": {},
   "outputs": [],
   "source": [
    "tweets = pd.read_csv(\"train.csv\", usecols=['id','text', 'target'])\n",
    "test = pd.read_csv(\"test.csv\")"
   ]
  },
  {
   "cell_type": "code",
   "execution_count": 16,
   "metadata": {
    "tags": []
   },
   "outputs": [
    {
     "output_type": "stream",
     "name": "stdout",
     "text": "<class 'pandas.core.frame.DataFrame'>\nInt64Index: 7434 entries, 0 to 7612\nData columns (total 3 columns):\n #   Column  Non-Null Count  Dtype \n---  ------  --------------  ----- \n 0   id      7434 non-null   int64 \n 1   text    7434 non-null   object\n 2   target  7434 non-null   int64 \ndtypes: int64(2), object(1)\nmemory usage: 232.3+ KB\n"
    }
   ],
   "source": [
    "tweets.drop_duplicates(subset = 'text', keep = False, inplace = True)\n",
    "tweets.info()"
   ]
  },
  {
   "cell_type": "markdown",
   "metadata": {},
   "source": [
    "### Fichur Inginierin\n"
   ]
  },
  {
   "cell_type": "code",
   "execution_count": 17,
   "metadata": {},
   "outputs": [
    {
     "output_type": "execute_result",
     "data": {
      "text/plain": "   id                                               text  target  \\\n0   1  Our Deeds are the Reason of this #earthquake M...       1   \n1   4             Forest fire near La Ronge Sask. Canada       1   \n2   5  All residents asked to 'shelter in place' are ...       1   \n3   6  13,000 people receive #wildfires evacuation or...       1   \n4   7  Just got sent this photo from Ruby #Alaska as ...       1   \n\n                              text_without_stopwords  length  avg_word_length  \\\n0              Our Deeds Reason May ALLAH Forgive us      69         4.384615   \n1                   Forest fire near La Ronge Canada      38         4.571429   \n2  All residents asked notified No evacuation she...     133         5.090909   \n3        people receive evacuation orders California      65         7.125000   \n4        Just got sent photo Ruby smoke pours school      88         4.500000   \n\n   amount_of_words  amount_of_unique_words  sentiment  stopwords_count  \\\n0               13                      13     0.2732                6   \n1                7                       7    -0.3400                0   \n2               22                      20    -0.2960               11   \n3                8                       8     0.0000                1   \n4               16                      15     0.0000                7   \n\n   punctuation_count  mentions_count  hashtags_count  \\\n0                  1               0               1   \n1                  1               0               0   \n2                  3               0               0   \n3                  2               0               1   \n4                  2               0               2   \n\n   longest_word_length_without_stopwords  stopword_word_ratio  \\\n0                                      7             0.461538   \n1                                      6             0.000000   \n2                                     10             0.500000   \n3                                     10             0.125000   \n4                                      6             0.437500   \n\n   adjectives_count  nouns_count  verbs_count  adverbs_count  \n0                 0            6            1              0  \n1                 0            6            0              0  \n2                 1            7            7              0  \n3                 1            4            1              0  \n4                 0            6            3              1  ",
      "text/html": "<div>\n<style scoped>\n    .dataframe tbody tr th:only-of-type {\n        vertical-align: middle;\n    }\n\n    .dataframe tbody tr th {\n        vertical-align: top;\n    }\n\n    .dataframe thead th {\n        text-align: right;\n    }\n</style>\n<table border=\"1\" class=\"dataframe\">\n  <thead>\n    <tr style=\"text-align: right;\">\n      <th></th>\n      <th>id</th>\n      <th>text</th>\n      <th>target</th>\n      <th>text_without_stopwords</th>\n      <th>length</th>\n      <th>avg_word_length</th>\n      <th>amount_of_words</th>\n      <th>amount_of_unique_words</th>\n      <th>sentiment</th>\n      <th>stopwords_count</th>\n      <th>punctuation_count</th>\n      <th>mentions_count</th>\n      <th>hashtags_count</th>\n      <th>longest_word_length_without_stopwords</th>\n      <th>stopword_word_ratio</th>\n      <th>adjectives_count</th>\n      <th>nouns_count</th>\n      <th>verbs_count</th>\n      <th>adverbs_count</th>\n    </tr>\n  </thead>\n  <tbody>\n    <tr>\n      <th>0</th>\n      <td>1</td>\n      <td>Our Deeds are the Reason of this #earthquake M...</td>\n      <td>1</td>\n      <td>Our Deeds Reason May ALLAH Forgive us</td>\n      <td>69</td>\n      <td>4.384615</td>\n      <td>13</td>\n      <td>13</td>\n      <td>0.2732</td>\n      <td>6</td>\n      <td>1</td>\n      <td>0</td>\n      <td>1</td>\n      <td>7</td>\n      <td>0.461538</td>\n      <td>0</td>\n      <td>6</td>\n      <td>1</td>\n      <td>0</td>\n    </tr>\n    <tr>\n      <th>1</th>\n      <td>4</td>\n      <td>Forest fire near La Ronge Sask. Canada</td>\n      <td>1</td>\n      <td>Forest fire near La Ronge Canada</td>\n      <td>38</td>\n      <td>4.571429</td>\n      <td>7</td>\n      <td>7</td>\n      <td>-0.3400</td>\n      <td>0</td>\n      <td>1</td>\n      <td>0</td>\n      <td>0</td>\n      <td>6</td>\n      <td>0.000000</td>\n      <td>0</td>\n      <td>6</td>\n      <td>0</td>\n      <td>0</td>\n    </tr>\n    <tr>\n      <th>2</th>\n      <td>5</td>\n      <td>All residents asked to 'shelter in place' are ...</td>\n      <td>1</td>\n      <td>All residents asked notified No evacuation she...</td>\n      <td>133</td>\n      <td>5.090909</td>\n      <td>22</td>\n      <td>20</td>\n      <td>-0.2960</td>\n      <td>11</td>\n      <td>3</td>\n      <td>0</td>\n      <td>0</td>\n      <td>10</td>\n      <td>0.500000</td>\n      <td>1</td>\n      <td>7</td>\n      <td>7</td>\n      <td>0</td>\n    </tr>\n    <tr>\n      <th>3</th>\n      <td>6</td>\n      <td>13,000 people receive #wildfires evacuation or...</td>\n      <td>1</td>\n      <td>people receive evacuation orders California</td>\n      <td>65</td>\n      <td>7.125000</td>\n      <td>8</td>\n      <td>8</td>\n      <td>0.0000</td>\n      <td>1</td>\n      <td>2</td>\n      <td>0</td>\n      <td>1</td>\n      <td>10</td>\n      <td>0.125000</td>\n      <td>1</td>\n      <td>4</td>\n      <td>1</td>\n      <td>0</td>\n    </tr>\n    <tr>\n      <th>4</th>\n      <td>7</td>\n      <td>Just got sent this photo from Ruby #Alaska as ...</td>\n      <td>1</td>\n      <td>Just got sent photo Ruby smoke pours school</td>\n      <td>88</td>\n      <td>4.500000</td>\n      <td>16</td>\n      <td>15</td>\n      <td>0.0000</td>\n      <td>7</td>\n      <td>2</td>\n      <td>0</td>\n      <td>2</td>\n      <td>6</td>\n      <td>0.437500</td>\n      <td>0</td>\n      <td>6</td>\n      <td>3</td>\n      <td>1</td>\n    </tr>\n  </tbody>\n</table>\n</div>"
     },
     "metadata": {},
     "execution_count": 17
    }
   ],
   "source": [
    "tweets_metrics = tweets[['id','text','target']]\n",
    "tweets_metrics['text_without_stopwords'] = tweets_metrics['text'].str.split()\n",
    "tweets_metrics['text_without_stopwords'] = tweets_metrics['text_without_stopwords'].apply(remove_stopword)\n",
    "\n",
    "tweets_metrics['length'] = tweets_metrics['text'].apply(lambda x: len(x))\n",
    "tweets_metrics['avg_word_length'] = tweets_metrics['text'].str.split().apply(lambda x: [len(y) for y in x]).transform(lambda x: np.mean(x))\n",
    "tweets_metrics['amount_of_words'] = tweets_metrics['text'].str.split().transform(lambda x: len(x))\n",
    "unique_words_by_tweet = tweets_metrics['text'].transform(lambda x: x.split()).transform(lambda x: pd.Series(x).unique()).transform(lambda x: len(x))\n",
    "tweets_metrics['amount_of_unique_words'] = unique_words_by_tweet\n",
    "tweets_metrics['sentiment'] = tweets_metrics['text'].apply(lambda x: return_sia_compound_values(x))\n",
    "tweets_metrics['stopwords_count'] = tweets_metrics['text'].apply(lambda x: len([word for word in str(x).lower().split() if word in stopwords]))\n",
    "tweets_metrics['punctuation_count'] = tweets_metrics['text'].apply(lambda x: amount_of_punctuation(x))\n",
    "mentions = tweets_metrics['text'].str.findall(r'@.\\S*?(?=\\s|[:]|$)').to_frame()\n",
    "tweets_metrics['mentions_count'] = mentions['text'].apply(lambda x: len(x))\n",
    "hashtags = tweets_metrics['text'].str.findall(r'#[^?\\s].*?(?=\\s|$)')\n",
    "tweets_metrics['hashtags_count'] = hashtags.apply(lambda x: len(x))\n",
    "tweets_metrics['longest_word_length_without_stopwords'] = tweets_metrics['text_without_stopwords'].apply(lambda x: ([len(word) for word in str(x).lower().split() if not word.startswith('http')])).apply(lambda x: max(x) if len(x) > 0 else 0)\n",
    "tweets_metrics['stopword_word_ratio'] = tweets_metrics['stopwords_count'] / tweets_metrics['amount_of_words']\n",
    "\n",
    "tweets_metrics['adjectives_count'] = tweets_metrics['text'].apply(get_adjectives)\n",
    "tweets_metrics['nouns_count'] = tweets_metrics['text'].apply(get_nouns)\n",
    "tweets_metrics['verbs_count'] = tweets_metrics['text'].apply(get_verbs)\n",
    "tweets_metrics['adverbs_count'] = tweets_metrics['text'].apply(get_adverbs)\n",
    "\n",
    "tweets_metrics.head()"
   ]
  },
  {
   "cell_type": "code",
   "execution_count": 18,
   "metadata": {},
   "outputs": [
    {
     "output_type": "execute_result",
     "data": {
      "text/plain": "   id                                               text  target  \\\n0   1  Our Deeds are the Reason of this #earthquake M...       1   \n1   4             Forest fire near La Ronge Sask. Canada       1   \n2   5  All residents asked to 'shelter in place' are ...       1   \n3   6  13,000 people receive #wildfires evacuation or...       1   \n4   7  Just got sent this photo from Ruby #Alaska as ...       1   \n\n                              text_without_stopwords  length  avg_word_length  \\\n0              Our Deeds Reason May ALLAH Forgive us      69         4.384615   \n1                   Forest fire near La Ronge Canada      38         4.571429   \n2  All residents asked notified No evacuation she...     133         5.090909   \n3        people receive evacuation orders California      65         7.125000   \n4        Just got sent photo Ruby smoke pours school      88         4.500000   \n\n   amount_of_words  amount_of_unique_words  sentiment  stopwords_count  \\\n0               13                      13     0.2732                6   \n1                7                       7    -0.3400                0   \n2               22                      20    -0.2960               11   \n3                8                       8     0.0000                1   \n4               16                      15     0.0000                7   \n\n   punctuation_count  mentions_count  hashtags_count  \\\n0                  1               0               1   \n1                  1               0               0   \n2                  3               0               0   \n3                  2               0               1   \n4                  2               0               2   \n\n   longest_word_length_without_stopwords  stopword_word_ratio  \\\n0                                      7             0.461538   \n1                                      6             0.000000   \n2                                     10             0.500000   \n3                                     10             0.125000   \n4                                      6             0.437500   \n\n   adjectives_count  nouns_count  verbs_count  adverbs_count  \n0                 0            6            1              0  \n1                 0            6            0              0  \n2                 1            7            7              0  \n3                 1            4            1              0  \n4                 0            6            3              1  ",
      "text/html": "<div>\n<style scoped>\n    .dataframe tbody tr th:only-of-type {\n        vertical-align: middle;\n    }\n\n    .dataframe tbody tr th {\n        vertical-align: top;\n    }\n\n    .dataframe thead th {\n        text-align: right;\n    }\n</style>\n<table border=\"1\" class=\"dataframe\">\n  <thead>\n    <tr style=\"text-align: right;\">\n      <th></th>\n      <th>id</th>\n      <th>text</th>\n      <th>target</th>\n      <th>text_without_stopwords</th>\n      <th>length</th>\n      <th>avg_word_length</th>\n      <th>amount_of_words</th>\n      <th>amount_of_unique_words</th>\n      <th>sentiment</th>\n      <th>stopwords_count</th>\n      <th>punctuation_count</th>\n      <th>mentions_count</th>\n      <th>hashtags_count</th>\n      <th>longest_word_length_without_stopwords</th>\n      <th>stopword_word_ratio</th>\n      <th>adjectives_count</th>\n      <th>nouns_count</th>\n      <th>verbs_count</th>\n      <th>adverbs_count</th>\n    </tr>\n  </thead>\n  <tbody>\n    <tr>\n      <th>0</th>\n      <td>1</td>\n      <td>Our Deeds are the Reason of this #earthquake M...</td>\n      <td>1</td>\n      <td>Our Deeds Reason May ALLAH Forgive us</td>\n      <td>69</td>\n      <td>4.384615</td>\n      <td>13</td>\n      <td>13</td>\n      <td>0.2732</td>\n      <td>6</td>\n      <td>1</td>\n      <td>0</td>\n      <td>1</td>\n      <td>7</td>\n      <td>0.461538</td>\n      <td>0</td>\n      <td>6</td>\n      <td>1</td>\n      <td>0</td>\n    </tr>\n    <tr>\n      <th>1</th>\n      <td>4</td>\n      <td>Forest fire near La Ronge Sask. Canada</td>\n      <td>1</td>\n      <td>Forest fire near La Ronge Canada</td>\n      <td>38</td>\n      <td>4.571429</td>\n      <td>7</td>\n      <td>7</td>\n      <td>-0.3400</td>\n      <td>0</td>\n      <td>1</td>\n      <td>0</td>\n      <td>0</td>\n      <td>6</td>\n      <td>0.000000</td>\n      <td>0</td>\n      <td>6</td>\n      <td>0</td>\n      <td>0</td>\n    </tr>\n    <tr>\n      <th>2</th>\n      <td>5</td>\n      <td>All residents asked to 'shelter in place' are ...</td>\n      <td>1</td>\n      <td>All residents asked notified No evacuation she...</td>\n      <td>133</td>\n      <td>5.090909</td>\n      <td>22</td>\n      <td>20</td>\n      <td>-0.2960</td>\n      <td>11</td>\n      <td>3</td>\n      <td>0</td>\n      <td>0</td>\n      <td>10</td>\n      <td>0.500000</td>\n      <td>1</td>\n      <td>7</td>\n      <td>7</td>\n      <td>0</td>\n    </tr>\n    <tr>\n      <th>3</th>\n      <td>6</td>\n      <td>13,000 people receive #wildfires evacuation or...</td>\n      <td>1</td>\n      <td>people receive evacuation orders California</td>\n      <td>65</td>\n      <td>7.125000</td>\n      <td>8</td>\n      <td>8</td>\n      <td>0.0000</td>\n      <td>1</td>\n      <td>2</td>\n      <td>0</td>\n      <td>1</td>\n      <td>10</td>\n      <td>0.125000</td>\n      <td>1</td>\n      <td>4</td>\n      <td>1</td>\n      <td>0</td>\n    </tr>\n    <tr>\n      <th>4</th>\n      <td>7</td>\n      <td>Just got sent this photo from Ruby #Alaska as ...</td>\n      <td>1</td>\n      <td>Just got sent photo Ruby smoke pours school</td>\n      <td>88</td>\n      <td>4.500000</td>\n      <td>16</td>\n      <td>15</td>\n      <td>0.0000</td>\n      <td>7</td>\n      <td>2</td>\n      <td>0</td>\n      <td>2</td>\n      <td>6</td>\n      <td>0.437500</td>\n      <td>0</td>\n      <td>6</td>\n      <td>3</td>\n      <td>1</td>\n    </tr>\n  </tbody>\n</table>\n</div>"
     },
     "metadata": {},
     "execution_count": 18
    }
   ],
   "source": [
    "test = tweets[['id','text','target']]\n",
    "test['text_without_stopwords'] = test['text'].str.split()\n",
    "test['text_without_stopwords'] = test['text_without_stopwords'].apply(remove_stopword)\n",
    "\n",
    "test['length'] = test['text'].apply(lambda x: len(x))\n",
    "test['avg_word_length'] = test['text'].str.split().apply(lambda x: [len(y) for y in x]).transform(lambda x: np.mean(x))\n",
    "test['amount_of_words'] = test['text'].str.split().transform(lambda x: len(x))\n",
    "unique_words_by_tweet = tweets_metrics['text'].transform(lambda x: x.split()).transform(lambda x: pd.Series(x).unique()).transform(lambda x: len(x))\n",
    "test['amount_of_unique_words'] = unique_words_by_tweet\n",
    "test['sentiment'] = test['text'].apply(lambda x: return_sia_compound_values(x))\n",
    "test['stopwords_count'] = test['text'].apply(lambda x: len([word for word in str(x).lower().split() if word in stopwords]))\n",
    "test['punctuation_count'] = test['text'].apply(lambda x: amount_of_punctuation(x))\n",
    "mentions = test['text'].str.findall(r'@.\\S*?(?=\\s|[:]|$)').to_frame()\n",
    "test['mentions_count'] = mentions['text'].apply(lambda x: len(x))\n",
    "hashtags = test['text'].str.findall(r'#[^?\\s].*?(?=\\s|$)')\n",
    "test['hashtags_count'] = hashtags.apply(lambda x: len(x))\n",
    "test['longest_word_length_without_stopwords'] = test['text_without_stopwords'].apply(lambda x: ([len(word) for word in str(x).lower().split() if not word.startswith('http')])).apply(lambda x: max(x) if len(x) > 0 else 0)\n",
    "test['stopword_word_ratio'] = test['stopwords_count'] / tweets_metrics['amount_of_words']\n",
    "\n",
    "test['adjectives_count'] = test['text'].apply(get_adjectives)\n",
    "test['nouns_count'] = test['text'].apply(get_nouns)\n",
    "test['verbs_count'] = test['text'].apply(get_verbs)\n",
    "test['adverbs_count'] = test['text'].apply(get_adverbs)\n",
    "\n",
    "test.head()"
   ]
  },
  {
   "cell_type": "code",
   "execution_count": null,
   "metadata": {},
   "outputs": [],
   "source": []
  }
 ],
 "metadata": {
  "kernelspec": {
   "display_name": "Python 3.7.8 64-bit",
   "language": "python",
   "name": "python_defaultSpec_1594270719235"
  },
  "language_info": {
   "codemirror_mode": {
    "name": "ipython",
    "version": 3
   },
   "file_extension": ".py",
   "mimetype": "text/x-python",
   "name": "python",
   "nbconvert_exporter": "python",
   "pygments_lexer": "ipython3",
   "version": "3.7.6-final"
  }
 },
 "nbformat": 4,
 "nbformat_minor": 4
}