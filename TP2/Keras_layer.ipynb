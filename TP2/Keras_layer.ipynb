{
  "nbformat": 4,
  "nbformat_minor": 0,
  "metadata": {
    "colab": {
      "name": "Keras layer.ipynb",
      "provenance": []
    },
    "kernelspec": {
      "name": "python3",
      "display_name": "Python 3"
    }
  },
  "cells": [
    {
      "cell_type": "code",
      "metadata": {
        "id": "XyTDi5Pu-yrv",
        "colab_type": "code",
        "colab": {}
      },
      "source": [
        "import numpy as np\n",
        "import tensorflow as tf\n",
        "import tensorflow_hub as hub\n",
        "import tensorflow_datasets as tfds\n",
        "import matplotlib.pyplot as plt"
      ],
      "execution_count": 108,
      "outputs": []
    },
    {
      "cell_type": "code",
      "metadata": {
        "id": "3Lu_yKGN_dZw",
        "colab_type": "code",
        "colab": {}
      },
      "source": [
        "# Code to read csv file into Colaboratory:\n",
        "!pip install -U -q PyDrive\n",
        "from pydrive.auth import GoogleAuth\n",
        "from pydrive.drive import GoogleDrive\n",
        "from google.colab import auth\n",
        "from oauth2client.client import GoogleCredentials\n",
        "# Authenticate and create the PyDrive client.\n",
        "auth.authenticate_user()\n",
        "gauth = GoogleAuth()\n",
        "gauth.credentials = GoogleCredentials.get_application_default()\n",
        "drive = GoogleDrive(gauth)"
      ],
      "execution_count": 109,
      "outputs": []
    },
    {
      "cell_type": "code",
      "metadata": {
        "id": "r-F-pz1v_hgk",
        "colab_type": "code",
        "colab": {}
      },
      "source": [
        "train_csv = drive.CreateFile({'id':'1B109R7m7CpVVDuA2klr-xcX5Qa2k9ncX'})\n",
        "test_csv = drive.CreateFile({'id':'1kb_5tpvLJmrTPg7vN3CyVR0nUIiD2Ghx'})"
      ],
      "execution_count": 110,
      "outputs": []
    },
    {
      "cell_type": "code",
      "metadata": {
        "id": "ff1h_T2r_qlt",
        "colab_type": "code",
        "colab": {
          "base_uri": "https://localhost:8080/",
          "height": 502
        },
        "outputId": "2de530e7-177b-4de2-9d2a-8aba8fbcdab5"
      },
      "source": [
        "import pandas as pd\n",
        "\n",
        "train_csv.GetContentFile('train.csv')  \n",
        "text = pd.read_csv('train.csv')\n",
        "test_csv.GetContentFile('test.csv')  \n",
        "test_text = pd.read_csv('test.csv')"
      ],
      "execution_count": 111,
      "outputs": [
        {
          "output_type": "stream",
          "text": [
            "WARNING:googleapiclient.discovery_cache:file_cache is unavailable when using oauth2client >= 4.0.0 or google-auth\n",
            "Traceback (most recent call last):\n",
            "  File \"/usr/local/lib/python3.6/dist-packages/googleapiclient/discovery_cache/__init__.py\", line 36, in autodetect\n",
            "    from google.appengine.api import memcache\n",
            "ModuleNotFoundError: No module named 'google.appengine'\n",
            "\n",
            "During handling of the above exception, another exception occurred:\n",
            "\n",
            "Traceback (most recent call last):\n",
            "  File \"/usr/local/lib/python3.6/dist-packages/googleapiclient/discovery_cache/file_cache.py\", line 33, in <module>\n",
            "    from oauth2client.contrib.locked_file import LockedFile\n",
            "ModuleNotFoundError: No module named 'oauth2client.contrib.locked_file'\n",
            "\n",
            "During handling of the above exception, another exception occurred:\n",
            "\n",
            "Traceback (most recent call last):\n",
            "  File \"/usr/local/lib/python3.6/dist-packages/googleapiclient/discovery_cache/file_cache.py\", line 37, in <module>\n",
            "    from oauth2client.locked_file import LockedFile\n",
            "ModuleNotFoundError: No module named 'oauth2client.locked_file'\n",
            "\n",
            "During handling of the above exception, another exception occurred:\n",
            "\n",
            "Traceback (most recent call last):\n",
            "  File \"/usr/local/lib/python3.6/dist-packages/googleapiclient/discovery_cache/__init__.py\", line 42, in autodetect\n",
            "    from . import file_cache\n",
            "  File \"/usr/local/lib/python3.6/dist-packages/googleapiclient/discovery_cache/file_cache.py\", line 41, in <module>\n",
            "    \"file_cache is unavailable when using oauth2client >= 4.0.0 or google-auth\"\n",
            "ImportError: file_cache is unavailable when using oauth2client >= 4.0.0 or google-auth\n"
          ],
          "name": "stderr"
        }
      ]
    },
    {
      "cell_type": "code",
      "metadata": {
        "id": "38jJekFT_2ml",
        "colab_type": "code",
        "colab": {
          "base_uri": "https://localhost:8080/",
          "height": 202
        },
        "outputId": "7b460a9e-ee61-49bc-b0a1-07d0fbceb3b2"
      },
      "source": [
        "text.head()"
      ],
      "execution_count": 112,
      "outputs": [
        {
          "output_type": "execute_result",
          "data": {
            "text/html": [
              "<div>\n",
              "<style scoped>\n",
              "    .dataframe tbody tr th:only-of-type {\n",
              "        vertical-align: middle;\n",
              "    }\n",
              "\n",
              "    .dataframe tbody tr th {\n",
              "        vertical-align: top;\n",
              "    }\n",
              "\n",
              "    .dataframe thead th {\n",
              "        text-align: right;\n",
              "    }\n",
              "</style>\n",
              "<table border=\"1\" class=\"dataframe\">\n",
              "  <thead>\n",
              "    <tr style=\"text-align: right;\">\n",
              "      <th></th>\n",
              "      <th>id</th>\n",
              "      <th>keyword</th>\n",
              "      <th>location</th>\n",
              "      <th>text</th>\n",
              "      <th>target</th>\n",
              "    </tr>\n",
              "  </thead>\n",
              "  <tbody>\n",
              "    <tr>\n",
              "      <th>0</th>\n",
              "      <td>1</td>\n",
              "      <td>NaN</td>\n",
              "      <td>NaN</td>\n",
              "      <td>Our Deeds are the Reason of this #earthquake M...</td>\n",
              "      <td>1</td>\n",
              "    </tr>\n",
              "    <tr>\n",
              "      <th>1</th>\n",
              "      <td>4</td>\n",
              "      <td>NaN</td>\n",
              "      <td>NaN</td>\n",
              "      <td>Forest fire near La Ronge Sask. Canada</td>\n",
              "      <td>1</td>\n",
              "    </tr>\n",
              "    <tr>\n",
              "      <th>2</th>\n",
              "      <td>5</td>\n",
              "      <td>NaN</td>\n",
              "      <td>NaN</td>\n",
              "      <td>All residents asked to 'shelter in place' are ...</td>\n",
              "      <td>1</td>\n",
              "    </tr>\n",
              "    <tr>\n",
              "      <th>3</th>\n",
              "      <td>6</td>\n",
              "      <td>NaN</td>\n",
              "      <td>NaN</td>\n",
              "      <td>13,000 people receive #wildfires evacuation or...</td>\n",
              "      <td>1</td>\n",
              "    </tr>\n",
              "    <tr>\n",
              "      <th>4</th>\n",
              "      <td>7</td>\n",
              "      <td>NaN</td>\n",
              "      <td>NaN</td>\n",
              "      <td>Just got sent this photo from Ruby #Alaska as ...</td>\n",
              "      <td>1</td>\n",
              "    </tr>\n",
              "  </tbody>\n",
              "</table>\n",
              "</div>"
            ],
            "text/plain": [
              "   id keyword  ...                                               text target\n",
              "0   1     NaN  ...  Our Deeds are the Reason of this #earthquake M...      1\n",
              "1   4     NaN  ...             Forest fire near La Ronge Sask. Canada      1\n",
              "2   5     NaN  ...  All residents asked to 'shelter in place' are ...      1\n",
              "3   6     NaN  ...  13,000 people receive #wildfires evacuation or...      1\n",
              "4   7     NaN  ...  Just got sent this photo from Ruby #Alaska as ...      1\n",
              "\n",
              "[5 rows x 5 columns]"
            ]
          },
          "metadata": {
            "tags": []
          },
          "execution_count": 112
        }
      ]
    },
    {
      "cell_type": "code",
      "metadata": {
        "id": "WRXkky12_4b6",
        "colab_type": "code",
        "colab": {
          "base_uri": "https://localhost:8080/",
          "height": 202
        },
        "outputId": "a0783bec-6a28-47d7-b97f-91f283d551fa"
      },
      "source": [
        "test_text.head()"
      ],
      "execution_count": 113,
      "outputs": [
        {
          "output_type": "execute_result",
          "data": {
            "text/html": [
              "<div>\n",
              "<style scoped>\n",
              "    .dataframe tbody tr th:only-of-type {\n",
              "        vertical-align: middle;\n",
              "    }\n",
              "\n",
              "    .dataframe tbody tr th {\n",
              "        vertical-align: top;\n",
              "    }\n",
              "\n",
              "    .dataframe thead th {\n",
              "        text-align: right;\n",
              "    }\n",
              "</style>\n",
              "<table border=\"1\" class=\"dataframe\">\n",
              "  <thead>\n",
              "    <tr style=\"text-align: right;\">\n",
              "      <th></th>\n",
              "      <th>id</th>\n",
              "      <th>keyword</th>\n",
              "      <th>location</th>\n",
              "      <th>text</th>\n",
              "    </tr>\n",
              "  </thead>\n",
              "  <tbody>\n",
              "    <tr>\n",
              "      <th>0</th>\n",
              "      <td>0</td>\n",
              "      <td>NaN</td>\n",
              "      <td>NaN</td>\n",
              "      <td>Just happened a terrible car crash</td>\n",
              "    </tr>\n",
              "    <tr>\n",
              "      <th>1</th>\n",
              "      <td>2</td>\n",
              "      <td>NaN</td>\n",
              "      <td>NaN</td>\n",
              "      <td>Heard about #earthquake is different cities, s...</td>\n",
              "    </tr>\n",
              "    <tr>\n",
              "      <th>2</th>\n",
              "      <td>3</td>\n",
              "      <td>NaN</td>\n",
              "      <td>NaN</td>\n",
              "      <td>there is a forest fire at spot pond, geese are...</td>\n",
              "    </tr>\n",
              "    <tr>\n",
              "      <th>3</th>\n",
              "      <td>9</td>\n",
              "      <td>NaN</td>\n",
              "      <td>NaN</td>\n",
              "      <td>Apocalypse lighting. #Spokane #wildfires</td>\n",
              "    </tr>\n",
              "    <tr>\n",
              "      <th>4</th>\n",
              "      <td>11</td>\n",
              "      <td>NaN</td>\n",
              "      <td>NaN</td>\n",
              "      <td>Typhoon Soudelor kills 28 in China and Taiwan</td>\n",
              "    </tr>\n",
              "  </tbody>\n",
              "</table>\n",
              "</div>"
            ],
            "text/plain": [
              "   id keyword location                                               text\n",
              "0   0     NaN      NaN                 Just happened a terrible car crash\n",
              "1   2     NaN      NaN  Heard about #earthquake is different cities, s...\n",
              "2   3     NaN      NaN  there is a forest fire at spot pond, geese are...\n",
              "3   9     NaN      NaN           Apocalypse lighting. #Spokane #wildfires\n",
              "4  11     NaN      NaN      Typhoon Soudelor kills 28 in China and Taiwan"
            ]
          },
          "metadata": {
            "tags": []
          },
          "execution_count": 113
        }
      ]
    },
    {
      "cell_type": "markdown",
      "metadata": {
        "id": "PfKS2wiwBrIA",
        "colab_type": "text"
      },
      "source": [
        "### Modelo 1"
      ]
    },
    {
      "cell_type": "code",
      "metadata": {
        "id": "xoc_jlyiAF7X",
        "colab_type": "code",
        "colab": {}
      },
      "source": [
        "from sklearn.model_selection import train_test_split \n",
        "import numpy as np\n",
        "\n",
        "x_train, x_test, y_train, y_test = \\\n",
        "train_test_split(text['text'], text['target'], test_size = 0.25, random_state = 123)"
      ],
      "execution_count": 114,
      "outputs": []
    },
    {
      "cell_type": "code",
      "metadata": {
        "id": "nl1xSL1W-9iC",
        "colab_type": "code",
        "colab": {
          "base_uri": "https://localhost:8080/",
          "height": 121
        },
        "outputId": "fcc2392f-f53a-4adc-9c3b-155f57b18366"
      },
      "source": [
        "model = \"https://tfhub.dev/google/tf2-preview/gnews-swivel-20dim/1\"\n",
        "hub_layer = hub.KerasLayer(model, output_shape=[20], input_shape=[], \n",
        "                           dtype=tf.string, trainable=True)\n",
        "hub_layer(x_train[:1])"
      ],
      "execution_count": 120,
      "outputs": [
        {
          "output_type": "execute_result",
          "data": {
            "text/plain": [
              "<tf.Tensor: shape=(1, 20), dtype=float32, numpy=\n",
              "array([[-0.12947434, -0.9392339 , -0.77080125, -0.21456313,  0.5920508 ,\n",
              "        -1.3340634 , -0.4480354 , -0.34861115, -0.39928764,  1.0191009 ,\n",
              "        -1.0532486 ,  0.99523056, -0.3328474 , -0.19521488, -1.2477547 ,\n",
              "         1.549057  , -0.9475413 , -0.9282966 , -1.024526  ,  0.7211244 ]],\n",
              "      dtype=float32)>"
            ]
          },
          "metadata": {
            "tags": []
          },
          "execution_count": 120
        }
      ]
    },
    {
      "cell_type": "code",
      "metadata": {
        "id": "Ne1mZs1uAhrY",
        "colab_type": "code",
        "colab": {
          "base_uri": "https://localhost:8080/",
          "height": 260
        },
        "outputId": "dd3db4b2-9f6f-43d8-c368-ae5db578be76"
      },
      "source": [
        "model = tf.keras.Sequential()\n",
        "model.add(hub_layer)\n",
        "model.add(tf.keras.layers.Dense(16, activation='relu'))\n",
        "model.add(tf.keras.layers.Dense(1))\n",
        "\n",
        "model.summary()"
      ],
      "execution_count": 121,
      "outputs": [
        {
          "output_type": "stream",
          "text": [
            "Model: \"sequential_40\"\n",
            "_________________________________________________________________\n",
            "Layer (type)                 Output Shape              Param #   \n",
            "=================================================================\n",
            "keras_layer_25 (KerasLayer)  (None, 20)                400020    \n",
            "_________________________________________________________________\n",
            "dense_50 (Dense)             (None, 16)                336       \n",
            "_________________________________________________________________\n",
            "dense_51 (Dense)             (None, 1)                 17        \n",
            "=================================================================\n",
            "Total params: 400,373\n",
            "Trainable params: 400,373\n",
            "Non-trainable params: 0\n",
            "_________________________________________________________________\n"
          ],
          "name": "stdout"
        }
      ]
    },
    {
      "cell_type": "code",
      "metadata": {
        "id": "l87Z8oMyAmiH",
        "colab_type": "code",
        "colab": {}
      },
      "source": [
        "model.compile(optimizer='adam',\n",
        "              loss=tf.losses.BinaryCrossentropy(from_logits=True),\n",
        "              metrics=['accuracy'])"
      ],
      "execution_count": 122,
      "outputs": []
    },
    {
      "cell_type": "code",
      "metadata": {
        "id": "BQRRkYvOAsRt",
        "colab_type": "code",
        "colab": {
          "base_uri": "https://localhost:8080/",
          "height": 1000
        },
        "outputId": "640cb1be-0a4c-4dd7-860f-b7c91dce667a"
      },
      "source": [
        "history = model.fit(x_train,\n",
        "                    y_train,\n",
        "                    epochs=70,\n",
        "                    batch_size=512,\n",
        "                    validation_data=(x_test, y_test),\n",
        "                    verbose=1)"
      ],
      "execution_count": 123,
      "outputs": [
        {
          "output_type": "stream",
          "text": [
            "Epoch 1/70\n",
            "12/12 [==============================] - 0s 23ms/step - loss: 1.0238 - accuracy: 0.4954 - val_loss: 0.9106 - val_accuracy: 0.5252\n",
            "Epoch 2/70\n",
            "12/12 [==============================] - 0s 14ms/step - loss: 0.8164 - accuracy: 0.5572 - val_loss: 0.7509 - val_accuracy: 0.5982\n",
            "Epoch 3/70\n",
            "12/12 [==============================] - 0s 15ms/step - loss: 0.6893 - accuracy: 0.6499 - val_loss: 0.6608 - val_accuracy: 0.6660\n",
            "Epoch 4/70\n",
            "12/12 [==============================] - 0s 15ms/step - loss: 0.6204 - accuracy: 0.6949 - val_loss: 0.6137 - val_accuracy: 0.6765\n",
            "Epoch 5/70\n",
            "12/12 [==============================] - 0s 14ms/step - loss: 0.5809 - accuracy: 0.7120 - val_loss: 0.5869 - val_accuracy: 0.6933\n",
            "Epoch 6/70\n",
            "12/12 [==============================] - 0s 13ms/step - loss: 0.5562 - accuracy: 0.7208 - val_loss: 0.5702 - val_accuracy: 0.7022\n",
            "Epoch 7/70\n",
            "12/12 [==============================] - 0s 13ms/step - loss: 0.5388 - accuracy: 0.7304 - val_loss: 0.5587 - val_accuracy: 0.7106\n",
            "Epoch 8/70\n",
            "12/12 [==============================] - 0s 14ms/step - loss: 0.5253 - accuracy: 0.7374 - val_loss: 0.5501 - val_accuracy: 0.7148\n",
            "Epoch 9/70\n",
            "12/12 [==============================] - 0s 14ms/step - loss: 0.5141 - accuracy: 0.7458 - val_loss: 0.5431 - val_accuracy: 0.7185\n",
            "Epoch 10/70\n",
            "12/12 [==============================] - 0s 14ms/step - loss: 0.5043 - accuracy: 0.7532 - val_loss: 0.5381 - val_accuracy: 0.7237\n",
            "Epoch 11/70\n",
            "12/12 [==============================] - 0s 14ms/step - loss: 0.4959 - accuracy: 0.7595 - val_loss: 0.5334 - val_accuracy: 0.7248\n",
            "Epoch 12/70\n",
            "12/12 [==============================] - 0s 15ms/step - loss: 0.4879 - accuracy: 0.7644 - val_loss: 0.5295 - val_accuracy: 0.7300\n",
            "Epoch 13/70\n",
            "12/12 [==============================] - 0s 15ms/step - loss: 0.4807 - accuracy: 0.7709 - val_loss: 0.5254 - val_accuracy: 0.7321\n",
            "Epoch 14/70\n",
            "12/12 [==============================] - 0s 15ms/step - loss: 0.4736 - accuracy: 0.7774 - val_loss: 0.5218 - val_accuracy: 0.7437\n",
            "Epoch 15/70\n",
            "12/12 [==============================] - 0s 14ms/step - loss: 0.4669 - accuracy: 0.7833 - val_loss: 0.5180 - val_accuracy: 0.7458\n",
            "Epoch 16/70\n",
            "12/12 [==============================] - 0s 14ms/step - loss: 0.4600 - accuracy: 0.7854 - val_loss: 0.5153 - val_accuracy: 0.7416\n",
            "Epoch 17/70\n",
            "12/12 [==============================] - 0s 15ms/step - loss: 0.4534 - accuracy: 0.7888 - val_loss: 0.5122 - val_accuracy: 0.7426\n",
            "Epoch 18/70\n",
            "12/12 [==============================] - 0s 14ms/step - loss: 0.4469 - accuracy: 0.7921 - val_loss: 0.5093 - val_accuracy: 0.7489\n",
            "Epoch 19/70\n",
            "12/12 [==============================] - 0s 15ms/step - loss: 0.4404 - accuracy: 0.7972 - val_loss: 0.5068 - val_accuracy: 0.7495\n",
            "Epoch 20/70\n",
            "12/12 [==============================] - 0s 14ms/step - loss: 0.4340 - accuracy: 0.7994 - val_loss: 0.5039 - val_accuracy: 0.7553\n",
            "Epoch 21/70\n",
            "12/12 [==============================] - 0s 14ms/step - loss: 0.4274 - accuracy: 0.8026 - val_loss: 0.5011 - val_accuracy: 0.7563\n",
            "Epoch 22/70\n",
            "12/12 [==============================] - 0s 15ms/step - loss: 0.4210 - accuracy: 0.8057 - val_loss: 0.4980 - val_accuracy: 0.7595\n",
            "Epoch 23/70\n",
            "12/12 [==============================] - 0s 14ms/step - loss: 0.4145 - accuracy: 0.8099 - val_loss: 0.4955 - val_accuracy: 0.7616\n",
            "Epoch 24/70\n",
            "12/12 [==============================] - 0s 14ms/step - loss: 0.4079 - accuracy: 0.8131 - val_loss: 0.4933 - val_accuracy: 0.7621\n",
            "Epoch 25/70\n",
            "12/12 [==============================] - 0s 16ms/step - loss: 0.4014 - accuracy: 0.8159 - val_loss: 0.4915 - val_accuracy: 0.7658\n",
            "Epoch 26/70\n",
            "12/12 [==============================] - 0s 14ms/step - loss: 0.3948 - accuracy: 0.8189 - val_loss: 0.4898 - val_accuracy: 0.7679\n",
            "Epoch 27/70\n",
            "12/12 [==============================] - 0s 14ms/step - loss: 0.3881 - accuracy: 0.8220 - val_loss: 0.4884 - val_accuracy: 0.7684\n",
            "Epoch 28/70\n",
            "12/12 [==============================] - 0s 15ms/step - loss: 0.3815 - accuracy: 0.8243 - val_loss: 0.4869 - val_accuracy: 0.7689\n",
            "Epoch 29/70\n",
            "12/12 [==============================] - 0s 14ms/step - loss: 0.3747 - accuracy: 0.8271 - val_loss: 0.4854 - val_accuracy: 0.7700\n",
            "Epoch 30/70\n",
            "12/12 [==============================] - 0s 15ms/step - loss: 0.3679 - accuracy: 0.8318 - val_loss: 0.4833 - val_accuracy: 0.7768\n",
            "Epoch 31/70\n",
            "12/12 [==============================] - 0s 14ms/step - loss: 0.3608 - accuracy: 0.8360 - val_loss: 0.4817 - val_accuracy: 0.7773\n",
            "Epoch 32/70\n",
            "12/12 [==============================] - 0s 15ms/step - loss: 0.3540 - accuracy: 0.8396 - val_loss: 0.4809 - val_accuracy: 0.7810\n",
            "Epoch 33/70\n",
            "12/12 [==============================] - 0s 14ms/step - loss: 0.3468 - accuracy: 0.8436 - val_loss: 0.4795 - val_accuracy: 0.7852\n",
            "Epoch 34/70\n",
            "12/12 [==============================] - 0s 14ms/step - loss: 0.3398 - accuracy: 0.8459 - val_loss: 0.4785 - val_accuracy: 0.7847\n",
            "Epoch 35/70\n",
            "12/12 [==============================] - 0s 14ms/step - loss: 0.3329 - accuracy: 0.8494 - val_loss: 0.4778 - val_accuracy: 0.7857\n",
            "Epoch 36/70\n",
            "12/12 [==============================] - 0s 14ms/step - loss: 0.3258 - accuracy: 0.8525 - val_loss: 0.4773 - val_accuracy: 0.7868\n",
            "Epoch 37/70\n",
            "12/12 [==============================] - 0s 14ms/step - loss: 0.3186 - accuracy: 0.8585 - val_loss: 0.4776 - val_accuracy: 0.7878\n",
            "Epoch 38/70\n",
            "12/12 [==============================] - 0s 17ms/step - loss: 0.3116 - accuracy: 0.8609 - val_loss: 0.4774 - val_accuracy: 0.7878\n",
            "Epoch 39/70\n",
            "12/12 [==============================] - 0s 14ms/step - loss: 0.3045 - accuracy: 0.8637 - val_loss: 0.4782 - val_accuracy: 0.7894\n",
            "Epoch 40/70\n",
            "12/12 [==============================] - 0s 15ms/step - loss: 0.2974 - accuracy: 0.8667 - val_loss: 0.4789 - val_accuracy: 0.7910\n",
            "Epoch 41/70\n",
            "12/12 [==============================] - 0s 16ms/step - loss: 0.2903 - accuracy: 0.8721 - val_loss: 0.4799 - val_accuracy: 0.7931\n",
            "Epoch 42/70\n",
            "12/12 [==============================] - 0s 14ms/step - loss: 0.2833 - accuracy: 0.8756 - val_loss: 0.4806 - val_accuracy: 0.7952\n",
            "Epoch 43/70\n",
            "12/12 [==============================] - 0s 14ms/step - loss: 0.2762 - accuracy: 0.8804 - val_loss: 0.4821 - val_accuracy: 0.7936\n",
            "Epoch 44/70\n",
            "12/12 [==============================] - 0s 14ms/step - loss: 0.2694 - accuracy: 0.8830 - val_loss: 0.4841 - val_accuracy: 0.7962\n",
            "Epoch 45/70\n",
            "12/12 [==============================] - 0s 14ms/step - loss: 0.2625 - accuracy: 0.8891 - val_loss: 0.4864 - val_accuracy: 0.7978\n",
            "Epoch 46/70\n",
            "12/12 [==============================] - 0s 14ms/step - loss: 0.2556 - accuracy: 0.8902 - val_loss: 0.4887 - val_accuracy: 0.8004\n",
            "Epoch 47/70\n",
            "12/12 [==============================] - 0s 14ms/step - loss: 0.2488 - accuracy: 0.8958 - val_loss: 0.4905 - val_accuracy: 0.8046\n",
            "Epoch 48/70\n",
            "12/12 [==============================] - 0s 14ms/step - loss: 0.2419 - accuracy: 0.8995 - val_loss: 0.4928 - val_accuracy: 0.8062\n",
            "Epoch 49/70\n",
            "12/12 [==============================] - 0s 14ms/step - loss: 0.2355 - accuracy: 0.9037 - val_loss: 0.4947 - val_accuracy: 0.8051\n",
            "Epoch 50/70\n",
            "12/12 [==============================] - 0s 13ms/step - loss: 0.2288 - accuracy: 0.9072 - val_loss: 0.4980 - val_accuracy: 0.8051\n",
            "Epoch 51/70\n",
            "12/12 [==============================] - 0s 15ms/step - loss: 0.2223 - accuracy: 0.9094 - val_loss: 0.5025 - val_accuracy: 0.8051\n",
            "Epoch 52/70\n",
            "12/12 [==============================] - 0s 15ms/step - loss: 0.2161 - accuracy: 0.9122 - val_loss: 0.5065 - val_accuracy: 0.8030\n",
            "Epoch 53/70\n",
            "12/12 [==============================] - 0s 14ms/step - loss: 0.2100 - accuracy: 0.9136 - val_loss: 0.5098 - val_accuracy: 0.8025\n",
            "Epoch 54/70\n",
            "12/12 [==============================] - 0s 14ms/step - loss: 0.2042 - accuracy: 0.9198 - val_loss: 0.5138 - val_accuracy: 0.8030\n",
            "Epoch 55/70\n",
            "12/12 [==============================] - 0s 15ms/step - loss: 0.1980 - accuracy: 0.9198 - val_loss: 0.5165 - val_accuracy: 0.8004\n",
            "Epoch 56/70\n",
            "12/12 [==============================] - 0s 14ms/step - loss: 0.1922 - accuracy: 0.9208 - val_loss: 0.5203 - val_accuracy: 0.7994\n",
            "Epoch 57/70\n",
            "12/12 [==============================] - 0s 15ms/step - loss: 0.1867 - accuracy: 0.9261 - val_loss: 0.5265 - val_accuracy: 0.7994\n",
            "Epoch 58/70\n",
            "12/12 [==============================] - 0s 14ms/step - loss: 0.1811 - accuracy: 0.9301 - val_loss: 0.5312 - val_accuracy: 0.7994\n",
            "Epoch 59/70\n",
            "12/12 [==============================] - 0s 15ms/step - loss: 0.1762 - accuracy: 0.9327 - val_loss: 0.5374 - val_accuracy: 0.7983\n",
            "Epoch 60/70\n",
            "12/12 [==============================] - 0s 14ms/step - loss: 0.1708 - accuracy: 0.9350 - val_loss: 0.5431 - val_accuracy: 0.7973\n",
            "Epoch 61/70\n",
            "12/12 [==============================] - 0s 14ms/step - loss: 0.1662 - accuracy: 0.9362 - val_loss: 0.5496 - val_accuracy: 0.7978\n",
            "Epoch 62/70\n",
            "12/12 [==============================] - 0s 14ms/step - loss: 0.1613 - accuracy: 0.9380 - val_loss: 0.5561 - val_accuracy: 0.7957\n",
            "Epoch 63/70\n",
            "12/12 [==============================] - 0s 14ms/step - loss: 0.1571 - accuracy: 0.9410 - val_loss: 0.5625 - val_accuracy: 0.7925\n",
            "Epoch 64/70\n",
            "12/12 [==============================] - 0s 14ms/step - loss: 0.1527 - accuracy: 0.9410 - val_loss: 0.5682 - val_accuracy: 0.7931\n",
            "Epoch 65/70\n",
            "12/12 [==============================] - 0s 14ms/step - loss: 0.1484 - accuracy: 0.9431 - val_loss: 0.5747 - val_accuracy: 0.7931\n",
            "Epoch 66/70\n",
            "12/12 [==============================] - 0s 14ms/step - loss: 0.1444 - accuracy: 0.9448 - val_loss: 0.5816 - val_accuracy: 0.7904\n",
            "Epoch 67/70\n",
            "12/12 [==============================] - 0s 14ms/step - loss: 0.1409 - accuracy: 0.9469 - val_loss: 0.5884 - val_accuracy: 0.7915\n",
            "Epoch 68/70\n",
            "12/12 [==============================] - 0s 15ms/step - loss: 0.1369 - accuracy: 0.9461 - val_loss: 0.5954 - val_accuracy: 0.7873\n",
            "Epoch 69/70\n",
            "12/12 [==============================] - 0s 15ms/step - loss: 0.1333 - accuracy: 0.9482 - val_loss: 0.6027 - val_accuracy: 0.7894\n",
            "Epoch 70/70\n",
            "12/12 [==============================] - 0s 14ms/step - loss: 0.1300 - accuracy: 0.9504 - val_loss: 0.6102 - val_accuracy: 0.7904\n"
          ],
          "name": "stdout"
        }
      ]
    },
    {
      "cell_type": "code",
      "metadata": {
        "id": "Cis1inRiA_Al",
        "colab_type": "code",
        "colab": {
          "base_uri": "https://localhost:8080/",
          "height": 52
        },
        "outputId": "2416451e-4ba1-4914-e6a2-c31258a36c76"
      },
      "source": [
        "results = model.evaluate(x_test, y_test)\n",
        "\n",
        "print(results)"
      ],
      "execution_count": 124,
      "outputs": [
        {
          "output_type": "stream",
          "text": [
            "60/60 [==============================] - 0s 2ms/step - loss: 0.6102 - accuracy: 0.7904\n",
            "[0.6102109551429749, 0.7904411554336548]\n"
          ],
          "name": "stdout"
        }
      ]
    },
    {
      "cell_type": "code",
      "metadata": {
        "colab_type": "code",
        "id": "NagslJ8PEtAs",
        "colab": {
          "base_uri": "https://localhost:8080/",
          "height": 121
        },
        "outputId": "4c564353-ff8a-4ea2-bfd4-5c4e2cb202d6"
      },
      "source": [
        "model = \"https://tfhub.dev/google/tf2-preview/gnews-swivel-20dim/1\"\n",
        "hub_layer = hub.KerasLayer(model, output_shape=[20], input_shape=[], \n",
        "                           dtype=tf.string, trainable=True)\n",
        "hub_layer(x_train[:1])"
      ],
      "execution_count": 73,
      "outputs": [
        {
          "output_type": "execute_result",
          "data": {
            "text/plain": [
              "<tf.Tensor: shape=(1, 20), dtype=float32, numpy=\n",
              "array([[-0.12947434, -0.9392339 , -0.77080125, -0.21456313,  0.5920508 ,\n",
              "        -1.3340634 , -0.4480354 , -0.34861115, -0.39928764,  1.0191009 ,\n",
              "        -1.0532486 ,  0.99523056, -0.3328474 , -0.19521488, -1.2477547 ,\n",
              "         1.549057  , -0.9475413 , -0.9282966 , -1.024526  ,  0.7211244 ]],\n",
              "      dtype=float32)>"
            ]
          },
          "metadata": {
            "tags": []
          },
          "execution_count": 73
        }
      ]
    },
    {
      "cell_type": "code",
      "metadata": {
        "colab_type": "code",
        "id": "TggjCAHsEtA2",
        "colab": {
          "base_uri": "https://localhost:8080/",
          "height": 294
        },
        "outputId": "6805c3d2-80b4-45ce-b652-e30bcaee84a2"
      },
      "source": [
        "model = tf.keras.Sequential()\n",
        "model.add(hub_layer)\n",
        "model.add(tf.keras.layers.Dense(16, activation='relu'))\n",
        "model.add(tf.keras.layers.Dense(1, activation='sigmoid'))\n",
        "\n",
        "model.summary()"
      ],
      "execution_count": 90,
      "outputs": [
        {
          "output_type": "stream",
          "text": [
            "Model: \"sequential_29\"\n",
            "_________________________________________________________________\n",
            "Layer (type)                 Output Shape              Param #   \n",
            "=================================================================\n",
            "keras_layer_14 (KerasLayer)  (None, 20)                400020    \n",
            "_________________________________________________________________\n",
            "dense_34 (Dense)             (None, 16)                336       \n",
            "_________________________________________________________________\n",
            "dense_35 (Dense)             (None, 16)                272       \n",
            "_________________________________________________________________\n",
            "dense_36 (Dense)             (None, 1)                 17        \n",
            "=================================================================\n",
            "Total params: 400,645\n",
            "Trainable params: 400,645\n",
            "Non-trainable params: 0\n",
            "_________________________________________________________________\n"
          ],
          "name": "stdout"
        }
      ]
    },
    {
      "cell_type": "code",
      "metadata": {
        "colab_type": "code",
        "id": "xXQPKqyaEtA7",
        "colab": {}
      },
      "source": [
        "model.compile(optimizer='adam',\n",
        "              loss=tf.losses.BinaryCrossentropy(from_logits=True),\n",
        "              metrics=['accuracy'])"
      ],
      "execution_count": 91,
      "outputs": []
    },
    {
      "cell_type": "code",
      "metadata": {
        "colab_type": "code",
        "id": "rgd7EpeNEtBA",
        "colab": {
          "base_uri": "https://localhost:8080/",
          "height": 693
        },
        "outputId": "635ad5a2-1bb2-4e13-d6e6-2d89665bd434"
      },
      "source": [
        "history = model.fit(x_train,\n",
        "                    y_train,\n",
        "                    epochs=100,\n",
        "                    batch_size=512,\n",
        "                    validation_data=(x_test, y_test),\n",
        "                    verbose=1,\n",
        "                    callbacks = [callback])"
      ],
      "execution_count": 92,
      "outputs": [
        {
          "output_type": "stream",
          "text": [
            "Epoch 1/100\n",
            "12/12 [==============================] - 0s 22ms/step - loss: 0.8617 - accuracy: 0.4311 - val_loss: 0.8532 - val_accuracy: 0.4249\n",
            "Epoch 2/100\n",
            "12/12 [==============================] - 0s 14ms/step - loss: 0.8350 - accuracy: 0.4339 - val_loss: 0.8194 - val_accuracy: 0.4433\n",
            "Epoch 3/100\n",
            "12/12 [==============================] - 0s 14ms/step - loss: 0.7893 - accuracy: 0.4985 - val_loss: 0.7650 - val_accuracy: 0.5525\n",
            "Epoch 4/100\n",
            "12/12 [==============================] - 0s 14ms/step - loss: 0.7246 - accuracy: 0.6931 - val_loss: 0.7099 - val_accuracy: 0.7017\n",
            "Epoch 5/100\n",
            "12/12 [==============================] - 0s 14ms/step - loss: 0.6767 - accuracy: 0.7387 - val_loss: 0.6804 - val_accuracy: 0.7048\n",
            "Epoch 6/100\n",
            "12/12 [==============================] - 0s 15ms/step - loss: 0.6513 - accuracy: 0.7569 - val_loss: 0.6660 - val_accuracy: 0.7274\n",
            "Epoch 7/100\n",
            "12/12 [==============================] - 0s 14ms/step - loss: 0.6351 - accuracy: 0.7979 - val_loss: 0.6570 - val_accuracy: 0.7505\n",
            "Epoch 8/100\n",
            "12/12 [==============================] - 0s 14ms/step - loss: 0.6228 - accuracy: 0.8301 - val_loss: 0.6506 - val_accuracy: 0.7616\n",
            "Epoch 9/100\n",
            "12/12 [==============================] - 0s 14ms/step - loss: 0.6130 - accuracy: 0.8518 - val_loss: 0.6451 - val_accuracy: 0.7715\n",
            "Epoch 10/100\n",
            "12/12 [==============================] - 0s 14ms/step - loss: 0.6049 - accuracy: 0.8613 - val_loss: 0.6408 - val_accuracy: 0.7752\n",
            "Epoch 11/100\n",
            "12/12 [==============================] - 0s 14ms/step - loss: 0.5984 - accuracy: 0.8706 - val_loss: 0.6376 - val_accuracy: 0.7742\n",
            "Epoch 12/100\n",
            "12/12 [==============================] - 0s 15ms/step - loss: 0.5929 - accuracy: 0.8763 - val_loss: 0.6350 - val_accuracy: 0.7789\n",
            "Epoch 13/100\n",
            "12/12 [==============================] - 0s 14ms/step - loss: 0.5885 - accuracy: 0.8814 - val_loss: 0.6326 - val_accuracy: 0.7820\n",
            "Epoch 14/100\n",
            "12/12 [==============================] - 0s 15ms/step - loss: 0.5848 - accuracy: 0.8858 - val_loss: 0.6313 - val_accuracy: 0.7857\n",
            "Epoch 15/100\n",
            "12/12 [==============================] - 0s 14ms/step - loss: 0.5817 - accuracy: 0.8907 - val_loss: 0.6305 - val_accuracy: 0.7868\n",
            "Epoch 16/100\n",
            "12/12 [==============================] - 0s 14ms/step - loss: 0.5791 - accuracy: 0.8958 - val_loss: 0.6301 - val_accuracy: 0.7873\n",
            "Epoch 17/100\n",
            "12/12 [==============================] - 0s 14ms/step - loss: 0.5768 - accuracy: 0.8984 - val_loss: 0.6291 - val_accuracy: 0.7862\n",
            "Epoch 18/100\n",
            "12/12 [==============================] - 0s 14ms/step - loss: 0.5751 - accuracy: 0.8995 - val_loss: 0.6286 - val_accuracy: 0.7889\n",
            "Epoch 19/100\n",
            "12/12 [==============================] - 0s 14ms/step - loss: 0.5736 - accuracy: 0.9023 - val_loss: 0.6291 - val_accuracy: 0.7899\n",
            "Epoch 00019: early stopping\n"
          ],
          "name": "stdout"
        }
      ]
    },
    {
      "cell_type": "code",
      "metadata": {
        "colab_type": "code",
        "id": "OzGLWO4TEtBG",
        "colab": {
          "base_uri": "https://localhost:8080/",
          "height": 52
        },
        "outputId": "6cafc90d-3ca0-4082-c551-0cacdf9fac9d"
      },
      "source": [
        "results = model.evaluate(x_test, y_test)\n",
        "\n",
        "print(results)"
      ],
      "execution_count": 80,
      "outputs": [
        {
          "output_type": "stream",
          "text": [
            "60/60 [==============================] - 0s 2ms/step - loss: 0.6273 - accuracy: 0.7868\n",
            "[0.6273136138916016, 0.7867646813392639]\n"
          ],
          "name": "stdout"
        }
      ]
    },
    {
      "cell_type": "markdown",
      "metadata": {
        "id": "XZp-RlCQBxYz",
        "colab_type": "text"
      },
      "source": [
        "### Modelo 2"
      ]
    },
    {
      "cell_type": "code",
      "metadata": {
        "id": "uZmx8mmiCHtm",
        "colab_type": "code",
        "colab": {}
      },
      "source": [
        "x_train, x_test, y_train, y_test = \\\n",
        "train_test_split(text['text'], text['target'], test_size = 0.25, random_state = 123)"
      ],
      "execution_count": 26,
      "outputs": []
    },
    {
      "cell_type": "code",
      "metadata": {
        "id": "YIkF0JOQB0-H",
        "colab_type": "code",
        "colab": {
          "base_uri": "https://localhost:8080/",
          "height": 260
        },
        "outputId": "ef2e05d7-3fd1-4528-b90b-82917a9ef6ef"
      },
      "source": [
        "hub_layer = hub.KerasLayer(\"https://tfhub.dev/google/tf2-preview/nnlm-en-dim50/1\", output_shape=[50],\n",
        "                           input_shape=[], dtype=tf.string)\n",
        "\n",
        "model = tf.keras.Sequential()\n",
        "model.add(hub_layer)\n",
        "model.add(tf.keras.layers.Dense(10, activation='softmax'))\n",
        "model.add(tf.keras.layers.Dense(1, activation='sigmoid'))\n",
        "\n",
        "model.summary()"
      ],
      "execution_count": 128,
      "outputs": [
        {
          "output_type": "stream",
          "text": [
            "Model: \"sequential_42\"\n",
            "_________________________________________________________________\n",
            "Layer (type)                 Output Shape              Param #   \n",
            "=================================================================\n",
            "keras_layer_27 (KerasLayer)  (None, 50)                48190600  \n",
            "_________________________________________________________________\n",
            "dense_54 (Dense)             (None, 10)                510       \n",
            "_________________________________________________________________\n",
            "dense_55 (Dense)             (None, 1)                 11        \n",
            "=================================================================\n",
            "Total params: 48,191,121\n",
            "Trainable params: 521\n",
            "Non-trainable params: 48,190,600\n",
            "_________________________________________________________________\n"
          ],
          "name": "stdout"
        }
      ]
    },
    {
      "cell_type": "code",
      "metadata": {
        "id": "dX3m5hvuCuUR",
        "colab_type": "code",
        "colab": {}
      },
      "source": [
        "model.compile(optimizer='adam',\n",
        "              loss=tf.losses.BinaryCrossentropy(from_logits=True),\n",
        "              metrics=['accuracy'])"
      ],
      "execution_count": 129,
      "outputs": []
    },
    {
      "cell_type": "code",
      "metadata": {
        "id": "QqLh5X6XCzNH",
        "colab_type": "code",
        "colab": {
          "base_uri": "https://localhost:8080/",
          "height": 1000
        },
        "outputId": "79d443e2-4b40-4d60-d695-c18e005fdd0e"
      },
      "source": [
        "from tensorflow.keras.callbacks import EarlyStopping\n",
        "callback = EarlyStopping(monitor = 'val_loss', patience = 1, verbose=1)\n",
        "\n",
        "history = model.fit(x_train,\n",
        "                    y_train,\n",
        "                    epochs=40,\n",
        "                    batch_size=512,\n",
        "                    validation_data=(x_test, y_test),\n",
        "                    verbose=1,\n",
        "                    callbacks = [callback])"
      ],
      "execution_count": 130,
      "outputs": [
        {
          "output_type": "stream",
          "text": [
            "Epoch 1/40\n",
            "12/12 [==============================] - 1s 94ms/step - loss: 0.7532 - accuracy: 0.5686 - val_loss: 0.7556 - val_accuracy: 0.5762\n",
            "Epoch 2/40\n",
            "12/12 [==============================] - 1s 87ms/step - loss: 0.7510 - accuracy: 0.5684 - val_loss: 0.7534 - val_accuracy: 0.5762\n",
            "Epoch 3/40\n",
            "12/12 [==============================] - 1s 86ms/step - loss: 0.7490 - accuracy: 0.5684 - val_loss: 0.7513 - val_accuracy: 0.5762\n",
            "Epoch 4/40\n",
            "12/12 [==============================] - 1s 88ms/step - loss: 0.7469 - accuracy: 0.5684 - val_loss: 0.7492 - val_accuracy: 0.5762\n",
            "Epoch 5/40\n",
            "12/12 [==============================] - 1s 86ms/step - loss: 0.7449 - accuracy: 0.5684 - val_loss: 0.7472 - val_accuracy: 0.5762\n",
            "Epoch 6/40\n",
            "12/12 [==============================] - 1s 86ms/step - loss: 0.7429 - accuracy: 0.5684 - val_loss: 0.7452 - val_accuracy: 0.5762\n",
            "Epoch 7/40\n",
            "12/12 [==============================] - 1s 86ms/step - loss: 0.7410 - accuracy: 0.5684 - val_loss: 0.7433 - val_accuracy: 0.5762\n",
            "Epoch 8/40\n",
            "12/12 [==============================] - 1s 86ms/step - loss: 0.7391 - accuracy: 0.5684 - val_loss: 0.7414 - val_accuracy: 0.5762\n",
            "Epoch 9/40\n",
            "12/12 [==============================] - 1s 86ms/step - loss: 0.7373 - accuracy: 0.5684 - val_loss: 0.7396 - val_accuracy: 0.5762\n",
            "Epoch 10/40\n",
            "12/12 [==============================] - 1s 86ms/step - loss: 0.7356 - accuracy: 0.5684 - val_loss: 0.7379 - val_accuracy: 0.5762\n",
            "Epoch 11/40\n",
            "12/12 [==============================] - 1s 87ms/step - loss: 0.7340 - accuracy: 0.5684 - val_loss: 0.7362 - val_accuracy: 0.5762\n",
            "Epoch 12/40\n",
            "12/12 [==============================] - 1s 87ms/step - loss: 0.7324 - accuracy: 0.5684 - val_loss: 0.7346 - val_accuracy: 0.5762\n",
            "Epoch 13/40\n",
            "12/12 [==============================] - 1s 87ms/step - loss: 0.7308 - accuracy: 0.5684 - val_loss: 0.7331 - val_accuracy: 0.5762\n",
            "Epoch 14/40\n",
            "12/12 [==============================] - 1s 87ms/step - loss: 0.7294 - accuracy: 0.5684 - val_loss: 0.7316 - val_accuracy: 0.5762\n",
            "Epoch 15/40\n",
            "12/12 [==============================] - 1s 87ms/step - loss: 0.7279 - accuracy: 0.5684 - val_loss: 0.7302 - val_accuracy: 0.5762\n",
            "Epoch 16/40\n",
            "12/12 [==============================] - 1s 85ms/step - loss: 0.7266 - accuracy: 0.5684 - val_loss: 0.7288 - val_accuracy: 0.5762\n",
            "Epoch 17/40\n",
            "12/12 [==============================] - 1s 86ms/step - loss: 0.7253 - accuracy: 0.5684 - val_loss: 0.7275 - val_accuracy: 0.5762\n",
            "Epoch 18/40\n",
            "12/12 [==============================] - 1s 86ms/step - loss: 0.7240 - accuracy: 0.5684 - val_loss: 0.7262 - val_accuracy: 0.5762\n",
            "Epoch 19/40\n",
            "12/12 [==============================] - 1s 85ms/step - loss: 0.7228 - accuracy: 0.5684 - val_loss: 0.7250 - val_accuracy: 0.5762\n",
            "Epoch 20/40\n",
            "12/12 [==============================] - 1s 86ms/step - loss: 0.7216 - accuracy: 0.5684 - val_loss: 0.7238 - val_accuracy: 0.5762\n",
            "Epoch 21/40\n",
            "12/12 [==============================] - 1s 87ms/step - loss: 0.7205 - accuracy: 0.5684 - val_loss: 0.7227 - val_accuracy: 0.5762\n",
            "Epoch 22/40\n",
            "12/12 [==============================] - 1s 86ms/step - loss: 0.7194 - accuracy: 0.5684 - val_loss: 0.7215 - val_accuracy: 0.5762\n",
            "Epoch 23/40\n",
            "12/12 [==============================] - 1s 86ms/step - loss: 0.7183 - accuracy: 0.5684 - val_loss: 0.7204 - val_accuracy: 0.5762\n",
            "Epoch 24/40\n",
            "12/12 [==============================] - 1s 87ms/step - loss: 0.7172 - accuracy: 0.5684 - val_loss: 0.7193 - val_accuracy: 0.5762\n",
            "Epoch 25/40\n",
            "12/12 [==============================] - 1s 86ms/step - loss: 0.7162 - accuracy: 0.5684 - val_loss: 0.7183 - val_accuracy: 0.5762\n",
            "Epoch 26/40\n",
            "12/12 [==============================] - 1s 86ms/step - loss: 0.7151 - accuracy: 0.5684 - val_loss: 0.7172 - val_accuracy: 0.5762\n",
            "Epoch 27/40\n",
            "12/12 [==============================] - 1s 85ms/step - loss: 0.7141 - accuracy: 0.5684 - val_loss: 0.7162 - val_accuracy: 0.5762\n",
            "Epoch 28/40\n",
            "12/12 [==============================] - 1s 86ms/step - loss: 0.7131 - accuracy: 0.5684 - val_loss: 0.7152 - val_accuracy: 0.5762\n",
            "Epoch 29/40\n",
            "12/12 [==============================] - 1s 85ms/step - loss: 0.7121 - accuracy: 0.5684 - val_loss: 0.7142 - val_accuracy: 0.5762\n",
            "Epoch 30/40\n",
            "12/12 [==============================] - 1s 86ms/step - loss: 0.7111 - accuracy: 0.5684 - val_loss: 0.7132 - val_accuracy: 0.5762\n",
            "Epoch 31/40\n",
            "12/12 [==============================] - 1s 88ms/step - loss: 0.7101 - accuracy: 0.5684 - val_loss: 0.7122 - val_accuracy: 0.5762\n",
            "Epoch 32/40\n",
            "12/12 [==============================] - 1s 85ms/step - loss: 0.7092 - accuracy: 0.5684 - val_loss: 0.7113 - val_accuracy: 0.5762\n",
            "Epoch 33/40\n",
            "12/12 [==============================] - 1s 86ms/step - loss: 0.7083 - accuracy: 0.5684 - val_loss: 0.7103 - val_accuracy: 0.5762\n",
            "Epoch 34/40\n",
            "12/12 [==============================] - 1s 86ms/step - loss: 0.7073 - accuracy: 0.5684 - val_loss: 0.7094 - val_accuracy: 0.5762\n",
            "Epoch 35/40\n",
            "12/12 [==============================] - 1s 86ms/step - loss: 0.7064 - accuracy: 0.5684 - val_loss: 0.7085 - val_accuracy: 0.5762\n",
            "Epoch 36/40\n",
            "12/12 [==============================] - 1s 87ms/step - loss: 0.7055 - accuracy: 0.5684 - val_loss: 0.7076 - val_accuracy: 0.5762\n",
            "Epoch 37/40\n",
            "12/12 [==============================] - 1s 86ms/step - loss: 0.7046 - accuracy: 0.5684 - val_loss: 0.7067 - val_accuracy: 0.5762\n",
            "Epoch 38/40\n",
            "12/12 [==============================] - 1s 86ms/step - loss: 0.7037 - accuracy: 0.5684 - val_loss: 0.7058 - val_accuracy: 0.5762\n",
            "Epoch 39/40\n",
            "12/12 [==============================] - 1s 87ms/step - loss: 0.7029 - accuracy: 0.5684 - val_loss: 0.7050 - val_accuracy: 0.5762\n",
            "Epoch 40/40\n",
            "12/12 [==============================] - 1s 87ms/step - loss: 0.7020 - accuracy: 0.5684 - val_loss: 0.7041 - val_accuracy: 0.5762\n"
          ],
          "name": "stdout"
        }
      ]
    }
  ]
}