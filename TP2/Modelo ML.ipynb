{
 "cells": [
  {
   "cell_type": "code",
   "execution_count": 88,
   "metadata": {},
   "outputs": [],
   "source": [
    "import numpy as np\n",
    "import pandas as pd\n",
    "from sklearn import preprocessing\n",
    "from sklearn.feature_extraction.text import CountVectorizer, TfidfVectorizer\n",
    "from sklearn.model_selection import train_test_split, KFold\n",
    "import nltk\n",
    "from nltk.corpus import stopwords\n",
    "from nltk.stem.snowball import SnowballStemmer\n",
    "import matplotlib\n",
    "from matplotlib import pyplot as plt\n",
    "%matplotlib inline\n",
    "%config InlineBackend.figure_format = 'retina'"
   ]
  },
  {
   "cell_type": "markdown",
   "metadata": {},
   "source": [
    "* Read csv, remove puctuation, stopwords and apply stemming, replace keywords with 'NULL'"
   ]
  },
  {
   "cell_type": "code",
   "execution_count": 89,
   "metadata": {},
   "outputs": [],
   "source": [
    "tweets = pd.read_csv(\"train.csv\")\n",
    "test = pd.read_csv(\"test.csv\")\n",
    "tweets['keyword'] = tweets['keyword'].fillna('NULL')\n",
    "test['keyword'] = test['keyword'].fillna('NULL')"
   ]
  },
  {
   "cell_type": "code",
   "execution_count": 90,
   "metadata": {},
   "outputs": [
    {
     "data": {
      "text/plain": [
       "False    7434\n",
       "True      179\n",
       "dtype: int64"
      ]
     },
     "execution_count": 90,
     "metadata": {},
     "output_type": "execute_result"
    }
   ],
   "source": [
    "duplicates = tweets.duplicated(subset = 'text', keep = False)\n",
    "duplicates.value_counts()"
   ]
  },
  {
   "cell_type": "code",
   "execution_count": 91,
   "metadata": {},
   "outputs": [
    {
     "name": "stdout",
     "output_type": "stream",
     "text": [
      "<class 'pandas.core.frame.DataFrame'>\n",
      "Int64Index: 7434 entries, 0 to 7612\n",
      "Data columns (total 5 columns):\n",
      " #   Column    Non-Null Count  Dtype \n",
      "---  ------    --------------  ----- \n",
      " 0   id        7434 non-null   int64 \n",
      " 1   keyword   7434 non-null   object\n",
      " 2   location  4982 non-null   object\n",
      " 3   text      7434 non-null   object\n",
      " 4   target    7434 non-null   int64 \n",
      "dtypes: int64(2), object(3)\n",
      "memory usage: 348.5+ KB\n"
     ]
    }
   ],
   "source": [
    "tweets.drop_duplicates(subset = 'text', keep = False, inplace = True)\n",
    "tweets.info()"
   ]
  },
  {
   "cell_type": "code",
   "execution_count": 92,
   "metadata": {},
   "outputs": [],
   "source": [
    "tweets['keyword'] = tweets.keyword.str.replace('%20',' ')"
   ]
  },
  {
   "cell_type": "code",
   "execution_count": 93,
   "metadata": {},
   "outputs": [
    {
     "data": {
      "text/html": [
       "<div>\n",
       "<style scoped>\n",
       "    .dataframe tbody tr th:only-of-type {\n",
       "        vertical-align: middle;\n",
       "    }\n",
       "\n",
       "    .dataframe tbody tr th {\n",
       "        vertical-align: top;\n",
       "    }\n",
       "\n",
       "    .dataframe thead th {\n",
       "        text-align: right;\n",
       "    }\n",
       "</style>\n",
       "<table border=\"1\" class=\"dataframe\">\n",
       "  <thead>\n",
       "    <tr style=\"text-align: right;\">\n",
       "      <th></th>\n",
       "      <th>id</th>\n",
       "      <th>keyword</th>\n",
       "      <th>location</th>\n",
       "      <th>text</th>\n",
       "      <th>target</th>\n",
       "    </tr>\n",
       "  </thead>\n",
       "  <tbody>\n",
       "    <tr>\n",
       "      <th>0</th>\n",
       "      <td>1</td>\n",
       "      <td>NULL</td>\n",
       "      <td>NaN</td>\n",
       "      <td>Our Deeds are the Reason of this  earthquake M...</td>\n",
       "      <td>1</td>\n",
       "    </tr>\n",
       "    <tr>\n",
       "      <th>1</th>\n",
       "      <td>4</td>\n",
       "      <td>NULL</td>\n",
       "      <td>NaN</td>\n",
       "      <td>Forest fire near La Ronge Sask  Canada</td>\n",
       "      <td>1</td>\n",
       "    </tr>\n",
       "    <tr>\n",
       "      <th>2</th>\n",
       "      <td>5</td>\n",
       "      <td>NULL</td>\n",
       "      <td>NaN</td>\n",
       "      <td>All residents asked to  shelter in place  are ...</td>\n",
       "      <td>1</td>\n",
       "    </tr>\n",
       "    <tr>\n",
       "      <th>3</th>\n",
       "      <td>6</td>\n",
       "      <td>NULL</td>\n",
       "      <td>NaN</td>\n",
       "      <td>13 000 people receive  wildfires evacuation or...</td>\n",
       "      <td>1</td>\n",
       "    </tr>\n",
       "    <tr>\n",
       "      <th>4</th>\n",
       "      <td>7</td>\n",
       "      <td>NULL</td>\n",
       "      <td>NaN</td>\n",
       "      <td>Just got sent this photo from Ruby  Alaska as ...</td>\n",
       "      <td>1</td>\n",
       "    </tr>\n",
       "  </tbody>\n",
       "</table>\n",
       "</div>"
      ],
      "text/plain": [
       "   id keyword location                                               text  \\\n",
       "0   1    NULL      NaN  Our Deeds are the Reason of this  earthquake M...   \n",
       "1   4    NULL      NaN             Forest fire near La Ronge Sask  Canada   \n",
       "2   5    NULL      NaN  All residents asked to  shelter in place  are ...   \n",
       "3   6    NULL      NaN  13 000 people receive  wildfires evacuation or...   \n",
       "4   7    NULL      NaN  Just got sent this photo from Ruby  Alaska as ...   \n",
       "\n",
       "   target  \n",
       "0       1  \n",
       "1       1  \n",
       "2       1  \n",
       "3       1  \n",
       "4       1  "
      ]
     },
     "execution_count": 93,
     "metadata": {},
     "output_type": "execute_result"
    }
   ],
   "source": [
    "import string\n",
    "\n",
    "tweets['text'] = tweets['text'].apply(lambda x: x.translate({ord(i): ' ' for i in string.punctuation}))\n",
    "tweets.head()"
   ]
  },
  {
   "cell_type": "code",
   "execution_count": 94,
   "metadata": {},
   "outputs": [],
   "source": [
    "tweets['text'] = tweets['text'].apply(lambda x: x.lower())"
   ]
  },
  {
   "cell_type": "code",
   "execution_count": 95,
   "metadata": {},
   "outputs": [
    {
     "name": "stderr",
     "output_type": "stream",
     "text": [
      "[nltk_data] Downloading package stopwords to\n",
      "[nltk_data]     /Users/matiascano/nltk_data...\n",
      "[nltk_data]   Package stopwords is already up-to-date!\n"
     ]
    }
   ],
   "source": [
    "import io\n",
    "import nltk\n",
    "nltk.download('stopwords')\n",
    "from nltk.corpus import stopwords\n",
    "stopwords = stopwords.words('english')"
   ]
  },
  {
   "cell_type": "code",
   "execution_count": 96,
   "metadata": {},
   "outputs": [],
   "source": [
    "def remove_stopword(text):\n",
    "    new_text = []\n",
    "    for e in text:\n",
    "        if e not in stopwords and e.isalpha():\n",
    "            new_text.append(e)\n",
    "    text = new_text\n",
    "    return \" \".join(new_text)"
   ]
  },
  {
   "cell_type": "code",
   "execution_count": 97,
   "metadata": {},
   "outputs": [
    {
     "data": {
      "text/html": [
       "<div>\n",
       "<style scoped>\n",
       "    .dataframe tbody tr th:only-of-type {\n",
       "        vertical-align: middle;\n",
       "    }\n",
       "\n",
       "    .dataframe tbody tr th {\n",
       "        vertical-align: top;\n",
       "    }\n",
       "\n",
       "    .dataframe thead th {\n",
       "        text-align: right;\n",
       "    }\n",
       "</style>\n",
       "<table border=\"1\" class=\"dataframe\">\n",
       "  <thead>\n",
       "    <tr style=\"text-align: right;\">\n",
       "      <th></th>\n",
       "      <th>id</th>\n",
       "      <th>keyword</th>\n",
       "      <th>location</th>\n",
       "      <th>text</th>\n",
       "      <th>target</th>\n",
       "    </tr>\n",
       "  </thead>\n",
       "  <tbody>\n",
       "    <tr>\n",
       "      <th>0</th>\n",
       "      <td>1</td>\n",
       "      <td>NULL</td>\n",
       "      <td>NaN</td>\n",
       "      <td>deeds reason earthquake may allah forgive us</td>\n",
       "      <td>1</td>\n",
       "    </tr>\n",
       "    <tr>\n",
       "      <th>1</th>\n",
       "      <td>4</td>\n",
       "      <td>NULL</td>\n",
       "      <td>NaN</td>\n",
       "      <td>forest fire near la ronge sask canada</td>\n",
       "      <td>1</td>\n",
       "    </tr>\n",
       "    <tr>\n",
       "      <th>2</th>\n",
       "      <td>5</td>\n",
       "      <td>NULL</td>\n",
       "      <td>NaN</td>\n",
       "      <td>residents asked shelter place notified officer...</td>\n",
       "      <td>1</td>\n",
       "    </tr>\n",
       "    <tr>\n",
       "      <th>3</th>\n",
       "      <td>6</td>\n",
       "      <td>NULL</td>\n",
       "      <td>NaN</td>\n",
       "      <td>people receive wildfires evacuation orders cal...</td>\n",
       "      <td>1</td>\n",
       "    </tr>\n",
       "    <tr>\n",
       "      <th>4</th>\n",
       "      <td>7</td>\n",
       "      <td>NULL</td>\n",
       "      <td>NaN</td>\n",
       "      <td>got sent photo ruby alaska smoke wildfires pou...</td>\n",
       "      <td>1</td>\n",
       "    </tr>\n",
       "  </tbody>\n",
       "</table>\n",
       "</div>"
      ],
      "text/plain": [
       "   id keyword location                                               text  \\\n",
       "0   1    NULL      NaN       deeds reason earthquake may allah forgive us   \n",
       "1   4    NULL      NaN              forest fire near la ronge sask canada   \n",
       "2   5    NULL      NaN  residents asked shelter place notified officer...   \n",
       "3   6    NULL      NaN  people receive wildfires evacuation orders cal...   \n",
       "4   7    NULL      NaN  got sent photo ruby alaska smoke wildfires pou...   \n",
       "\n",
       "   target  \n",
       "0       1  \n",
       "1       1  \n",
       "2       1  \n",
       "3       1  \n",
       "4       1  "
      ]
     },
     "execution_count": 97,
     "metadata": {},
     "output_type": "execute_result"
    }
   ],
   "source": [
    "tweets['text'] = tweets['text'].str.split()\n",
    "tweets['text'] = tweets['text'].apply(remove_stopword)\n",
    "tweets.head()"
   ]
  },
  {
   "cell_type": "code",
   "execution_count": 98,
   "metadata": {},
   "outputs": [],
   "source": [
    "stemmer = SnowballStemmer('english')"
   ]
  },
  {
   "cell_type": "code",
   "execution_count": 99,
   "metadata": {},
   "outputs": [],
   "source": [
    "def stemm(text):\n",
    "    text = [stemmer.stem(word) for word in text.split()]\n",
    "    return \" \".join(text)"
   ]
  },
  {
   "cell_type": "code",
   "execution_count": 100,
   "metadata": {},
   "outputs": [
    {
     "data": {
      "text/html": [
       "<div>\n",
       "<style scoped>\n",
       "    .dataframe tbody tr th:only-of-type {\n",
       "        vertical-align: middle;\n",
       "    }\n",
       "\n",
       "    .dataframe tbody tr th {\n",
       "        vertical-align: top;\n",
       "    }\n",
       "\n",
       "    .dataframe thead th {\n",
       "        text-align: right;\n",
       "    }\n",
       "</style>\n",
       "<table border=\"1\" class=\"dataframe\">\n",
       "  <thead>\n",
       "    <tr style=\"text-align: right;\">\n",
       "      <th></th>\n",
       "      <th>id</th>\n",
       "      <th>keyword</th>\n",
       "      <th>location</th>\n",
       "      <th>text</th>\n",
       "      <th>target</th>\n",
       "    </tr>\n",
       "  </thead>\n",
       "  <tbody>\n",
       "    <tr>\n",
       "      <th>0</th>\n",
       "      <td>1</td>\n",
       "      <td>NULL</td>\n",
       "      <td>NaN</td>\n",
       "      <td>deed reason earthquak may allah forgiv us</td>\n",
       "      <td>1</td>\n",
       "    </tr>\n",
       "    <tr>\n",
       "      <th>1</th>\n",
       "      <td>4</td>\n",
       "      <td>NULL</td>\n",
       "      <td>NaN</td>\n",
       "      <td>forest fire near la rong sask canada</td>\n",
       "      <td>1</td>\n",
       "    </tr>\n",
       "    <tr>\n",
       "      <th>2</th>\n",
       "      <td>5</td>\n",
       "      <td>NULL</td>\n",
       "      <td>NaN</td>\n",
       "      <td>resid ask shelter place notifi offic evacu she...</td>\n",
       "      <td>1</td>\n",
       "    </tr>\n",
       "    <tr>\n",
       "      <th>3</th>\n",
       "      <td>6</td>\n",
       "      <td>NULL</td>\n",
       "      <td>NaN</td>\n",
       "      <td>peopl receiv wildfir evacu order california</td>\n",
       "      <td>1</td>\n",
       "    </tr>\n",
       "    <tr>\n",
       "      <th>4</th>\n",
       "      <td>7</td>\n",
       "      <td>NULL</td>\n",
       "      <td>NaN</td>\n",
       "      <td>got sent photo rubi alaska smoke wildfir pour ...</td>\n",
       "      <td>1</td>\n",
       "    </tr>\n",
       "  </tbody>\n",
       "</table>\n",
       "</div>"
      ],
      "text/plain": [
       "   id keyword location                                               text  \\\n",
       "0   1    NULL      NaN          deed reason earthquak may allah forgiv us   \n",
       "1   4    NULL      NaN               forest fire near la rong sask canada   \n",
       "2   5    NULL      NaN  resid ask shelter place notifi offic evacu she...   \n",
       "3   6    NULL      NaN        peopl receiv wildfir evacu order california   \n",
       "4   7    NULL      NaN  got sent photo rubi alaska smoke wildfir pour ...   \n",
       "\n",
       "   target  \n",
       "0       1  \n",
       "1       1  \n",
       "2       1  \n",
       "3       1  \n",
       "4       1  "
      ]
     },
     "execution_count": 100,
     "metadata": {},
     "output_type": "execute_result"
    }
   ],
   "source": [
    "tweets['text'] = tweets['text'].apply(stemm)\n",
    "tweets.head()"
   ]
  },
  {
   "cell_type": "code",
   "execution_count": 101,
   "metadata": {},
   "outputs": [],
   "source": [
    "tweets.reset_index(drop=True, inplace=True)"
   ]
  },
  {
   "cell_type": "code",
   "execution_count": 102,
   "metadata": {},
   "outputs": [
    {
     "data": {
      "text/html": [
       "<div>\n",
       "<style scoped>\n",
       "    .dataframe tbody tr th:only-of-type {\n",
       "        vertical-align: middle;\n",
       "    }\n",
       "\n",
       "    .dataframe tbody tr th {\n",
       "        vertical-align: top;\n",
       "    }\n",
       "\n",
       "    .dataframe thead th {\n",
       "        text-align: right;\n",
       "    }\n",
       "</style>\n",
       "<table border=\"1\" class=\"dataframe\">\n",
       "  <thead>\n",
       "    <tr style=\"text-align: right;\">\n",
       "      <th></th>\n",
       "      <th>id</th>\n",
       "      <th>keyword</th>\n",
       "      <th>location</th>\n",
       "      <th>text</th>\n",
       "      <th>target</th>\n",
       "    </tr>\n",
       "  </thead>\n",
       "  <tbody>\n",
       "    <tr>\n",
       "      <th>0</th>\n",
       "      <td>1</td>\n",
       "      <td>NULL</td>\n",
       "      <td>NaN</td>\n",
       "      <td>deed reason earthquak may allah forgiv us</td>\n",
       "      <td>1</td>\n",
       "    </tr>\n",
       "    <tr>\n",
       "      <th>1</th>\n",
       "      <td>4</td>\n",
       "      <td>NULL</td>\n",
       "      <td>NaN</td>\n",
       "      <td>forest fire near la rong sask canada</td>\n",
       "      <td>1</td>\n",
       "    </tr>\n",
       "    <tr>\n",
       "      <th>2</th>\n",
       "      <td>5</td>\n",
       "      <td>NULL</td>\n",
       "      <td>NaN</td>\n",
       "      <td>resid ask shelter place notifi offic evacu she...</td>\n",
       "      <td>1</td>\n",
       "    </tr>\n",
       "    <tr>\n",
       "      <th>3</th>\n",
       "      <td>6</td>\n",
       "      <td>NULL</td>\n",
       "      <td>NaN</td>\n",
       "      <td>peopl receiv wildfir evacu order california</td>\n",
       "      <td>1</td>\n",
       "    </tr>\n",
       "    <tr>\n",
       "      <th>4</th>\n",
       "      <td>7</td>\n",
       "      <td>NULL</td>\n",
       "      <td>NaN</td>\n",
       "      <td>got sent photo rubi alaska smoke wildfir pour ...</td>\n",
       "      <td>1</td>\n",
       "    </tr>\n",
       "  </tbody>\n",
       "</table>\n",
       "</div>"
      ],
      "text/plain": [
       "   id keyword location                                               text  \\\n",
       "0   1    NULL      NaN          deed reason earthquak may allah forgiv us   \n",
       "1   4    NULL      NaN               forest fire near la rong sask canada   \n",
       "2   5    NULL      NaN  resid ask shelter place notifi offic evacu she...   \n",
       "3   6    NULL      NaN        peopl receiv wildfir evacu order california   \n",
       "4   7    NULL      NaN  got sent photo rubi alaska smoke wildfir pour ...   \n",
       "\n",
       "   target  \n",
       "0       1  \n",
       "1       1  \n",
       "2       1  \n",
       "3       1  \n",
       "4       1  "
      ]
     },
     "execution_count": 102,
     "metadata": {},
     "output_type": "execute_result"
    }
   ],
   "source": [
    "tweets.head()"
   ]
  },
  {
   "cell_type": "markdown",
   "metadata": {},
   "source": [
    "### Clustering graphic\n",
    "\n",
    "* SVD"
   ]
  },
  {
   "cell_type": "code",
   "execution_count": 103,
   "metadata": {},
   "outputs": [],
   "source": [
    "from sklearn.feature_extraction.text import TfidfVectorizer\n",
    "\n",
    "tfidf_vectorizer = TfidfVectorizer()\n",
    "x_train_tfidf = tfidf_vectorizer.fit_transform(tweets['text'])"
   ]
  },
  {
   "cell_type": "code",
   "execution_count": 104,
   "metadata": {},
   "outputs": [],
   "source": [
    "from sklearn.decomposition import TruncatedSVD\n",
    "\n",
    "svd = TruncatedSVD(n_components=2)\n",
    "svd.fit(x_train_tfidf)\n",
    "svd_result = svd.transform(x_train_tfidf)"
   ]
  },
  {
   "cell_type": "code",
   "execution_count": 105,
   "metadata": {},
   "outputs": [],
   "source": [
    "to_plot = pd.DataFrame({'x': svd_result[:, 0], 'y': svd_result[:, 1], 'target': tweets['target']})"
   ]
  },
  {
   "cell_type": "code",
   "execution_count": 106,
   "metadata": {},
   "outputs": [],
   "source": [
    "to_plot.reset_index(inplace=True, drop=True)"
   ]
  },
  {
   "cell_type": "code",
   "execution_count": 107,
   "metadata": {},
   "outputs": [
    {
     "data": {
      "text/plain": [
       "<matplotlib.axes._subplots.AxesSubplot at 0x150c90a50>"
      ]
     },
     "execution_count": 107,
     "metadata": {},
     "output_type": "execute_result"
    },
    {
     "data": {
      "image/png": "[encoded data removed]",
      "text/plain": [
       "<Figure size 720x720 with 1 Axes>"
      ]
     },
     "metadata": {
      "image/png": {
       "height": 588,
       "width": 617
      },
      "needs_background": "light"
     },
     "output_type": "display_data"
    }
   ],
   "source": [
    "ax = to_plot[to_plot['target'] == 1].plot.scatter(x='x', y='y', s=8, alpha=0.8, color='blue', label='Real', figsize=(10, 10))\n",
    "to_plot[to_plot['target'] == 0].plot.scatter(x='x', y='y', s=8, alpha=0.8, color='orange', label='Not real', ax=ax)"
   ]
  },
  {
   "cell_type": "markdown",
   "metadata": {},
   "source": [
    "### TF-IDF matrix"
   ]
  },
  {
   "cell_type": "code",
   "execution_count": 108,
   "metadata": {},
   "outputs": [
    {
     "data": {
      "text/html": [
       "<div>\n",
       "<style scoped>\n",
       "    .dataframe tbody tr th:only-of-type {\n",
       "        vertical-align: middle;\n",
       "    }\n",
       "\n",
       "    .dataframe tbody tr th {\n",
       "        vertical-align: top;\n",
       "    }\n",
       "\n",
       "    .dataframe thead th {\n",
       "        text-align: right;\n",
       "    }\n",
       "</style>\n",
       "<table border=\"1\" class=\"dataframe\">\n",
       "  <thead>\n",
       "    <tr style=\"text-align: right;\">\n",
       "      <th></th>\n",
       "      <th>0</th>\n",
       "      <th>1</th>\n",
       "      <th>2</th>\n",
       "      <th>3</th>\n",
       "      <th>4</th>\n",
       "      <th>5</th>\n",
       "      <th>6</th>\n",
       "      <th>7</th>\n",
       "      <th>8</th>\n",
       "      <th>9</th>\n",
       "      <th>...</th>\n",
       "      <th>11190</th>\n",
       "      <th>11191</th>\n",
       "      <th>11192</th>\n",
       "      <th>11193</th>\n",
       "      <th>11194</th>\n",
       "      <th>11195</th>\n",
       "      <th>11196</th>\n",
       "      <th>11197</th>\n",
       "      <th>11198</th>\n",
       "      <th>11199</th>\n",
       "    </tr>\n",
       "  </thead>\n",
       "  <tbody>\n",
       "    <tr>\n",
       "      <th>0</th>\n",
       "      <td>0.0</td>\n",
       "      <td>0.0</td>\n",
       "      <td>0.0</td>\n",
       "      <td>0.0</td>\n",
       "      <td>0.0</td>\n",
       "      <td>0.0</td>\n",
       "      <td>0.0</td>\n",
       "      <td>0.0</td>\n",
       "      <td>0.0</td>\n",
       "      <td>0.0</td>\n",
       "      <td>...</td>\n",
       "      <td>0.0</td>\n",
       "      <td>0.0</td>\n",
       "      <td>0.0</td>\n",
       "      <td>0.0</td>\n",
       "      <td>0.0</td>\n",
       "      <td>0.0</td>\n",
       "      <td>0.0</td>\n",
       "      <td>0.0</td>\n",
       "      <td>0.0</td>\n",
       "      <td>0.0</td>\n",
       "    </tr>\n",
       "    <tr>\n",
       "      <th>1</th>\n",
       "      <td>0.0</td>\n",
       "      <td>0.0</td>\n",
       "      <td>0.0</td>\n",
       "      <td>0.0</td>\n",
       "      <td>0.0</td>\n",
       "      <td>0.0</td>\n",
       "      <td>0.0</td>\n",
       "      <td>0.0</td>\n",
       "      <td>0.0</td>\n",
       "      <td>0.0</td>\n",
       "      <td>...</td>\n",
       "      <td>0.0</td>\n",
       "      <td>0.0</td>\n",
       "      <td>0.0</td>\n",
       "      <td>0.0</td>\n",
       "      <td>0.0</td>\n",
       "      <td>0.0</td>\n",
       "      <td>0.0</td>\n",
       "      <td>0.0</td>\n",
       "      <td>0.0</td>\n",
       "      <td>0.0</td>\n",
       "    </tr>\n",
       "    <tr>\n",
       "      <th>2</th>\n",
       "      <td>0.0</td>\n",
       "      <td>0.0</td>\n",
       "      <td>0.0</td>\n",
       "      <td>0.0</td>\n",
       "      <td>0.0</td>\n",
       "      <td>0.0</td>\n",
       "      <td>0.0</td>\n",
       "      <td>0.0</td>\n",
       "      <td>0.0</td>\n",
       "      <td>0.0</td>\n",
       "      <td>...</td>\n",
       "      <td>0.0</td>\n",
       "      <td>0.0</td>\n",
       "      <td>0.0</td>\n",
       "      <td>0.0</td>\n",
       "      <td>0.0</td>\n",
       "      <td>0.0</td>\n",
       "      <td>0.0</td>\n",
       "      <td>0.0</td>\n",
       "      <td>0.0</td>\n",
       "      <td>0.0</td>\n",
       "    </tr>\n",
       "    <tr>\n",
       "      <th>3</th>\n",
       "      <td>0.0</td>\n",
       "      <td>0.0</td>\n",
       "      <td>0.0</td>\n",
       "      <td>0.0</td>\n",
       "      <td>0.0</td>\n",
       "      <td>0.0</td>\n",
       "      <td>0.0</td>\n",
       "      <td>0.0</td>\n",
       "      <td>0.0</td>\n",
       "      <td>0.0</td>\n",
       "      <td>...</td>\n",
       "      <td>0.0</td>\n",
       "      <td>0.0</td>\n",
       "      <td>0.0</td>\n",
       "      <td>0.0</td>\n",
       "      <td>0.0</td>\n",
       "      <td>0.0</td>\n",
       "      <td>0.0</td>\n",
       "      <td>0.0</td>\n",
       "      <td>0.0</td>\n",
       "      <td>0.0</td>\n",
       "    </tr>\n",
       "    <tr>\n",
       "      <th>4</th>\n",
       "      <td>0.0</td>\n",
       "      <td>0.0</td>\n",
       "      <td>0.0</td>\n",
       "      <td>0.0</td>\n",
       "      <td>0.0</td>\n",
       "      <td>0.0</td>\n",
       "      <td>0.0</td>\n",
       "      <td>0.0</td>\n",
       "      <td>0.0</td>\n",
       "      <td>0.0</td>\n",
       "      <td>...</td>\n",
       "      <td>0.0</td>\n",
       "      <td>0.0</td>\n",
       "      <td>0.0</td>\n",
       "      <td>0.0</td>\n",
       "      <td>0.0</td>\n",
       "      <td>0.0</td>\n",
       "      <td>0.0</td>\n",
       "      <td>0.0</td>\n",
       "      <td>0.0</td>\n",
       "      <td>0.0</td>\n",
       "    </tr>\n",
       "    <tr>\n",
       "      <th>5</th>\n",
       "      <td>0.0</td>\n",
       "      <td>0.0</td>\n",
       "      <td>0.0</td>\n",
       "      <td>0.0</td>\n",
       "      <td>0.0</td>\n",
       "      <td>0.0</td>\n",
       "      <td>0.0</td>\n",
       "      <td>0.0</td>\n",
       "      <td>0.0</td>\n",
       "      <td>0.0</td>\n",
       "      <td>...</td>\n",
       "      <td>0.0</td>\n",
       "      <td>0.0</td>\n",
       "      <td>0.0</td>\n",
       "      <td>0.0</td>\n",
       "      <td>0.0</td>\n",
       "      <td>0.0</td>\n",
       "      <td>0.0</td>\n",
       "      <td>0.0</td>\n",
       "      <td>0.0</td>\n",
       "      <td>0.0</td>\n",
       "    </tr>\n",
       "    <tr>\n",
       "      <th>6</th>\n",
       "      <td>0.0</td>\n",
       "      <td>0.0</td>\n",
       "      <td>0.0</td>\n",
       "      <td>0.0</td>\n",
       "      <td>0.0</td>\n",
       "      <td>0.0</td>\n",
       "      <td>0.0</td>\n",
       "      <td>0.0</td>\n",
       "      <td>0.0</td>\n",
       "      <td>0.0</td>\n",
       "      <td>...</td>\n",
       "      <td>0.0</td>\n",
       "      <td>0.0</td>\n",
       "      <td>0.0</td>\n",
       "      <td>0.0</td>\n",
       "      <td>0.0</td>\n",
       "      <td>0.0</td>\n",
       "      <td>0.0</td>\n",
       "      <td>0.0</td>\n",
       "      <td>0.0</td>\n",
       "      <td>0.0</td>\n",
       "    </tr>\n",
       "    <tr>\n",
       "      <th>7</th>\n",
       "      <td>0.0</td>\n",
       "      <td>0.0</td>\n",
       "      <td>0.0</td>\n",
       "      <td>0.0</td>\n",
       "      <td>0.0</td>\n",
       "      <td>0.0</td>\n",
       "      <td>0.0</td>\n",
       "      <td>0.0</td>\n",
       "      <td>0.0</td>\n",
       "      <td>0.0</td>\n",
       "      <td>...</td>\n",
       "      <td>0.0</td>\n",
       "      <td>0.0</td>\n",
       "      <td>0.0</td>\n",
       "      <td>0.0</td>\n",
       "      <td>0.0</td>\n",
       "      <td>0.0</td>\n",
       "      <td>0.0</td>\n",
       "      <td>0.0</td>\n",
       "      <td>0.0</td>\n",
       "      <td>0.0</td>\n",
       "    </tr>\n",
       "    <tr>\n",
       "      <th>8</th>\n",
       "      <td>0.0</td>\n",
       "      <td>0.0</td>\n",
       "      <td>0.0</td>\n",
       "      <td>0.0</td>\n",
       "      <td>0.0</td>\n",
       "      <td>0.0</td>\n",
       "      <td>0.0</td>\n",
       "      <td>0.0</td>\n",
       "      <td>0.0</td>\n",
       "      <td>0.0</td>\n",
       "      <td>...</td>\n",
       "      <td>0.0</td>\n",
       "      <td>0.0</td>\n",
       "      <td>0.0</td>\n",
       "      <td>0.0</td>\n",
       "      <td>0.0</td>\n",
       "      <td>0.0</td>\n",
       "      <td>0.0</td>\n",
       "      <td>0.0</td>\n",
       "      <td>0.0</td>\n",
       "      <td>0.0</td>\n",
       "    </tr>\n",
       "    <tr>\n",
       "      <th>9</th>\n",
       "      <td>0.0</td>\n",
       "      <td>0.0</td>\n",
       "      <td>0.0</td>\n",
       "      <td>0.0</td>\n",
       "      <td>0.0</td>\n",
       "      <td>0.0</td>\n",
       "      <td>0.0</td>\n",
       "      <td>0.0</td>\n",
       "      <td>0.0</td>\n",
       "      <td>0.0</td>\n",
       "      <td>...</td>\n",
       "      <td>0.0</td>\n",
       "      <td>0.0</td>\n",
       "      <td>0.0</td>\n",
       "      <td>0.0</td>\n",
       "      <td>0.0</td>\n",
       "      <td>0.0</td>\n",
       "      <td>0.0</td>\n",
       "      <td>0.0</td>\n",
       "      <td>0.0</td>\n",
       "      <td>0.0</td>\n",
       "    </tr>\n",
       "  </tbody>\n",
       "</table>\n",
       "<p>10 rows × 11200 columns</p>\n",
       "</div>"
      ],
      "text/plain": [
       "   0      1      2      3      4      5      6      7      8      9      ...  \\\n",
       "0    0.0    0.0    0.0    0.0    0.0    0.0    0.0    0.0    0.0    0.0  ...   \n",
       "1    0.0    0.0    0.0    0.0    0.0    0.0    0.0    0.0    0.0    0.0  ...   \n",
       "2    0.0    0.0    0.0    0.0    0.0    0.0    0.0    0.0    0.0    0.0  ...   \n",
       "3    0.0    0.0    0.0    0.0    0.0    0.0    0.0    0.0    0.0    0.0  ...   \n",
       "4    0.0    0.0    0.0    0.0    0.0    0.0    0.0    0.0    0.0    0.0  ...   \n",
       "5    0.0    0.0    0.0    0.0    0.0    0.0    0.0    0.0    0.0    0.0  ...   \n",
       "6    0.0    0.0    0.0    0.0    0.0    0.0    0.0    0.0    0.0    0.0  ...   \n",
       "7    0.0    0.0    0.0    0.0    0.0    0.0    0.0    0.0    0.0    0.0  ...   \n",
       "8    0.0    0.0    0.0    0.0    0.0    0.0    0.0    0.0    0.0    0.0  ...   \n",
       "9    0.0    0.0    0.0    0.0    0.0    0.0    0.0    0.0    0.0    0.0  ...   \n",
       "\n",
       "   11190  11191  11192  11193  11194  11195  11196  11197  11198  11199  \n",
       "0    0.0    0.0    0.0    0.0    0.0    0.0    0.0    0.0    0.0    0.0  \n",
       "1    0.0    0.0    0.0    0.0    0.0    0.0    0.0    0.0    0.0    0.0  \n",
       "2    0.0    0.0    0.0    0.0    0.0    0.0    0.0    0.0    0.0    0.0  \n",
       "3    0.0    0.0    0.0    0.0    0.0    0.0    0.0    0.0    0.0    0.0  \n",
       "4    0.0    0.0    0.0    0.0    0.0    0.0    0.0    0.0    0.0    0.0  \n",
       "5    0.0    0.0    0.0    0.0    0.0    0.0    0.0    0.0    0.0    0.0  \n",
       "6    0.0    0.0    0.0    0.0    0.0    0.0    0.0    0.0    0.0    0.0  \n",
       "7    0.0    0.0    0.0    0.0    0.0    0.0    0.0    0.0    0.0    0.0  \n",
       "8    0.0    0.0    0.0    0.0    0.0    0.0    0.0    0.0    0.0    0.0  \n",
       "9    0.0    0.0    0.0    0.0    0.0    0.0    0.0    0.0    0.0    0.0  \n",
       "\n",
       "[10 rows x 11200 columns]"
      ]
     },
     "execution_count": 108,
     "metadata": {},
     "output_type": "execute_result"
    }
   ],
   "source": [
    "x_train, x_test, y_train, y_test = \\\n",
    "train_test_split(tweets['text'], tweets.loc[:,['id','target']], test_size = 0.25, random_state = 123)\n",
    "\n",
    "from sklearn.feature_extraction.text import TfidfVectorizer\n",
    "tfidf_vectorizer = TfidfVectorizer()\n",
    "train_vectors = tfidf_vectorizer.fit_transform(x_train)\n",
    "test_vectors = tfidf_vectorizer.transform(x_test)\n",
    "array = train_vectors.todense()\n",
    "\n",
    "tfidf_matrix = pd.DataFrame(array)\n",
    "tfidf_matrix.head(10)"
   ]
  },
  {
   "cell_type": "code",
   "execution_count": 109,
   "metadata": {},
   "outputs": [
    {
     "data": {
      "text/html": [
       "<div>\n",
       "<style scoped>\n",
       "    .dataframe tbody tr th:only-of-type {\n",
       "        vertical-align: middle;\n",
       "    }\n",
       "\n",
       "    .dataframe tbody tr th {\n",
       "        vertical-align: top;\n",
       "    }\n",
       "\n",
       "    .dataframe thead th {\n",
       "        text-align: right;\n",
       "    }\n",
       "</style>\n",
       "<table border=\"1\" class=\"dataframe\">\n",
       "  <thead>\n",
       "    <tr style=\"text-align: right;\">\n",
       "      <th></th>\n",
       "      <th>id</th>\n",
       "      <th>target</th>\n",
       "    </tr>\n",
       "  </thead>\n",
       "  <tbody>\n",
       "    <tr>\n",
       "      <th>0</th>\n",
       "      <td>4774</td>\n",
       "      <td>1</td>\n",
       "    </tr>\n",
       "    <tr>\n",
       "      <th>1</th>\n",
       "      <td>6820</td>\n",
       "      <td>0</td>\n",
       "    </tr>\n",
       "    <tr>\n",
       "      <th>2</th>\n",
       "      <td>1069</td>\n",
       "      <td>0</td>\n",
       "    </tr>\n",
       "    <tr>\n",
       "      <th>3</th>\n",
       "      <td>474</td>\n",
       "      <td>0</td>\n",
       "    </tr>\n",
       "    <tr>\n",
       "      <th>4</th>\n",
       "      <td>8208</td>\n",
       "      <td>0</td>\n",
       "    </tr>\n",
       "  </tbody>\n",
       "</table>\n",
       "</div>"
      ],
      "text/plain": [
       "     id  target\n",
       "0  4774       1\n",
       "1  6820       0\n",
       "2  1069       0\n",
       "3   474       0\n",
       "4  8208       0"
      ]
     },
     "execution_count": 109,
     "metadata": {},
     "output_type": "execute_result"
    }
   ],
   "source": [
    "y_train.reset_index(drop=True, inplace=True)\n",
    "y_train.head()"
   ]
  },
  {
   "cell_type": "markdown",
   "metadata": {},
   "source": [
    "#### Basic Naive Bayes \n",
    "\n",
    "En el caso de una predicción binaria es recomendable bernoulli"
   ]
  },
  {
   "cell_type": "code",
   "execution_count": 110,
   "metadata": {},
   "outputs": [],
   "source": [
    "from sklearn.naive_bayes import BernoulliNB\n",
    "\n",
    "bernoulli = BernoulliNB().fit(train_vectors, y_train['target'])"
   ]
  },
  {
   "cell_type": "code",
   "execution_count": 111,
   "metadata": {},
   "outputs": [
    {
     "name": "stdout",
     "output_type": "stream",
     "text": [
      "0.8128025820333513\n"
     ]
    }
   ],
   "source": [
    "from sklearn.metrics import accuracy_score\n",
    "predicted = bernoulli.predict(test_vectors)\n",
    "print(accuracy_score(y_test['target'], predicted))"
   ]
  },
  {
   "cell_type": "markdown",
   "metadata": {},
   "source": [
    "#### Tunning"
   ]
  },
  {
   "cell_type": "code",
   "execution_count": 112,
   "metadata": {},
   "outputs": [
    {
     "data": {
      "text/html": [
       "<div>\n",
       "<style scoped>\n",
       "    .dataframe tbody tr th:only-of-type {\n",
       "        vertical-align: middle;\n",
       "    }\n",
       "\n",
       "    .dataframe tbody tr th {\n",
       "        vertical-align: top;\n",
       "    }\n",
       "\n",
       "    .dataframe thead th {\n",
       "        text-align: right;\n",
       "    }\n",
       "</style>\n",
       "<table border=\"1\" class=\"dataframe\">\n",
       "  <thead>\n",
       "    <tr style=\"text-align: right;\">\n",
       "      <th></th>\n",
       "      <th>0</th>\n",
       "      <th>1</th>\n",
       "      <th>2</th>\n",
       "      <th>3</th>\n",
       "      <th>4</th>\n",
       "      <th>5</th>\n",
       "      <th>6</th>\n",
       "      <th>7</th>\n",
       "      <th>8</th>\n",
       "      <th>9</th>\n",
       "      <th>...</th>\n",
       "      <th>11190</th>\n",
       "      <th>11191</th>\n",
       "      <th>11192</th>\n",
       "      <th>11193</th>\n",
       "      <th>11194</th>\n",
       "      <th>11195</th>\n",
       "      <th>11196</th>\n",
       "      <th>11197</th>\n",
       "      <th>11198</th>\n",
       "      <th>11199</th>\n",
       "    </tr>\n",
       "  </thead>\n",
       "  <tbody>\n",
       "    <tr>\n",
       "      <th>0</th>\n",
       "      <td>0.0</td>\n",
       "      <td>0.0</td>\n",
       "      <td>0.0</td>\n",
       "      <td>0.0</td>\n",
       "      <td>0.0</td>\n",
       "      <td>0.0</td>\n",
       "      <td>0.0</td>\n",
       "      <td>0.0</td>\n",
       "      <td>0.0</td>\n",
       "      <td>0.0</td>\n",
       "      <td>...</td>\n",
       "      <td>0.0</td>\n",
       "      <td>0.0</td>\n",
       "      <td>0.0</td>\n",
       "      <td>0.0</td>\n",
       "      <td>0.0</td>\n",
       "      <td>0.0</td>\n",
       "      <td>0.0</td>\n",
       "      <td>0.0</td>\n",
       "      <td>0.0</td>\n",
       "      <td>0.0</td>\n",
       "    </tr>\n",
       "    <tr>\n",
       "      <th>1</th>\n",
       "      <td>0.0</td>\n",
       "      <td>0.0</td>\n",
       "      <td>0.0</td>\n",
       "      <td>0.0</td>\n",
       "      <td>0.0</td>\n",
       "      <td>0.0</td>\n",
       "      <td>0.0</td>\n",
       "      <td>0.0</td>\n",
       "      <td>0.0</td>\n",
       "      <td>0.0</td>\n",
       "      <td>...</td>\n",
       "      <td>0.0</td>\n",
       "      <td>0.0</td>\n",
       "      <td>0.0</td>\n",
       "      <td>0.0</td>\n",
       "      <td>0.0</td>\n",
       "      <td>0.0</td>\n",
       "      <td>0.0</td>\n",
       "      <td>0.0</td>\n",
       "      <td>0.0</td>\n",
       "      <td>0.0</td>\n",
       "    </tr>\n",
       "    <tr>\n",
       "      <th>2</th>\n",
       "      <td>0.0</td>\n",
       "      <td>0.0</td>\n",
       "      <td>0.0</td>\n",
       "      <td>0.0</td>\n",
       "      <td>0.0</td>\n",
       "      <td>0.0</td>\n",
       "      <td>0.0</td>\n",
       "      <td>0.0</td>\n",
       "      <td>0.0</td>\n",
       "      <td>0.0</td>\n",
       "      <td>...</td>\n",
       "      <td>0.0</td>\n",
       "      <td>0.0</td>\n",
       "      <td>0.0</td>\n",
       "      <td>0.0</td>\n",
       "      <td>0.0</td>\n",
       "      <td>0.0</td>\n",
       "      <td>0.0</td>\n",
       "      <td>0.0</td>\n",
       "      <td>0.0</td>\n",
       "      <td>0.0</td>\n",
       "    </tr>\n",
       "    <tr>\n",
       "      <th>3</th>\n",
       "      <td>0.0</td>\n",
       "      <td>0.0</td>\n",
       "      <td>0.0</td>\n",
       "      <td>0.0</td>\n",
       "      <td>0.0</td>\n",
       "      <td>0.0</td>\n",
       "      <td>0.0</td>\n",
       "      <td>0.0</td>\n",
       "      <td>0.0</td>\n",
       "      <td>0.0</td>\n",
       "      <td>...</td>\n",
       "      <td>0.0</td>\n",
       "      <td>0.0</td>\n",
       "      <td>0.0</td>\n",
       "      <td>0.0</td>\n",
       "      <td>0.0</td>\n",
       "      <td>0.0</td>\n",
       "      <td>0.0</td>\n",
       "      <td>0.0</td>\n",
       "      <td>0.0</td>\n",
       "      <td>0.0</td>\n",
       "    </tr>\n",
       "    <tr>\n",
       "      <th>4</th>\n",
       "      <td>0.0</td>\n",
       "      <td>0.0</td>\n",
       "      <td>0.0</td>\n",
       "      <td>0.0</td>\n",
       "      <td>0.0</td>\n",
       "      <td>0.0</td>\n",
       "      <td>0.0</td>\n",
       "      <td>0.0</td>\n",
       "      <td>0.0</td>\n",
       "      <td>0.0</td>\n",
       "      <td>...</td>\n",
       "      <td>0.0</td>\n",
       "      <td>0.0</td>\n",
       "      <td>0.0</td>\n",
       "      <td>0.0</td>\n",
       "      <td>0.0</td>\n",
       "      <td>0.0</td>\n",
       "      <td>0.0</td>\n",
       "      <td>0.0</td>\n",
       "      <td>0.0</td>\n",
       "      <td>0.0</td>\n",
       "    </tr>\n",
       "  </tbody>\n",
       "</table>\n",
       "<p>5 rows × 11200 columns</p>\n",
       "</div>"
      ],
      "text/plain": [
       "   0      1      2      3      4      5      6      7      8      9      ...  \\\n",
       "0    0.0    0.0    0.0    0.0    0.0    0.0    0.0    0.0    0.0    0.0  ...   \n",
       "1    0.0    0.0    0.0    0.0    0.0    0.0    0.0    0.0    0.0    0.0  ...   \n",
       "2    0.0    0.0    0.0    0.0    0.0    0.0    0.0    0.0    0.0    0.0  ...   \n",
       "3    0.0    0.0    0.0    0.0    0.0    0.0    0.0    0.0    0.0    0.0  ...   \n",
       "4    0.0    0.0    0.0    0.0    0.0    0.0    0.0    0.0    0.0    0.0  ...   \n",
       "\n",
       "   11190  11191  11192  11193  11194  11195  11196  11197  11198  11199  \n",
       "0    0.0    0.0    0.0    0.0    0.0    0.0    0.0    0.0    0.0    0.0  \n",
       "1    0.0    0.0    0.0    0.0    0.0    0.0    0.0    0.0    0.0    0.0  \n",
       "2    0.0    0.0    0.0    0.0    0.0    0.0    0.0    0.0    0.0    0.0  \n",
       "3    0.0    0.0    0.0    0.0    0.0    0.0    0.0    0.0    0.0    0.0  \n",
       "4    0.0    0.0    0.0    0.0    0.0    0.0    0.0    0.0    0.0    0.0  \n",
       "\n",
       "[5 rows x 11200 columns]"
      ]
     },
     "execution_count": 112,
     "metadata": {},
     "output_type": "execute_result"
    }
   ],
   "source": [
    "tfidf_matrix.head()"
   ]
  },
  {
   "cell_type": "code",
   "execution_count": 113,
   "metadata": {},
   "outputs": [],
   "source": [
    "features = tfidf_matrix.columns"
   ]
  },
  {
   "cell_type": "code",
   "execution_count": 114,
   "metadata": {},
   "outputs": [
    {
     "data": {
      "text/plain": [
       "array([0.5   , 0.5263, 0.5526, 0.5789, 0.6053, 0.6316, 0.6579, 0.6842,\n",
       "       0.7105, 0.7368, 0.7632, 0.7895, 0.8158, 0.8421, 0.8684, 0.8947,\n",
       "       0.9211, 0.9474, 0.9737, 1.    ])"
      ]
     },
     "execution_count": 114,
     "metadata": {},
     "output_type": "execute_result"
    }
   ],
   "source": [
    "alpha = np.linspace(0.5, 1.0, 20)\n",
    "alpha = np.around(alpha, decimals=4)\n",
    "alpha"
   ]
  },
  {
   "cell_type": "code",
   "execution_count": 115,
   "metadata": {},
   "outputs": [],
   "source": [
    "grid = [{\"alpha\":alpha}]"
   ]
  },
  {
   "cell_type": "code",
   "execution_count": 116,
   "metadata": {},
   "outputs": [],
   "source": [
    "from sklearn.model_selection import GridSearchCV\n",
    "\n",
    "#classifier = BernoulliNB()\n",
    "#gridsearch = GridSearchCV(classifier, grid, scoring = 'neg_log_loss', cv = 4)\n",
    "#gridsearch.fit(df[features], y_train['target'])\n",
    "#print(\"Best parameter: \",gridsearch.best_params_)"
   ]
  },
  {
   "cell_type": "code",
   "execution_count": 117,
   "metadata": {},
   "outputs": [
    {
     "name": "stdout",
     "output_type": "stream",
     "text": [
      "0.8138784292630447\n"
     ]
    }
   ],
   "source": [
    "bernoulli_t = BernoulliNB(alpha=0.9474).fit(train_vectors, y_train['target'])\n",
    "predicted_t = bernoulli_t.predict(test_vectors)\n",
    "print(accuracy_score(y_test['target'], predicted_t))"
   ]
  },
  {
   "cell_type": "markdown",
   "metadata": {},
   "source": [
    "### LightGBM\n",
    "\n",
    "* Count vectorization"
   ]
  },
  {
   "cell_type": "code",
   "execution_count": 118,
   "metadata": {},
   "outputs": [],
   "source": [
    "from sklearn.metrics import classification_report"
   ]
  },
  {
   "cell_type": "code",
   "execution_count": 119,
   "metadata": {},
   "outputs": [],
   "source": [
    "x_train, x_test, y_train, y_test = \\\n",
    "train_test_split(tweets[['text', 'keyword']], tweets['target'], test_size = 0.25, random_state = 123)\n",
    "\n",
    "from sklearn.feature_extraction.text import TfidfVectorizer, CountVectorizer\n",
    "tfidf_vectorizer = CountVectorizer(ngram_range=(1,2), lowercase=True, stop_words='english', max_features=5000)\n",
    "train_vectors = tfidf_vectorizer.fit_transform(x_train['text'])\n",
    "test_vectors = tfidf_vectorizer.transform(x_test['text'])"
   ]
  },
  {
   "cell_type": "code",
   "execution_count": 120,
   "metadata": {},
   "outputs": [],
   "source": [
    "tfidf_vectorizer = CountVectorizer(ngram_range=(1,2), lowercase=True, stop_words='english', max_features=300)\n",
    "key_train_vectors = tfidf_vectorizer.fit_transform(x_train['keyword'])\n",
    "key_test_vectors = tfidf_vectorizer.transform(x_test['keyword'])"
   ]
  },
  {
   "cell_type": "code",
   "execution_count": 121,
   "metadata": {},
   "outputs": [],
   "source": [
    "from scipy.sparse import hstack\n",
    "matrix_final = hstack([train_vectors, key_train_vectors])"
   ]
  },
  {
   "cell_type": "code",
   "execution_count": 122,
   "metadata": {},
   "outputs": [],
   "source": [
    "matrix_final = matrix_final.astype('float32')"
   ]
  },
  {
   "cell_type": "code",
   "execution_count": 123,
   "metadata": {},
   "outputs": [],
   "source": [
    "import lightgbm as lgb\n",
    "d_train = lgb.Dataset(matrix_final, label=y_train)\n",
    "\n",
    "params = {\n",
    "    'learning_rate' : 0.02,\n",
    "    'boosting_type' : 'gbdt',\n",
    "    'objective' : 'binary',\n",
    "    'metric' : 'binary_logloss',\n",
    "    'num_leaves' : 50,\n",
    "    'max_depth' : 5\n",
    "}\n",
    "\n",
    "gbm = lgb.train(params, d_train, 5000)"
   ]
  },
  {
   "cell_type": "code",
   "execution_count": 124,
   "metadata": {},
   "outputs": [
    {
     "name": "stdout",
     "output_type": "stream",
     "text": [
      "0.8025820333512641\n"
     ]
    },
    {
     "name": "stderr",
     "output_type": "stream",
     "text": [
      "/Users/matiascano/.pyenv/versions/3.7.7/lib/python3.7/site-packages/lightgbm/basic.py:546: UserWarning: Converting data to scipy sparse matrix.\n",
      "  warnings.warn('Converting data to scipy sparse matrix.')\n"
     ]
    }
   ],
   "source": [
    "test_final = hstack([test_vectors, key_test_vectors])\n",
    "test_final = test_final.astype('float32')\n",
    "y_pred = gbm.predict(test_final)\n",
    "\n",
    "for i in range (0, len(y_pred)):\n",
    "    if y_pred[i] >= 0.5:       \n",
    "        y_pred[i] = 1\n",
    "    else:  \n",
    "        y_pred[i] = 0\n",
    "\n",
    "from sklearn.metrics import accuracy_score\n",
    "accuracy = accuracy_score(y_pred, y_test)\n",
    "print(accuracy)"
   ]
  },
  {
   "cell_type": "code",
   "execution_count": 125,
   "metadata": {},
   "outputs": [
    {
     "name": "stdout",
     "output_type": "stream",
     "text": [
      "              precision    recall  f1-score   support\n",
      "\n",
      "           0       0.79      0.88      0.84      1055\n",
      "           1       0.82      0.70      0.75       804\n",
      "\n",
      "    accuracy                           0.80      1859\n",
      "   macro avg       0.81      0.79      0.79      1859\n",
      "weighted avg       0.80      0.80      0.80      1859\n",
      "\n"
     ]
    }
   ],
   "source": [
    "print(classification_report(y_test, y_pred))"
   ]
  },
  {
   "cell_type": "markdown",
   "metadata": {},
   "source": [
    "### Features"
   ]
  },
  {
   "cell_type": "code",
   "execution_count": 126,
   "metadata": {},
   "outputs": [],
   "source": [
    "tweets_features = pd.read_csv(\"train_features.csv\")\n",
    "test_features = pd.read_csv(\"test_features.csv\")\n",
    "keyword_w2v = pd.read_csv(\"keyword_features.csv\")"
   ]
  },
  {
   "cell_type": "code",
   "execution_count": 127,
   "metadata": {},
   "outputs": [
    {
     "data": {
      "text/html": [
       "<div>\n",
       "<style scoped>\n",
       "    .dataframe tbody tr th:only-of-type {\n",
       "        vertical-align: middle;\n",
       "    }\n",
       "\n",
       "    .dataframe tbody tr th {\n",
       "        vertical-align: top;\n",
       "    }\n",
       "\n",
       "    .dataframe thead th {\n",
       "        text-align: right;\n",
       "    }\n",
       "</style>\n",
       "<table border=\"1\" class=\"dataframe\">\n",
       "  <thead>\n",
       "    <tr style=\"text-align: right;\">\n",
       "      <th></th>\n",
       "      <th>id</th>\n",
       "      <th>text</th>\n",
       "      <th>target</th>\n",
       "      <th>text_without_stopwords</th>\n",
       "      <th>length</th>\n",
       "      <th>avg_word_length</th>\n",
       "      <th>amount_of_words</th>\n",
       "      <th>amount_of_unique_words</th>\n",
       "      <th>sentiment</th>\n",
       "      <th>stopwords_count</th>\n",
       "      <th>punctuation_count</th>\n",
       "      <th>mentions_count</th>\n",
       "      <th>hashtags_count</th>\n",
       "      <th>longest_word_length_without_stopwords</th>\n",
       "      <th>stopword_word_ratio</th>\n",
       "      <th>adjectives_count</th>\n",
       "      <th>nouns_count</th>\n",
       "      <th>verbs_count</th>\n",
       "      <th>adverbs_count</th>\n",
       "    </tr>\n",
       "  </thead>\n",
       "  <tbody>\n",
       "    <tr>\n",
       "      <th>0</th>\n",
       "      <td>1</td>\n",
       "      <td>Our Deeds are the Reason of this #earthquake M...</td>\n",
       "      <td>1</td>\n",
       "      <td>Our Deeds Reason May ALLAH Forgive us</td>\n",
       "      <td>69</td>\n",
       "      <td>4.384615</td>\n",
       "      <td>13</td>\n",
       "      <td>13</td>\n",
       "      <td>0.2732</td>\n",
       "      <td>6</td>\n",
       "      <td>1</td>\n",
       "      <td>0</td>\n",
       "      <td>1</td>\n",
       "      <td>7</td>\n",
       "      <td>0.461538</td>\n",
       "      <td>0</td>\n",
       "      <td>6</td>\n",
       "      <td>1</td>\n",
       "      <td>0</td>\n",
       "    </tr>\n",
       "  </tbody>\n",
       "</table>\n",
       "</div>"
      ],
      "text/plain": [
       "   id                                               text  target  \\\n",
       "0   1  Our Deeds are the Reason of this #earthquake M...       1   \n",
       "\n",
       "                  text_without_stopwords  length  avg_word_length  \\\n",
       "0  Our Deeds Reason May ALLAH Forgive us      69         4.384615   \n",
       "\n",
       "   amount_of_words  amount_of_unique_words  sentiment  stopwords_count  \\\n",
       "0               13                      13     0.2732                6   \n",
       "\n",
       "   punctuation_count  mentions_count  hashtags_count  \\\n",
       "0                  1               0               1   \n",
       "\n",
       "   longest_word_length_without_stopwords  stopword_word_ratio  \\\n",
       "0                                      7             0.461538   \n",
       "\n",
       "   adjectives_count  nouns_count  verbs_count  adverbs_count  \n",
       "0                 0            6            1              0  "
      ]
     },
     "execution_count": 127,
     "metadata": {},
     "output_type": "execute_result"
    }
   ],
   "source": [
    "tweets_features.head(1)"
   ]
  },
  {
   "cell_type": "code",
   "execution_count": 128,
   "metadata": {},
   "outputs": [
    {
     "data": {
      "text/html": [
       "<div>\n",
       "<style scoped>\n",
       "    .dataframe tbody tr th:only-of-type {\n",
       "        vertical-align: middle;\n",
       "    }\n",
       "\n",
       "    .dataframe tbody tr th {\n",
       "        vertical-align: top;\n",
       "    }\n",
       "\n",
       "    .dataframe thead th {\n",
       "        text-align: right;\n",
       "    }\n",
       "</style>\n",
       "<table border=\"1\" class=\"dataframe\">\n",
       "  <thead>\n",
       "    <tr style=\"text-align: right;\">\n",
       "      <th></th>\n",
       "      <th>id</th>\n",
       "      <th>keyword</th>\n",
       "      <th>location</th>\n",
       "      <th>text</th>\n",
       "    </tr>\n",
       "  </thead>\n",
       "  <tbody>\n",
       "    <tr>\n",
       "      <th>0</th>\n",
       "      <td>0</td>\n",
       "      <td>NaN</td>\n",
       "      <td>NaN</td>\n",
       "      <td>Just happened a terrible car crash</td>\n",
       "    </tr>\n",
       "  </tbody>\n",
       "</table>\n",
       "</div>"
      ],
      "text/plain": [
       "   id keyword location                                text\n",
       "0   0     NaN      NaN  Just happened a terrible car crash"
      ]
     },
     "execution_count": 128,
     "metadata": {},
     "output_type": "execute_result"
    }
   ],
   "source": [
    "test_features.head(1)"
   ]
  },
  {
   "cell_type": "code",
   "execution_count": 129,
   "metadata": {},
   "outputs": [],
   "source": [
    "tweets_features = tweets_features.drop(columns=['text', 'text_without_stopwords', 'target'])"
   ]
  },
  {
   "cell_type": "code",
   "execution_count": 130,
   "metadata": {},
   "outputs": [
    {
     "data": {
      "text/html": [
       "<div>\n",
       "<style scoped>\n",
       "    .dataframe tbody tr th:only-of-type {\n",
       "        vertical-align: middle;\n",
       "    }\n",
       "\n",
       "    .dataframe tbody tr th {\n",
       "        vertical-align: top;\n",
       "    }\n",
       "\n",
       "    .dataframe thead th {\n",
       "        text-align: right;\n",
       "    }\n",
       "</style>\n",
       "<table border=\"1\" class=\"dataframe\">\n",
       "  <thead>\n",
       "    <tr style=\"text-align: right;\">\n",
       "      <th></th>\n",
       "      <th>id</th>\n",
       "      <th>length</th>\n",
       "      <th>avg_word_length</th>\n",
       "      <th>amount_of_words</th>\n",
       "      <th>amount_of_unique_words</th>\n",
       "      <th>sentiment</th>\n",
       "      <th>stopwords_count</th>\n",
       "      <th>punctuation_count</th>\n",
       "      <th>mentions_count</th>\n",
       "      <th>hashtags_count</th>\n",
       "      <th>longest_word_length_without_stopwords</th>\n",
       "      <th>stopword_word_ratio</th>\n",
       "      <th>adjectives_count</th>\n",
       "      <th>nouns_count</th>\n",
       "      <th>verbs_count</th>\n",
       "      <th>adverbs_count</th>\n",
       "    </tr>\n",
       "  </thead>\n",
       "  <tbody>\n",
       "    <tr>\n",
       "      <th>0</th>\n",
       "      <td>1</td>\n",
       "      <td>69</td>\n",
       "      <td>4.384615</td>\n",
       "      <td>13</td>\n",
       "      <td>13</td>\n",
       "      <td>0.2732</td>\n",
       "      <td>6</td>\n",
       "      <td>1</td>\n",
       "      <td>0</td>\n",
       "      <td>1</td>\n",
       "      <td>7</td>\n",
       "      <td>0.461538</td>\n",
       "      <td>0</td>\n",
       "      <td>6</td>\n",
       "      <td>1</td>\n",
       "      <td>0</td>\n",
       "    </tr>\n",
       "  </tbody>\n",
       "</table>\n",
       "</div>"
      ],
      "text/plain": [
       "   id  length  avg_word_length  amount_of_words  amount_of_unique_words  \\\n",
       "0   1      69         4.384615               13                      13   \n",
       "\n",
       "   sentiment  stopwords_count  punctuation_count  mentions_count  \\\n",
       "0     0.2732                6                  1               0   \n",
       "\n",
       "   hashtags_count  longest_word_length_without_stopwords  stopword_word_ratio  \\\n",
       "0               1                                      7             0.461538   \n",
       "\n",
       "   adjectives_count  nouns_count  verbs_count  adverbs_count  \n",
       "0                 0            6            1              0  "
      ]
     },
     "execution_count": 130,
     "metadata": {},
     "output_type": "execute_result"
    }
   ],
   "source": [
    "tweets_features.head(1)"
   ]
  },
  {
   "cell_type": "markdown",
   "metadata": {},
   "source": [
    "#### Merge all features"
   ]
  },
  {
   "cell_type": "code",
   "execution_count": 131,
   "metadata": {},
   "outputs": [
    {
     "data": {
      "text/html": [
       "<div>\n",
       "<style scoped>\n",
       "    .dataframe tbody tr th:only-of-type {\n",
       "        vertical-align: middle;\n",
       "    }\n",
       "\n",
       "    .dataframe tbody tr th {\n",
       "        vertical-align: top;\n",
       "    }\n",
       "\n",
       "    .dataframe thead th {\n",
       "        text-align: right;\n",
       "    }\n",
       "</style>\n",
       "<table border=\"1\" class=\"dataframe\">\n",
       "  <thead>\n",
       "    <tr style=\"text-align: right;\">\n",
       "      <th></th>\n",
       "      <th>id</th>\n",
       "      <th>keyword</th>\n",
       "      <th>location</th>\n",
       "      <th>text</th>\n",
       "      <th>target</th>\n",
       "    </tr>\n",
       "  </thead>\n",
       "  <tbody>\n",
       "    <tr>\n",
       "      <th>0</th>\n",
       "      <td>1</td>\n",
       "      <td>NULL</td>\n",
       "      <td>NaN</td>\n",
       "      <td>deed reason earthquak may allah forgiv us</td>\n",
       "      <td>1</td>\n",
       "    </tr>\n",
       "  </tbody>\n",
       "</table>\n",
       "</div>"
      ],
      "text/plain": [
       "   id keyword location                                       text  target\n",
       "0   1    NULL      NaN  deed reason earthquak may allah forgiv us       1"
      ]
     },
     "execution_count": 131,
     "metadata": {},
     "output_type": "execute_result"
    }
   ],
   "source": [
    "tweets.head(1)"
   ]
  },
  {
   "cell_type": "code",
   "execution_count": 132,
   "metadata": {},
   "outputs": [
    {
     "data": {
      "text/html": [
       "<div>\n",
       "<style scoped>\n",
       "    .dataframe tbody tr th:only-of-type {\n",
       "        vertical-align: middle;\n",
       "    }\n",
       "\n",
       "    .dataframe tbody tr th {\n",
       "        vertical-align: top;\n",
       "    }\n",
       "\n",
       "    .dataframe thead th {\n",
       "        text-align: right;\n",
       "    }\n",
       "</style>\n",
       "<table border=\"1\" class=\"dataframe\">\n",
       "  <thead>\n",
       "    <tr style=\"text-align: right;\">\n",
       "      <th></th>\n",
       "      <th>keyword</th>\n",
       "      <th>v0</th>\n",
       "      <th>v1</th>\n",
       "      <th>v2</th>\n",
       "      <th>v3</th>\n",
       "      <th>v4</th>\n",
       "      <th>v5</th>\n",
       "      <th>v6</th>\n",
       "      <th>v7</th>\n",
       "      <th>v8</th>\n",
       "      <th>...</th>\n",
       "      <th>v90</th>\n",
       "      <th>v91</th>\n",
       "      <th>v92</th>\n",
       "      <th>v93</th>\n",
       "      <th>v94</th>\n",
       "      <th>v95</th>\n",
       "      <th>v96</th>\n",
       "      <th>v97</th>\n",
       "      <th>v98</th>\n",
       "      <th>v99</th>\n",
       "    </tr>\n",
       "  </thead>\n",
       "  <tbody>\n",
       "    <tr>\n",
       "      <th>0</th>\n",
       "      <td>NaN</td>\n",
       "      <td>-0.002684</td>\n",
       "      <td>-0.001899</td>\n",
       "      <td>-0.000798</td>\n",
       "      <td>-0.001893</td>\n",
       "      <td>0.003133</td>\n",
       "      <td>0.002236</td>\n",
       "      <td>-0.001299</td>\n",
       "      <td>-0.003281</td>\n",
       "      <td>-0.004414</td>\n",
       "      <td>...</td>\n",
       "      <td>-0.002605</td>\n",
       "      <td>-0.004927</td>\n",
       "      <td>0.001684</td>\n",
       "      <td>0.004702</td>\n",
       "      <td>-0.00416</td>\n",
       "      <td>0.003781</td>\n",
       "      <td>-0.003558</td>\n",
       "      <td>0.003921</td>\n",
       "      <td>0.000945</td>\n",
       "      <td>-0.002725</td>\n",
       "    </tr>\n",
       "  </tbody>\n",
       "</table>\n",
       "<p>1 rows × 101 columns</p>\n",
       "</div>"
      ],
      "text/plain": [
       "  keyword        v0        v1        v2        v3        v4        v5  \\\n",
       "0     NaN -0.002684 -0.001899 -0.000798 -0.001893  0.003133  0.002236   \n",
       "\n",
       "         v6        v7        v8  ...       v90       v91       v92       v93  \\\n",
       "0 -0.001299 -0.003281 -0.004414  ... -0.002605 -0.004927  0.001684  0.004702   \n",
       "\n",
       "       v94       v95       v96       v97       v98       v99  \n",
       "0 -0.00416  0.003781 -0.003558  0.003921  0.000945 -0.002725  \n",
       "\n",
       "[1 rows x 101 columns]"
      ]
     },
     "execution_count": 132,
     "metadata": {},
     "output_type": "execute_result"
    }
   ],
   "source": [
    "keyword_w2v.head(1)"
   ]
  },
  {
   "cell_type": "code",
   "execution_count": 133,
   "metadata": {},
   "outputs": [
    {
     "data": {
      "text/html": [
       "<div>\n",
       "<style scoped>\n",
       "    .dataframe tbody tr th:only-of-type {\n",
       "        vertical-align: middle;\n",
       "    }\n",
       "\n",
       "    .dataframe tbody tr th {\n",
       "        vertical-align: top;\n",
       "    }\n",
       "\n",
       "    .dataframe thead th {\n",
       "        text-align: right;\n",
       "    }\n",
       "</style>\n",
       "<table border=\"1\" class=\"dataframe\">\n",
       "  <thead>\n",
       "    <tr style=\"text-align: right;\">\n",
       "      <th></th>\n",
       "      <th>id</th>\n",
       "      <th>length</th>\n",
       "      <th>avg_word_length</th>\n",
       "      <th>amount_of_words</th>\n",
       "      <th>amount_of_unique_words</th>\n",
       "      <th>sentiment</th>\n",
       "      <th>stopwords_count</th>\n",
       "      <th>punctuation_count</th>\n",
       "      <th>mentions_count</th>\n",
       "      <th>hashtags_count</th>\n",
       "      <th>longest_word_length_without_stopwords</th>\n",
       "      <th>stopword_word_ratio</th>\n",
       "      <th>adjectives_count</th>\n",
       "      <th>nouns_count</th>\n",
       "      <th>verbs_count</th>\n",
       "      <th>adverbs_count</th>\n",
       "    </tr>\n",
       "  </thead>\n",
       "  <tbody>\n",
       "    <tr>\n",
       "      <th>0</th>\n",
       "      <td>1</td>\n",
       "      <td>69</td>\n",
       "      <td>4.384615</td>\n",
       "      <td>13</td>\n",
       "      <td>13</td>\n",
       "      <td>0.2732</td>\n",
       "      <td>6</td>\n",
       "      <td>1</td>\n",
       "      <td>0</td>\n",
       "      <td>1</td>\n",
       "      <td>7</td>\n",
       "      <td>0.461538</td>\n",
       "      <td>0</td>\n",
       "      <td>6</td>\n",
       "      <td>1</td>\n",
       "      <td>0</td>\n",
       "    </tr>\n",
       "  </tbody>\n",
       "</table>\n",
       "</div>"
      ],
      "text/plain": [
       "   id  length  avg_word_length  amount_of_words  amount_of_unique_words  \\\n",
       "0   1      69         4.384615               13                      13   \n",
       "\n",
       "   sentiment  stopwords_count  punctuation_count  mentions_count  \\\n",
       "0     0.2732                6                  1               0   \n",
       "\n",
       "   hashtags_count  longest_word_length_without_stopwords  stopword_word_ratio  \\\n",
       "0               1                                      7             0.461538   \n",
       "\n",
       "   adjectives_count  nouns_count  verbs_count  adverbs_count  \n",
       "0                 0            6            1              0  "
      ]
     },
     "execution_count": 133,
     "metadata": {},
     "output_type": "execute_result"
    }
   ],
   "source": [
    "tweets_features.head(1)"
   ]
  },
  {
   "cell_type": "code",
   "execution_count": 134,
   "metadata": {},
   "outputs": [],
   "source": [
    "merged = tweets.merge(tweets_features, left_on='id', right_on='id')"
   ]
  },
  {
   "cell_type": "code",
   "execution_count": 135,
   "metadata": {},
   "outputs": [],
   "source": [
    "total_features = merged.merge(keyword_w2v, left_on='keyword', right_on='keyword')"
   ]
  },
  {
   "cell_type": "code",
   "execution_count": 136,
   "metadata": {},
   "outputs": [
    {
     "data": {
      "text/html": [
       "<div>\n",
       "<style scoped>\n",
       "    .dataframe tbody tr th:only-of-type {\n",
       "        vertical-align: middle;\n",
       "    }\n",
       "\n",
       "    .dataframe tbody tr th {\n",
       "        vertical-align: top;\n",
       "    }\n",
       "\n",
       "    .dataframe thead th {\n",
       "        text-align: right;\n",
       "    }\n",
       "</style>\n",
       "<table border=\"1\" class=\"dataframe\">\n",
       "  <thead>\n",
       "    <tr style=\"text-align: right;\">\n",
       "      <th></th>\n",
       "      <th>id</th>\n",
       "      <th>keyword</th>\n",
       "      <th>location</th>\n",
       "      <th>text</th>\n",
       "      <th>target</th>\n",
       "      <th>length</th>\n",
       "      <th>avg_word_length</th>\n",
       "      <th>amount_of_words</th>\n",
       "      <th>amount_of_unique_words</th>\n",
       "      <th>sentiment</th>\n",
       "      <th>...</th>\n",
       "      <th>v90</th>\n",
       "      <th>v91</th>\n",
       "      <th>v92</th>\n",
       "      <th>v93</th>\n",
       "      <th>v94</th>\n",
       "      <th>v95</th>\n",
       "      <th>v96</th>\n",
       "      <th>v97</th>\n",
       "      <th>v98</th>\n",
       "      <th>v99</th>\n",
       "    </tr>\n",
       "  </thead>\n",
       "  <tbody>\n",
       "    <tr>\n",
       "      <th>0</th>\n",
       "      <td>48</td>\n",
       "      <td>ablaze</td>\n",
       "      <td>Birmingham</td>\n",
       "      <td>bbcmtd wholesal market ablaz http co</td>\n",
       "      <td>1</td>\n",
       "      <td>55</td>\n",
       "      <td>10.200000</td>\n",
       "      <td>5</td>\n",
       "      <td>5</td>\n",
       "      <td>0.0000</td>\n",
       "      <td>...</td>\n",
       "      <td>0.002117</td>\n",
       "      <td>0.003154</td>\n",
       "      <td>0.00422</td>\n",
       "      <td>0.004947</td>\n",
       "      <td>-0.000484</td>\n",
       "      <td>0.003842</td>\n",
       "      <td>0.003322</td>\n",
       "      <td>0.002055</td>\n",
       "      <td>0.003155</td>\n",
       "      <td>0.002922</td>\n",
       "    </tr>\n",
       "    <tr>\n",
       "      <th>1</th>\n",
       "      <td>49</td>\n",
       "      <td>ablaze</td>\n",
       "      <td>Est. September 2012 - Bristol</td>\n",
       "      <td>alway tri bring heavi metal rt http co</td>\n",
       "      <td>0</td>\n",
       "      <td>67</td>\n",
       "      <td>5.800000</td>\n",
       "      <td>10</td>\n",
       "      <td>10</td>\n",
       "      <td>0.0000</td>\n",
       "      <td>...</td>\n",
       "      <td>0.002117</td>\n",
       "      <td>0.003154</td>\n",
       "      <td>0.00422</td>\n",
       "      <td>0.004947</td>\n",
       "      <td>-0.000484</td>\n",
       "      <td>0.003842</td>\n",
       "      <td>0.003322</td>\n",
       "      <td>0.002055</td>\n",
       "      <td>0.003155</td>\n",
       "      <td>0.002922</td>\n",
       "    </tr>\n",
       "    <tr>\n",
       "      <th>2</th>\n",
       "      <td>50</td>\n",
       "      <td>ablaze</td>\n",
       "      <td>AFRICA</td>\n",
       "      <td>africanbaz break news nigeria flag set ablaz a...</td>\n",
       "      <td>1</td>\n",
       "      <td>82</td>\n",
       "      <td>8.222222</td>\n",
       "      <td>9</td>\n",
       "      <td>9</td>\n",
       "      <td>0.0000</td>\n",
       "      <td>...</td>\n",
       "      <td>0.002117</td>\n",
       "      <td>0.003154</td>\n",
       "      <td>0.00422</td>\n",
       "      <td>0.004947</td>\n",
       "      <td>-0.000484</td>\n",
       "      <td>0.003842</td>\n",
       "      <td>0.003322</td>\n",
       "      <td>0.002055</td>\n",
       "      <td>0.003155</td>\n",
       "      <td>0.002922</td>\n",
       "    </tr>\n",
       "    <tr>\n",
       "      <th>3</th>\n",
       "      <td>52</td>\n",
       "      <td>ablaze</td>\n",
       "      <td>Philadelphia, PA</td>\n",
       "      <td>cri set ablaz</td>\n",
       "      <td>0</td>\n",
       "      <td>34</td>\n",
       "      <td>4.000000</td>\n",
       "      <td>7</td>\n",
       "      <td>7</td>\n",
       "      <td>-0.5255</td>\n",
       "      <td>...</td>\n",
       "      <td>0.002117</td>\n",
       "      <td>0.003154</td>\n",
       "      <td>0.00422</td>\n",
       "      <td>0.004947</td>\n",
       "      <td>-0.000484</td>\n",
       "      <td>0.003842</td>\n",
       "      <td>0.003322</td>\n",
       "      <td>0.002055</td>\n",
       "      <td>0.003155</td>\n",
       "      <td>0.002922</td>\n",
       "    </tr>\n",
       "    <tr>\n",
       "      <th>4</th>\n",
       "      <td>53</td>\n",
       "      <td>ablaze</td>\n",
       "      <td>London, UK</td>\n",
       "      <td>plus side look sky last night ablaz http co</td>\n",
       "      <td>0</td>\n",
       "      <td>76</td>\n",
       "      <td>4.923077</td>\n",
       "      <td>13</td>\n",
       "      <td>13</td>\n",
       "      <td>0.0000</td>\n",
       "      <td>...</td>\n",
       "      <td>0.002117</td>\n",
       "      <td>0.003154</td>\n",
       "      <td>0.00422</td>\n",
       "      <td>0.004947</td>\n",
       "      <td>-0.000484</td>\n",
       "      <td>0.003842</td>\n",
       "      <td>0.003322</td>\n",
       "      <td>0.002055</td>\n",
       "      <td>0.003155</td>\n",
       "      <td>0.002922</td>\n",
       "    </tr>\n",
       "  </tbody>\n",
       "</table>\n",
       "<p>5 rows × 120 columns</p>\n",
       "</div>"
      ],
      "text/plain": [
       "   id keyword                       location  \\\n",
       "0  48  ablaze                     Birmingham   \n",
       "1  49  ablaze  Est. September 2012 - Bristol   \n",
       "2  50  ablaze                         AFRICA   \n",
       "3  52  ablaze               Philadelphia, PA   \n",
       "4  53  ablaze                     London, UK   \n",
       "\n",
       "                                                text  target  length  \\\n",
       "0               bbcmtd wholesal market ablaz http co       1      55   \n",
       "1             alway tri bring heavi metal rt http co       0      67   \n",
       "2  africanbaz break news nigeria flag set ablaz a...       1      82   \n",
       "3                                      cri set ablaz       0      34   \n",
       "4        plus side look sky last night ablaz http co       0      76   \n",
       "\n",
       "   avg_word_length  amount_of_words  amount_of_unique_words  sentiment  ...  \\\n",
       "0        10.200000                5                       5     0.0000  ...   \n",
       "1         5.800000               10                      10     0.0000  ...   \n",
       "2         8.222222                9                       9     0.0000  ...   \n",
       "3         4.000000                7                       7    -0.5255  ...   \n",
       "4         4.923077               13                      13     0.0000  ...   \n",
       "\n",
       "        v90       v91      v92       v93       v94       v95       v96  \\\n",
       "0  0.002117  0.003154  0.00422  0.004947 -0.000484  0.003842  0.003322   \n",
       "1  0.002117  0.003154  0.00422  0.004947 -0.000484  0.003842  0.003322   \n",
       "2  0.002117  0.003154  0.00422  0.004947 -0.000484  0.003842  0.003322   \n",
       "3  0.002117  0.003154  0.00422  0.004947 -0.000484  0.003842  0.003322   \n",
       "4  0.002117  0.003154  0.00422  0.004947 -0.000484  0.003842  0.003322   \n",
       "\n",
       "        v97       v98       v99  \n",
       "0  0.002055  0.003155  0.002922  \n",
       "1  0.002055  0.003155  0.002922  \n",
       "2  0.002055  0.003155  0.002922  \n",
       "3  0.002055  0.003155  0.002922  \n",
       "4  0.002055  0.003155  0.002922  \n",
       "\n",
       "[5 rows x 120 columns]"
      ]
     },
     "execution_count": 136,
     "metadata": {},
     "output_type": "execute_result"
    }
   ],
   "source": [
    "total_features.head()"
   ]
  },
  {
   "cell_type": "code",
   "execution_count": 137,
   "metadata": {},
   "outputs": [],
   "source": [
    "features = total_features.columns\n",
    "features = features.drop('target')"
   ]
  },
  {
   "cell_type": "markdown",
   "metadata": {},
   "source": [
    "#### Features with tweet vectorizer"
   ]
  },
  {
   "cell_type": "code",
   "execution_count": 138,
   "metadata": {},
   "outputs": [],
   "source": [
    "x_train, x_test, y_train, y_test = \\\n",
    "train_test_split(total_features[features], total_features['target'], test_size = 0.25, random_state = 123)\n",
    "\n",
    "from sklearn.feature_extraction.text import TfidfVectorizer, CountVectorizer\n",
    "tfidf_vectorizer = CountVectorizer(ngram_range=(1,2), lowercase=True, stop_words='english', max_features=11000)\n",
    "train_vectors = tfidf_vectorizer.fit_transform(x_train['text'])\n",
    "test_vectors = tfidf_vectorizer.transform(x_test['text'])"
   ]
  },
  {
   "cell_type": "code",
   "execution_count": 139,
   "metadata": {},
   "outputs": [],
   "source": [
    "train_array = train_vectors.todense()\n",
    "train_matrix = pd.DataFrame(train_array)\n",
    "x_train.reset_index(inplace=True, drop=True)\n",
    "train_matrix['id'] = x_train['id']\n",
    "X_train = x_train.merge(train_matrix).drop(columns=['keyword', 'location', 'text', 'id'])"
   ]
  },
  {
   "cell_type": "code",
   "execution_count": 140,
   "metadata": {},
   "outputs": [],
   "source": [
    "test_array = test_vectors.todense()\n",
    "test_matrix = pd.DataFrame(test_array)\n",
    "x_test.reset_index(inplace=True, drop=True)\n",
    "test_matrix['id'] = x_test['id']\n",
    "X_test = x_test.merge(test_matrix).drop(columns=['keyword', 'location', 'text', 'id'])"
   ]
  },
  {
   "cell_type": "code",
   "execution_count": 141,
   "metadata": {},
   "outputs": [],
   "source": [
    "import lightgbm as lgb\n",
    "d_train = lgb.Dataset(X_train, y_train)\n",
    "\n",
    "params : {\n",
    "    'learning_rate' : 0.02,\n",
    "    'boosting_type' : 'gbdt',\n",
    "    'objective' : 'binary',\n",
    "    'metric' : 'binary_logloss',\n",
    "    'num_leaves' : 500,\n",
    "    'max_depth' : 2,\n",
    "    'max_bin': 1000\n",
    "}\n",
    "\n",
    "gbm = lgb.train(params, d_train, 10000)"
   ]
  },
  {
   "cell_type": "code",
   "execution_count": 142,
   "metadata": {},
   "outputs": [
    {
     "name": "stdout",
     "output_type": "stream",
     "text": [
      "0.7766937669376693\n"
     ]
    }
   ],
   "source": [
    "y_pred = gbm.predict(X_test)\n",
    "\n",
    "for i in range (0, len(y_pred)):\n",
    "    if y_pred[i] > 0.5:       \n",
    "        y_pred[i] = 1\n",
    "    else:  \n",
    "        y_pred[i] = 0\n",
    "\n",
    "from sklearn.metrics import accuracy_score\n",
    "accuracy = accuracy_score(y_pred, y_test)\n",
    "print(accuracy)"
   ]
  },
  {
   "cell_type": "code",
   "execution_count": 143,
   "metadata": {},
   "outputs": [
    {
     "name": "stdout",
     "output_type": "stream",
     "text": [
      "              precision    recall  f1-score   support\n",
      "\n",
      "           0       0.79      0.83      0.81      1070\n",
      "           1       0.75      0.70      0.72       775\n",
      "\n",
      "    accuracy                           0.78      1845\n",
      "   macro avg       0.77      0.77      0.77      1845\n",
      "weighted avg       0.78      0.78      0.78      1845\n",
      "\n"
     ]
    }
   ],
   "source": [
    "print(classification_report(y_test, y_pred))"
   ]
  },
  {
   "cell_type": "code",
   "execution_count": 152,
   "metadata": {},
   "outputs": [],
   "source": [
    "def algorithm_pipeline(X_train_data, X_test_data, y_train_data, y_test_data, \n",
    "                       model, param_grid, cv=10, scoring_fit='neg_mean_squared_error',\n",
    "                       do_probabilities = False):\n",
    "    gs = GridSearchCV(\n",
    "        estimator=model,\n",
    "        param_grid=param_grid, \n",
    "        cv=cv, \n",
    "        n_jobs=-1, \n",
    "        scoring=scoring_fit,\n",
    "        verbose=2\n",
    "    )\n",
    "    fitted_model = gs.fit(X_train_data, y_train_data)\n",
    "    \n",
    "    if do_probabilities:\n",
    "      pred = fitted_model.predict_proba(X_test_data)\n",
    "    else:\n",
    "      pred = fitted_model.predict(X_test_data)\n",
    "    \n",
    "    return fitted_model, pred"
   ]
  },
  {
   "cell_type": "code",
   "execution_count": 153,
   "metadata": {},
   "outputs": [
    {
     "name": "stdout",
     "output_type": "stream",
     "text": [
      "Fitting 5 folds for each of 2916 candidates, totalling 14580 fits\n"
     ]
    },
    {
     "name": "stderr",
     "output_type": "stream",
     "text": [
      "[Parallel(n_jobs=-1)]: Using backend LokyBackend with 8 concurrent workers.\n",
      "[Parallel(n_jobs=-1)]: Done  25 tasks      | elapsed:  1.3min\n",
      "[Parallel(n_jobs=-1)]: Done 146 tasks      | elapsed:  5.5min\n",
      "[Parallel(n_jobs=-1)]: Done 349 tasks      | elapsed: 12.4min\n",
      "[Parallel(n_jobs=-1)]: Done 632 tasks      | elapsed: 21.1min\n",
      "[Parallel(n_jobs=-1)]: Done 997 tasks      | elapsed: 34.3min\n",
      "[Parallel(n_jobs=-1)]: Done 1442 tasks      | elapsed: 50.9min\n",
      "[Parallel(n_jobs=-1)]: Done 1969 tasks      | elapsed: 67.3min\n",
      "[Parallel(n_jobs=-1)]: Done 2576 tasks      | elapsed: 89.1min\n",
      "[Parallel(n_jobs=-1)]: Done 3265 tasks      | elapsed: 112.6min\n",
      "[Parallel(n_jobs=-1)]: Done 4034 tasks      | elapsed: 137.6min\n",
      "[Parallel(n_jobs=-1)]: Done 4885 tasks      | elapsed: 166.0min\n",
      "[Parallel(n_jobs=-1)]: Done 5816 tasks      | elapsed: 198.6min\n",
      "[Parallel(n_jobs=-1)]: Done 6829 tasks      | elapsed: 270.3min\n",
      "[Parallel(n_jobs=-1)]: Done 7922 tasks      | elapsed: 822.1min\n",
      "[Parallel(n_jobs=-1)]: Done 9097 tasks      | elapsed: 858.2min\n",
      "[Parallel(n_jobs=-1)]: Done 10352 tasks      | elapsed: 895.6min\n",
      "[Parallel(n_jobs=-1)]: Done 11689 tasks      | elapsed: 1061.2min\n",
      "[Parallel(n_jobs=-1)]: Done 13106 tasks      | elapsed: 1103.0min\n",
      "[Parallel(n_jobs=-1)]: Done 14580 out of 14580 | elapsed: 1144.5min finished\n"
     ]
    },
    {
     "name": "stdout",
     "output_type": "stream",
     "text": [
      "0.7782410470277096\n",
      "{'colsample_bytree': 0.7, 'max_depth': 15, 'min_split_gain': 0.3, 'n_estimators': 400, 'num_leaves': 50, 'reg_alpha': 1.3, 'reg_lambda': 1.3, 'subsample': 0.8, 'subsample_freq': 20}\n"
     ]
    }
   ],
   "source": [
    "model = lgb.LGBMClassifier()\n",
    "\n",
    "param_grid = {\n",
    "    'n_estimators': [400, 700, 1000],\n",
    "    'colsample_bytree': [0.7, 0.8],\n",
    "    'max_depth': [15,20,25],\n",
    "    'num_leaves': [50, 100, 200],\n",
    "    'reg_alpha': [1.1, 1.2, 1.3],\n",
    "    'reg_lambda': [1.1, 1.2, 1.3],\n",
    "    'min_split_gain': [0.3, 0.4],\n",
    "    'subsample': [0.7, 0.8, 0.9],\n",
    "    'subsample_freq': [20]\n",
    "}\n",
    "\n",
    "model, pred = algorithm_pipeline(X_train, X_test, y_train, y_test, model, \n",
    "                                 param_grid, cv=5, scoring_fit='accuracy')\n",
    "\n",
    "print(model.best_score_)\n",
    "print(model.best_params_)"
   ]
  },
  {
   "cell_type": "markdown",
   "metadata": {},
   "source": [
    "-------"
   ]
  },
  {
   "cell_type": "markdown",
   "metadata": {},
   "source": [
    "#### Character process"
   ]
  },
  {
   "cell_type": "code",
   "execution_count": 2,
   "metadata": {},
   "outputs": [],
   "source": [
    "from keras.preprocessing.text import Tokenizer\n",
    "from keras.preprocessing.sequence import pad_sequences"
   ]
  },
  {
   "cell_type": "code",
   "execution_count": 3,
   "metadata": {},
   "outputs": [],
   "source": [
    "text = pd.read_csv(\"train.csv\", usecols=['text', 'target'])\n",
    "test_text = pd.read_csv(\"test.csv\", usecols=['text'])"
   ]
  },
  {
   "cell_type": "code",
   "execution_count": 4,
   "metadata": {},
   "outputs": [
    {
     "name": "stdout",
     "output_type": "stream",
     "text": [
      "<class 'pandas.core.frame.DataFrame'>\n",
      "Int64Index: 7434 entries, 0 to 7612\n",
      "Data columns (total 2 columns):\n",
      " #   Column  Non-Null Count  Dtype \n",
      "---  ------  --------------  ----- \n",
      " 0   text    7434 non-null   object\n",
      " 1   target  7434 non-null   int64 \n",
      "dtypes: int64(1), object(1)\n",
      "memory usage: 174.2+ KB\n"
     ]
    }
   ],
   "source": [
    "text.drop_duplicates(subset = 'text', keep = False, inplace = True)\n",
    "text.info()"
   ]
  },
  {
   "cell_type": "code",
   "execution_count": 5,
   "metadata": {},
   "outputs": [],
   "source": [
    "text['text'] = text['text'].apply(lambda x: x.lower())\n",
    "test_text['text'] = test_text['text'].apply(lambda x: x.lower())"
   ]
  },
  {
   "cell_type": "code",
   "execution_count": 6,
   "metadata": {},
   "outputs": [
    {
     "data": {
      "text/html": [
       "<div>\n",
       "<style scoped>\n",
       "    .dataframe tbody tr th:only-of-type {\n",
       "        vertical-align: middle;\n",
       "    }\n",
       "\n",
       "    .dataframe tbody tr th {\n",
       "        vertical-align: top;\n",
       "    }\n",
       "\n",
       "    .dataframe thead th {\n",
       "        text-align: right;\n",
       "    }\n",
       "</style>\n",
       "<table border=\"1\" class=\"dataframe\">\n",
       "  <thead>\n",
       "    <tr style=\"text-align: right;\">\n",
       "      <th></th>\n",
       "      <th>text</th>\n",
       "      <th>target</th>\n",
       "    </tr>\n",
       "  </thead>\n",
       "  <tbody>\n",
       "    <tr>\n",
       "      <th>0</th>\n",
       "      <td>our deeds are the reason of this #earthquake m...</td>\n",
       "      <td>1</td>\n",
       "    </tr>\n",
       "    <tr>\n",
       "      <th>1</th>\n",
       "      <td>forest fire near la ronge sask. canada</td>\n",
       "      <td>1</td>\n",
       "    </tr>\n",
       "    <tr>\n",
       "      <th>2</th>\n",
       "      <td>all residents asked to 'shelter in place' are ...</td>\n",
       "      <td>1</td>\n",
       "    </tr>\n",
       "    <tr>\n",
       "      <th>3</th>\n",
       "      <td>13,000 people receive #wildfires evacuation or...</td>\n",
       "      <td>1</td>\n",
       "    </tr>\n",
       "    <tr>\n",
       "      <th>4</th>\n",
       "      <td>just got sent this photo from ruby #alaska as ...</td>\n",
       "      <td>1</td>\n",
       "    </tr>\n",
       "  </tbody>\n",
       "</table>\n",
       "</div>"
      ],
      "text/plain": [
       "                                                text  target\n",
       "0  our deeds are the reason of this #earthquake m...       1\n",
       "1             forest fire near la ronge sask. canada       1\n",
       "2  all residents asked to 'shelter in place' are ...       1\n",
       "3  13,000 people receive #wildfires evacuation or...       1\n",
       "4  just got sent this photo from ruby #alaska as ...       1"
      ]
     },
     "execution_count": 6,
     "metadata": {},
     "output_type": "execute_result"
    }
   ],
   "source": [
    "text.head()"
   ]
  },
  {
   "cell_type": "code",
   "execution_count": 7,
   "metadata": {},
   "outputs": [
    {
     "data": {
      "text/html": [
       "<div>\n",
       "<style scoped>\n",
       "    .dataframe tbody tr th:only-of-type {\n",
       "        vertical-align: middle;\n",
       "    }\n",
       "\n",
       "    .dataframe tbody tr th {\n",
       "        vertical-align: top;\n",
       "    }\n",
       "\n",
       "    .dataframe thead th {\n",
       "        text-align: right;\n",
       "    }\n",
       "</style>\n",
       "<table border=\"1\" class=\"dataframe\">\n",
       "  <thead>\n",
       "    <tr style=\"text-align: right;\">\n",
       "      <th></th>\n",
       "      <th>text</th>\n",
       "    </tr>\n",
       "  </thead>\n",
       "  <tbody>\n",
       "    <tr>\n",
       "      <th>0</th>\n",
       "      <td>just happened a terrible car crash</td>\n",
       "    </tr>\n",
       "    <tr>\n",
       "      <th>1</th>\n",
       "      <td>heard about #earthquake is different cities, s...</td>\n",
       "    </tr>\n",
       "    <tr>\n",
       "      <th>2</th>\n",
       "      <td>there is a forest fire at spot pond, geese are...</td>\n",
       "    </tr>\n",
       "    <tr>\n",
       "      <th>3</th>\n",
       "      <td>apocalypse lighting. #spokane #wildfires</td>\n",
       "    </tr>\n",
       "    <tr>\n",
       "      <th>4</th>\n",
       "      <td>typhoon soudelor kills 28 in china and taiwan</td>\n",
       "    </tr>\n",
       "  </tbody>\n",
       "</table>\n",
       "</div>"
      ],
      "text/plain": [
       "                                                text\n",
       "0                 just happened a terrible car crash\n",
       "1  heard about #earthquake is different cities, s...\n",
       "2  there is a forest fire at spot pond, geese are...\n",
       "3           apocalypse lighting. #spokane #wildfires\n",
       "4      typhoon soudelor kills 28 in china and taiwan"
      ]
     },
     "execution_count": 7,
     "metadata": {},
     "output_type": "execute_result"
    }
   ],
   "source": [
    "test_text.head()"
   ]
  },
  {
   "cell_type": "code",
   "execution_count": 8,
   "metadata": {},
   "outputs": [],
   "source": [
    "tk = Tokenizer(num_words=None, char_level=True, oov_token='UNK')\n",
    "tk.fit_on_texts(text['text'])"
   ]
  },
  {
   "cell_type": "code",
   "execution_count": 9,
   "metadata": {
    "scrolled": true
   },
   "outputs": [
    {
     "data": {
      "text/plain": [
       "{'UNK': 1,\n",
       " ' ': 2,\n",
       " 'e': 3,\n",
       " 't': 4,\n",
       " 'a': 5,\n",
       " 'o': 6,\n",
       " 'i': 7,\n",
       " 'n': 8,\n",
       " 's': 9,\n",
       " 'r': 10,\n",
       " 'h': 11,\n",
       " 'l': 12,\n",
       " 'c': 13,\n",
       " 'd': 14,\n",
       " 'u': 15,\n",
       " 'p': 16,\n",
       " 'm': 17,\n",
       " '/': 18,\n",
       " 'g': 19,\n",
       " 'f': 20,\n",
       " 'y': 21,\n",
       " 'w': 22,\n",
       " '.': 23,\n",
       " 'b': 24,\n",
       " 'k': 25,\n",
       " 'v': 26,\n",
       " ':': 27,\n",
       " '#': 28,\n",
       " 'j': 29,\n",
       " \"'\": 30,\n",
       " '?': 31,\n",
       " 'x': 32,\n",
       " '@': 33,\n",
       " 'z': 34,\n",
       " '0': 35,\n",
       " '1': 36,\n",
       " 'q': 37,\n",
       " '-': 38,\n",
       " '2': 39,\n",
       " '5': 40,\n",
       " '3': 41,\n",
       " '4': 42,\n",
       " '7': 43,\n",
       " '9': 44,\n",
       " '6': 45,\n",
       " '!': 46,\n",
       " '8': 47,\n",
       " '\\n': 48,\n",
       " '_': 49,\n",
       " '\\x89': 50,\n",
       " 'û': 51,\n",
       " ';': 52,\n",
       " '&': 53,\n",
       " ')': 54,\n",
       " '(': 55,\n",
       " '*': 56,\n",
       " 'ª': 57,\n",
       " '|': 58,\n",
       " '[': 59,\n",
       " ']': 60,\n",
       " 'å': 61,\n",
       " '+': 62,\n",
       " 'ï': 63,\n",
       " 'ê': 64,\n",
       " '=': 65,\n",
       " '÷': 66,\n",
       " '%': 67,\n",
       " 'ò': 68,\n",
       " '$': 69,\n",
       " '\\x9d': 70,\n",
       " '~': 71,\n",
       " 'ó': 72,\n",
       " 'ì': 73,\n",
       " '©': 74,\n",
       " '¢': 75,\n",
       " '£': 76,\n",
       " '^': 77,\n",
       " '¨': 78,\n",
       " 'è': 79,\n",
       " '\\\\': 80,\n",
       " '¼': 81,\n",
       " '}': 82,\n",
       " 'ñ': 83,\n",
       " '¤': 84,\n",
       " '¡': 85,\n",
       " '`': 86,\n",
       " '{': 87,\n",
       " ',': 88,\n",
       " 'ã': 89,\n",
       " 'ü': 90,\n",
       " 'ç': 91,\n",
       " 'â': 92,\n",
       " '«': 93,\n",
       " '>': 94,\n",
       " '´': 95,\n",
       " '¬': 96}"
      ]
     },
     "execution_count": 9,
     "metadata": {},
     "output_type": "execute_result"
    }
   ],
   "source": [
    "# Caracteres muy horrendos\n",
    "tk.word_index"
   ]
  },
  {
   "cell_type": "code",
   "execution_count": 10,
   "metadata": {},
   "outputs": [],
   "source": [
    "alphabet=\"abcdefghijklmnopqrstuvwxyz0123456789,;.!?:'\\\"/\\\\|_@#$%^&*~`+-=<>()[]{}\"\n",
    "char_dict = {}\n",
    "for i, char in enumerate(alphabet):\n",
    "    char_dict[char] = i + 1\n",
    "    \n",
    "tk.word_index = char_dict.copy() \n",
    "tk.word_index[tk.oov_token] = max(char_dict.values()) + 1 #UNK es el valor mas alto"
   ]
  },
  {
   "cell_type": "code",
   "execution_count": 11,
   "metadata": {
    "scrolled": true
   },
   "outputs": [
    {
     "data": {
      "text/plain": [
       "{'a': 1,\n",
       " 'b': 2,\n",
       " 'c': 3,\n",
       " 'd': 4,\n",
       " 'e': 5,\n",
       " 'f': 6,\n",
       " 'g': 7,\n",
       " 'h': 8,\n",
       " 'i': 9,\n",
       " 'j': 10,\n",
       " 'k': 11,\n",
       " 'l': 12,\n",
       " 'm': 13,\n",
       " 'n': 14,\n",
       " 'o': 15,\n",
       " 'p': 16,\n",
       " 'q': 17,\n",
       " 'r': 18,\n",
       " 's': 19,\n",
       " 't': 20,\n",
       " 'u': 21,\n",
       " 'v': 22,\n",
       " 'w': 23,\n",
       " 'x': 24,\n",
       " 'y': 25,\n",
       " 'z': 26,\n",
       " '0': 27,\n",
       " '1': 28,\n",
       " '2': 29,\n",
       " '3': 30,\n",
       " '4': 31,\n",
       " '5': 32,\n",
       " '6': 33,\n",
       " '7': 34,\n",
       " '8': 35,\n",
       " '9': 36,\n",
       " ',': 37,\n",
       " ';': 38,\n",
       " '.': 39,\n",
       " '!': 40,\n",
       " '?': 41,\n",
       " ':': 42,\n",
       " \"'\": 43,\n",
       " '\"': 44,\n",
       " '/': 45,\n",
       " '\\\\': 46,\n",
       " '|': 47,\n",
       " '_': 48,\n",
       " '@': 49,\n",
       " '#': 50,\n",
       " '$': 51,\n",
       " '%': 52,\n",
       " '^': 53,\n",
       " '&': 54,\n",
       " '*': 55,\n",
       " '~': 56,\n",
       " '`': 57,\n",
       " '+': 58,\n",
       " '-': 59,\n",
       " '=': 60,\n",
       " '<': 61,\n",
       " '>': 62,\n",
       " '(': 63,\n",
       " ')': 64,\n",
       " '[': 65,\n",
       " ']': 66,\n",
       " '{': 67,\n",
       " '}': 68,\n",
       " 'UNK': 69}"
      ]
     },
     "execution_count": 11,
     "metadata": {},
     "output_type": "execute_result"
    }
   ],
   "source": [
    "tk.word_index"
   ]
  },
  {
   "cell_type": "code",
   "execution_count": 12,
   "metadata": {},
   "outputs": [],
   "source": [
    "# Ahora el texto se representa con una secuencia de caracteres\n",
    "sequences = tk.texts_to_sequences(text['text'])\n",
    "test_sequences = tk.texts_to_sequences(test_text['text'])"
   ]
  },
  {
   "cell_type": "code",
   "execution_count": 13,
   "metadata": {
    "scrolled": true
   },
   "outputs": [
    {
     "data": {
      "text/plain": [
       "[15,\n",
       " 21,\n",
       " 18,\n",
       " 69,\n",
       " 4,\n",
       " 5,\n",
       " 5,\n",
       " 4,\n",
       " 19,\n",
       " 69,\n",
       " 1,\n",
       " 18,\n",
       " 5,\n",
       " 69,\n",
       " 20,\n",
       " 8,\n",
       " 5,\n",
       " 69,\n",
       " 18,\n",
       " 5,\n",
       " 1,\n",
       " 19,\n",
       " 15,\n",
       " 14,\n",
       " 69,\n",
       " 15,\n",
       " 6,\n",
       " 69,\n",
       " 20,\n",
       " 8,\n",
       " 9,\n",
       " 19,\n",
       " 69,\n",
       " 50,\n",
       " 5,\n",
       " 1,\n",
       " 18,\n",
       " 20,\n",
       " 8,\n",
       " 17,\n",
       " 21,\n",
       " 1,\n",
       " 11,\n",
       " 5,\n",
       " 69,\n",
       " 13,\n",
       " 1,\n",
       " 25,\n",
       " 69,\n",
       " 1,\n",
       " 12,\n",
       " 12,\n",
       " 1,\n",
       " 8,\n",
       " 69,\n",
       " 6,\n",
       " 15,\n",
       " 18,\n",
       " 7,\n",
       " 9,\n",
       " 22,\n",
       " 5,\n",
       " 69,\n",
       " 21,\n",
       " 19,\n",
       " 69,\n",
       " 1,\n",
       " 12,\n",
       " 12]"
      ]
     },
     "execution_count": 13,
     "metadata": {},
     "output_type": "execute_result"
    }
   ],
   "source": [
    "sequences[0]"
   ]
  },
  {
   "cell_type": "code",
   "execution_count": 14,
   "metadata": {
    "scrolled": true
   },
   "outputs": [
    {
     "data": {
      "text/plain": [
       "[10,\n",
       " 21,\n",
       " 19,\n",
       " 20,\n",
       " 69,\n",
       " 8,\n",
       " 1,\n",
       " 16,\n",
       " 16,\n",
       " 5,\n",
       " 14,\n",
       " 5,\n",
       " 4,\n",
       " 69,\n",
       " 1,\n",
       " 69,\n",
       " 20,\n",
       " 5,\n",
       " 18,\n",
       " 18,\n",
       " 9,\n",
       " 2,\n",
       " 12,\n",
       " 5,\n",
       " 69,\n",
       " 3,\n",
       " 1,\n",
       " 18,\n",
       " 69,\n",
       " 3,\n",
       " 18,\n",
       " 1,\n",
       " 19,\n",
       " 8]"
      ]
     },
     "execution_count": 14,
     "metadata": {},
     "output_type": "execute_result"
    }
   ],
   "source": [
    "test_sequences[0]"
   ]
  },
  {
   "cell_type": "code",
   "execution_count": 15,
   "metadata": {},
   "outputs": [],
   "source": [
    "# Padding de cada secuencia para que todas tengan el mismo largo\n",
    "data = pad_sequences(sequences, maxlen=1014, padding='post')\n",
    "test_data = pad_sequences(test_sequences, maxlen=1014, padding='post')"
   ]
  },
  {
   "cell_type": "code",
   "execution_count": 16,
   "metadata": {},
   "outputs": [
    {
     "data": {
      "text/plain": [
       "(7434, 1014)"
      ]
     },
     "execution_count": 16,
     "metadata": {},
     "output_type": "execute_result"
    }
   ],
   "source": [
    "data = np.array(data)\n",
    "data.shape"
   ]
  },
  {
   "cell_type": "code",
   "execution_count": 20,
   "metadata": {},
   "outputs": [
    {
     "data": {
      "text/plain": [
       "(3263, 1014)"
      ]
     },
     "execution_count": 20,
     "metadata": {},
     "output_type": "execute_result"
    }
   ],
   "source": [
    "test_data = np.array(test_data)\n",
    "test_data.shape"
   ]
  },
  {
   "cell_type": "code",
   "execution_count": 21,
   "metadata": {},
   "outputs": [],
   "source": [
    "train_classes = text['target'].values"
   ]
  },
  {
   "cell_type": "code",
   "execution_count": 22,
   "metadata": {},
   "outputs": [
    {
     "data": {
      "text/plain": [
       "array([1, 1, 1, 1, 1, 1, 1, 1, 1, 1, 1, 1, 1, 1, 1, 0, 0, 0, 0, 0, 0, 0,\n",
       "       0, 0, 0, 0, 0, 0, 0, 0])"
      ]
     },
     "execution_count": 22,
     "metadata": {},
     "output_type": "execute_result"
    }
   ],
   "source": [
    "train_classes[:30]"
   ]
  },
  {
   "cell_type": "markdown",
   "metadata": {},
   "source": [
    "#### CHAR CNN"
   ]
  },
  {
   "cell_type": "code",
   "execution_count": 23,
   "metadata": {},
   "outputs": [
    {
     "data": {
      "text/plain": [
       "69"
      ]
     },
     "execution_count": 23,
     "metadata": {},
     "output_type": "execute_result"
    }
   ],
   "source": [
    "size = len(tk.word_index)\n",
    "size"
   ]
  },
  {
   "cell_type": "code",
   "execution_count": 24,
   "metadata": {},
   "outputs": [],
   "source": [
    "embedding_weights = []\n",
    "embedding_weights.append(np.zeros(size))\n",
    "\n",
    "for char, i in tk.word_index.items():\n",
    "    row = np.zeros(size)\n",
    "    row[i-1] = 1\n",
    "    embedding_weights.append(row)\n",
    "    \n",
    "embedding_weights = np.array(embedding_weights)"
   ]
  },
  {
   "cell_type": "code",
   "execution_count": 25,
   "metadata": {},
   "outputs": [
    {
     "name": "stdout",
     "output_type": "stream",
     "text": [
      "(70, 69)\n"
     ]
    }
   ],
   "source": [
    "print(embedding_weights.shape)"
   ]
  },
  {
   "cell_type": "code",
   "execution_count": 26,
   "metadata": {},
   "outputs": [],
   "source": [
    "from keras.layers import Input, Embedding, Activation, Flatten, Dense\n",
    "from keras.layers import Conv1D, MaxPooling1D, Dropout\n",
    "from keras.models import Model"
   ]
  },
  {
   "cell_type": "code",
   "execution_count": 27,
   "metadata": {},
   "outputs": [
    {
     "name": "stdout",
     "output_type": "stream",
     "text": [
      "Model: \"model\"\n",
      "_________________________________________________________________\n",
      "Layer (type)                 Output Shape              Param #   \n",
      "=================================================================\n",
      "input (InputLayer)           [(None, 1014)]            0         \n",
      "_________________________________________________________________\n",
      "embedding (Embedding)        (None, 1014, 69)          4830      \n",
      "_________________________________________________________________\n",
      "conv1d (Conv1D)              (None, 1008, 256)         123904    \n",
      "_________________________________________________________________\n",
      "activation (Activation)      (None, 1008, 256)         0         \n",
      "_________________________________________________________________\n",
      "max_pooling1d (MaxPooling1D) (None, 504, 256)          0         \n",
      "_________________________________________________________________\n",
      "conv1d_1 (Conv1D)            (None, 498, 256)          459008    \n",
      "_________________________________________________________________\n",
      "activation_1 (Activation)    (None, 498, 256)          0         \n",
      "_________________________________________________________________\n",
      "max_pooling1d_1 (MaxPooling1 (None, 249, 256)          0         \n",
      "_________________________________________________________________\n",
      "conv1d_2 (Conv1D)            (None, 248, 256)          131328    \n",
      "_________________________________________________________________\n",
      "activation_2 (Activation)    (None, 248, 256)          0         \n",
      "_________________________________________________________________\n",
      "conv1d_3 (Conv1D)            (None, 247, 256)          131328    \n",
      "_________________________________________________________________\n",
      "activation_3 (Activation)    (None, 247, 256)          0         \n",
      "_________________________________________________________________\n",
      "conv1d_4 (Conv1D)            (None, 246, 256)          131328    \n",
      "_________________________________________________________________\n",
      "activation_4 (Activation)    (None, 246, 256)          0         \n",
      "_________________________________________________________________\n",
      "conv1d_5 (Conv1D)            (None, 245, 256)          131328    \n",
      "_________________________________________________________________\n",
      "activation_5 (Activation)    (None, 245, 256)          0         \n",
      "_________________________________________________________________\n",
      "max_pooling1d_2 (MaxPooling1 (None, 245, 256)          0         \n",
      "_________________________________________________________________\n",
      "flatten (Flatten)            (None, 62720)             0         \n",
      "_________________________________________________________________\n",
      "dense (Dense)                (None, 1024)              64226304  \n",
      "_________________________________________________________________\n",
      "dropout (Dropout)            (None, 1024)              0         \n",
      "_________________________________________________________________\n",
      "dense_1 (Dense)              (None, 1024)              1049600   \n",
      "_________________________________________________________________\n",
      "dropout_1 (Dropout)          (None, 1024)              0         \n",
      "_________________________________________________________________\n",
      "dense_2 (Dense)              (None, 1)                 1025      \n",
      "=================================================================\n",
      "Total params: 66,389,983\n",
      "Trainable params: 66,389,983\n",
      "Non-trainable params: 0\n",
      "_________________________________________________________________\n"
     ]
    }
   ],
   "source": [
    "# Parametros\n",
    "input_size = 1014\n",
    "embedding_size = 69\n",
    "conv_layers = [[256, 7, 2], \n",
    "               [256, 7, 2], \n",
    "               [256, 2, -1], \n",
    "               [256, 2, -1], \n",
    "               [256, 2, -1], \n",
    "               [256, 2, 1]]\n",
    "\n",
    "fully_connected_layers = [1024, 1024]\n",
    "num_of_classes = 1\n",
    "dropout_p = 0.5\n",
    "optimizer = 'adam'\n",
    "loss = 'binary_crossentropy'\n",
    "\n",
    "embedding_layer = Embedding(size+1, \n",
    "                            embedding_size,\n",
    "                            input_length=input_size,\n",
    "                            weights=[embedding_weights])\n",
    "\n",
    "# Input\n",
    "inputs = Input(shape=(input_size,), name='input', dtype='int64')\n",
    "\n",
    "# Embedding \n",
    "x = embedding_layer(inputs)\n",
    "\n",
    "# Conv \n",
    "for filter_num, filter_size, pooling_size in conv_layers:\n",
    "    x = Conv1D(filter_num, filter_size)(x) \n",
    "    x = Activation('relu')(x)\n",
    "    if pooling_size != -1:\n",
    "        x = MaxPooling1D(pool_size=pooling_size)(x)\n",
    "        \n",
    "x = Flatten()(x)\n",
    "\n",
    "# Fully connected layers \n",
    "for dense_size in fully_connected_layers:\n",
    "    x = Dense(dense_size, activation='relu')(x)\n",
    "    x = Dropout(dropout_p)(x)\n",
    "    \n",
    "# Output Layer\n",
    "predictions = Dense(num_of_classes, activation='sigmoid')(x)\n",
    "\n",
    "# Build model\n",
    "model1 = Model(inputs=inputs, outputs=predictions)\n",
    "model1.compile(optimizer=optimizer, loss=loss, metrics=['accuracy'])\n",
    "model1.summary()"
   ]
  },
  {
   "cell_type": "code",
   "execution_count": 28,
   "metadata": {},
   "outputs": [
    {
     "name": "stdout",
     "output_type": "stream",
     "text": [
      "Epoch 1/6\n",
      "44/44 - 136s - loss: 0.6944 - accuracy: 0.5726 - val_loss: 0.6785 - val_accuracy: 0.5675\n",
      "Epoch 2/6\n",
      "44/44 - 141s - loss: 0.6528 - accuracy: 0.6151 - val_loss: 0.6365 - val_accuracy: 0.6541\n",
      "Epoch 3/6\n",
      "44/44 - 136s - loss: 0.6396 - accuracy: 0.6326 - val_loss: 0.6213 - val_accuracy: 0.6595\n",
      "Epoch 4/6\n",
      "44/44 - 144s - loss: 0.6093 - accuracy: 0.6691 - val_loss: 0.5821 - val_accuracy: 0.7052\n",
      "Epoch 5/6\n",
      "44/44 - 143s - loss: 0.5665 - accuracy: 0.7175 - val_loss: 0.5326 - val_accuracy: 0.7214\n",
      "Epoch 6/6\n",
      "44/44 - 142s - loss: 0.4324 - accuracy: 0.8131 - val_loss: 0.5312 - val_accuracy: 0.7633\n"
     ]
    },
    {
     "data": {
      "text/plain": [
       "<tensorflow.python.keras.callbacks.History at 0x1514a7b90>"
      ]
     },
     "execution_count": 28,
     "metadata": {},
     "output_type": "execute_result"
    }
   ],
   "source": [
    "x_train, x_test, y_train, y_test = \\\n",
    "train_test_split(data, train_classes, test_size = 0.25, random_state = 123)\n",
    "\n",
    "from keras.callbacks import EarlyStopping\n",
    "callback = EarlyStopping(monitor = 'val_loss', patience = 2, verbose=1)\n",
    "callbacks = [callback]\n",
    "\n",
    "model1.fit(x_train, y_train,\n",
    "          validation_data=(x_test, y_test),\n",
    "          batch_size=128,\n",
    "          epochs=6,\n",
    "          verbose=2,\n",
    "          callbacks=callback)"
   ]
  },
  {
   "cell_type": "code",
   "execution_count": null,
   "metadata": {},
   "outputs": [],
   "source": [
    "y_submit = model1.predict(submit_data)\n",
    "\n",
    "y_submit\n",
    "\n",
    "s = []\n",
    "\n",
    "for l in y_submit:\n",
    "    if l[0] > l[1]:\n",
    "        s.append(0)\n",
    "    else:\n",
    "        s.append(1)\n",
    "\n",
    "s\n",
    "\n",
    "test_text = pd.read_csv(\"test.csv\", usecols=['id'])\n",
    "\n",
    "test_text['target'] = s\n",
    "\n",
    "test_text\n",
    "\n",
    "test_text.to_csv('submit_prueba_35.csv', index=False)"
   ]
  },
  {
   "cell_type": "code",
   "execution_count": 31,
   "metadata": {},
   "outputs": [
    {
     "name": "stdout",
     "output_type": "stream",
     "text": [
      "Model: \"model_2\"\n",
      "_________________________________________________________________\n",
      "Layer (type)                 Output Shape              Param #   \n",
      "=================================================================\n",
      "input (InputLayer)           [(None, 1014)]            0         \n",
      "_________________________________________________________________\n",
      "embedding_2 (Embedding)      (None, 1014, 69)          4830      \n",
      "_________________________________________________________________\n",
      "conv1d_12 (Conv1D)           (None, 1008, 256)         123904    \n",
      "_________________________________________________________________\n",
      "activation_12 (Activation)   (None, 1008, 256)         0         \n",
      "_________________________________________________________________\n",
      "max_pooling1d_6 (MaxPooling1 (None, 1008, 256)         0         \n",
      "_________________________________________________________________\n",
      "conv1d_13 (Conv1D)           (None, 1002, 256)         459008    \n",
      "_________________________________________________________________\n",
      "activation_13 (Activation)   (None, 1002, 256)         0         \n",
      "_________________________________________________________________\n",
      "max_pooling1d_7 (MaxPooling1 (None, 1002, 256)         0         \n",
      "_________________________________________________________________\n",
      "conv1d_14 (Conv1D)           (None, 1002, 256)         65792     \n",
      "_________________________________________________________________\n",
      "activation_14 (Activation)   (None, 1002, 256)         0         \n",
      "_________________________________________________________________\n",
      "conv1d_15 (Conv1D)           (None, 1002, 256)         65792     \n",
      "_________________________________________________________________\n",
      "activation_15 (Activation)   (None, 1002, 256)         0         \n",
      "_________________________________________________________________\n",
      "conv1d_16 (Conv1D)           (None, 1002, 256)         65792     \n",
      "_________________________________________________________________\n",
      "activation_16 (Activation)   (None, 1002, 256)         0         \n",
      "_________________________________________________________________\n",
      "conv1d_17 (Conv1D)           (None, 1002, 256)         65792     \n",
      "_________________________________________________________________\n",
      "activation_17 (Activation)   (None, 1002, 256)         0         \n",
      "_________________________________________________________________\n",
      "max_pooling1d_8 (MaxPooling1 (None, 1002, 256)         0         \n",
      "_________________________________________________________________\n",
      "flatten_2 (Flatten)          (None, 256512)            0         \n",
      "_________________________________________________________________\n",
      "dense_6 (Dense)              (None, 1024)              262669312 \n",
      "_________________________________________________________________\n",
      "dropout_4 (Dropout)          (None, 1024)              0         \n",
      "_________________________________________________________________\n",
      "dense_7 (Dense)              (None, 1024)              1049600   \n",
      "_________________________________________________________________\n",
      "dropout_5 (Dropout)          (None, 1024)              0         \n",
      "_________________________________________________________________\n",
      "dense_8 (Dense)              (None, 1)                 1025      \n",
      "=================================================================\n",
      "Total params: 264,570,847\n",
      "Trainable params: 264,570,847\n",
      "Non-trainable params: 0\n",
      "_________________________________________________________________\n"
     ]
    }
   ],
   "source": [
    "# Parametros\n",
    "input_size = 1014\n",
    "embedding_size = 69\n",
    "conv_layers = [[256, 7, 1], \n",
    "               [256, 7, 1], \n",
    "               [256, 1, -1], \n",
    "               [256, 1, -1], \n",
    "               [256, 1, -1], \n",
    "               [256, 1, 1]]\n",
    "\n",
    "fully_connected_layers = [1024, 1024]\n",
    "num_of_classes = 1\n",
    "dropout_p = 0.5\n",
    "optimizer = 'adam'\n",
    "loss = 'binary_crossentropy'\n",
    "\n",
    "embedding_layer = Embedding(size+1, \n",
    "                            embedding_size,\n",
    "                            input_length=input_size,\n",
    "                            weights=[embedding_weights])\n",
    "\n",
    "# Input\n",
    "inputs = Input(shape=(input_size,), name='input', dtype='int64')\n",
    "\n",
    "# Embedding \n",
    "x = embedding_layer(inputs)\n",
    "\n",
    "# Conv \n",
    "for filter_num, filter_size, pooling_size in conv_layers:\n",
    "    x = Conv1D(filter_num, filter_size)(x) \n",
    "    x = Activation('relu')(x)\n",
    "    if pooling_size != -1:\n",
    "        x = MaxPooling1D(pool_size=pooling_size)(x)\n",
    "        \n",
    "x = Flatten()(x)\n",
    "\n",
    "# Fully connected layers \n",
    "for dense_size in fully_connected_layers:\n",
    "    x = Dense(dense_size, activation='relu')(x)\n",
    "    x = Dropout(dropout_p)(x)\n",
    "    \n",
    "# Output Layer\n",
    "predictions = Dense(num_of_classes, activation='sigmoid')(x)\n",
    "\n",
    "# Build model\n",
    "model2 = Model(inputs=inputs, outputs=predictions)\n",
    "model2.compile(optimizer=optimizer, loss=loss, metrics=['accuracy'])\n",
    "model2.summary()"
   ]
  },
  {
   "cell_type": "code",
   "execution_count": 33,
   "metadata": {},
   "outputs": [
    {
     "name": "stdout",
     "output_type": "stream",
     "text": [
      "Epoch 1/10\n",
      "44/44 - 321s - loss: 0.6758 - accuracy: 0.5670 - val_loss: 0.6429 - val_accuracy: 0.6498\n",
      "Epoch 2/10\n",
      "44/44 - 302s - loss: 0.6466 - accuracy: 0.6326 - val_loss: 0.6286 - val_accuracy: 0.6692\n",
      "Epoch 3/10\n",
      "44/44 - 331s - loss: 0.6313 - accuracy: 0.6511 - val_loss: 0.6183 - val_accuracy: 0.6638\n",
      "Epoch 4/10\n",
      "44/44 - 335s - loss: 0.6213 - accuracy: 0.6604 - val_loss: 0.6086 - val_accuracy: 0.6525\n",
      "Epoch 5/10\n",
      "44/44 - 309s - loss: 0.5739 - accuracy: 0.7031 - val_loss: 0.5543 - val_accuracy: 0.7257\n",
      "Epoch 6/10\n",
      "44/44 - 298s - loss: 0.4835 - accuracy: 0.7742 - val_loss: 0.5292 - val_accuracy: 0.7552\n",
      "Epoch 7/10\n",
      "44/44 - 298s - loss: 0.3713 - accuracy: 0.8377 - val_loss: 0.5945 - val_accuracy: 0.7171\n",
      "Epoch 00007: early stopping\n"
     ]
    },
    {
     "data": {
      "text/plain": [
       "<tensorflow.python.keras.callbacks.History at 0x164680890>"
      ]
     },
     "execution_count": 33,
     "metadata": {},
     "output_type": "execute_result"
    }
   ],
   "source": [
    "x_train, x_test, y_train, y_test = \\\n",
    "train_test_split(data, train_classes, test_size = 0.25, random_state = 123)\n",
    "\n",
    "from keras.callbacks import EarlyStopping\n",
    "callback = EarlyStopping(monitor = 'val_loss', patience = 1, verbose=1)\n",
    "callbacks = [callback]\n",
    "\n",
    "model2.fit(x_train, y_train,\n",
    "          validation_data=(x_test, y_test),\n",
    "          batch_size=128,\n",
    "          epochs=10,\n",
    "          verbose=2,\n",
    "          callbacks=callback)"
   ]
  },
  {
   "cell_type": "code",
   "execution_count": 40,
   "metadata": {},
   "outputs": [
    {
     "name": "stdout",
     "output_type": "stream",
     "text": [
      "Model: \"model_8\"\n",
      "_________________________________________________________________\n",
      "Layer (type)                 Output Shape              Param #   \n",
      "=================================================================\n",
      "input (InputLayer)           [(None, 1014)]            0         \n",
      "_________________________________________________________________\n",
      "embedding_8 (Embedding)      (None, 1014, 69)          4830      \n",
      "_________________________________________________________________\n",
      "conv1d_33 (Conv1D)           (None, 1008, 256)         123904    \n",
      "_________________________________________________________________\n",
      "activation_33 (Activation)   (None, 1008, 256)         0         \n",
      "_________________________________________________________________\n",
      "max_pooling1d_19 (MaxPooling (None, 504, 256)          0         \n",
      "_________________________________________________________________\n",
      "conv1d_34 (Conv1D)           (None, 503, 256)          131328    \n",
      "_________________________________________________________________\n",
      "activation_34 (Activation)   (None, 503, 256)          0         \n",
      "_________________________________________________________________\n",
      "conv1d_35 (Conv1D)           (None, 502, 256)          131328    \n",
      "_________________________________________________________________\n",
      "activation_35 (Activation)   (None, 502, 256)          0         \n",
      "_________________________________________________________________\n",
      "max_pooling1d_20 (MaxPooling (None, 502, 256)          0         \n",
      "_________________________________________________________________\n",
      "flatten_8 (Flatten)          (None, 128512)            0         \n",
      "_________________________________________________________________\n",
      "dense_22 (Dense)             (None, 1024)              131597312 \n",
      "_________________________________________________________________\n",
      "dropout_14 (Dropout)         (None, 1024)              0         \n",
      "_________________________________________________________________\n",
      "dense_23 (Dense)             (None, 1024)              1049600   \n",
      "_________________________________________________________________\n",
      "dropout_15 (Dropout)         (None, 1024)              0         \n",
      "_________________________________________________________________\n",
      "dense_24 (Dense)             (None, 1)                 1025      \n",
      "=================================================================\n",
      "Total params: 133,039,327\n",
      "Trainable params: 133,039,327\n",
      "Non-trainable params: 0\n",
      "_________________________________________________________________\n"
     ]
    }
   ],
   "source": [
    "# Parametros\n",
    "input_size = 1014\n",
    "embedding_size = 69\n",
    "conv_layers = [[256, 7, 2], \n",
    "               [256, 2, -1], \n",
    "               [256, 2, 1]]\n",
    "\n",
    "fully_connected_layers = [1024, 1024]\n",
    "num_of_classes = 1\n",
    "dropout_p = 0.5\n",
    "optimizer = 'adam'\n",
    "loss = 'binary_crossentropy'\n",
    "\n",
    "embedding_layer = Embedding(size+1, \n",
    "                            embedding_size,\n",
    "                            input_length=input_size,\n",
    "                            weights=[embedding_weights])\n",
    "\n",
    "# Input\n",
    "inputs = Input(shape=(input_size,), name='input', dtype='int64')\n",
    "\n",
    "# Embedding \n",
    "x = embedding_layer(inputs)\n",
    "\n",
    "# Conv \n",
    "for filter_num, filter_size, pooling_size in conv_layers:\n",
    "    x = Conv1D(filter_num, filter_size)(x) \n",
    "    x = Activation('relu')(x)\n",
    "    if pooling_size != -1:\n",
    "        x = MaxPooling1D(pool_size=pooling_size)(x)\n",
    "        \n",
    "x = Flatten()(x)\n",
    "\n",
    "# Fully connected layers \n",
    "for dense_size in fully_connected_layers:\n",
    "    x = Dense(dense_size, activation='relu')(x)\n",
    "    x = Dropout(dropout_p)(x)\n",
    "    \n",
    "# Output Layer\n",
    "predictions = Dense(num_of_classes, activation='sigmoid')(x)\n",
    "\n",
    "# Build model\n",
    "model3 = Model(inputs=inputs, outputs=predictions)\n",
    "model3.compile(optimizer=optimizer, loss=loss, metrics=['accuracy'])\n",
    "model3.summary()"
   ]
  },
  {
   "cell_type": "code",
   "execution_count": 41,
   "metadata": {},
   "outputs": [
    {
     "name": "stdout",
     "output_type": "stream",
     "text": [
      "Epoch 1/10\n",
      "44/44 - 111s - loss: 0.6784 - accuracy: 0.5693 - val_loss: 0.6300 - val_accuracy: 0.6547\n",
      "Epoch 2/10\n",
      "44/44 - 111s - loss: 0.6295 - accuracy: 0.6407 - val_loss: 0.5961 - val_accuracy: 0.7068\n",
      "Epoch 3/10\n",
      "44/44 - 111s - loss: 0.5746 - accuracy: 0.7116 - val_loss: 0.5644 - val_accuracy: 0.7041\n",
      "Epoch 4/10\n",
      "44/44 - 120s - loss: 0.4727 - accuracy: 0.7891 - val_loss: 0.5383 - val_accuracy: 0.7477\n",
      "Epoch 5/10\n",
      "44/44 - 116s - loss: 0.3397 - accuracy: 0.8560 - val_loss: 0.5699 - val_accuracy: 0.7472\n",
      "Epoch 00005: early stopping\n"
     ]
    },
    {
     "data": {
      "text/plain": [
       "<tensorflow.python.keras.callbacks.History at 0x1637d68d0>"
      ]
     },
     "execution_count": 41,
     "metadata": {},
     "output_type": "execute_result"
    }
   ],
   "source": [
    "x_train, x_test, y_train, y_test = \\\n",
    "train_test_split(data, train_classes, test_size = 0.25, random_state = 123)\n",
    "\n",
    "from keras.callbacks import EarlyStopping\n",
    "callback = EarlyStopping(monitor = 'val_loss', patience = 1, verbose=1)\n",
    "callbacks = [callback]\n",
    "\n",
    "model3.fit(x_train, y_train,\n",
    "          validation_data=(x_test, y_test),\n",
    "          batch_size=128,\n",
    "          epochs=10,\n",
    "          verbose=2,\n",
    "          callbacks=callback)"
   ]
  },
  {
   "cell_type": "code",
   "execution_count": 87,
   "metadata": {},
   "outputs": [
    {
     "name": "stdout",
     "output_type": "stream",
     "text": [
      "Model: \"model_10\"\n",
      "_________________________________________________________________\n",
      "Layer (type)                 Output Shape              Param #   \n",
      "=================================================================\n",
      "input (InputLayer)           [(None, 1014)]            0         \n",
      "_________________________________________________________________\n",
      "embedding_10 (Embedding)     (None, 1014, 69)          4830      \n",
      "_________________________________________________________________\n",
      "conv1d_39 (Conv1D)           (None, 1008, 256)         123904    \n",
      "_________________________________________________________________\n",
      "activation_39 (Activation)   (None, 1008, 256)         0         \n",
      "_________________________________________________________________\n",
      "max_pooling1d_23 (MaxPooling (None, 50, 256)           0         \n",
      "_________________________________________________________________\n",
      "conv1d_40 (Conv1D)           (None, 49, 256)           131328    \n",
      "_________________________________________________________________\n",
      "activation_40 (Activation)   (None, 49, 256)           0         \n",
      "_________________________________________________________________\n",
      "conv1d_41 (Conv1D)           (None, 48, 256)           131328    \n",
      "_________________________________________________________________\n",
      "activation_41 (Activation)   (None, 48, 256)           0         \n",
      "_________________________________________________________________\n",
      "max_pooling1d_24 (MaxPooling (None, 48, 256)           0         \n",
      "_________________________________________________________________\n",
      "flatten_10 (Flatten)         (None, 12288)             0         \n",
      "_________________________________________________________________\n",
      "dense_43 (Dense)             (None, 1024)              12583936  \n",
      "_________________________________________________________________\n",
      "dropout_17 (Dropout)         (None, 1024)              0         \n",
      "_________________________________________________________________\n",
      "dense_44 (Dense)             (None, 1)                 1025      \n",
      "=================================================================\n",
      "Total params: 12,976,351\n",
      "Trainable params: 12,976,351\n",
      "Non-trainable params: 0\n",
      "_________________________________________________________________\n"
     ]
    }
   ],
   "source": [
    "# Parametros\n",
    "input_size = 1014\n",
    "embedding_size = 69\n",
    "\n",
    "fully_connected_layers = [1024, 1024]\n",
    "num_of_classes = 1\n",
    "dropout_p = 0.5\n",
    "optimizer = 'adam'\n",
    "loss = 'binary_crossentropy'\n",
    "\n",
    "embedding_layer = Embedding(size+1, \n",
    "                            embedding_size,\n",
    "                            input_length=input_size,\n",
    "                            weights=[embedding_weights])\n",
    "\n",
    "# Input\n",
    "inputs = Input(shape=(input_size,), name='input', dtype='int64')\n",
    "\n",
    "# Embedding \n",
    "x = embedding_layer(inputs)\n",
    "\n",
    "# Conv \n",
    "for filter_num, filter_size, pooling_size in conv_layers:\n",
    "    x = Conv1D(filter_num, filter_size)(x) \n",
    "    x = Activation('relu')(x)\n",
    "    if pooling_size != -1:\n",
    "        x = MaxPooling1D(pool_size=pooling_size)(x)\n",
    "        \n",
    "x = Flatten()(x)\n",
    "x = Dense(dense_size, activation='relu')(x)\n",
    "predictions = Dense(num_of_classes, activation='sigmoid')(x)\n",
    "\n",
    "# Build model\n",
    "model3 = Model(inputs=inputs, outputs=predictions)\n",
    "model3.compile(optimizer=optimizer, loss=loss, metrics=['accuracy'])\n",
    "model3.summary()"
   ]
  },
  {
   "cell_type": "code",
   "execution_count": 43,
   "metadata": {},
   "outputs": [
    {
     "name": "stdout",
     "output_type": "stream",
     "text": [
      "Epoch 1/10\n",
      "44/44 - 114s - loss: 0.6943 - accuracy: 0.5700 - val_loss: 0.6311 - val_accuracy: 0.6428\n",
      "Epoch 2/10\n",
      "44/44 - 119s - loss: 0.6380 - accuracy: 0.6355 - val_loss: 0.6184 - val_accuracy: 0.6573\n",
      "Epoch 3/10\n",
      "44/44 - 127s - loss: 0.6180 - accuracy: 0.6603 - val_loss: 0.5965 - val_accuracy: 0.6885\n",
      "Epoch 4/10\n",
      "44/44 - 126s - loss: 0.5794 - accuracy: 0.7049 - val_loss: 0.5827 - val_accuracy: 0.7020\n",
      "Epoch 5/10\n",
      "44/44 - 128s - loss: 0.5218 - accuracy: 0.7408 - val_loss: 0.5590 - val_accuracy: 0.7171\n",
      "Epoch 6/10\n",
      "44/44 - 121s - loss: 0.4453 - accuracy: 0.8007 - val_loss: 0.5497 - val_accuracy: 0.7402\n",
      "Epoch 7/10\n",
      "44/44 - 139s - loss: 0.3150 - accuracy: 0.8667 - val_loss: 0.6257 - val_accuracy: 0.7396\n",
      "Epoch 00007: early stopping\n"
     ]
    },
    {
     "data": {
      "text/plain": [
       "<tensorflow.python.keras.callbacks.History at 0x1668665d0>"
      ]
     },
     "execution_count": 43,
     "metadata": {},
     "output_type": "execute_result"
    }
   ],
   "source": [
    "x_train, x_test, y_train, y_test = \\\n",
    "train_test_split(data, train_classes, test_size = 0.25, random_state = 123)\n",
    "\n",
    "from keras.callbacks import EarlyStopping\n",
    "callback = EarlyStopping(monitor = 'val_loss', patience = 1, verbose=1)\n",
    "callbacks = [callback]\n",
    "\n",
    "model3.fit(x_train, y_train,\n",
    "          validation_data=(x_test, y_test),\n",
    "          batch_size=128,\n",
    "          epochs=10,\n",
    "          verbose=2,\n",
    "          callbacks=callback)"
   ]
  },
  {
   "cell_type": "markdown",
   "metadata": {},
   "source": [
    "### Text clasf con TensorFlow Hub"
   ]
  },
  {
   "cell_type": "code",
   "execution_count": 50,
   "metadata": {},
   "outputs": [],
   "source": [
    "import numpy as np\n",
    "\n",
    "import tensorflow as tf\n",
    "import tensorflow_hub as hub\n",
    "\n",
    "import matplotlib.pyplot as plt"
   ]
  },
  {
   "cell_type": "code",
   "execution_count": 49,
   "metadata": {},
   "outputs": [],
   "source": [
    "x_train, x_test, y_train, y_test = \\\n",
    "train_test_split(text['text'], text['target'], test_size = 0.25, random_state = 123)"
   ]
  },
  {
   "cell_type": "code",
   "execution_count": 76,
   "metadata": {},
   "outputs": [
    {
     "data": {
      "text/plain": [
       "<tf.Tensor: shape=(3, 20), dtype=float32, numpy=\n",
       "array([[ 0.37495357,  0.04884983, -0.44728252,  0.19069983,  0.22855435,\n",
       "        -1.601063  , -0.578384  ,  1.0811323 , -0.7617105 ,  1.033736  ,\n",
       "        -0.46894896,  1.1409842 , -0.22123253, -0.29332948, -0.75760084,\n",
       "         1.2982581 , -0.25766143, -0.7316822 , -0.39457026,  0.04495662],\n",
       "       [ 1.6863625 , -0.843238  ,  1.594401  ,  1.4065715 , -2.1663356 ,\n",
       "        -2.7666457 , -2.5575192 ,  1.3733628 ,  2.1256437 , -0.55860907,\n",
       "        -2.062001  ,  1.8521987 ,  1.5375882 ,  0.0337178 , -2.3348963 ,\n",
       "         2.1301465 ,  0.6694136 , -0.08186518, -2.0231245 , -1.269589  ],\n",
       "       [ 0.9888268 , -0.08674138,  0.74446404,  1.2706661 ,  0.6064783 ,\n",
       "        -1.0720532 , -1.1698616 ,  1.4409689 ,  1.2004998 , -0.42373168,\n",
       "        -1.0143037 ,  1.0753728 ,  0.7560935 ,  0.1987023 , -1.0678316 ,\n",
       "         0.60962903,  0.5624571 , -0.7523041 , -0.775114  , -0.9879701 ]],\n",
       "      dtype=float32)>"
      ]
     },
     "execution_count": 76,
     "metadata": {},
     "output_type": "execute_result"
    }
   ],
   "source": [
    "model = \"https://tfhub.dev/google/tf2-preview/gnews-swivel-20dim/1\"\n",
    "hub_layer = hub.KerasLayer(model, output_shape=[20], input_shape=[], \n",
    "                           dtype=tf.string, trainable=True)\n",
    "hub_layer(x_train[:3])"
   ]
  },
  {
   "cell_type": "code",
   "execution_count": 84,
   "metadata": {},
   "outputs": [
    {
     "name": "stdout",
     "output_type": "stream",
     "text": [
      "Model: \"sequential_10\"\n",
      "_________________________________________________________________\n",
      "Layer (type)                 Output Shape              Param #   \n",
      "=================================================================\n",
      "keras_layer_6 (KerasLayer)   (None, 20)                400020    \n",
      "_________________________________________________________________\n",
      "dense_41 (Dense)             (None, 16)                336       \n",
      "_________________________________________________________________\n",
      "dense_42 (Dense)             (None, 1)                 17        \n",
      "=================================================================\n",
      "Total params: 400,373\n",
      "Trainable params: 353\n",
      "Non-trainable params: 400,020\n",
      "_________________________________________________________________\n"
     ]
    }
   ],
   "source": [
    "hub_layer = hub.KerasLayer(\"https://tfhub.dev/google/tf2-preview/gnews-swivel-20dim/1\", output_shape=[20],\n",
    "                           input_shape=[], dtype=tf.string)\n",
    "\n",
    "model = tf.keras.Sequential()\n",
    "model.add(hub_layer)\n",
    "model.add(tf.keras.layers.Dense(16, activation='relu'))\n",
    "model.add(tf.keras.layers.Dense(1, activation='sigmoid'))\n",
    "\n",
    "model.summary()"
   ]
  },
  {
   "cell_type": "code",
   "execution_count": 85,
   "metadata": {},
   "outputs": [],
   "source": [
    "model.compile(optimizer='adam',\n",
    "              loss=tf.losses.BinaryCrossentropy(from_logits=True),\n",
    "              metrics=['accuracy'])"
   ]
  },
  {
   "cell_type": "code",
   "execution_count": 86,
   "metadata": {},
   "outputs": [
    {
     "name": "stdout",
     "output_type": "stream",
     "text": [
      "Epoch 1/40\n",
      "11/11 [==============================] - 0s 16ms/step - loss: 0.7068 - accuracy: 0.6407 - val_loss: 0.6957 - val_accuracy: 0.6342\n",
      "Epoch 2/40\n",
      "11/11 [==============================] - 0s 9ms/step - loss: 0.6959 - accuracy: 0.6475 - val_loss: 0.6867 - val_accuracy: 0.6487\n",
      "Epoch 3/40\n",
      "11/11 [==============================] - 0s 9ms/step - loss: 0.6882 - accuracy: 0.6513 - val_loss: 0.6797 - val_accuracy: 0.6568\n",
      "Epoch 4/40\n",
      "11/11 [==============================] - 0s 9ms/step - loss: 0.6822 - accuracy: 0.6603 - val_loss: 0.6741 - val_accuracy: 0.6713\n",
      "Epoch 5/40\n",
      "11/11 [==============================] - 0s 8ms/step - loss: 0.6774 - accuracy: 0.6714 - val_loss: 0.6693 - val_accuracy: 0.6826\n",
      "Epoch 6/40\n",
      "11/11 [==============================] - 0s 8ms/step - loss: 0.6732 - accuracy: 0.6827 - val_loss: 0.6651 - val_accuracy: 0.6998\n",
      "Epoch 7/40\n",
      "11/11 [==============================] - 0s 8ms/step - loss: 0.6696 - accuracy: 0.6988 - val_loss: 0.6613 - val_accuracy: 0.7058\n",
      "Epoch 8/40\n",
      "11/11 [==============================] - 0s 9ms/step - loss: 0.6665 - accuracy: 0.7078 - val_loss: 0.6581 - val_accuracy: 0.7176\n",
      "Epoch 9/40\n",
      "11/11 [==============================] - 0s 9ms/step - loss: 0.6638 - accuracy: 0.7159 - val_loss: 0.6553 - val_accuracy: 0.7257\n",
      "Epoch 10/40\n",
      "11/11 [==============================] - 0s 8ms/step - loss: 0.6615 - accuracy: 0.7209 - val_loss: 0.6530 - val_accuracy: 0.7262\n",
      "Epoch 11/40\n",
      "11/11 [==============================] - 0s 8ms/step - loss: 0.6596 - accuracy: 0.7229 - val_loss: 0.6509 - val_accuracy: 0.7273\n",
      "Epoch 12/40\n",
      "11/11 [==============================] - 0s 8ms/step - loss: 0.6579 - accuracy: 0.7236 - val_loss: 0.6491 - val_accuracy: 0.7316\n",
      "Epoch 13/40\n",
      "11/11 [==============================] - 0s 9ms/step - loss: 0.6564 - accuracy: 0.7266 - val_loss: 0.6475 - val_accuracy: 0.7332\n",
      "Epoch 14/40\n",
      "11/11 [==============================] - 0s 9ms/step - loss: 0.6551 - accuracy: 0.7304 - val_loss: 0.6461 - val_accuracy: 0.7364\n",
      "Epoch 15/40\n",
      "11/11 [==============================] - 0s 10ms/step - loss: 0.6539 - accuracy: 0.7309 - val_loss: 0.6448 - val_accuracy: 0.7359\n",
      "Epoch 16/40\n",
      "11/11 [==============================] - 0s 9ms/step - loss: 0.6529 - accuracy: 0.7324 - val_loss: 0.6436 - val_accuracy: 0.7364\n",
      "Epoch 17/40\n",
      "11/11 [==============================] - 0s 8ms/step - loss: 0.6519 - accuracy: 0.7335 - val_loss: 0.6426 - val_accuracy: 0.7413\n",
      "Epoch 18/40\n",
      "11/11 [==============================] - 0s 8ms/step - loss: 0.6511 - accuracy: 0.7343 - val_loss: 0.6416 - val_accuracy: 0.7429\n",
      "Epoch 19/40\n",
      "11/11 [==============================] - 0s 8ms/step - loss: 0.6503 - accuracy: 0.7354 - val_loss: 0.6407 - val_accuracy: 0.7461\n",
      "Epoch 20/40\n",
      "11/11 [==============================] - 0s 8ms/step - loss: 0.6496 - accuracy: 0.7360 - val_loss: 0.6399 - val_accuracy: 0.7488\n",
      "Epoch 21/40\n",
      "11/11 [==============================] - 0s 8ms/step - loss: 0.6489 - accuracy: 0.7378 - val_loss: 0.6391 - val_accuracy: 0.7488\n",
      "Epoch 22/40\n",
      "11/11 [==============================] - 0s 8ms/step - loss: 0.6483 - accuracy: 0.7392 - val_loss: 0.6384 - val_accuracy: 0.7493\n",
      "Epoch 23/40\n",
      "11/11 [==============================] - 0s 10ms/step - loss: 0.6477 - accuracy: 0.7397 - val_loss: 0.6378 - val_accuracy: 0.7515\n",
      "Epoch 24/40\n",
      "11/11 [==============================] - 0s 10ms/step - loss: 0.6472 - accuracy: 0.7401 - val_loss: 0.6372 - val_accuracy: 0.7558\n",
      "Epoch 25/40\n",
      "11/11 [==============================] - 0s 9ms/step - loss: 0.6467 - accuracy: 0.7404 - val_loss: 0.6366 - val_accuracy: 0.7563\n",
      "Epoch 26/40\n",
      "11/11 [==============================] - 0s 8ms/step - loss: 0.6462 - accuracy: 0.7424 - val_loss: 0.6361 - val_accuracy: 0.7563\n",
      "Epoch 27/40\n",
      "11/11 [==============================] - 0s 9ms/step - loss: 0.6458 - accuracy: 0.7426 - val_loss: 0.6356 - val_accuracy: 0.7601\n",
      "Epoch 28/40\n",
      "11/11 [==============================] - 0s 9ms/step - loss: 0.6454 - accuracy: 0.7431 - val_loss: 0.6352 - val_accuracy: 0.7595\n",
      "Epoch 29/40\n",
      "11/11 [==============================] - 0s 9ms/step - loss: 0.6450 - accuracy: 0.7435 - val_loss: 0.6347 - val_accuracy: 0.7612\n",
      "Epoch 30/40\n",
      "11/11 [==============================] - 0s 9ms/step - loss: 0.6446 - accuracy: 0.7431 - val_loss: 0.6343 - val_accuracy: 0.7612\n",
      "Epoch 31/40\n",
      "11/11 [==============================] - 0s 10ms/step - loss: 0.6442 - accuracy: 0.7439 - val_loss: 0.6339 - val_accuracy: 0.7622\n",
      "Epoch 32/40\n",
      "11/11 [==============================] - 0s 10ms/step - loss: 0.6439 - accuracy: 0.7457 - val_loss: 0.6336 - val_accuracy: 0.7633\n",
      "Epoch 33/40\n",
      "11/11 [==============================] - 0s 8ms/step - loss: 0.6436 - accuracy: 0.7457 - val_loss: 0.6332 - val_accuracy: 0.7655\n",
      "Epoch 34/40\n",
      "11/11 [==============================] - 0s 8ms/step - loss: 0.6433 - accuracy: 0.7462 - val_loss: 0.6329 - val_accuracy: 0.7660\n",
      "Epoch 35/40\n",
      "11/11 [==============================] - 0s 8ms/step - loss: 0.6430 - accuracy: 0.7473 - val_loss: 0.6326 - val_accuracy: 0.7665\n",
      "Epoch 36/40\n",
      "11/11 [==============================] - 0s 8ms/step - loss: 0.6427 - accuracy: 0.7474 - val_loss: 0.6324 - val_accuracy: 0.7671\n",
      "Epoch 37/40\n",
      "11/11 [==============================] - 0s 9ms/step - loss: 0.6424 - accuracy: 0.7478 - val_loss: 0.6320 - val_accuracy: 0.7692\n",
      "Epoch 38/40\n",
      "11/11 [==============================] - 0s 9ms/step - loss: 0.6421 - accuracy: 0.7487 - val_loss: 0.6318 - val_accuracy: 0.7698\n",
      "Epoch 39/40\n",
      "11/11 [==============================] - 0s 10ms/step - loss: 0.6419 - accuracy: 0.7483 - val_loss: 0.6315 - val_accuracy: 0.7687\n",
      "Epoch 40/40\n",
      "11/11 [==============================] - 0s 10ms/step - loss: 0.6416 - accuracy: 0.7492 - val_loss: 0.6313 - val_accuracy: 0.7698\n"
     ]
    }
   ],
   "source": [
    "from keras.callbacks import EarlyStopping\n",
    "callback = EarlyStopping(monitor = 'val_loss', patience = 1, verbose=1)\n",
    "callbacks = [callback]\n",
    "\n",
    "history = model.fit(x_train,\n",
    "                    y_train,\n",
    "                    epochs=40,\n",
    "                    batch_size=512,\n",
    "                    validation_data=(x_test, y_test),\n",
    "                    verbose=1)"
   ]
  }
 ],
 "metadata": {
  "kernelspec": {
   "display_name": "Python 3",
   "language": "python",
   "name": "python3"
  },
  "language_info": {
   "codemirror_mode": {
    "name": "ipython",
    "version": 3
   },
   "file_extension": ".py",
   "mimetype": "text/x-python",
   "name": "python",
   "nbconvert_exporter": "python",
   "pygments_lexer": "ipython3",
   "version": "3.7.7"
  }
 },
 "nbformat": 4,
 "nbformat_minor": 4
}
