{
 "cells": [
  {
   "cell_type": "code",
   "execution_count": 37,
   "metadata": {},
   "outputs": [
    {
     "name": "stderr",
     "output_type": "stream",
     "text": [
      "[nltk_data] Downloading package stopwords to\n",
      "[nltk_data]     /home/agustin/nltk_data...\n",
      "[nltk_data]   Package stopwords is already up-to-date!\n"
     ]
    }
   ],
   "source": [
    "import numpy as np\n",
    "import pandas as pd\n",
    "from sklearn import preprocessing\n",
    "from sklearn.feature_extraction.text import CountVectorizer, TfidfVectorizer\n",
    "from sklearn.metrics import accuracy_score\n",
    "from sklearn.model_selection import train_test_split, KFold\n",
    "import nltk\n",
    "from nltk.corpus import stopwords\n",
    "from nltk.stem.snowball import SnowballStemmer\n",
    "import matplotlib\n",
    "from matplotlib import pyplot as plt\n",
    "%matplotlib inline\n",
    "%config InlineBackend.figure_format = 'retina'\n",
    "import string\n",
    "import io\n",
    "nltk.download('stopwords')\n",
    "from nltk.corpus import stopwords\n",
    "stopwords = stopwords.words('english')\n",
    "stemmer = SnowballStemmer('english')"
   ]
  },
  {
   "cell_type": "code",
   "execution_count": 38,
   "metadata": {},
   "outputs": [
    {
     "name": "stderr",
     "output_type": "stream",
     "text": [
      "[nltk_data] Downloading package vader_lexicon to\n",
      "[nltk_data]     /home/agustin/nltk_data...\n",
      "[nltk_data]   Package vader_lexicon is already up-to-date!\n"
     ]
    }
   ],
   "source": [
    "from nltk.sentiment.vader import SentimentIntensityAnalyzer\n",
    "nltk.download('vader_lexicon')\n",
    "sia = SentimentIntensityAnalyzer()\n",
    "def return_sia_compound_values(text):\n",
    "    return sia.polarity_scores(text)['compound']"
   ]
  },
  {
   "cell_type": "code",
   "execution_count": 39,
   "metadata": {},
   "outputs": [],
   "source": [
    "def remove_stopword(text):\n",
    "    new_text = []\n",
    "    for e in text:\n",
    "        if e not in stopwords and e.isalpha():\n",
    "            new_text.append(e)\n",
    "    text = new_text\n",
    "    return \" \".join(new_text)\n",
    "\n",
    "def stemm(text):\n",
    "    text = [stemmer.stem(word) for word in text.split()]\n",
    "    return \" \".join(text)\n",
    "\n",
    "def contains_punctuation(text):\n",
    "    punctuation = set(string.punctuation)\n",
    "    for character in text:\n",
    "        if character in punctuation:\n",
    "            return True\n",
    "    return False\n",
    "\n",
    "def amount_of_punctuation(text):\n",
    "    punctuation = set(string.punctuation)\n",
    "    amount = 0\n",
    "    for character in text:\n",
    "        if character in punctuation: amount += 1\n",
    "    return amount"
   ]
  },
  {
   "cell_type": "code",
   "execution_count": 40,
   "metadata": {},
   "outputs": [],
   "source": [
    "tweets = pd.read_csv(\"train.csv\", usecols=['id','text', 'target'])\n",
    "test = pd.read_csv(\"test.csv\")"
   ]
  },
  {
   "cell_type": "code",
   "execution_count": 41,
   "metadata": {},
   "outputs": [
    {
     "name": "stdout",
     "output_type": "stream",
     "text": [
      "<class 'pandas.core.frame.DataFrame'>\n",
      "Int64Index: 7434 entries, 0 to 7612\n",
      "Data columns (total 3 columns):\n",
      " #   Column  Non-Null Count  Dtype \n",
      "---  ------  --------------  ----- \n",
      " 0   id      7434 non-null   int64 \n",
      " 1   text    7434 non-null   object\n",
      " 2   target  7434 non-null   int64 \n",
      "dtypes: int64(2), object(1)\n",
      "memory usage: 232.3+ KB\n"
     ]
    }
   ],
   "source": [
    "tweets.drop_duplicates(subset = 'text', keep = False, inplace = True)\n",
    "tweets.info()"
   ]
  },
  {
   "cell_type": "code",
   "execution_count": 42,
   "metadata": {},
   "outputs": [
    {
     "ename": "TypeError",
     "evalue": "'numpy.float64' object is not callable",
     "output_type": "error",
     "traceback": [
      "\u001b[0;31m---------------------------------------------------------------------------\u001b[0m",
      "\u001b[0;31mTypeError\u001b[0m                                 Traceback (most recent call last)",
      "\u001b[0;32m<ipython-input-42-d0e083de0ed9>\u001b[0m in \u001b[0;36m<module>\u001b[0;34m\u001b[0m\n\u001b[1;32m     15\u001b[0m \u001b[0mhashtags\u001b[0m \u001b[0;34m=\u001b[0m \u001b[0mtweets_metrics\u001b[0m\u001b[0;34m[\u001b[0m\u001b[0;34m'text'\u001b[0m\u001b[0;34m]\u001b[0m\u001b[0;34m.\u001b[0m\u001b[0mstr\u001b[0m\u001b[0;34m.\u001b[0m\u001b[0mfindall\u001b[0m\u001b[0;34m(\u001b[0m\u001b[0;34mr'#[^?\\s].*?(?=\\s|$)'\u001b[0m\u001b[0;34m)\u001b[0m\u001b[0;34m\u001b[0m\u001b[0;34m\u001b[0m\u001b[0m\n\u001b[1;32m     16\u001b[0m \u001b[0mtweets_metrics\u001b[0m\u001b[0;34m[\u001b[0m\u001b[0;34m'hashtags_count'\u001b[0m\u001b[0;34m]\u001b[0m \u001b[0;34m=\u001b[0m \u001b[0mhashtags\u001b[0m\u001b[0;34m.\u001b[0m\u001b[0mapply\u001b[0m\u001b[0;34m(\u001b[0m\u001b[0;32mlambda\u001b[0m \u001b[0mx\u001b[0m\u001b[0;34m:\u001b[0m \u001b[0mlen\u001b[0m\u001b[0;34m(\u001b[0m\u001b[0mx\u001b[0m\u001b[0;34m)\u001b[0m\u001b[0;34m)\u001b[0m\u001b[0;34m\u001b[0m\u001b[0;34m\u001b[0m\u001b[0m\n\u001b[0;32m---> 17\u001b[0;31m \u001b[0mtweets_metrics\u001b[0m\u001b[0;34m[\u001b[0m\u001b[0;34m'longest_word_length_without_stopwords'\u001b[0m\u001b[0;34m]\u001b[0m \u001b[0;34m=\u001b[0m \u001b[0mtweets_metrics\u001b[0m\u001b[0;34m[\u001b[0m\u001b[0;34m'text_without_stopwords'\u001b[0m\u001b[0;34m]\u001b[0m\u001b[0;34m.\u001b[0m\u001b[0mapply\u001b[0m\u001b[0;34m(\u001b[0m\u001b[0;32mlambda\u001b[0m \u001b[0mx\u001b[0m\u001b[0;34m:\u001b[0m \u001b[0;34m(\u001b[0m\u001b[0;34m[\u001b[0m\u001b[0mlen\u001b[0m\u001b[0;34m(\u001b[0m\u001b[0mword\u001b[0m\u001b[0;34m)\u001b[0m \u001b[0;32mfor\u001b[0m \u001b[0mword\u001b[0m \u001b[0;32min\u001b[0m \u001b[0mstr\u001b[0m\u001b[0;34m(\u001b[0m\u001b[0mx\u001b[0m\u001b[0;34m)\u001b[0m\u001b[0;34m.\u001b[0m\u001b[0mlower\u001b[0m\u001b[0;34m(\u001b[0m\u001b[0;34m)\u001b[0m\u001b[0;34m.\u001b[0m\u001b[0msplit\u001b[0m\u001b[0;34m(\u001b[0m\u001b[0;34m)\u001b[0m \u001b[0;32mif\u001b[0m \u001b[0;32mnot\u001b[0m \u001b[0mword\u001b[0m\u001b[0;34m.\u001b[0m\u001b[0mstartswith\u001b[0m\u001b[0;34m(\u001b[0m\u001b[0;34m'http'\u001b[0m\u001b[0;34m)\u001b[0m\u001b[0;34m]\u001b[0m\u001b[0;34m)\u001b[0m\u001b[0;34m)\u001b[0m\u001b[0;34m.\u001b[0m\u001b[0mapply\u001b[0m\u001b[0;34m(\u001b[0m\u001b[0;32mlambda\u001b[0m \u001b[0mx\u001b[0m\u001b[0;34m:\u001b[0m \u001b[0mmax\u001b[0m\u001b[0;34m(\u001b[0m\u001b[0mx\u001b[0m\u001b[0;34m)\u001b[0m \u001b[0;32mif\u001b[0m \u001b[0mlen\u001b[0m\u001b[0;34m(\u001b[0m\u001b[0mx\u001b[0m\u001b[0;34m)\u001b[0m \u001b[0;34m>\u001b[0m \u001b[0;36m0\u001b[0m \u001b[0;32melse\u001b[0m \u001b[0;36m0\u001b[0m\u001b[0;34m)\u001b[0m\u001b[0;34m\u001b[0m\u001b[0;34m\u001b[0m\u001b[0m\n\u001b[0m\u001b[1;32m     18\u001b[0m \u001b[0;34m\u001b[0m\u001b[0m\n\u001b[1;32m     19\u001b[0m \u001b[0mtweets_metrics\u001b[0m\u001b[0;34m.\u001b[0m\u001b[0mhead\u001b[0m\u001b[0;34m(\u001b[0m\u001b[0;34m)\u001b[0m\u001b[0;34m\u001b[0m\u001b[0;34m\u001b[0m\u001b[0m\n",
      "\u001b[0;32m~/anaconda3/lib/python3.7/site-packages/pandas/core/series.py\u001b[0m in \u001b[0;36mapply\u001b[0;34m(self, func, convert_dtype, args, **kwds)\u001b[0m\n\u001b[1;32m   3846\u001b[0m             \u001b[0;32melse\u001b[0m\u001b[0;34m:\u001b[0m\u001b[0;34m\u001b[0m\u001b[0;34m\u001b[0m\u001b[0m\n\u001b[1;32m   3847\u001b[0m                 \u001b[0mvalues\u001b[0m \u001b[0;34m=\u001b[0m \u001b[0mself\u001b[0m\u001b[0;34m.\u001b[0m\u001b[0mastype\u001b[0m\u001b[0;34m(\u001b[0m\u001b[0mobject\u001b[0m\u001b[0;34m)\u001b[0m\u001b[0;34m.\u001b[0m\u001b[0mvalues\u001b[0m\u001b[0;34m\u001b[0m\u001b[0;34m\u001b[0m\u001b[0m\n\u001b[0;32m-> 3848\u001b[0;31m                 \u001b[0mmapped\u001b[0m \u001b[0;34m=\u001b[0m \u001b[0mlib\u001b[0m\u001b[0;34m.\u001b[0m\u001b[0mmap_infer\u001b[0m\u001b[0;34m(\u001b[0m\u001b[0mvalues\u001b[0m\u001b[0;34m,\u001b[0m \u001b[0mf\u001b[0m\u001b[0;34m,\u001b[0m \u001b[0mconvert\u001b[0m\u001b[0;34m=\u001b[0m\u001b[0mconvert_dtype\u001b[0m\u001b[0;34m)\u001b[0m\u001b[0;34m\u001b[0m\u001b[0;34m\u001b[0m\u001b[0m\n\u001b[0m\u001b[1;32m   3849\u001b[0m \u001b[0;34m\u001b[0m\u001b[0m\n\u001b[1;32m   3850\u001b[0m         \u001b[0;32mif\u001b[0m \u001b[0mlen\u001b[0m\u001b[0;34m(\u001b[0m\u001b[0mmapped\u001b[0m\u001b[0;34m)\u001b[0m \u001b[0;32mand\u001b[0m \u001b[0misinstance\u001b[0m\u001b[0;34m(\u001b[0m\u001b[0mmapped\u001b[0m\u001b[0;34m[\u001b[0m\u001b[0;36m0\u001b[0m\u001b[0;34m]\u001b[0m\u001b[0;34m,\u001b[0m \u001b[0mSeries\u001b[0m\u001b[0;34m)\u001b[0m\u001b[0;34m:\u001b[0m\u001b[0;34m\u001b[0m\u001b[0;34m\u001b[0m\u001b[0m\n",
      "\u001b[0;32mpandas/_libs/lib.pyx\u001b[0m in \u001b[0;36mpandas._libs.lib.map_infer\u001b[0;34m()\u001b[0m\n",
      "\u001b[0;32m<ipython-input-42-d0e083de0ed9>\u001b[0m in \u001b[0;36m<lambda>\u001b[0;34m(x)\u001b[0m\n\u001b[1;32m     15\u001b[0m \u001b[0mhashtags\u001b[0m \u001b[0;34m=\u001b[0m \u001b[0mtweets_metrics\u001b[0m\u001b[0;34m[\u001b[0m\u001b[0;34m'text'\u001b[0m\u001b[0;34m]\u001b[0m\u001b[0;34m.\u001b[0m\u001b[0mstr\u001b[0m\u001b[0;34m.\u001b[0m\u001b[0mfindall\u001b[0m\u001b[0;34m(\u001b[0m\u001b[0;34mr'#[^?\\s].*?(?=\\s|$)'\u001b[0m\u001b[0;34m)\u001b[0m\u001b[0;34m\u001b[0m\u001b[0;34m\u001b[0m\u001b[0m\n\u001b[1;32m     16\u001b[0m \u001b[0mtweets_metrics\u001b[0m\u001b[0;34m[\u001b[0m\u001b[0;34m'hashtags_count'\u001b[0m\u001b[0;34m]\u001b[0m \u001b[0;34m=\u001b[0m \u001b[0mhashtags\u001b[0m\u001b[0;34m.\u001b[0m\u001b[0mapply\u001b[0m\u001b[0;34m(\u001b[0m\u001b[0;32mlambda\u001b[0m \u001b[0mx\u001b[0m\u001b[0;34m:\u001b[0m \u001b[0mlen\u001b[0m\u001b[0;34m(\u001b[0m\u001b[0mx\u001b[0m\u001b[0;34m)\u001b[0m\u001b[0;34m)\u001b[0m\u001b[0;34m\u001b[0m\u001b[0;34m\u001b[0m\u001b[0m\n\u001b[0;32m---> 17\u001b[0;31m \u001b[0mtweets_metrics\u001b[0m\u001b[0;34m[\u001b[0m\u001b[0;34m'longest_word_length_without_stopwords'\u001b[0m\u001b[0;34m]\u001b[0m \u001b[0;34m=\u001b[0m \u001b[0mtweets_metrics\u001b[0m\u001b[0;34m[\u001b[0m\u001b[0;34m'text_without_stopwords'\u001b[0m\u001b[0;34m]\u001b[0m\u001b[0;34m.\u001b[0m\u001b[0mapply\u001b[0m\u001b[0;34m(\u001b[0m\u001b[0;32mlambda\u001b[0m \u001b[0mx\u001b[0m\u001b[0;34m:\u001b[0m \u001b[0;34m(\u001b[0m\u001b[0;34m[\u001b[0m\u001b[0mlen\u001b[0m\u001b[0;34m(\u001b[0m\u001b[0mword\u001b[0m\u001b[0;34m)\u001b[0m \u001b[0;32mfor\u001b[0m \u001b[0mword\u001b[0m \u001b[0;32min\u001b[0m \u001b[0mstr\u001b[0m\u001b[0;34m(\u001b[0m\u001b[0mx\u001b[0m\u001b[0;34m)\u001b[0m\u001b[0;34m.\u001b[0m\u001b[0mlower\u001b[0m\u001b[0;34m(\u001b[0m\u001b[0;34m)\u001b[0m\u001b[0;34m.\u001b[0m\u001b[0msplit\u001b[0m\u001b[0;34m(\u001b[0m\u001b[0;34m)\u001b[0m \u001b[0;32mif\u001b[0m \u001b[0;32mnot\u001b[0m \u001b[0mword\u001b[0m\u001b[0;34m.\u001b[0m\u001b[0mstartswith\u001b[0m\u001b[0;34m(\u001b[0m\u001b[0;34m'http'\u001b[0m\u001b[0;34m)\u001b[0m\u001b[0;34m]\u001b[0m\u001b[0;34m)\u001b[0m\u001b[0;34m)\u001b[0m\u001b[0;34m.\u001b[0m\u001b[0mapply\u001b[0m\u001b[0;34m(\u001b[0m\u001b[0;32mlambda\u001b[0m \u001b[0mx\u001b[0m\u001b[0;34m:\u001b[0m \u001b[0mmax\u001b[0m\u001b[0;34m(\u001b[0m\u001b[0mx\u001b[0m\u001b[0;34m)\u001b[0m \u001b[0;32mif\u001b[0m \u001b[0mlen\u001b[0m\u001b[0;34m(\u001b[0m\u001b[0mx\u001b[0m\u001b[0;34m)\u001b[0m \u001b[0;34m>\u001b[0m \u001b[0;36m0\u001b[0m \u001b[0;32melse\u001b[0m \u001b[0;36m0\u001b[0m\u001b[0;34m)\u001b[0m\u001b[0;34m\u001b[0m\u001b[0;34m\u001b[0m\u001b[0m\n\u001b[0m\u001b[1;32m     18\u001b[0m \u001b[0;34m\u001b[0m\u001b[0m\n\u001b[1;32m     19\u001b[0m \u001b[0mtweets_metrics\u001b[0m\u001b[0;34m.\u001b[0m\u001b[0mhead\u001b[0m\u001b[0;34m(\u001b[0m\u001b[0;34m)\u001b[0m\u001b[0;34m\u001b[0m\u001b[0;34m\u001b[0m\u001b[0m\n",
      "\u001b[0;31mTypeError\u001b[0m: 'numpy.float64' object is not callable"
     ]
    }
   ],
   "source": [
    "tweets_metrics = tweets[['id','text','target']]\n",
    "tweets_metrics['text_without_stopwords'] = tweets_metrics['text'].str.split()\n",
    "tweets_metrics['text_without_stopwords'] = tweets_metrics['text_without_stopwords'].apply(remove_stopword)\n",
    "\n",
    "tweets_metrics['length'] = tweets_metrics['text'].apply(lambda x: len(x))\n",
    "tweets_metrics['avg_word_length'] = tweets_metrics['text'].str.split().apply(lambda x: [len(y) for y in x]).transform(lambda x: np.mean(x))\n",
    "tweets_metrics['amount_of_words'] = tweets_metrics['text'].str.split().transform(lambda x: len(x))\n",
    "unique_words_by_tweet = tweets_metrics['text'].transform(lambda x: x.split()).transform(lambda x: pd.Series(x).unique()).transform(lambda x: len(x))\n",
    "tweets_metrics['amount_of_unique_words'] = unique_words_by_tweet\n",
    "tweets_metrics['sentiment'] = tweets_metrics['text'].apply(lambda x: return_sia_compound_values(x))\n",
    "tweets_metrics['stopwords_count'] = tweets_metrics['text'].apply(lambda x: len([word for word in str(x).lower().split() if word in stopwords]))\n",
    "tweets_metrics['punctuation_count'] = tweets_metrics['text'].apply(lambda x: amount_of_punctuation(x))\n",
    "mentions = tweets_metrics['text'].str.findall(r'@.\\S*?(?=\\s|[:]|$)').to_frame()\n",
    "tweets_metrics['mentions_count'] = mentions['text'].apply(lambda x: len(x))\n",
    "hashtags = tweets_metrics['text'].str.findall(r'#[^?\\s].*?(?=\\s|$)')\n",
    "tweets_metrics['hashtags_count'] = hashtags.apply(lambda x: len(x))\n",
    "tweets_metrics['longest_word_length_without_stopwords'] = tweets_metrics['text_without_stopwords'].apply(lambda x: ([len(word) for word in str(x).lower().split() if not word.startswith('http')])).apply(lambda x: max(x) if len(x) > 0 else 0)\n",
    "\n",
    "tweets_metrics.head()"
   ]
  },
  {
   "cell_type": "markdown",
   "metadata": {},
   "source": [
    "# Split de features"
   ]
  },
  {
   "cell_type": "code",
   "execution_count": null,
   "metadata": {},
   "outputs": [],
   "source": [
    "data_cols = ['length','avg_word_length','amount_of_words','amount_of_unique_words','sentiment','stopwords_count','punctuation_count','mentions_count','hashtags_count','longest_word_length_without_stopwords']\n",
    "basic_data_cols = ['length','avg_word_length','amount_of_words','amount_of_unique_words','sentiment','stopwords_count','punctuation_count','longest_word_length_without_stopwords']\n",
    "x_train, x_test, y_train, y_test = \\\n",
    "train_test_split(tweets_metrics[data_cols], tweets_metrics['target'], test_size = 0.05, random_state = 123)\n",
    "from sklearn.preprocessing import StandardScaler\n",
    "sc = StandardScaler()\n",
    "x_train = sc.fit_transform(x_train)\n",
    "x_test = sc.transform(x_test)"
   ]
  },
  {
   "cell_type": "code",
   "execution_count": null,
   "metadata": {},
   "outputs": [],
   "source": [
    "vectorizer = TfidfVectorizer()\n",
    "tfidf_lgbm = vectorizer.fit_transform(tweets_metrics.loc[:, 'text'])\n",
    "array = tfidf_lgbm.todense()"
   ]
  },
  {
   "cell_type": "code",
   "execution_count": null,
   "metadata": {},
   "outputs": [],
   "source": [
    "df = pd.DataFrame(array)\n",
    "df['output'] = tweets['target']\n",
    "basic_features = tweets_metrics[['length','avg_word_length','amount_of_words','amount_of_unique_words','sentiment','stopwords_count','punctuation_count','mentions_count','hashtags_count','longest_word_length_without_stopwords']]\n",
    "tfidf_features = df.merge(basic_features, left_index = True, right_index = True)\n",
    "tfidf_features"
   ]
  },
  {
   "cell_type": "code",
   "execution_count": null,
   "metadata": {},
   "outputs": [],
   "source": [
    "features = tfidf_features.columns.drop('output')\n",
    "x = tfidf_features.loc[:, features].values\n",
    "y = tfidf_features.loc[:, 'output'].values\n",
    "\n",
    "from sklearn.model_selection import train_test_split\n",
    "x_tfidf_train, x_tfidf_test, y_tfidf_train, y_tfidf_test = train_test_split(x, y, test_size = 0.25, random_state = 123)\n",
    "\n",
    "from sklearn.preprocessing import StandardScaler\n",
    "sc = StandardScaler()\n",
    "x_tfidf_train = sc.fit_transform(x_tfidf_train)\n",
    "x_tfidf_test = sc.transform(x_tfidf_test)\n",
    "print(x_tfidf_train.shape, x_tfidf_test.shape)"
   ]
  },
  {
   "cell_type": "markdown",
   "metadata": {},
   "source": [
    "### Split de TF-IDF"
   ]
  },
  {
   "cell_type": "code",
   "execution_count": null,
   "metadata": {},
   "outputs": [],
   "source": [
    "x_text_train, x_text_test, y_text_train, y_text_test = \\\n",
    "train_test_split(tweets_metrics['text'], tweets_metrics['target'], test_size = 0.25, random_state = 123)"
   ]
  },
  {
   "cell_type": "code",
   "execution_count": null,
   "metadata": {},
   "outputs": [],
   "source": [
    "tfid_vectorizer = TfidfVectorizer()\n",
    "train_vectors = tfid_vectorizer.fit_transform(x_text_train)\n",
    "test_vectors = tfid_vectorizer.transform(x_text_test)\n",
    "print(train_vectors.shape, test_vectors.shape)"
   ]
  },
  {
   "cell_type": "markdown",
   "metadata": {},
   "source": [
    "### Split count vectorizer"
   ]
  },
  {
   "cell_type": "code",
   "execution_count": null,
   "metadata": {},
   "outputs": [],
   "source": [
    "from sklearn.feature_extraction.text import CountVectorizer\n",
    "count_vectorizer = CountVectorizer(analyzer='word', ngram_range=(2, 2))\n",
    "count_train = count_vectorizer.fit_transform(x_text_train)\n",
    "count_test = count_vectorizer.transform(x_text_test)\n",
    "print(count_train.shape, count_test.shape, y_text_train.shape,y_text_test.shape )"
   ]
  },
  {
   "cell_type": "markdown",
   "metadata": {},
   "source": [
    "### Split de Hash vectorizer"
   ]
  },
  {
   "cell_type": "code",
   "execution_count": 43,
   "metadata": {},
   "outputs": [],
   "source": [
    "from sklearn.feature_extraction.text import HashingVectorizer\n",
    "\n",
    "hash_vectorizer = HashingVectorizer()\n",
    "hash_train = hash_vectorizer.fit_transform(x_text_train)\n",
    "hash_test = hash_vectorizer.fit_transform(x_text_test)\n",
    "from sklearn.preprocessing import StandardScaler\n",
    "sc = StandardScaler(with_mean=False)\n",
    "hash_train = sc.fit_transform(hash_train)\n",
    "hash_test = sc.transform(hash_test)"
   ]
  },
  {
   "cell_type": "markdown",
   "metadata": {},
   "source": [
    "### Para submits"
   ]
  },
  {
   "cell_type": "code",
   "execution_count": 44,
   "metadata": {},
   "outputs": [],
   "source": [
    "test = pd.read_csv(\"test.csv\")"
   ]
  },
  {
   "cell_type": "markdown",
   "metadata": {},
   "source": [
    "### TF-IDF"
   ]
  },
  {
   "cell_type": "code",
   "execution_count": null,
   "metadata": {},
   "outputs": [],
   "source": []
  },
  {
   "cell_type": "code",
   "execution_count": 45,
   "metadata": {},
   "outputs": [
    {
     "name": "stdout",
     "output_type": "stream",
     "text": [
      "(7434, 21529) (3263, 21529)\n"
     ]
    }
   ],
   "source": [
    "train_vectors_full = tfid_vectorizer.fit_transform(tweets_metrics['text'])\n",
    "test_vectors_full = tfid_vectorizer.transform(test['text'])\n",
    "y_train_full = tweets_metrics['target']\n",
    "print(train_vectors_full.shape, test_vectors_full.shape )"
   ]
  },
  {
   "cell_type": "markdown",
   "metadata": {},
   "source": [
    "### KNN : baseline\n",
    " *En principio usando un bootstrap del set de entrenamiento para medir accuracy. Se utilizo un 25% del set para entrenar y el 75% restante para la predicción. Se utilizó la representación TF-IDF para el entrenamiento ya que KNN funciona con valores numericos.*\n",
    " \n",
    "Methods\n",
    "\n",
    "* fit(self, X, y) Fit the model using X as training data and y as target values\n",
    "\n",
    "* get_params(self[, deep]) Get parameters for this estimator.\n",
    "\n",
    "* kneighbors(self[, X, n_neighbors, …]) Finds the K-neighbors of a point.\n",
    "\n",
    "* kneighbors_graph(self[, X, n_neighbors, mode]) Computes the (weighted) graph of k-Neighbors for points in X\n",
    "\n",
    "* predict(self, X) Predict the class labels for the provided data.\n",
    "\n",
    "* predict_proba(self, X) Return probability estimates for the test data X.\n",
    "\n",
    "* score(self, X, y[, sample_weight]) Return the mean accuracy on the given test data and labels.\n",
    "\n",
    "* set_params(self, \\*\\*params) Set the parameters of this estimator."
   ]
  },
  {
   "cell_type": "markdown",
   "metadata": {},
   "source": [
    "### KNN con basic features"
   ]
  },
  {
   "cell_type": "code",
   "execution_count": 18,
   "metadata": {},
   "outputs": [
    {
     "name": "stdout",
     "output_type": "stream",
     "text": [
      "50 0.6933835395373857\n"
     ]
    }
   ],
   "source": [
    "from sklearn.neighbors import KNeighborsClassifier\n",
    "knn = KNeighborsClassifier(n_neighbors=1)\n",
    "knn.fit(x_train, y_train)\n",
    "max = knn.score(x_test, y_test)\n",
    "actual = max\n",
    "optimo = 1\n",
    "\n",
    "for i in range(2, 100):\n",
    "    knn = KNeighborsClassifier(n_neighbors = i)\n",
    "    knn.fit(x_train, y_train)\n",
    "    actual = knn.score(x_test, y_test)\n",
    "    if max < actual:\n",
    "        optimo = i \n",
    "        max = actual\n",
    "\n",
    "print(optimo, max) #0.6853146853146853 con 20 con basic features 22 con features"
   ]
  },
  {
   "cell_type": "code",
   "execution_count": 19,
   "metadata": {},
   "outputs": [
    {
     "name": "stdout",
     "output_type": "stream",
     "text": [
      "0.6844373072970196\n"
     ]
    }
   ],
   "source": [
    "from sklearn.model_selection import cross_val_score\n",
    "\n",
    "knn = KNeighborsClassifier(n_neighbors=43)\n",
    "all_accuracies = cross_val_score(estimator=knn, X=x_train, y=y_train, cv=40)\n",
    "print(all_accuracies.mean())"
   ]
  },
  {
   "cell_type": "markdown",
   "metadata": {},
   "source": [
    "### KNN con TF-IDF"
   ]
  },
  {
   "cell_type": "code",
   "execution_count": 52,
   "metadata": {},
   "outputs": [
    {
     "name": "stdout",
     "output_type": "stream",
     "text": [
      "1 0.7912856374394835\n"
     ]
    }
   ],
   "source": [
    "from sklearn.neighbors import KNeighborsClassifier\n",
    "\n",
    "knn = KNeighborsClassifier(n_neighbors=1)\n",
    "knn.fit(train_vectors, y_text_train)\n",
    "max = knn.score(test_vectors, y_text_test)\n",
    "actual = max\n",
    "optimo = 1\n",
    "\n",
    "\n",
    "for i in range(1, 100, 1):\n",
    "    knn = KNeighborsClassifier(n_neighbors = i)\n",
    "    knn.fit(train_vectors, y_text_train)\n",
    "    actual = knn.score(test_vectors, y_text_test)\n",
    "    if max < actual:\n",
    "        optimo = i \n",
    "        max = actual\n",
    "\n",
    "ensemble = VotingClassifier(estimators=models, voting='hard')  \n",
    "ensemble.fit(train_vectors_full, y_train_full)\n",
    "predicted = ensemble.predict(test_vectors_full)\n",
    "test['target'] = predicted\n",
    "submit_kaggle = test.loc[:, ['id', 'target']]\n",
    "submit_kaggle.to_csv(\"prueba_ensambleknn.csv\", index=False)\n",
    "print(optimo, max) #0.7961269499731038 con 49"
   ]
  },
  {
   "cell_type": "code",
   "execution_count": 64,
   "metadata": {},
   "outputs": [],
   "source": [
    "import xgboost as xgb\n",
    "from sklearn.neighbors import KNeighborsClassifier\n",
    "from sklearn.ensemble import VotingClassifier\n",
    "\n",
    "\n",
    "models = []\n",
    "knn = KNeighborsClassifier(n_neighbors=1)\n",
    "models.append(('knn0',knn))\n",
    "\n",
    "\n",
    "for i in range(1, 100, 1):\n",
    "    knn = KNeighborsClassifier(n_neighbors = i)\n",
    "    models.append((\"knn\"+str(i),knn))\n",
    "\n",
    "xg_reg = xgb.XGBClassifier(objective ='reg:logistic', \n",
    "                colsample_bytree = 0.5, colsample_bylevel = 0.85, learning_rate = 0.05,\n",
    "                max_depth = 17, min_child_weight = 3, alpha = 0.6, gamma =  0.9, n_estimators = 210)\n",
    "models.append(('xgb0', xg_reg))\n",
    "xg_reg = xgb.XGBClassifier(objective ='reg:logistic', \n",
    "                colsample_bytree = 0.45, colsample_bylevel = 0.4, learning_rate = 0.05,\n",
    "                max_depth = 25, min_child_weight = 1.1, alpha = 0.5, gamma =  0.4, n_estimators = 210)\n",
    "models.append(('xgb1', xg_reg))\n",
    "xg_reg = xgb.XGBClassifier(objective ='reg:logistic', \n",
    "                colsample_bytree = 0.65, colsample_bylevel = 0.6, learning_rate = 0.05,\n",
    "                max_depth = 20, min_child_weight = 2, alpha = 0.7, gamma =  0.8, n_estimators = 210)\n",
    "models.append(('xgb2', xg_reg))\n",
    "xg_reg = xgb.XGBClassifier(objective ='reg:logistic', \n",
    "                colsample_bytree = 0.35, colsample_bylevel = 0.3, learning_rate = 0.1,\n",
    "                max_depth = 35, min_child_weight = 1.5, alpha = 0.9, gamma =  0.4, n_estimators = 240)\n",
    "\n",
    "models.append(('xgb3', xg_reg))\n",
    "ensemble = VotingClassifier(estimators=models, voting='soft')  \n",
    "ensemble.fit(train_vectors_full, y_train_full)\n",
    "predicted = ensemble.predict(test_vectors_full)\n",
    "test['target'] = predicted\n",
    "submit_kaggle = test.loc[:, ['id', 'target']]\n",
    "submit_kaggle.to_csv(\"xgb_knn.csv\", index=False)"
   ]
  },
  {
   "cell_type": "markdown",
   "metadata": {},
   "source": [
    "### KNN con count vectorizer"
   ]
  },
  {
   "cell_type": "code",
   "execution_count": 44,
   "metadata": {},
   "outputs": [
    {
     "ename": "KeyboardInterrupt",
     "evalue": "",
     "output_type": "error",
     "traceback": [
      "\u001b[0;31m---------------------------------------------------------------------------\u001b[0m",
      "\u001b[0;31mKeyboardInterrupt\u001b[0m                         Traceback (most recent call last)",
      "\u001b[0;32m<ipython-input-44-811b85a32776>\u001b[0m in \u001b[0;36m<module>\u001b[0;34m\u001b[0m\n\u001b[1;32m      9\u001b[0m     \u001b[0mknn\u001b[0m \u001b[0;34m=\u001b[0m \u001b[0mKNeighborsClassifier\u001b[0m\u001b[0;34m(\u001b[0m\u001b[0mn_neighbors\u001b[0m \u001b[0;34m=\u001b[0m \u001b[0mi\u001b[0m\u001b[0;34m)\u001b[0m\u001b[0;34m\u001b[0m\u001b[0;34m\u001b[0m\u001b[0m\n\u001b[1;32m     10\u001b[0m     \u001b[0mknn\u001b[0m\u001b[0;34m.\u001b[0m\u001b[0mfit\u001b[0m\u001b[0;34m(\u001b[0m\u001b[0mcount_train\u001b[0m\u001b[0;34m,\u001b[0m \u001b[0my_text_train\u001b[0m\u001b[0;34m)\u001b[0m\u001b[0;34m\u001b[0m\u001b[0;34m\u001b[0m\u001b[0m\n\u001b[0;32m---> 11\u001b[0;31m     \u001b[0mactual\u001b[0m \u001b[0;34m=\u001b[0m \u001b[0mknn\u001b[0m\u001b[0;34m.\u001b[0m\u001b[0mscore\u001b[0m\u001b[0;34m(\u001b[0m\u001b[0mcount_test\u001b[0m\u001b[0;34m,\u001b[0m \u001b[0my_text_test\u001b[0m\u001b[0;34m)\u001b[0m\u001b[0;34m\u001b[0m\u001b[0;34m\u001b[0m\u001b[0m\n\u001b[0m\u001b[1;32m     12\u001b[0m     \u001b[0;32mif\u001b[0m \u001b[0mmax\u001b[0m \u001b[0;34m<\u001b[0m \u001b[0mactual\u001b[0m\u001b[0;34m:\u001b[0m\u001b[0;34m\u001b[0m\u001b[0;34m\u001b[0m\u001b[0m\n\u001b[1;32m     13\u001b[0m         \u001b[0moptimo\u001b[0m \u001b[0;34m=\u001b[0m \u001b[0mi\u001b[0m\u001b[0;34m\u001b[0m\u001b[0;34m\u001b[0m\u001b[0m\n",
      "\u001b[0;32m~/anaconda3/lib/python3.7/site-packages/sklearn/base.py\u001b[0m in \u001b[0;36mscore\u001b[0;34m(self, X, y, sample_weight)\u001b[0m\n\u001b[1;32m    367\u001b[0m         \"\"\"\n\u001b[1;32m    368\u001b[0m         \u001b[0;32mfrom\u001b[0m \u001b[0;34m.\u001b[0m\u001b[0mmetrics\u001b[0m \u001b[0;32mimport\u001b[0m \u001b[0maccuracy_score\u001b[0m\u001b[0;34m\u001b[0m\u001b[0;34m\u001b[0m\u001b[0m\n\u001b[0;32m--> 369\u001b[0;31m         \u001b[0;32mreturn\u001b[0m \u001b[0maccuracy_score\u001b[0m\u001b[0;34m(\u001b[0m\u001b[0my\u001b[0m\u001b[0;34m,\u001b[0m \u001b[0mself\u001b[0m\u001b[0;34m.\u001b[0m\u001b[0mpredict\u001b[0m\u001b[0;34m(\u001b[0m\u001b[0mX\u001b[0m\u001b[0;34m)\u001b[0m\u001b[0;34m,\u001b[0m \u001b[0msample_weight\u001b[0m\u001b[0;34m=\u001b[0m\u001b[0msample_weight\u001b[0m\u001b[0;34m)\u001b[0m\u001b[0;34m\u001b[0m\u001b[0;34m\u001b[0m\u001b[0m\n\u001b[0m\u001b[1;32m    370\u001b[0m \u001b[0;34m\u001b[0m\u001b[0m\n\u001b[1;32m    371\u001b[0m \u001b[0;34m\u001b[0m\u001b[0m\n",
      "\u001b[0;32m~/anaconda3/lib/python3.7/site-packages/sklearn/neighbors/_classification.py\u001b[0m in \u001b[0;36mpredict\u001b[0;34m(self, X)\u001b[0m\n\u001b[1;32m    171\u001b[0m         \u001b[0mX\u001b[0m \u001b[0;34m=\u001b[0m \u001b[0mcheck_array\u001b[0m\u001b[0;34m(\u001b[0m\u001b[0mX\u001b[0m\u001b[0;34m,\u001b[0m \u001b[0maccept_sparse\u001b[0m\u001b[0;34m=\u001b[0m\u001b[0;34m'csr'\u001b[0m\u001b[0;34m)\u001b[0m\u001b[0;34m\u001b[0m\u001b[0;34m\u001b[0m\u001b[0m\n\u001b[1;32m    172\u001b[0m \u001b[0;34m\u001b[0m\u001b[0m\n\u001b[0;32m--> 173\u001b[0;31m         \u001b[0mneigh_dist\u001b[0m\u001b[0;34m,\u001b[0m \u001b[0mneigh_ind\u001b[0m \u001b[0;34m=\u001b[0m \u001b[0mself\u001b[0m\u001b[0;34m.\u001b[0m\u001b[0mkneighbors\u001b[0m\u001b[0;34m(\u001b[0m\u001b[0mX\u001b[0m\u001b[0;34m)\u001b[0m\u001b[0;34m\u001b[0m\u001b[0;34m\u001b[0m\u001b[0m\n\u001b[0m\u001b[1;32m    174\u001b[0m         \u001b[0mclasses_\u001b[0m \u001b[0;34m=\u001b[0m \u001b[0mself\u001b[0m\u001b[0;34m.\u001b[0m\u001b[0mclasses_\u001b[0m\u001b[0;34m\u001b[0m\u001b[0;34m\u001b[0m\u001b[0m\n\u001b[1;32m    175\u001b[0m         \u001b[0m_y\u001b[0m \u001b[0;34m=\u001b[0m \u001b[0mself\u001b[0m\u001b[0;34m.\u001b[0m\u001b[0m_y\u001b[0m\u001b[0;34m\u001b[0m\u001b[0;34m\u001b[0m\u001b[0m\n",
      "\u001b[0;32m~/anaconda3/lib/python3.7/site-packages/sklearn/neighbors/_base.py\u001b[0m in \u001b[0;36mkneighbors\u001b[0;34m(self, X, n_neighbors, return_distance)\u001b[0m\n\u001b[1;32m    640\u001b[0m                 \u001b[0mX\u001b[0m\u001b[0;34m,\u001b[0m \u001b[0mself\u001b[0m\u001b[0;34m.\u001b[0m\u001b[0m_fit_X\u001b[0m\u001b[0;34m,\u001b[0m \u001b[0mreduce_func\u001b[0m\u001b[0;34m=\u001b[0m\u001b[0mreduce_func\u001b[0m\u001b[0;34m,\u001b[0m\u001b[0;34m\u001b[0m\u001b[0;34m\u001b[0m\u001b[0m\n\u001b[1;32m    641\u001b[0m                 \u001b[0mmetric\u001b[0m\u001b[0;34m=\u001b[0m\u001b[0mself\u001b[0m\u001b[0;34m.\u001b[0m\u001b[0meffective_metric_\u001b[0m\u001b[0;34m,\u001b[0m \u001b[0mn_jobs\u001b[0m\u001b[0;34m=\u001b[0m\u001b[0mn_jobs\u001b[0m\u001b[0;34m,\u001b[0m\u001b[0;34m\u001b[0m\u001b[0;34m\u001b[0m\u001b[0m\n\u001b[0;32m--> 642\u001b[0;31m                 **kwds))\n\u001b[0m\u001b[1;32m    643\u001b[0m \u001b[0;34m\u001b[0m\u001b[0m\n\u001b[1;32m    644\u001b[0m         \u001b[0;32melif\u001b[0m \u001b[0mself\u001b[0m\u001b[0;34m.\u001b[0m\u001b[0m_fit_method\u001b[0m \u001b[0;32min\u001b[0m \u001b[0;34m[\u001b[0m\u001b[0;34m'ball_tree'\u001b[0m\u001b[0;34m,\u001b[0m \u001b[0;34m'kd_tree'\u001b[0m\u001b[0;34m]\u001b[0m\u001b[0;34m:\u001b[0m\u001b[0;34m\u001b[0m\u001b[0;34m\u001b[0m\u001b[0m\n",
      "\u001b[0;32m~/anaconda3/lib/python3.7/site-packages/sklearn/metrics/pairwise.py\u001b[0m in \u001b[0;36mpairwise_distances_chunked\u001b[0;34m(X, Y, reduce_func, metric, n_jobs, working_memory, **kwds)\u001b[0m\n\u001b[1;32m   1590\u001b[0m             \u001b[0mX_chunk\u001b[0m \u001b[0;34m=\u001b[0m \u001b[0mX\u001b[0m\u001b[0;34m[\u001b[0m\u001b[0msl\u001b[0m\u001b[0;34m]\u001b[0m\u001b[0;34m\u001b[0m\u001b[0;34m\u001b[0m\u001b[0m\n\u001b[1;32m   1591\u001b[0m         D_chunk = pairwise_distances(X_chunk, Y, metric=metric,\n\u001b[0;32m-> 1592\u001b[0;31m                                      n_jobs=n_jobs, **kwds)\n\u001b[0m\u001b[1;32m   1593\u001b[0m         if ((X is Y or Y is None)\n\u001b[1;32m   1594\u001b[0m                 \u001b[0;32mand\u001b[0m \u001b[0mPAIRWISE_DISTANCE_FUNCTIONS\u001b[0m\u001b[0;34m.\u001b[0m\u001b[0mget\u001b[0m\u001b[0;34m(\u001b[0m\u001b[0mmetric\u001b[0m\u001b[0;34m,\u001b[0m \u001b[0;32mNone\u001b[0m\u001b[0;34m)\u001b[0m\u001b[0;34m\u001b[0m\u001b[0;34m\u001b[0m\u001b[0m\n",
      "\u001b[0;32m~/anaconda3/lib/python3.7/site-packages/sklearn/metrics/pairwise.py\u001b[0m in \u001b[0;36mpairwise_distances\u001b[0;34m(X, Y, metric, n_jobs, force_all_finite, **kwds)\u001b[0m\n\u001b[1;32m   1747\u001b[0m         \u001b[0mfunc\u001b[0m \u001b[0;34m=\u001b[0m \u001b[0mpartial\u001b[0m\u001b[0;34m(\u001b[0m\u001b[0mdistance\u001b[0m\u001b[0;34m.\u001b[0m\u001b[0mcdist\u001b[0m\u001b[0;34m,\u001b[0m \u001b[0mmetric\u001b[0m\u001b[0;34m=\u001b[0m\u001b[0mmetric\u001b[0m\u001b[0;34m,\u001b[0m \u001b[0;34m**\u001b[0m\u001b[0mkwds\u001b[0m\u001b[0;34m)\u001b[0m\u001b[0;34m\u001b[0m\u001b[0;34m\u001b[0m\u001b[0m\n\u001b[1;32m   1748\u001b[0m \u001b[0;34m\u001b[0m\u001b[0m\n\u001b[0;32m-> 1749\u001b[0;31m     \u001b[0;32mreturn\u001b[0m \u001b[0m_parallel_pairwise\u001b[0m\u001b[0;34m(\u001b[0m\u001b[0mX\u001b[0m\u001b[0;34m,\u001b[0m \u001b[0mY\u001b[0m\u001b[0;34m,\u001b[0m \u001b[0mfunc\u001b[0m\u001b[0;34m,\u001b[0m \u001b[0mn_jobs\u001b[0m\u001b[0;34m,\u001b[0m \u001b[0;34m**\u001b[0m\u001b[0mkwds\u001b[0m\u001b[0;34m)\u001b[0m\u001b[0;34m\u001b[0m\u001b[0;34m\u001b[0m\u001b[0m\n\u001b[0m\u001b[1;32m   1750\u001b[0m \u001b[0;34m\u001b[0m\u001b[0m\n\u001b[1;32m   1751\u001b[0m \u001b[0;34m\u001b[0m\u001b[0m\n",
      "\u001b[0;32m~/anaconda3/lib/python3.7/site-packages/sklearn/metrics/pairwise.py\u001b[0m in \u001b[0;36m_parallel_pairwise\u001b[0;34m(X, Y, func, n_jobs, **kwds)\u001b[0m\n\u001b[1;32m   1346\u001b[0m \u001b[0;34m\u001b[0m\u001b[0m\n\u001b[1;32m   1347\u001b[0m     \u001b[0;32mif\u001b[0m \u001b[0meffective_n_jobs\u001b[0m\u001b[0;34m(\u001b[0m\u001b[0mn_jobs\u001b[0m\u001b[0;34m)\u001b[0m \u001b[0;34m==\u001b[0m \u001b[0;36m1\u001b[0m\u001b[0;34m:\u001b[0m\u001b[0;34m\u001b[0m\u001b[0;34m\u001b[0m\u001b[0m\n\u001b[0;32m-> 1348\u001b[0;31m         \u001b[0;32mreturn\u001b[0m \u001b[0mfunc\u001b[0m\u001b[0;34m(\u001b[0m\u001b[0mX\u001b[0m\u001b[0;34m,\u001b[0m \u001b[0mY\u001b[0m\u001b[0;34m,\u001b[0m \u001b[0;34m**\u001b[0m\u001b[0mkwds\u001b[0m\u001b[0;34m)\u001b[0m\u001b[0;34m\u001b[0m\u001b[0;34m\u001b[0m\u001b[0m\n\u001b[0m\u001b[1;32m   1349\u001b[0m \u001b[0;34m\u001b[0m\u001b[0m\n\u001b[1;32m   1350\u001b[0m     \u001b[0;31m# enforce a threading backend to prevent data communication overhead\u001b[0m\u001b[0;34m\u001b[0m\u001b[0;34m\u001b[0m\u001b[0;34m\u001b[0m\u001b[0m\n",
      "\u001b[0;32m~/anaconda3/lib/python3.7/site-packages/sklearn/metrics/pairwise.py\u001b[0m in \u001b[0;36meuclidean_distances\u001b[0;34m(X, Y, Y_norm_squared, squared, X_norm_squared)\u001b[0m\n\u001b[1;32m    301\u001b[0m     \u001b[0;32melse\u001b[0m\u001b[0;34m:\u001b[0m\u001b[0;34m\u001b[0m\u001b[0;34m\u001b[0m\u001b[0m\n\u001b[1;32m    302\u001b[0m         \u001b[0;31m# if dtype is already float64, no need to chunk and upcast\u001b[0m\u001b[0;34m\u001b[0m\u001b[0;34m\u001b[0m\u001b[0;34m\u001b[0m\u001b[0m\n\u001b[0;32m--> 303\u001b[0;31m         \u001b[0mdistances\u001b[0m \u001b[0;34m=\u001b[0m \u001b[0;34m-\u001b[0m \u001b[0;36m2\u001b[0m \u001b[0;34m*\u001b[0m \u001b[0msafe_sparse_dot\u001b[0m\u001b[0;34m(\u001b[0m\u001b[0mX\u001b[0m\u001b[0;34m,\u001b[0m \u001b[0mY\u001b[0m\u001b[0;34m.\u001b[0m\u001b[0mT\u001b[0m\u001b[0;34m,\u001b[0m \u001b[0mdense_output\u001b[0m\u001b[0;34m=\u001b[0m\u001b[0;32mTrue\u001b[0m\u001b[0;34m)\u001b[0m\u001b[0;34m\u001b[0m\u001b[0;34m\u001b[0m\u001b[0m\n\u001b[0m\u001b[1;32m    304\u001b[0m         \u001b[0mdistances\u001b[0m \u001b[0;34m+=\u001b[0m \u001b[0mXX\u001b[0m\u001b[0;34m\u001b[0m\u001b[0;34m\u001b[0m\u001b[0m\n\u001b[1;32m    305\u001b[0m         \u001b[0mdistances\u001b[0m \u001b[0;34m+=\u001b[0m \u001b[0mYY\u001b[0m\u001b[0;34m\u001b[0m\u001b[0;34m\u001b[0m\u001b[0m\n",
      "\u001b[0;32m~/anaconda3/lib/python3.7/site-packages/sklearn/utils/extmath.py\u001b[0m in \u001b[0;36msafe_sparse_dot\u001b[0;34m(a, b, dense_output)\u001b[0m\n\u001b[1;32m    153\u001b[0m     if (sparse.issparse(a) and sparse.issparse(b)\n\u001b[1;32m    154\u001b[0m             and dense_output and hasattr(ret, \"toarray\")):\n\u001b[0;32m--> 155\u001b[0;31m         \u001b[0;32mreturn\u001b[0m \u001b[0mret\u001b[0m\u001b[0;34m.\u001b[0m\u001b[0mtoarray\u001b[0m\u001b[0;34m(\u001b[0m\u001b[0;34m)\u001b[0m\u001b[0;34m\u001b[0m\u001b[0;34m\u001b[0m\u001b[0m\n\u001b[0m\u001b[1;32m    156\u001b[0m     \u001b[0;32mreturn\u001b[0m \u001b[0mret\u001b[0m\u001b[0;34m\u001b[0m\u001b[0;34m\u001b[0m\u001b[0m\n\u001b[1;32m    157\u001b[0m \u001b[0;34m\u001b[0m\u001b[0m\n",
      "\u001b[0;32m~/anaconda3/lib/python3.7/site-packages/scipy/sparse/compressed.py\u001b[0m in \u001b[0;36mtoarray\u001b[0;34m(self, order, out)\u001b[0m\n\u001b[1;32m   1034\u001b[0m             \u001b[0my\u001b[0m \u001b[0;34m=\u001b[0m \u001b[0mout\u001b[0m\u001b[0;34m.\u001b[0m\u001b[0mT\u001b[0m\u001b[0;34m\u001b[0m\u001b[0;34m\u001b[0m\u001b[0m\n\u001b[1;32m   1035\u001b[0m         \u001b[0mM\u001b[0m\u001b[0;34m,\u001b[0m \u001b[0mN\u001b[0m \u001b[0;34m=\u001b[0m \u001b[0mx\u001b[0m\u001b[0;34m.\u001b[0m\u001b[0m_swap\u001b[0m\u001b[0;34m(\u001b[0m\u001b[0mx\u001b[0m\u001b[0;34m.\u001b[0m\u001b[0mshape\u001b[0m\u001b[0;34m)\u001b[0m\u001b[0;34m\u001b[0m\u001b[0;34m\u001b[0m\u001b[0m\n\u001b[0;32m-> 1036\u001b[0;31m         \u001b[0mcsr_todense\u001b[0m\u001b[0;34m(\u001b[0m\u001b[0mM\u001b[0m\u001b[0;34m,\u001b[0m \u001b[0mN\u001b[0m\u001b[0;34m,\u001b[0m \u001b[0mx\u001b[0m\u001b[0;34m.\u001b[0m\u001b[0mindptr\u001b[0m\u001b[0;34m,\u001b[0m \u001b[0mx\u001b[0m\u001b[0;34m.\u001b[0m\u001b[0mindices\u001b[0m\u001b[0;34m,\u001b[0m \u001b[0mx\u001b[0m\u001b[0;34m.\u001b[0m\u001b[0mdata\u001b[0m\u001b[0;34m,\u001b[0m \u001b[0my\u001b[0m\u001b[0;34m)\u001b[0m\u001b[0;34m\u001b[0m\u001b[0;34m\u001b[0m\u001b[0m\n\u001b[0m\u001b[1;32m   1037\u001b[0m         \u001b[0;32mreturn\u001b[0m \u001b[0mout\u001b[0m\u001b[0;34m\u001b[0m\u001b[0;34m\u001b[0m\u001b[0m\n\u001b[1;32m   1038\u001b[0m \u001b[0;34m\u001b[0m\u001b[0m\n",
      "\u001b[0;31mKeyboardInterrupt\u001b[0m: "
     ]
    }
   ],
   "source": [
    "from sklearn.neighbors import KNeighborsClassifier\n",
    "knn = KNeighborsClassifier(n_neighbors=1)\n",
    "knn.fit(count_train, y_text_train)\n",
    "max = knn.score(count_test, y_text_test)\n",
    "actual = max\n",
    "optimo = 1\n",
    "\n",
    "for i in range(2, 100):\n",
    "    knn = KNeighborsClassifier(n_neighbors = i)\n",
    "    knn.fit(count_train, y_text_train)\n",
    "    actual = knn.score(count_test, y_text_test)\n",
    "    if max < actual:\n",
    "        optimo = i \n",
    "        max = actual\n",
    "\n",
    "print(optimo, max) #0.6778749159381304 con 1 (basura)"
   ]
  },
  {
   "cell_type": "markdown",
   "metadata": {},
   "source": [
    "### Submit"
   ]
  },
  {
   "cell_type": "code",
   "execution_count": 23,
   "metadata": {},
   "outputs": [],
   "source": [
    "knn = KNeighborsClassifier(n_neighbors=17)\n",
    "knn.fit(train_vectors_full, y_train_full)\n",
    "predicted = knn.predict(test_vectors_full)"
   ]
  },
  {
   "cell_type": "code",
   "execution_count": 24,
   "metadata": {},
   "outputs": [],
   "source": [
    "test['target'] = predicted\n",
    "submit_kaggle = test.loc[:, ['id', 'target']]\n",
    "submit_kaggle.to_csv(\"knn_tfidf.csv\", index=False)"
   ]
  },
  {
   "cell_type": "markdown",
   "metadata": {},
   "source": [
    "### XGBoost"
   ]
  },
  {
   "cell_type": "markdown",
   "metadata": {},
   "source": [
    "### Busqueda de parametros con feature engineering"
   ]
  },
  {
   "cell_type": "code",
   "execution_count": null,
   "metadata": {},
   "outputs": [],
   "source": []
  },
  {
   "cell_type": "code",
   "execution_count": 25,
   "metadata": {},
   "outputs": [
    {
     "name": "stdout",
     "output_type": "stream",
     "text": [
      "0.7197417966648736\n"
     ]
    }
   ],
   "source": [
    "import xgboost as xgb\n",
    "from sklearn.metrics import mean_squared_error\n",
    "from sklearn.model_selection import cross_val_score\n",
    "from sklearn.model_selection import KFold\n",
    "\n",
    "#acc = 0.7305002689618074(objective ='binary:logistic', colsample_bytree = 0.6, learning_rate = 0.01, max_depth = 35,alpha = 0.5, n_estimators = 140) \n",
    "xg_reg = xgb.XGBClassifier(objective ='binary:logistic', \n",
    "                colsample_bytree = 0.6, learning_rate = 0.005,\n",
    "                max_depth = 35,alpha = 0.5, n_estimators = 140) \n",
    "xg_reg.fit(x_train,y_train) \n",
    "y_pred = xg_reg.predict(x_test)\n",
    "\n",
    "for i in range (0, len(y_pred)):\n",
    "    if y_pred[i] >= 0.5:       \n",
    "        y_pred[i] = 1 \n",
    "    else:  \n",
    "        y_pred[i]=0\n",
    "        \n",
    "accuracy = accuracy_score(y_pred,y_test)\n",
    "print(accuracy)"
   ]
  },
  {
   "cell_type": "code",
   "execution_count": 26,
   "metadata": {},
   "outputs": [
    {
     "data": {
      "text/plain": [
       "<matplotlib.axes._subplots.AxesSubplot at 0x7f7f78103a90>"
      ]
     },
     "execution_count": 26,
     "metadata": {},
     "output_type": "execute_result"
    },
    {
     "data": {
      "image/png": "[encoded data removed]",
      "text/plain": [
       "<Figure size 864x504 with 1 Axes>"
      ]
     },
     "metadata": {
      "image/png": {
       "height": 440,
       "width": 714
      },
      "needs_background": "light"
     },
     "output_type": "display_data"
    }
   ],
   "source": [
    "kfold = KFold(n_splits=10)\n",
    "results = cross_val_score(xg_reg, x_train, y_train, cv=kfold)\n",
    "results\n",
    "\n",
    "import matplotlib.pyplot as plt\n",
    "\n",
    "plt.rcParams['figure.figsize'] = [12, 7]\n",
    "xgb.plot_importance(xg_reg)"
   ]
  },
  {
   "cell_type": "markdown",
   "metadata": {},
   "source": [
    "### XGBoost con TF-IDF"
   ]
  },
  {
   "cell_type": "markdown",
   "metadata": {},
   "source": [
    "### Busqueda de parametros"
   ]
  },
  {
   "cell_type": "code",
   "execution_count": 27,
   "metadata": {},
   "outputs": [
    {
     "name": "stdout",
     "output_type": "stream",
     "text": [
      "Fitting 4 folds for each of 20 candidates, totalling 80 fits\n",
      "[CV] subsample=0.1, scale_pos_weight=3, n_estimators=150, min_child_weight=3, max_depth=31, learning_rate=0.066, gamma=0.30000000000000004, colsample_bytree=0.55, colsample_bylevel=0.7500000000000001, alpha=0.2 \n"
     ]
    },
    {
     "name": "stderr",
     "output_type": "stream",
     "text": [
      "[Parallel(n_jobs=1)]: Using backend SequentialBackend with 1 concurrent workers.\n"
     ]
    },
    {
     "name": "stdout",
     "output_type": "stream",
     "text": [
      "[CV]  subsample=0.1, scale_pos_weight=3, n_estimators=150, min_child_weight=3, max_depth=31, learning_rate=0.066, gamma=0.30000000000000004, colsample_bytree=0.55, colsample_bylevel=0.7500000000000001, alpha=0.2, total=   4.4s\n",
      "[CV] subsample=0.1, scale_pos_weight=3, n_estimators=150, min_child_weight=3, max_depth=31, learning_rate=0.066, gamma=0.30000000000000004, colsample_bytree=0.55, colsample_bylevel=0.7500000000000001, alpha=0.2 \n"
     ]
    },
    {
     "name": "stderr",
     "output_type": "stream",
     "text": [
      "[Parallel(n_jobs=1)]: Done   1 out of   1 | elapsed:    4.4s remaining:    0.0s\n"
     ]
    },
    {
     "name": "stdout",
     "output_type": "stream",
     "text": [
      "[CV]  subsample=0.1, scale_pos_weight=3, n_estimators=150, min_child_weight=3, max_depth=31, learning_rate=0.066, gamma=0.30000000000000004, colsample_bytree=0.55, colsample_bylevel=0.7500000000000001, alpha=0.2, total=   4.4s\n",
      "[CV] subsample=0.1, scale_pos_weight=3, n_estimators=150, min_child_weight=3, max_depth=31, learning_rate=0.066, gamma=0.30000000000000004, colsample_bytree=0.55, colsample_bylevel=0.7500000000000001, alpha=0.2 \n",
      "[CV]  subsample=0.1, scale_pos_weight=3, n_estimators=150, min_child_weight=3, max_depth=31, learning_rate=0.066, gamma=0.30000000000000004, colsample_bytree=0.55, colsample_bylevel=0.7500000000000001, alpha=0.2, total=   3.3s\n",
      "[CV] subsample=0.1, scale_pos_weight=3, n_estimators=150, min_child_weight=3, max_depth=31, learning_rate=0.066, gamma=0.30000000000000004, colsample_bytree=0.55, colsample_bylevel=0.7500000000000001, alpha=0.2 \n",
      "[CV]  subsample=0.1, scale_pos_weight=3, n_estimators=150, min_child_weight=3, max_depth=31, learning_rate=0.066, gamma=0.30000000000000004, colsample_bytree=0.55, colsample_bylevel=0.7500000000000001, alpha=0.2, total=   3.4s\n",
      "[CV] subsample=0.9, scale_pos_weight=3, n_estimators=210, min_child_weight=3, max_depth=17, learning_rate=0.091, gamma=0.9, colsample_bytree=0.5, colsample_bylevel=0.8500000000000002, alpha=0.6 \n",
      "[CV]  subsample=0.9, scale_pos_weight=3, n_estimators=210, min_child_weight=3, max_depth=17, learning_rate=0.091, gamma=0.9, colsample_bytree=0.5, colsample_bylevel=0.8500000000000002, alpha=0.6, total=   6.6s\n",
      "[CV] subsample=0.9, scale_pos_weight=3, n_estimators=210, min_child_weight=3, max_depth=17, learning_rate=0.091, gamma=0.9, colsample_bytree=0.5, colsample_bylevel=0.8500000000000002, alpha=0.6 \n",
      "[CV]  subsample=0.9, scale_pos_weight=3, n_estimators=210, min_child_weight=3, max_depth=17, learning_rate=0.091, gamma=0.9, colsample_bytree=0.5, colsample_bylevel=0.8500000000000002, alpha=0.6, total=   5.5s\n",
      "[CV] subsample=0.9, scale_pos_weight=3, n_estimators=210, min_child_weight=3, max_depth=17, learning_rate=0.091, gamma=0.9, colsample_bytree=0.5, colsample_bylevel=0.8500000000000002, alpha=0.6 \n",
      "[CV]  subsample=0.9, scale_pos_weight=3, n_estimators=210, min_child_weight=3, max_depth=17, learning_rate=0.091, gamma=0.9, colsample_bytree=0.5, colsample_bylevel=0.8500000000000002, alpha=0.6, total=   5.9s\n",
      "[CV] subsample=0.9, scale_pos_weight=3, n_estimators=210, min_child_weight=3, max_depth=17, learning_rate=0.091, gamma=0.9, colsample_bytree=0.5, colsample_bylevel=0.8500000000000002, alpha=0.6 \n",
      "[CV]  subsample=0.9, scale_pos_weight=3, n_estimators=210, min_child_weight=3, max_depth=17, learning_rate=0.091, gamma=0.9, colsample_bytree=0.5, colsample_bylevel=0.8500000000000002, alpha=0.6, total=   7.3s\n",
      "[CV] subsample=0.6000000000000001, scale_pos_weight=5, n_estimators=270, min_child_weight=7, max_depth=33, learning_rate=0.076, gamma=0.2, colsample_bytree=0.8000000000000003, colsample_bylevel=0.7500000000000001, alpha=0.6 \n",
      "[CV]  subsample=0.6000000000000001, scale_pos_weight=5, n_estimators=270, min_child_weight=7, max_depth=33, learning_rate=0.076, gamma=0.2, colsample_bytree=0.8000000000000003, colsample_bylevel=0.7500000000000001, alpha=0.6, total=  17.7s\n",
      "[CV] subsample=0.6000000000000001, scale_pos_weight=5, n_estimators=270, min_child_weight=7, max_depth=33, learning_rate=0.076, gamma=0.2, colsample_bytree=0.8000000000000003, colsample_bylevel=0.7500000000000001, alpha=0.6 \n",
      "[CV]  subsample=0.6000000000000001, scale_pos_weight=5, n_estimators=270, min_child_weight=7, max_depth=33, learning_rate=0.076, gamma=0.2, colsample_bytree=0.8000000000000003, colsample_bylevel=0.7500000000000001, alpha=0.6, total=  18.7s\n",
      "[CV] subsample=0.6000000000000001, scale_pos_weight=5, n_estimators=270, min_child_weight=7, max_depth=33, learning_rate=0.076, gamma=0.2, colsample_bytree=0.8000000000000003, colsample_bylevel=0.7500000000000001, alpha=0.6 \n",
      "[CV]  subsample=0.6000000000000001, scale_pos_weight=5, n_estimators=270, min_child_weight=7, max_depth=33, learning_rate=0.076, gamma=0.2, colsample_bytree=0.8000000000000003, colsample_bylevel=0.7500000000000001, alpha=0.6, total=  18.6s\n",
      "[CV] subsample=0.6000000000000001, scale_pos_weight=5, n_estimators=270, min_child_weight=7, max_depth=33, learning_rate=0.076, gamma=0.2, colsample_bytree=0.8000000000000003, colsample_bylevel=0.7500000000000001, alpha=0.6 \n",
      "[CV]  subsample=0.6000000000000001, scale_pos_weight=5, n_estimators=270, min_child_weight=7, max_depth=33, learning_rate=0.076, gamma=0.2, colsample_bytree=0.8000000000000003, colsample_bylevel=0.7500000000000001, alpha=0.6, total=  17.6s\n",
      "[CV] subsample=0.0, scale_pos_weight=3, n_estimators=60, min_child_weight=6, max_depth=25, learning_rate=0.096, gamma=0.7000000000000001, colsample_bytree=0.6500000000000001, colsample_bylevel=0.8500000000000002, alpha=0.7000000000000001 \n",
      "[CV]  subsample=0.0, scale_pos_weight=3, n_estimators=60, min_child_weight=6, max_depth=25, learning_rate=0.096, gamma=0.7000000000000001, colsample_bytree=0.6500000000000001, colsample_bylevel=0.8500000000000002, alpha=0.7000000000000001, total=   0.3s\n",
      "[CV] subsample=0.0, scale_pos_weight=3, n_estimators=60, min_child_weight=6, max_depth=25, learning_rate=0.096, gamma=0.7000000000000001, colsample_bytree=0.6500000000000001, colsample_bylevel=0.8500000000000002, alpha=0.7000000000000001 \n",
      "[CV]  subsample=0.0, scale_pos_weight=3, n_estimators=60, min_child_weight=6, max_depth=25, learning_rate=0.096, gamma=0.7000000000000001, colsample_bytree=0.6500000000000001, colsample_bylevel=0.8500000000000002, alpha=0.7000000000000001, total=   0.3s\n",
      "[CV] subsample=0.0, scale_pos_weight=3, n_estimators=60, min_child_weight=6, max_depth=25, learning_rate=0.096, gamma=0.7000000000000001, colsample_bytree=0.6500000000000001, colsample_bylevel=0.8500000000000002, alpha=0.7000000000000001 \n",
      "[CV]  subsample=0.0, scale_pos_weight=3, n_estimators=60, min_child_weight=6, max_depth=25, learning_rate=0.096, gamma=0.7000000000000001, colsample_bytree=0.6500000000000001, colsample_bylevel=0.8500000000000002, alpha=0.7000000000000001, total=   0.3s\n",
      "[CV] subsample=0.0, scale_pos_weight=3, n_estimators=60, min_child_weight=6, max_depth=25, learning_rate=0.096, gamma=0.7000000000000001, colsample_bytree=0.6500000000000001, colsample_bylevel=0.8500000000000002, alpha=0.7000000000000001 \n",
      "[CV]  subsample=0.0, scale_pos_weight=3, n_estimators=60, min_child_weight=6, max_depth=25, learning_rate=0.096, gamma=0.7000000000000001, colsample_bytree=0.6500000000000001, colsample_bylevel=0.8500000000000002, alpha=0.7000000000000001, total=   0.2s\n",
      "[CV] subsample=0.30000000000000004, scale_pos_weight=5, n_estimators=60, min_child_weight=9, max_depth=15, learning_rate=0.046, gamma=0.2, colsample_bytree=0.8000000000000003, colsample_bylevel=0.7000000000000001, alpha=0.7000000000000001 \n",
      "[CV]  subsample=0.30000000000000004, scale_pos_weight=5, n_estimators=60, min_child_weight=9, max_depth=15, learning_rate=0.046, gamma=0.2, colsample_bytree=0.8000000000000003, colsample_bylevel=0.7000000000000001, alpha=0.7000000000000001, total=   1.8s\n",
      "[CV] subsample=0.30000000000000004, scale_pos_weight=5, n_estimators=60, min_child_weight=9, max_depth=15, learning_rate=0.046, gamma=0.2, colsample_bytree=0.8000000000000003, colsample_bylevel=0.7000000000000001, alpha=0.7000000000000001 \n",
      "[CV]  subsample=0.30000000000000004, scale_pos_weight=5, n_estimators=60, min_child_weight=9, max_depth=15, learning_rate=0.046, gamma=0.2, colsample_bytree=0.8000000000000003, colsample_bylevel=0.7000000000000001, alpha=0.7000000000000001, total=   1.9s\n",
      "[CV] subsample=0.30000000000000004, scale_pos_weight=5, n_estimators=60, min_child_weight=9, max_depth=15, learning_rate=0.046, gamma=0.2, colsample_bytree=0.8000000000000003, colsample_bylevel=0.7000000000000001, alpha=0.7000000000000001 \n",
      "[CV]  subsample=0.30000000000000004, scale_pos_weight=5, n_estimators=60, min_child_weight=9, max_depth=15, learning_rate=0.046, gamma=0.2, colsample_bytree=0.8000000000000003, colsample_bylevel=0.7000000000000001, alpha=0.7000000000000001, total=   1.8s\n",
      "[CV] subsample=0.30000000000000004, scale_pos_weight=5, n_estimators=60, min_child_weight=9, max_depth=15, learning_rate=0.046, gamma=0.2, colsample_bytree=0.8000000000000003, colsample_bylevel=0.7000000000000001, alpha=0.7000000000000001 \n",
      "[CV]  subsample=0.30000000000000004, scale_pos_weight=5, n_estimators=60, min_child_weight=9, max_depth=15, learning_rate=0.046, gamma=0.2, colsample_bytree=0.8000000000000003, colsample_bylevel=0.7000000000000001, alpha=0.7000000000000001, total=   1.9s\n",
      "[CV] subsample=0.30000000000000004, scale_pos_weight=4, n_estimators=120, min_child_weight=7, max_depth=35, learning_rate=0.031, gamma=0.7000000000000001, colsample_bytree=0.55, colsample_bylevel=0.8500000000000002, alpha=0.5 \n",
      "[CV]  subsample=0.30000000000000004, scale_pos_weight=4, n_estimators=120, min_child_weight=7, max_depth=35, learning_rate=0.031, gamma=0.7000000000000001, colsample_bytree=0.55, colsample_bylevel=0.8500000000000002, alpha=0.5, total=   5.5s\n",
      "[CV] subsample=0.30000000000000004, scale_pos_weight=4, n_estimators=120, min_child_weight=7, max_depth=35, learning_rate=0.031, gamma=0.7000000000000001, colsample_bytree=0.55, colsample_bylevel=0.8500000000000002, alpha=0.5 \n",
      "[CV]  subsample=0.30000000000000004, scale_pos_weight=4, n_estimators=120, min_child_weight=7, max_depth=35, learning_rate=0.031, gamma=0.7000000000000001, colsample_bytree=0.55, colsample_bylevel=0.8500000000000002, alpha=0.5, total=   4.5s\n",
      "[CV] subsample=0.30000000000000004, scale_pos_weight=4, n_estimators=120, min_child_weight=7, max_depth=35, learning_rate=0.031, gamma=0.7000000000000001, colsample_bytree=0.55, colsample_bylevel=0.8500000000000002, alpha=0.5 \n",
      "[CV]  subsample=0.30000000000000004, scale_pos_weight=4, n_estimators=120, min_child_weight=7, max_depth=35, learning_rate=0.031, gamma=0.7000000000000001, colsample_bytree=0.55, colsample_bylevel=0.8500000000000002, alpha=0.5, total=   4.6s\n",
      "[CV] subsample=0.30000000000000004, scale_pos_weight=4, n_estimators=120, min_child_weight=7, max_depth=35, learning_rate=0.031, gamma=0.7000000000000001, colsample_bytree=0.55, colsample_bylevel=0.8500000000000002, alpha=0.5 \n",
      "[CV]  subsample=0.30000000000000004, scale_pos_weight=4, n_estimators=120, min_child_weight=7, max_depth=35, learning_rate=0.031, gamma=0.7000000000000001, colsample_bytree=0.55, colsample_bylevel=0.8500000000000002, alpha=0.5, total=   4.5s\n",
      "[CV] subsample=0.2, scale_pos_weight=3, n_estimators=30, min_child_weight=8, max_depth=31, learning_rate=0.016, gamma=0.5, colsample_bytree=0.7500000000000002, colsample_bylevel=0.8000000000000002, alpha=0.8 \n",
      "[CV]  subsample=0.2, scale_pos_weight=3, n_estimators=30, min_child_weight=8, max_depth=31, learning_rate=0.016, gamma=0.5, colsample_bytree=0.7500000000000002, colsample_bylevel=0.8000000000000002, alpha=0.8, total=   0.8s\n",
      "[CV] subsample=0.2, scale_pos_weight=3, n_estimators=30, min_child_weight=8, max_depth=31, learning_rate=0.016, gamma=0.5, colsample_bytree=0.7500000000000002, colsample_bylevel=0.8000000000000002, alpha=0.8 \n",
      "[CV]  subsample=0.2, scale_pos_weight=3, n_estimators=30, min_child_weight=8, max_depth=31, learning_rate=0.016, gamma=0.5, colsample_bytree=0.7500000000000002, colsample_bylevel=0.8000000000000002, alpha=0.8, total=   0.8s\n",
      "[CV] subsample=0.2, scale_pos_weight=3, n_estimators=30, min_child_weight=8, max_depth=31, learning_rate=0.016, gamma=0.5, colsample_bytree=0.7500000000000002, colsample_bylevel=0.8000000000000002, alpha=0.8 \n",
      "[CV]  subsample=0.2, scale_pos_weight=3, n_estimators=30, min_child_weight=8, max_depth=31, learning_rate=0.016, gamma=0.5, colsample_bytree=0.7500000000000002, colsample_bylevel=0.8000000000000002, alpha=0.8, total=   0.8s\n",
      "[CV] subsample=0.2, scale_pos_weight=3, n_estimators=30, min_child_weight=8, max_depth=31, learning_rate=0.016, gamma=0.5, colsample_bytree=0.7500000000000002, colsample_bylevel=0.8000000000000002, alpha=0.8 \n",
      "[CV]  subsample=0.2, scale_pos_weight=3, n_estimators=30, min_child_weight=8, max_depth=31, learning_rate=0.016, gamma=0.5, colsample_bytree=0.7500000000000002, colsample_bylevel=0.8000000000000002, alpha=0.8, total=   0.8s\n",
      "[CV] subsample=0.4, scale_pos_weight=4, n_estimators=105, min_child_weight=1, max_depth=23, learning_rate=0.08600000000000001, gamma=0.30000000000000004, colsample_bytree=0.7500000000000002, colsample_bylevel=0.65, alpha=0.8 \n",
      "[CV]  subsample=0.4, scale_pos_weight=4, n_estimators=105, min_child_weight=1, max_depth=23, learning_rate=0.08600000000000001, gamma=0.30000000000000004, colsample_bytree=0.7500000000000002, colsample_bylevel=0.65, alpha=0.8, total=   5.2s\n",
      "[CV] subsample=0.4, scale_pos_weight=4, n_estimators=105, min_child_weight=1, max_depth=23, learning_rate=0.08600000000000001, gamma=0.30000000000000004, colsample_bytree=0.7500000000000002, colsample_bylevel=0.65, alpha=0.8 \n",
      "[CV]  subsample=0.4, scale_pos_weight=4, n_estimators=105, min_child_weight=1, max_depth=23, learning_rate=0.08600000000000001, gamma=0.30000000000000004, colsample_bytree=0.7500000000000002, colsample_bylevel=0.65, alpha=0.8, total=   5.4s\n",
      "[CV] subsample=0.4, scale_pos_weight=4, n_estimators=105, min_child_weight=1, max_depth=23, learning_rate=0.08600000000000001, gamma=0.30000000000000004, colsample_bytree=0.7500000000000002, colsample_bylevel=0.65, alpha=0.8 \n",
      "[CV]  subsample=0.4, scale_pos_weight=4, n_estimators=105, min_child_weight=1, max_depth=23, learning_rate=0.08600000000000001, gamma=0.30000000000000004, colsample_bytree=0.7500000000000002, colsample_bylevel=0.65, alpha=0.8, total=   5.1s\n",
      "[CV] subsample=0.4, scale_pos_weight=4, n_estimators=105, min_child_weight=1, max_depth=23, learning_rate=0.08600000000000001, gamma=0.30000000000000004, colsample_bytree=0.7500000000000002, colsample_bylevel=0.65, alpha=0.8 \n",
      "[CV]  subsample=0.4, scale_pos_weight=4, n_estimators=105, min_child_weight=1, max_depth=23, learning_rate=0.08600000000000001, gamma=0.30000000000000004, colsample_bytree=0.7500000000000002, colsample_bylevel=0.65, alpha=0.8, total=   4.6s\n",
      "[CV] subsample=0.4, scale_pos_weight=2, n_estimators=195, min_child_weight=3, max_depth=15, learning_rate=0.006, gamma=0.0, colsample_bytree=0.55, colsample_bylevel=0.6, alpha=0.5 \n",
      "[CV]  subsample=0.4, scale_pos_weight=2, n_estimators=195, min_child_weight=3, max_depth=15, learning_rate=0.006, gamma=0.0, colsample_bytree=0.55, colsample_bylevel=0.6, alpha=0.5, total=   4.4s\n",
      "[CV] subsample=0.4, scale_pos_weight=2, n_estimators=195, min_child_weight=3, max_depth=15, learning_rate=0.006, gamma=0.0, colsample_bytree=0.55, colsample_bylevel=0.6, alpha=0.5 \n",
      "[CV]  subsample=0.4, scale_pos_weight=2, n_estimators=195, min_child_weight=3, max_depth=15, learning_rate=0.006, gamma=0.0, colsample_bytree=0.55, colsample_bylevel=0.6, alpha=0.5, total=   4.1s\n",
      "[CV] subsample=0.4, scale_pos_weight=2, n_estimators=195, min_child_weight=3, max_depth=15, learning_rate=0.006, gamma=0.0, colsample_bytree=0.55, colsample_bylevel=0.6, alpha=0.5 \n",
      "[CV]  subsample=0.4, scale_pos_weight=2, n_estimators=195, min_child_weight=3, max_depth=15, learning_rate=0.006, gamma=0.0, colsample_bytree=0.55, colsample_bylevel=0.6, alpha=0.5, total=   4.1s\n",
      "[CV] subsample=0.4, scale_pos_weight=2, n_estimators=195, min_child_weight=3, max_depth=15, learning_rate=0.006, gamma=0.0, colsample_bytree=0.55, colsample_bylevel=0.6, alpha=0.5 \n",
      "[CV]  subsample=0.4, scale_pos_weight=2, n_estimators=195, min_child_weight=3, max_depth=15, learning_rate=0.006, gamma=0.0, colsample_bytree=0.55, colsample_bylevel=0.6, alpha=0.5, total=   4.6s\n",
      "[CV] subsample=0.0, scale_pos_weight=3, n_estimators=240, min_child_weight=4, max_depth=37, learning_rate=0.066, gamma=0.8, colsample_bytree=0.8000000000000003, colsample_bylevel=0.6, alpha=0.6 \n",
      "[CV]  subsample=0.0, scale_pos_weight=3, n_estimators=240, min_child_weight=4, max_depth=37, learning_rate=0.066, gamma=0.8, colsample_bytree=0.8000000000000003, colsample_bylevel=0.6, alpha=0.6, total=   1.1s\n",
      "[CV] subsample=0.0, scale_pos_weight=3, n_estimators=240, min_child_weight=4, max_depth=37, learning_rate=0.066, gamma=0.8, colsample_bytree=0.8000000000000003, colsample_bylevel=0.6, alpha=0.6 \n",
      "[CV]  subsample=0.0, scale_pos_weight=3, n_estimators=240, min_child_weight=4, max_depth=37, learning_rate=0.066, gamma=0.8, colsample_bytree=0.8000000000000003, colsample_bylevel=0.6, alpha=0.6, total=   1.1s\n",
      "[CV] subsample=0.0, scale_pos_weight=3, n_estimators=240, min_child_weight=4, max_depth=37, learning_rate=0.066, gamma=0.8, colsample_bytree=0.8000000000000003, colsample_bylevel=0.6, alpha=0.6 \n",
      "[CV]  subsample=0.0, scale_pos_weight=3, n_estimators=240, min_child_weight=4, max_depth=37, learning_rate=0.066, gamma=0.8, colsample_bytree=0.8000000000000003, colsample_bylevel=0.6, alpha=0.6, total=   1.1s\n",
      "[CV] subsample=0.0, scale_pos_weight=3, n_estimators=240, min_child_weight=4, max_depth=37, learning_rate=0.066, gamma=0.8, colsample_bytree=0.8000000000000003, colsample_bylevel=0.6, alpha=0.6 \n",
      "[CV]  subsample=0.0, scale_pos_weight=3, n_estimators=240, min_child_weight=4, max_depth=37, learning_rate=0.066, gamma=0.8, colsample_bytree=0.8000000000000003, colsample_bylevel=0.6, alpha=0.6, total=   1.0s\n",
      "[CV] subsample=0.2, scale_pos_weight=2, n_estimators=75, min_child_weight=1, max_depth=23, learning_rate=0.011, gamma=0.8, colsample_bytree=0.5, colsample_bylevel=0.8500000000000002, alpha=0.9 \n",
      "[CV]  subsample=0.2, scale_pos_weight=2, n_estimators=75, min_child_weight=1, max_depth=23, learning_rate=0.011, gamma=0.8, colsample_bytree=0.5, colsample_bylevel=0.8500000000000002, alpha=0.9, total=   2.8s\n",
      "[CV] subsample=0.2, scale_pos_weight=2, n_estimators=75, min_child_weight=1, max_depth=23, learning_rate=0.011, gamma=0.8, colsample_bytree=0.5, colsample_bylevel=0.8500000000000002, alpha=0.9 \n",
      "[CV]  subsample=0.2, scale_pos_weight=2, n_estimators=75, min_child_weight=1, max_depth=23, learning_rate=0.011, gamma=0.8, colsample_bytree=0.5, colsample_bylevel=0.8500000000000002, alpha=0.9, total=   2.6s\n",
      "[CV] subsample=0.2, scale_pos_weight=2, n_estimators=75, min_child_weight=1, max_depth=23, learning_rate=0.011, gamma=0.8, colsample_bytree=0.5, colsample_bylevel=0.8500000000000002, alpha=0.9 \n",
      "[CV]  subsample=0.2, scale_pos_weight=2, n_estimators=75, min_child_weight=1, max_depth=23, learning_rate=0.011, gamma=0.8, colsample_bytree=0.5, colsample_bylevel=0.8500000000000002, alpha=0.9, total=   2.7s\n",
      "[CV] subsample=0.2, scale_pos_weight=2, n_estimators=75, min_child_weight=1, max_depth=23, learning_rate=0.011, gamma=0.8, colsample_bytree=0.5, colsample_bylevel=0.8500000000000002, alpha=0.9 \n",
      "[CV]  subsample=0.2, scale_pos_weight=2, n_estimators=75, min_child_weight=1, max_depth=23, learning_rate=0.011, gamma=0.8, colsample_bytree=0.5, colsample_bylevel=0.8500000000000002, alpha=0.9, total=   2.5s\n",
      "[CV] subsample=0.8, scale_pos_weight=5, n_estimators=210, min_child_weight=8, max_depth=35, learning_rate=0.08600000000000001, gamma=0.4, colsample_bytree=0.5, colsample_bylevel=0.65, alpha=0.6 \n",
      "[CV]  subsample=0.8, scale_pos_weight=5, n_estimators=210, min_child_weight=8, max_depth=35, learning_rate=0.08600000000000001, gamma=0.4, colsample_bytree=0.5, colsample_bylevel=0.65, alpha=0.6, total=  10.1s\n",
      "[CV] subsample=0.8, scale_pos_weight=5, n_estimators=210, min_child_weight=8, max_depth=35, learning_rate=0.08600000000000001, gamma=0.4, colsample_bytree=0.5, colsample_bylevel=0.65, alpha=0.6 \n",
      "[CV]  subsample=0.8, scale_pos_weight=5, n_estimators=210, min_child_weight=8, max_depth=35, learning_rate=0.08600000000000001, gamma=0.4, colsample_bytree=0.5, colsample_bylevel=0.65, alpha=0.6, total=  10.3s\n",
      "[CV] subsample=0.8, scale_pos_weight=5, n_estimators=210, min_child_weight=8, max_depth=35, learning_rate=0.08600000000000001, gamma=0.4, colsample_bytree=0.5, colsample_bylevel=0.65, alpha=0.6 \n",
      "[CV]  subsample=0.8, scale_pos_weight=5, n_estimators=210, min_child_weight=8, max_depth=35, learning_rate=0.08600000000000001, gamma=0.4, colsample_bytree=0.5, colsample_bylevel=0.65, alpha=0.6, total=   8.9s\n",
      "[CV] subsample=0.8, scale_pos_weight=5, n_estimators=210, min_child_weight=8, max_depth=35, learning_rate=0.08600000000000001, gamma=0.4, colsample_bytree=0.5, colsample_bylevel=0.65, alpha=0.6 \n",
      "[CV]  subsample=0.8, scale_pos_weight=5, n_estimators=210, min_child_weight=8, max_depth=35, learning_rate=0.08600000000000001, gamma=0.4, colsample_bytree=0.5, colsample_bylevel=0.65, alpha=0.6, total=   9.5s\n",
      "[CV] subsample=0.1, scale_pos_weight=5, n_estimators=255, min_child_weight=1, max_depth=15, learning_rate=0.08600000000000001, gamma=0.1, colsample_bytree=0.6000000000000001, colsample_bylevel=0.9000000000000002, alpha=0.8 \n",
      "[CV]  subsample=0.1, scale_pos_weight=5, n_estimators=255, min_child_weight=1, max_depth=15, learning_rate=0.08600000000000001, gamma=0.1, colsample_bytree=0.6000000000000001, colsample_bylevel=0.9000000000000002, alpha=0.8, total=   7.1s\n",
      "[CV] subsample=0.1, scale_pos_weight=5, n_estimators=255, min_child_weight=1, max_depth=15, learning_rate=0.08600000000000001, gamma=0.1, colsample_bytree=0.6000000000000001, colsample_bylevel=0.9000000000000002, alpha=0.8 \n",
      "[CV]  subsample=0.1, scale_pos_weight=5, n_estimators=255, min_child_weight=1, max_depth=15, learning_rate=0.08600000000000001, gamma=0.1, colsample_bytree=0.6000000000000001, colsample_bylevel=0.9000000000000002, alpha=0.8, total=   7.9s\n",
      "[CV] subsample=0.1, scale_pos_weight=5, n_estimators=255, min_child_weight=1, max_depth=15, learning_rate=0.08600000000000001, gamma=0.1, colsample_bytree=0.6000000000000001, colsample_bylevel=0.9000000000000002, alpha=0.8 \n",
      "[CV]  subsample=0.1, scale_pos_weight=5, n_estimators=255, min_child_weight=1, max_depth=15, learning_rate=0.08600000000000001, gamma=0.1, colsample_bytree=0.6000000000000001, colsample_bylevel=0.9000000000000002, alpha=0.8, total=   6.9s\n",
      "[CV] subsample=0.1, scale_pos_weight=5, n_estimators=255, min_child_weight=1, max_depth=15, learning_rate=0.08600000000000001, gamma=0.1, colsample_bytree=0.6000000000000001, colsample_bylevel=0.9000000000000002, alpha=0.8 \n",
      "[CV]  subsample=0.1, scale_pos_weight=5, n_estimators=255, min_child_weight=1, max_depth=15, learning_rate=0.08600000000000001, gamma=0.1, colsample_bytree=0.6000000000000001, colsample_bylevel=0.9000000000000002, alpha=0.8, total=   7.0s\n",
      "[CV] subsample=0.0, scale_pos_weight=4, n_estimators=45, min_child_weight=2, max_depth=19, learning_rate=0.081, gamma=0.6000000000000001, colsample_bytree=0.6500000000000001, colsample_bylevel=0.7000000000000001, alpha=0.6 \n",
      "[CV]  subsample=0.0, scale_pos_weight=4, n_estimators=45, min_child_weight=2, max_depth=19, learning_rate=0.081, gamma=0.6000000000000001, colsample_bytree=0.6500000000000001, colsample_bylevel=0.7000000000000001, alpha=0.6, total=   0.2s\n",
      "[CV] subsample=0.0, scale_pos_weight=4, n_estimators=45, min_child_weight=2, max_depth=19, learning_rate=0.081, gamma=0.6000000000000001, colsample_bytree=0.6500000000000001, colsample_bylevel=0.7000000000000001, alpha=0.6 \n",
      "[CV]  subsample=0.0, scale_pos_weight=4, n_estimators=45, min_child_weight=2, max_depth=19, learning_rate=0.081, gamma=0.6000000000000001, colsample_bytree=0.6500000000000001, colsample_bylevel=0.7000000000000001, alpha=0.6, total=   0.2s\n",
      "[CV] subsample=0.0, scale_pos_weight=4, n_estimators=45, min_child_weight=2, max_depth=19, learning_rate=0.081, gamma=0.6000000000000001, colsample_bytree=0.6500000000000001, colsample_bylevel=0.7000000000000001, alpha=0.6 \n",
      "[CV]  subsample=0.0, scale_pos_weight=4, n_estimators=45, min_child_weight=2, max_depth=19, learning_rate=0.081, gamma=0.6000000000000001, colsample_bytree=0.6500000000000001, colsample_bylevel=0.7000000000000001, alpha=0.6, total=   0.2s\n",
      "[CV] subsample=0.0, scale_pos_weight=4, n_estimators=45, min_child_weight=2, max_depth=19, learning_rate=0.081, gamma=0.6000000000000001, colsample_bytree=0.6500000000000001, colsample_bylevel=0.7000000000000001, alpha=0.6 \n",
      "[CV]  subsample=0.0, scale_pos_weight=4, n_estimators=45, min_child_weight=2, max_depth=19, learning_rate=0.081, gamma=0.6000000000000001, colsample_bytree=0.6500000000000001, colsample_bylevel=0.7000000000000001, alpha=0.6, total=   0.2s\n",
      "[CV] subsample=0.1, scale_pos_weight=5, n_estimators=240, min_child_weight=7, max_depth=17, learning_rate=0.026000000000000002, gamma=0.9, colsample_bytree=0.5, colsample_bylevel=0.8000000000000002, alpha=0.30000000000000004 \n",
      "[CV]  subsample=0.1, scale_pos_weight=5, n_estimators=240, min_child_weight=7, max_depth=17, learning_rate=0.026000000000000002, gamma=0.9, colsample_bytree=0.5, colsample_bylevel=0.8000000000000002, alpha=0.30000000000000004, total=   3.8s\n",
      "[CV] subsample=0.1, scale_pos_weight=5, n_estimators=240, min_child_weight=7, max_depth=17, learning_rate=0.026000000000000002, gamma=0.9, colsample_bytree=0.5, colsample_bylevel=0.8000000000000002, alpha=0.30000000000000004 \n",
      "[CV]  subsample=0.1, scale_pos_weight=5, n_estimators=240, min_child_weight=7, max_depth=17, learning_rate=0.026000000000000002, gamma=0.9, colsample_bytree=0.5, colsample_bylevel=0.8000000000000002, alpha=0.30000000000000004, total=   4.0s\n",
      "[CV] subsample=0.1, scale_pos_weight=5, n_estimators=240, min_child_weight=7, max_depth=17, learning_rate=0.026000000000000002, gamma=0.9, colsample_bytree=0.5, colsample_bylevel=0.8000000000000002, alpha=0.30000000000000004 \n",
      "[CV]  subsample=0.1, scale_pos_weight=5, n_estimators=240, min_child_weight=7, max_depth=17, learning_rate=0.026000000000000002, gamma=0.9, colsample_bytree=0.5, colsample_bylevel=0.8000000000000002, alpha=0.30000000000000004, total=   4.7s\n",
      "[CV] subsample=0.1, scale_pos_weight=5, n_estimators=240, min_child_weight=7, max_depth=17, learning_rate=0.026000000000000002, gamma=0.9, colsample_bytree=0.5, colsample_bylevel=0.8000000000000002, alpha=0.30000000000000004 \n",
      "[CV]  subsample=0.1, scale_pos_weight=5, n_estimators=240, min_child_weight=7, max_depth=17, learning_rate=0.026000000000000002, gamma=0.9, colsample_bytree=0.5, colsample_bylevel=0.8000000000000002, alpha=0.30000000000000004, total=   3.7s\n",
      "[CV] subsample=0.0, scale_pos_weight=2, n_estimators=270, min_child_weight=1, max_depth=27, learning_rate=0.076, gamma=0.30000000000000004, colsample_bytree=0.6000000000000001, colsample_bylevel=0.8500000000000002, alpha=0.30000000000000004 \n",
      "[CV]  subsample=0.0, scale_pos_weight=2, n_estimators=270, min_child_weight=1, max_depth=27, learning_rate=0.076, gamma=0.30000000000000004, colsample_bytree=0.6000000000000001, colsample_bylevel=0.8500000000000002, alpha=0.30000000000000004, total=   0.9s\n",
      "[CV] subsample=0.0, scale_pos_weight=2, n_estimators=270, min_child_weight=1, max_depth=27, learning_rate=0.076, gamma=0.30000000000000004, colsample_bytree=0.6000000000000001, colsample_bylevel=0.8500000000000002, alpha=0.30000000000000004 \n",
      "[CV]  subsample=0.0, scale_pos_weight=2, n_estimators=270, min_child_weight=1, max_depth=27, learning_rate=0.076, gamma=0.30000000000000004, colsample_bytree=0.6000000000000001, colsample_bylevel=0.8500000000000002, alpha=0.30000000000000004, total=   1.0s\n",
      "[CV] subsample=0.0, scale_pos_weight=2, n_estimators=270, min_child_weight=1, max_depth=27, learning_rate=0.076, gamma=0.30000000000000004, colsample_bytree=0.6000000000000001, colsample_bylevel=0.8500000000000002, alpha=0.30000000000000004 \n",
      "[CV]  subsample=0.0, scale_pos_weight=2, n_estimators=270, min_child_weight=1, max_depth=27, learning_rate=0.076, gamma=0.30000000000000004, colsample_bytree=0.6000000000000001, colsample_bylevel=0.8500000000000002, alpha=0.30000000000000004, total=   1.0s\n",
      "[CV] subsample=0.0, scale_pos_weight=2, n_estimators=270, min_child_weight=1, max_depth=27, learning_rate=0.076, gamma=0.30000000000000004, colsample_bytree=0.6000000000000001, colsample_bylevel=0.8500000000000002, alpha=0.30000000000000004 \n",
      "[CV]  subsample=0.0, scale_pos_weight=2, n_estimators=270, min_child_weight=1, max_depth=27, learning_rate=0.076, gamma=0.30000000000000004, colsample_bytree=0.6000000000000001, colsample_bylevel=0.8500000000000002, alpha=0.30000000000000004, total=   1.0s\n",
      "[CV] subsample=0.0, scale_pos_weight=5, n_estimators=150, min_child_weight=9, max_depth=21, learning_rate=0.031, gamma=0.5, colsample_bytree=0.55, colsample_bylevel=0.9000000000000002, alpha=0.6 \n",
      "[CV]  subsample=0.0, scale_pos_weight=5, n_estimators=150, min_child_weight=9, max_depth=21, learning_rate=0.031, gamma=0.5, colsample_bytree=0.55, colsample_bylevel=0.9000000000000002, alpha=0.6, total=   0.5s\n",
      "[CV] subsample=0.0, scale_pos_weight=5, n_estimators=150, min_child_weight=9, max_depth=21, learning_rate=0.031, gamma=0.5, colsample_bytree=0.55, colsample_bylevel=0.9000000000000002, alpha=0.6 \n",
      "[CV]  subsample=0.0, scale_pos_weight=5, n_estimators=150, min_child_weight=9, max_depth=21, learning_rate=0.031, gamma=0.5, colsample_bytree=0.55, colsample_bylevel=0.9000000000000002, alpha=0.6, total=   0.5s\n",
      "[CV] subsample=0.0, scale_pos_weight=5, n_estimators=150, min_child_weight=9, max_depth=21, learning_rate=0.031, gamma=0.5, colsample_bytree=0.55, colsample_bylevel=0.9000000000000002, alpha=0.6 \n",
      "[CV]  subsample=0.0, scale_pos_weight=5, n_estimators=150, min_child_weight=9, max_depth=21, learning_rate=0.031, gamma=0.5, colsample_bytree=0.55, colsample_bylevel=0.9000000000000002, alpha=0.6, total=   0.5s\n",
      "[CV] subsample=0.0, scale_pos_weight=5, n_estimators=150, min_child_weight=9, max_depth=21, learning_rate=0.031, gamma=0.5, colsample_bytree=0.55, colsample_bylevel=0.9000000000000002, alpha=0.6 \n",
      "[CV]  subsample=0.0, scale_pos_weight=5, n_estimators=150, min_child_weight=9, max_depth=21, learning_rate=0.031, gamma=0.5, colsample_bytree=0.55, colsample_bylevel=0.9000000000000002, alpha=0.6, total=   0.6s\n",
      "[CV] subsample=0.4, scale_pos_weight=4, n_estimators=120, min_child_weight=3, max_depth=15, learning_rate=0.061, gamma=0.5, colsample_bytree=0.5, colsample_bylevel=0.8000000000000002, alpha=0.6 \n",
      "[CV]  subsample=0.4, scale_pos_weight=4, n_estimators=120, min_child_weight=3, max_depth=15, learning_rate=0.061, gamma=0.5, colsample_bytree=0.5, colsample_bylevel=0.8000000000000002, alpha=0.6, total=   2.9s\n",
      "[CV] subsample=0.4, scale_pos_weight=4, n_estimators=120, min_child_weight=3, max_depth=15, learning_rate=0.061, gamma=0.5, colsample_bytree=0.5, colsample_bylevel=0.8000000000000002, alpha=0.6 \n",
      "[CV]  subsample=0.4, scale_pos_weight=4, n_estimators=120, min_child_weight=3, max_depth=15, learning_rate=0.061, gamma=0.5, colsample_bytree=0.5, colsample_bylevel=0.8000000000000002, alpha=0.6, total=   2.9s\n",
      "[CV] subsample=0.4, scale_pos_weight=4, n_estimators=120, min_child_weight=3, max_depth=15, learning_rate=0.061, gamma=0.5, colsample_bytree=0.5, colsample_bylevel=0.8000000000000002, alpha=0.6 \n",
      "[CV]  subsample=0.4, scale_pos_weight=4, n_estimators=120, min_child_weight=3, max_depth=15, learning_rate=0.061, gamma=0.5, colsample_bytree=0.5, colsample_bylevel=0.8000000000000002, alpha=0.6, total=   2.9s\n",
      "[CV] subsample=0.4, scale_pos_weight=4, n_estimators=120, min_child_weight=3, max_depth=15, learning_rate=0.061, gamma=0.5, colsample_bytree=0.5, colsample_bylevel=0.8000000000000002, alpha=0.6 \n",
      "[CV]  subsample=0.4, scale_pos_weight=4, n_estimators=120, min_child_weight=3, max_depth=15, learning_rate=0.061, gamma=0.5, colsample_bytree=0.5, colsample_bylevel=0.8000000000000002, alpha=0.6, total=   2.9s\n",
      "[CV] subsample=0.2, scale_pos_weight=4, n_estimators=135, min_child_weight=1, max_depth=33, learning_rate=0.066, gamma=0.4, colsample_bytree=0.6000000000000001, colsample_bylevel=0.7500000000000001, alpha=0.1 \n",
      "[CV]  subsample=0.2, scale_pos_weight=4, n_estimators=135, min_child_weight=1, max_depth=33, learning_rate=0.066, gamma=0.4, colsample_bytree=0.6000000000000001, colsample_bylevel=0.7500000000000001, alpha=0.1, total=   8.3s\n",
      "[CV] subsample=0.2, scale_pos_weight=4, n_estimators=135, min_child_weight=1, max_depth=33, learning_rate=0.066, gamma=0.4, colsample_bytree=0.6000000000000001, colsample_bylevel=0.7500000000000001, alpha=0.1 \n",
      "[CV]  subsample=0.2, scale_pos_weight=4, n_estimators=135, min_child_weight=1, max_depth=33, learning_rate=0.066, gamma=0.4, colsample_bytree=0.6000000000000001, colsample_bylevel=0.7500000000000001, alpha=0.1, total=   7.3s\n",
      "[CV] subsample=0.2, scale_pos_weight=4, n_estimators=135, min_child_weight=1, max_depth=33, learning_rate=0.066, gamma=0.4, colsample_bytree=0.6000000000000001, colsample_bylevel=0.7500000000000001, alpha=0.1 \n",
      "[CV]  subsample=0.2, scale_pos_weight=4, n_estimators=135, min_child_weight=1, max_depth=33, learning_rate=0.066, gamma=0.4, colsample_bytree=0.6000000000000001, colsample_bylevel=0.7500000000000001, alpha=0.1, total=   7.0s\n",
      "[CV] subsample=0.2, scale_pos_weight=4, n_estimators=135, min_child_weight=1, max_depth=33, learning_rate=0.066, gamma=0.4, colsample_bytree=0.6000000000000001, colsample_bylevel=0.7500000000000001, alpha=0.1 \n",
      "[CV]  subsample=0.2, scale_pos_weight=4, n_estimators=135, min_child_weight=1, max_depth=33, learning_rate=0.066, gamma=0.4, colsample_bytree=0.6000000000000001, colsample_bylevel=0.7500000000000001, alpha=0.1, total=   7.3s\n",
      "[CV] subsample=0.7000000000000001, scale_pos_weight=4, n_estimators=225, min_child_weight=3, max_depth=29, learning_rate=0.021, gamma=0.6000000000000001, colsample_bytree=0.8000000000000003, colsample_bylevel=0.65, alpha=0.7000000000000001 \n",
      "[CV]  subsample=0.7000000000000001, scale_pos_weight=4, n_estimators=225, min_child_weight=3, max_depth=29, learning_rate=0.021, gamma=0.6000000000000001, colsample_bytree=0.8000000000000003, colsample_bylevel=0.65, alpha=0.7000000000000001, total=  14.0s\n",
      "[CV] subsample=0.7000000000000001, scale_pos_weight=4, n_estimators=225, min_child_weight=3, max_depth=29, learning_rate=0.021, gamma=0.6000000000000001, colsample_bytree=0.8000000000000003, colsample_bylevel=0.65, alpha=0.7000000000000001 \n",
      "[CV]  subsample=0.7000000000000001, scale_pos_weight=4, n_estimators=225, min_child_weight=3, max_depth=29, learning_rate=0.021, gamma=0.6000000000000001, colsample_bytree=0.8000000000000003, colsample_bylevel=0.65, alpha=0.7000000000000001, total=  13.3s\n",
      "[CV] subsample=0.7000000000000001, scale_pos_weight=4, n_estimators=225, min_child_weight=3, max_depth=29, learning_rate=0.021, gamma=0.6000000000000001, colsample_bytree=0.8000000000000003, colsample_bylevel=0.65, alpha=0.7000000000000001 \n",
      "[CV]  subsample=0.7000000000000001, scale_pos_weight=4, n_estimators=225, min_child_weight=3, max_depth=29, learning_rate=0.021, gamma=0.6000000000000001, colsample_bytree=0.8000000000000003, colsample_bylevel=0.65, alpha=0.7000000000000001, total=  14.1s\n",
      "[CV] subsample=0.7000000000000001, scale_pos_weight=4, n_estimators=225, min_child_weight=3, max_depth=29, learning_rate=0.021, gamma=0.6000000000000001, colsample_bytree=0.8000000000000003, colsample_bylevel=0.65, alpha=0.7000000000000001 \n",
      "[CV]  subsample=0.7000000000000001, scale_pos_weight=4, n_estimators=225, min_child_weight=3, max_depth=29, learning_rate=0.021, gamma=0.6000000000000001, colsample_bytree=0.8000000000000003, colsample_bylevel=0.65, alpha=0.7000000000000001, total=  13.5s\n"
     ]
    },
    {
     "name": "stderr",
     "output_type": "stream",
     "text": [
      "[Parallel(n_jobs=1)]: Done  80 out of  80 | elapsed:  6.4min finished\n"
     ]
    },
    {
     "name": "stdout",
     "output_type": "stream",
     "text": [
      "Best parameters:  {'subsample': 0.9, 'scale_pos_weight': 3, 'n_estimators': 210, 'min_child_weight': 3, 'max_depth': 17, 'learning_rate': 0.091, 'gamma': 0.9, 'colsample_bytree': 0.5, 'colsample_bylevel': 0.8500000000000002, 'alpha': 0.6}\n"
     ]
    }
   ],
   "source": [
    "from sklearn.model_selection import RandomizedSearchCV\n",
    "\n",
    "param_grid = dict(learning_rate = np.arange(0.001,0.1,0.005),\n",
    "                              n_estimators = np.arange(15,300,15),\n",
    "                              scale_pos_weight = np.arange(2,6,1),\n",
    "                              max_depth = np.arange(15,40,2),min_child_weight= np.arange(1,10,1),\n",
    "                              gamma = np.arange(0,1,0.1), alpha= np.arange(0.1,1,0.1),\n",
    "                              subsample = np.arange(0,1,0.1), colsample_bytree = np.arange(0.5,0.8,0.05),\n",
    "                              colsample_bylevel = np.arange(0.6,0.91,0.05))\n",
    "xgb_model = xgb.XGBClassifier()\n",
    "\n",
    "grid = RandomizedSearchCV(estimator=xgb_model, param_distributions=param_grid,\n",
    "                              cv=4, verbose=2, n_iter=20, n_jobs=1)\n",
    "grid_result = grid.fit(train_vectors,y_text_train)\n",
    "params_xgb_tfidf = grid_result.best_params_\n",
    "print(\"Best parameters: \", params_xgb_tfidf)"
   ]
  },
  {
   "cell_type": "code",
   "execution_count": 28,
   "metadata": {},
   "outputs": [
    {
     "name": "stdout",
     "output_type": "stream",
     "text": [
      "0.7321140398063475\n"
     ]
    }
   ],
   "source": [
    "xg_reg = xgb.XGBClassifier(**params_xgb_tfidf)\n",
    "xg_reg.fit(train_vectors,y_text_train)\n",
    "preds = xg_reg.predict(test_vectors)\n",
    "for i in range (0, len(preds)):\n",
    "    if preds[i] >= 0.5:       \n",
    "        preds[i] = 1 \n",
    "    else:  \n",
    "        preds[i] = 0\n",
    "\n",
    "from sklearn.metrics import accuracy_score\n",
    "accuracy = accuracy_score(preds,y_text_test)\n",
    "print(accuracy)"
   ]
  },
  {
   "cell_type": "markdown",
   "metadata": {},
   "source": [
    "### Submit"
   ]
  },
  {
   "cell_type": "code",
   "execution_count": 29,
   "metadata": {},
   "outputs": [],
   "source": [
    "import xgboost as xgb\n",
    "\n",
    "xg_reg = xgb.XGBRegressor(objective ='reg:logistic', \n",
    "                colsample_bytree = 0.45, colsample_bylevel = 0.4, learning_rate = 0.05,\n",
    "                max_depth = 25, min_child_weight = 1.1, alpha = 0.5, gamma =  0.4, n_estimators = 210)\n",
    "xg_reg.fit(train_vectors_full, y_train_full)\n",
    "predicted = xg_reg.predict(test_vectors_full)\n",
    "for i in range (0, len(predicted)):\n",
    "    if predicted[i] >= 0.5:       \n",
    "        predicted[i] = int(1.0)\n",
    "    else:  \n",
    "        predicted[i] = int(0)\n",
    "test['target'] = predicted\n",
    "test['target'] = test['target'].astype(int)\n",
    "submit_kaggle = test.loc[:, ['id', 'target']]\n",
    "submit_kaggle.to_csv(\"submit_prueba_20.csv\", index=False)"
   ]
  },
  {
   "cell_type": "code",
   "execution_count": 30,
   "metadata": {},
   "outputs": [
    {
     "name": "stdout",
     "output_type": "stream",
     "text": [
      "0.3486382501805172\n"
     ]
    }
   ],
   "source": [
    "from sklearn.model_selection import cross_val_score\n",
    "\n",
    "xg_reg = xgb.XGBRegressor(objective ='reg:logistic', \n",
    "                colsample_bytree = 0.45, colsample_bylevel = 0.4, learning_rate = 0.05,\n",
    "                max_depth = 25, min_child_weight = 1.1, alpha = 0.5, gamma =  0.4, n_estimators = 210)\n",
    "all_accuracies = cross_val_score(estimator=xg_reg, X=train_vectors, y=y_text_train, cv=10)\n",
    "print(all_accuracies.mean())"
   ]
  },
  {
   "cell_type": "markdown",
   "metadata": {},
   "source": [
    "### XGBoost con count-vectorizer"
   ]
  },
  {
   "cell_type": "markdown",
   "metadata": {},
   "source": [
    "### Busqueda de parametros"
   ]
  },
  {
   "cell_type": "code",
   "execution_count": 31,
   "metadata": {},
   "outputs": [
    {
     "name": "stdout",
     "output_type": "stream",
     "text": [
      "Fitting 4 folds for each of 20 candidates, totalling 80 fits\n",
      "[CV] subsample=0.7999999999999999, scale_pos_weight=5, n_estimators=240, min_child_weight=1, max_depth=39, learning_rate=0.10999999999999997, gamma=0.4, colsample_bytree=0.6500000000000001, colsample_bylevel=0.8500000000000002, alpha=0.8 \n"
     ]
    },
    {
     "name": "stderr",
     "output_type": "stream",
     "text": [
      "[Parallel(n_jobs=1)]: Using backend SequentialBackend with 1 concurrent workers.\n"
     ]
    },
    {
     "name": "stdout",
     "output_type": "stream",
     "text": [
      "[CV]  subsample=0.7999999999999999, scale_pos_weight=5, n_estimators=240, min_child_weight=1, max_depth=39, learning_rate=0.10999999999999997, gamma=0.4, colsample_bytree=0.6500000000000001, colsample_bylevel=0.8500000000000002, alpha=0.8, total=  44.1s\n",
      "[CV] subsample=0.7999999999999999, scale_pos_weight=5, n_estimators=240, min_child_weight=1, max_depth=39, learning_rate=0.10999999999999997, gamma=0.4, colsample_bytree=0.6500000000000001, colsample_bylevel=0.8500000000000002, alpha=0.8 \n"
     ]
    },
    {
     "name": "stderr",
     "output_type": "stream",
     "text": [
      "[Parallel(n_jobs=1)]: Done   1 out of   1 | elapsed:   44.1s remaining:    0.0s\n"
     ]
    },
    {
     "name": "stdout",
     "output_type": "stream",
     "text": [
      "[CV]  subsample=0.7999999999999999, scale_pos_weight=5, n_estimators=240, min_child_weight=1, max_depth=39, learning_rate=0.10999999999999997, gamma=0.4, colsample_bytree=0.6500000000000001, colsample_bylevel=0.8500000000000002, alpha=0.8, total=  43.1s\n",
      "[CV] subsample=0.7999999999999999, scale_pos_weight=5, n_estimators=240, min_child_weight=1, max_depth=39, learning_rate=0.10999999999999997, gamma=0.4, colsample_bytree=0.6500000000000001, colsample_bylevel=0.8500000000000002, alpha=0.8 \n",
      "[CV]  subsample=0.7999999999999999, scale_pos_weight=5, n_estimators=240, min_child_weight=1, max_depth=39, learning_rate=0.10999999999999997, gamma=0.4, colsample_bytree=0.6500000000000001, colsample_bylevel=0.8500000000000002, alpha=0.8, total=  42.3s\n",
      "[CV] subsample=0.7999999999999999, scale_pos_weight=5, n_estimators=240, min_child_weight=1, max_depth=39, learning_rate=0.10999999999999997, gamma=0.4, colsample_bytree=0.6500000000000001, colsample_bylevel=0.8500000000000002, alpha=0.8 \n",
      "[CV]  subsample=0.7999999999999999, scale_pos_weight=5, n_estimators=240, min_child_weight=1, max_depth=39, learning_rate=0.10999999999999997, gamma=0.4, colsample_bytree=0.6500000000000001, colsample_bylevel=0.8500000000000002, alpha=0.8, total=  43.2s\n",
      "[CV] subsample=0.7, scale_pos_weight=4, n_estimators=120, min_child_weight=8, max_depth=37, learning_rate=0.049999999999999996, gamma=0.4, colsample_bytree=0.8000000000000003, colsample_bylevel=0.7000000000000001, alpha=0.7000000000000001 \n",
      "[CV]  subsample=0.7, scale_pos_weight=4, n_estimators=120, min_child_weight=8, max_depth=37, learning_rate=0.049999999999999996, gamma=0.4, colsample_bytree=0.8000000000000003, colsample_bylevel=0.7000000000000001, alpha=0.7000000000000001, total=   7.3s\n",
      "[CV] subsample=0.7, scale_pos_weight=4, n_estimators=120, min_child_weight=8, max_depth=37, learning_rate=0.049999999999999996, gamma=0.4, colsample_bytree=0.8000000000000003, colsample_bylevel=0.7000000000000001, alpha=0.7000000000000001 \n",
      "[CV]  subsample=0.7, scale_pos_weight=4, n_estimators=120, min_child_weight=8, max_depth=37, learning_rate=0.049999999999999996, gamma=0.4, colsample_bytree=0.8000000000000003, colsample_bylevel=0.7000000000000001, alpha=0.7000000000000001, total=   7.3s\n",
      "[CV] subsample=0.7, scale_pos_weight=4, n_estimators=120, min_child_weight=8, max_depth=37, learning_rate=0.049999999999999996, gamma=0.4, colsample_bytree=0.8000000000000003, colsample_bylevel=0.7000000000000001, alpha=0.7000000000000001 \n",
      "[CV]  subsample=0.7, scale_pos_weight=4, n_estimators=120, min_child_weight=8, max_depth=37, learning_rate=0.049999999999999996, gamma=0.4, colsample_bytree=0.8000000000000003, colsample_bylevel=0.7000000000000001, alpha=0.7000000000000001, total=   6.9s\n",
      "[CV] subsample=0.7, scale_pos_weight=4, n_estimators=120, min_child_weight=8, max_depth=37, learning_rate=0.049999999999999996, gamma=0.4, colsample_bytree=0.8000000000000003, colsample_bylevel=0.7000000000000001, alpha=0.7000000000000001 \n",
      "[CV]  subsample=0.7, scale_pos_weight=4, n_estimators=120, min_child_weight=8, max_depth=37, learning_rate=0.049999999999999996, gamma=0.4, colsample_bytree=0.8000000000000003, colsample_bylevel=0.7000000000000001, alpha=0.7000000000000001, total=   7.2s\n",
      "[CV] subsample=0.6, scale_pos_weight=2, n_estimators=180, min_child_weight=1, max_depth=25, learning_rate=0.36999999999999994, gamma=0.2, colsample_bytree=0.5, colsample_bylevel=0.8000000000000002, alpha=0.30000000000000004 \n",
      "[CV]  subsample=0.6, scale_pos_weight=2, n_estimators=180, min_child_weight=1, max_depth=25, learning_rate=0.36999999999999994, gamma=0.2, colsample_bytree=0.5, colsample_bylevel=0.8000000000000002, alpha=0.30000000000000004, total=  16.4s\n",
      "[CV] subsample=0.6, scale_pos_weight=2, n_estimators=180, min_child_weight=1, max_depth=25, learning_rate=0.36999999999999994, gamma=0.2, colsample_bytree=0.5, colsample_bylevel=0.8000000000000002, alpha=0.30000000000000004 \n",
      "[CV]  subsample=0.6, scale_pos_weight=2, n_estimators=180, min_child_weight=1, max_depth=25, learning_rate=0.36999999999999994, gamma=0.2, colsample_bytree=0.5, colsample_bylevel=0.8000000000000002, alpha=0.30000000000000004, total=  16.8s\n",
      "[CV] subsample=0.6, scale_pos_weight=2, n_estimators=180, min_child_weight=1, max_depth=25, learning_rate=0.36999999999999994, gamma=0.2, colsample_bytree=0.5, colsample_bylevel=0.8000000000000002, alpha=0.30000000000000004 \n",
      "[CV]  subsample=0.6, scale_pos_weight=2, n_estimators=180, min_child_weight=1, max_depth=25, learning_rate=0.36999999999999994, gamma=0.2, colsample_bytree=0.5, colsample_bylevel=0.8000000000000002, alpha=0.30000000000000004, total=  16.3s\n",
      "[CV] subsample=0.6, scale_pos_weight=2, n_estimators=180, min_child_weight=1, max_depth=25, learning_rate=0.36999999999999994, gamma=0.2, colsample_bytree=0.5, colsample_bylevel=0.8000000000000002, alpha=0.30000000000000004 \n",
      "[CV]  subsample=0.6, scale_pos_weight=2, n_estimators=180, min_child_weight=1, max_depth=25, learning_rate=0.36999999999999994, gamma=0.2, colsample_bytree=0.5, colsample_bylevel=0.8000000000000002, alpha=0.30000000000000004, total=  16.9s\n",
      "[CV] subsample=0.6, scale_pos_weight=5, n_estimators=120, min_child_weight=9, max_depth=21, learning_rate=0.22999999999999998, gamma=0.4, colsample_bytree=0.7000000000000002, colsample_bylevel=0.65, alpha=0.6 \n",
      "[CV]  subsample=0.6, scale_pos_weight=5, n_estimators=120, min_child_weight=9, max_depth=21, learning_rate=0.22999999999999998, gamma=0.4, colsample_bytree=0.7000000000000002, colsample_bylevel=0.65, alpha=0.6, total=   4.1s\n",
      "[CV] subsample=0.6, scale_pos_weight=5, n_estimators=120, min_child_weight=9, max_depth=21, learning_rate=0.22999999999999998, gamma=0.4, colsample_bytree=0.7000000000000002, colsample_bylevel=0.65, alpha=0.6 \n",
      "[CV]  subsample=0.6, scale_pos_weight=5, n_estimators=120, min_child_weight=9, max_depth=21, learning_rate=0.22999999999999998, gamma=0.4, colsample_bytree=0.7000000000000002, colsample_bylevel=0.65, alpha=0.6, total=   4.2s\n",
      "[CV] subsample=0.6, scale_pos_weight=5, n_estimators=120, min_child_weight=9, max_depth=21, learning_rate=0.22999999999999998, gamma=0.4, colsample_bytree=0.7000000000000002, colsample_bylevel=0.65, alpha=0.6 \n",
      "[CV]  subsample=0.6, scale_pos_weight=5, n_estimators=120, min_child_weight=9, max_depth=21, learning_rate=0.22999999999999998, gamma=0.4, colsample_bytree=0.7000000000000002, colsample_bylevel=0.65, alpha=0.6, total=   4.0s\n",
      "[CV] subsample=0.6, scale_pos_weight=5, n_estimators=120, min_child_weight=9, max_depth=21, learning_rate=0.22999999999999998, gamma=0.4, colsample_bytree=0.7000000000000002, colsample_bylevel=0.65, alpha=0.6 \n",
      "[CV]  subsample=0.6, scale_pos_weight=5, n_estimators=120, min_child_weight=9, max_depth=21, learning_rate=0.22999999999999998, gamma=0.4, colsample_bytree=0.7000000000000002, colsample_bylevel=0.65, alpha=0.6, total=   4.4s\n",
      "[CV] subsample=0.7999999999999999, scale_pos_weight=5, n_estimators=135, min_child_weight=4, max_depth=31, learning_rate=0.38999999999999996, gamma=0.4, colsample_bytree=0.7500000000000002, colsample_bylevel=0.7000000000000001, alpha=0.5 \n",
      "[CV]  subsample=0.7999999999999999, scale_pos_weight=5, n_estimators=135, min_child_weight=4, max_depth=31, learning_rate=0.38999999999999996, gamma=0.4, colsample_bytree=0.7500000000000002, colsample_bylevel=0.7000000000000001, alpha=0.5, total=  16.6s\n",
      "[CV] subsample=0.7999999999999999, scale_pos_weight=5, n_estimators=135, min_child_weight=4, max_depth=31, learning_rate=0.38999999999999996, gamma=0.4, colsample_bytree=0.7500000000000002, colsample_bylevel=0.7000000000000001, alpha=0.5 \n",
      "[CV]  subsample=0.7999999999999999, scale_pos_weight=5, n_estimators=135, min_child_weight=4, max_depth=31, learning_rate=0.38999999999999996, gamma=0.4, colsample_bytree=0.7500000000000002, colsample_bylevel=0.7000000000000001, alpha=0.5, total=  16.4s\n",
      "[CV] subsample=0.7999999999999999, scale_pos_weight=5, n_estimators=135, min_child_weight=4, max_depth=31, learning_rate=0.38999999999999996, gamma=0.4, colsample_bytree=0.7500000000000002, colsample_bylevel=0.7000000000000001, alpha=0.5 \n",
      "[CV]  subsample=0.7999999999999999, scale_pos_weight=5, n_estimators=135, min_child_weight=4, max_depth=31, learning_rate=0.38999999999999996, gamma=0.4, colsample_bytree=0.7500000000000002, colsample_bylevel=0.7000000000000001, alpha=0.5, total=  17.3s\n",
      "[CV] subsample=0.7999999999999999, scale_pos_weight=5, n_estimators=135, min_child_weight=4, max_depth=31, learning_rate=0.38999999999999996, gamma=0.4, colsample_bytree=0.7500000000000002, colsample_bylevel=0.7000000000000001, alpha=0.5 \n",
      "[CV]  subsample=0.7999999999999999, scale_pos_weight=5, n_estimators=135, min_child_weight=4, max_depth=31, learning_rate=0.38999999999999996, gamma=0.4, colsample_bytree=0.7500000000000002, colsample_bylevel=0.7000000000000001, alpha=0.5, total=  16.3s\n",
      "[CV] subsample=0.7, scale_pos_weight=4, n_estimators=195, min_child_weight=6, max_depth=15, learning_rate=0.38999999999999996, gamma=0.4, colsample_bytree=0.7000000000000002, colsample_bylevel=0.6, alpha=0.8 \n",
      "[CV]  subsample=0.7, scale_pos_weight=4, n_estimators=195, min_child_weight=6, max_depth=15, learning_rate=0.38999999999999996, gamma=0.4, colsample_bytree=0.7000000000000002, colsample_bylevel=0.6, alpha=0.8, total=   9.3s\n",
      "[CV] subsample=0.7, scale_pos_weight=4, n_estimators=195, min_child_weight=6, max_depth=15, learning_rate=0.38999999999999996, gamma=0.4, colsample_bytree=0.7000000000000002, colsample_bylevel=0.6, alpha=0.8 \n",
      "[CV]  subsample=0.7, scale_pos_weight=4, n_estimators=195, min_child_weight=6, max_depth=15, learning_rate=0.38999999999999996, gamma=0.4, colsample_bytree=0.7000000000000002, colsample_bylevel=0.6, alpha=0.8, total=   8.4s\n",
      "[CV] subsample=0.7, scale_pos_weight=4, n_estimators=195, min_child_weight=6, max_depth=15, learning_rate=0.38999999999999996, gamma=0.4, colsample_bytree=0.7000000000000002, colsample_bylevel=0.6, alpha=0.8 \n",
      "[CV]  subsample=0.7, scale_pos_weight=4, n_estimators=195, min_child_weight=6, max_depth=15, learning_rate=0.38999999999999996, gamma=0.4, colsample_bytree=0.7000000000000002, colsample_bylevel=0.6, alpha=0.8, total=   8.8s\n",
      "[CV] subsample=0.7, scale_pos_weight=4, n_estimators=195, min_child_weight=6, max_depth=15, learning_rate=0.38999999999999996, gamma=0.4, colsample_bytree=0.7000000000000002, colsample_bylevel=0.6, alpha=0.8 \n",
      "[CV]  subsample=0.7, scale_pos_weight=4, n_estimators=195, min_child_weight=6, max_depth=15, learning_rate=0.38999999999999996, gamma=0.4, colsample_bytree=0.7000000000000002, colsample_bylevel=0.6, alpha=0.8, total=   9.7s\n",
      "[CV] subsample=0.7, scale_pos_weight=3, n_estimators=240, min_child_weight=7, max_depth=19, learning_rate=0.38999999999999996, gamma=0.2, colsample_bytree=0.5, colsample_bylevel=0.6, alpha=0.7000000000000001 \n",
      "[CV]  subsample=0.7, scale_pos_weight=3, n_estimators=240, min_child_weight=7, max_depth=19, learning_rate=0.38999999999999996, gamma=0.2, colsample_bytree=0.5, colsample_bylevel=0.6, alpha=0.7000000000000001, total=   5.5s\n",
      "[CV] subsample=0.7, scale_pos_weight=3, n_estimators=240, min_child_weight=7, max_depth=19, learning_rate=0.38999999999999996, gamma=0.2, colsample_bytree=0.5, colsample_bylevel=0.6, alpha=0.7000000000000001 \n",
      "[CV]  subsample=0.7, scale_pos_weight=3, n_estimators=240, min_child_weight=7, max_depth=19, learning_rate=0.38999999999999996, gamma=0.2, colsample_bytree=0.5, colsample_bylevel=0.6, alpha=0.7000000000000001, total=   5.5s\n",
      "[CV] subsample=0.7, scale_pos_weight=3, n_estimators=240, min_child_weight=7, max_depth=19, learning_rate=0.38999999999999996, gamma=0.2, colsample_bytree=0.5, colsample_bylevel=0.6, alpha=0.7000000000000001 \n",
      "[CV]  subsample=0.7, scale_pos_weight=3, n_estimators=240, min_child_weight=7, max_depth=19, learning_rate=0.38999999999999996, gamma=0.2, colsample_bytree=0.5, colsample_bylevel=0.6, alpha=0.7000000000000001, total=   5.5s\n",
      "[CV] subsample=0.7, scale_pos_weight=3, n_estimators=240, min_child_weight=7, max_depth=19, learning_rate=0.38999999999999996, gamma=0.2, colsample_bytree=0.5, colsample_bylevel=0.6, alpha=0.7000000000000001 \n",
      "[CV]  subsample=0.7, scale_pos_weight=3, n_estimators=240, min_child_weight=7, max_depth=19, learning_rate=0.38999999999999996, gamma=0.2, colsample_bytree=0.5, colsample_bylevel=0.6, alpha=0.7000000000000001, total=   5.8s\n",
      "[CV] subsample=0.7, scale_pos_weight=5, n_estimators=285, min_child_weight=3, max_depth=39, learning_rate=0.44999999999999996, gamma=0.0, colsample_bytree=0.7500000000000002, colsample_bylevel=0.7000000000000001, alpha=0.8 \n",
      "[CV]  subsample=0.7, scale_pos_weight=5, n_estimators=285, min_child_weight=3, max_depth=39, learning_rate=0.44999999999999996, gamma=0.0, colsample_bytree=0.7500000000000002, colsample_bylevel=0.7000000000000001, alpha=0.8, total=  36.9s\n",
      "[CV] subsample=0.7, scale_pos_weight=5, n_estimators=285, min_child_weight=3, max_depth=39, learning_rate=0.44999999999999996, gamma=0.0, colsample_bytree=0.7500000000000002, colsample_bylevel=0.7000000000000001, alpha=0.8 \n",
      "[CV]  subsample=0.7, scale_pos_weight=5, n_estimators=285, min_child_weight=3, max_depth=39, learning_rate=0.44999999999999996, gamma=0.0, colsample_bytree=0.7500000000000002, colsample_bylevel=0.7000000000000001, alpha=0.8, total=  35.7s\n",
      "[CV] subsample=0.7, scale_pos_weight=5, n_estimators=285, min_child_weight=3, max_depth=39, learning_rate=0.44999999999999996, gamma=0.0, colsample_bytree=0.7500000000000002, colsample_bylevel=0.7000000000000001, alpha=0.8 \n",
      "[CV]  subsample=0.7, scale_pos_weight=5, n_estimators=285, min_child_weight=3, max_depth=39, learning_rate=0.44999999999999996, gamma=0.0, colsample_bytree=0.7500000000000002, colsample_bylevel=0.7000000000000001, alpha=0.8, total=  37.1s\n",
      "[CV] subsample=0.7, scale_pos_weight=5, n_estimators=285, min_child_weight=3, max_depth=39, learning_rate=0.44999999999999996, gamma=0.0, colsample_bytree=0.7500000000000002, colsample_bylevel=0.7000000000000001, alpha=0.8 \n",
      "[CV]  subsample=0.7, scale_pos_weight=5, n_estimators=285, min_child_weight=3, max_depth=39, learning_rate=0.44999999999999996, gamma=0.0, colsample_bytree=0.7500000000000002, colsample_bylevel=0.7000000000000001, alpha=0.8, total=  34.7s\n",
      "[CV] subsample=0.8999999999999999, scale_pos_weight=3, n_estimators=210, min_child_weight=5, max_depth=27, learning_rate=0.01, gamma=0.30000000000000004, colsample_bytree=0.7000000000000002, colsample_bylevel=0.8000000000000002, alpha=0.30000000000000004 \n",
      "[CV]  subsample=0.8999999999999999, scale_pos_weight=3, n_estimators=210, min_child_weight=5, max_depth=27, learning_rate=0.01, gamma=0.30000000000000004, colsample_bytree=0.7000000000000002, colsample_bylevel=0.8000000000000002, alpha=0.30000000000000004, total=  22.5s\n",
      "[CV] subsample=0.8999999999999999, scale_pos_weight=3, n_estimators=210, min_child_weight=5, max_depth=27, learning_rate=0.01, gamma=0.30000000000000004, colsample_bytree=0.7000000000000002, colsample_bylevel=0.8000000000000002, alpha=0.30000000000000004 \n",
      "[CV]  subsample=0.8999999999999999, scale_pos_weight=3, n_estimators=210, min_child_weight=5, max_depth=27, learning_rate=0.01, gamma=0.30000000000000004, colsample_bytree=0.7000000000000002, colsample_bylevel=0.8000000000000002, alpha=0.30000000000000004, total=  18.6s\n",
      "[CV] subsample=0.8999999999999999, scale_pos_weight=3, n_estimators=210, min_child_weight=5, max_depth=27, learning_rate=0.01, gamma=0.30000000000000004, colsample_bytree=0.7000000000000002, colsample_bylevel=0.8000000000000002, alpha=0.30000000000000004 \n",
      "[CV]  subsample=0.8999999999999999, scale_pos_weight=3, n_estimators=210, min_child_weight=5, max_depth=27, learning_rate=0.01, gamma=0.30000000000000004, colsample_bytree=0.7000000000000002, colsample_bylevel=0.8000000000000002, alpha=0.30000000000000004, total=  18.4s\n",
      "[CV] subsample=0.8999999999999999, scale_pos_weight=3, n_estimators=210, min_child_weight=5, max_depth=27, learning_rate=0.01, gamma=0.30000000000000004, colsample_bytree=0.7000000000000002, colsample_bylevel=0.8000000000000002, alpha=0.30000000000000004 \n",
      "[CV]  subsample=0.8999999999999999, scale_pos_weight=3, n_estimators=210, min_child_weight=5, max_depth=27, learning_rate=0.01, gamma=0.30000000000000004, colsample_bytree=0.7000000000000002, colsample_bylevel=0.8000000000000002, alpha=0.30000000000000004, total=  18.5s\n",
      "[CV] subsample=0.7999999999999999, scale_pos_weight=5, n_estimators=150, min_child_weight=6, max_depth=33, learning_rate=0.15, gamma=0.2, colsample_bytree=0.55, colsample_bylevel=0.7000000000000001, alpha=0.9 \n",
      "[CV]  subsample=0.7999999999999999, scale_pos_weight=5, n_estimators=150, min_child_weight=6, max_depth=33, learning_rate=0.15, gamma=0.2, colsample_bytree=0.55, colsample_bylevel=0.7000000000000001, alpha=0.9, total=   6.3s\n",
      "[CV] subsample=0.7999999999999999, scale_pos_weight=5, n_estimators=150, min_child_weight=6, max_depth=33, learning_rate=0.15, gamma=0.2, colsample_bytree=0.55, colsample_bylevel=0.7000000000000001, alpha=0.9 \n",
      "[CV]  subsample=0.7999999999999999, scale_pos_weight=5, n_estimators=150, min_child_weight=6, max_depth=33, learning_rate=0.15, gamma=0.2, colsample_bytree=0.55, colsample_bylevel=0.7000000000000001, alpha=0.9, total=   6.5s\n",
      "[CV] subsample=0.7999999999999999, scale_pos_weight=5, n_estimators=150, min_child_weight=6, max_depth=33, learning_rate=0.15, gamma=0.2, colsample_bytree=0.55, colsample_bylevel=0.7000000000000001, alpha=0.9 \n",
      "[CV]  subsample=0.7999999999999999, scale_pos_weight=5, n_estimators=150, min_child_weight=6, max_depth=33, learning_rate=0.15, gamma=0.2, colsample_bytree=0.55, colsample_bylevel=0.7000000000000001, alpha=0.9, total=   6.7s\n",
      "[CV] subsample=0.7999999999999999, scale_pos_weight=5, n_estimators=150, min_child_weight=6, max_depth=33, learning_rate=0.15, gamma=0.2, colsample_bytree=0.55, colsample_bylevel=0.7000000000000001, alpha=0.9 \n",
      "[CV]  subsample=0.7999999999999999, scale_pos_weight=5, n_estimators=150, min_child_weight=6, max_depth=33, learning_rate=0.15, gamma=0.2, colsample_bytree=0.55, colsample_bylevel=0.7000000000000001, alpha=0.9, total=   6.7s\n",
      "[CV] subsample=0.6, scale_pos_weight=3, n_estimators=30, min_child_weight=4, max_depth=15, learning_rate=0.10999999999999997, gamma=0.30000000000000004, colsample_bytree=0.7500000000000002, colsample_bylevel=0.7500000000000001, alpha=0.2 \n",
      "[CV]  subsample=0.6, scale_pos_weight=3, n_estimators=30, min_child_weight=4, max_depth=15, learning_rate=0.10999999999999997, gamma=0.30000000000000004, colsample_bytree=0.7500000000000002, colsample_bylevel=0.7500000000000001, alpha=0.2, total=   1.8s\n",
      "[CV] subsample=0.6, scale_pos_weight=3, n_estimators=30, min_child_weight=4, max_depth=15, learning_rate=0.10999999999999997, gamma=0.30000000000000004, colsample_bytree=0.7500000000000002, colsample_bylevel=0.7500000000000001, alpha=0.2 \n",
      "[CV]  subsample=0.6, scale_pos_weight=3, n_estimators=30, min_child_weight=4, max_depth=15, learning_rate=0.10999999999999997, gamma=0.30000000000000004, colsample_bytree=0.7500000000000002, colsample_bylevel=0.7500000000000001, alpha=0.2, total=   1.8s\n",
      "[CV] subsample=0.6, scale_pos_weight=3, n_estimators=30, min_child_weight=4, max_depth=15, learning_rate=0.10999999999999997, gamma=0.30000000000000004, colsample_bytree=0.7500000000000002, colsample_bylevel=0.7500000000000001, alpha=0.2 \n",
      "[CV]  subsample=0.6, scale_pos_weight=3, n_estimators=30, min_child_weight=4, max_depth=15, learning_rate=0.10999999999999997, gamma=0.30000000000000004, colsample_bytree=0.7500000000000002, colsample_bylevel=0.7500000000000001, alpha=0.2, total=   1.7s\n",
      "[CV] subsample=0.6, scale_pos_weight=3, n_estimators=30, min_child_weight=4, max_depth=15, learning_rate=0.10999999999999997, gamma=0.30000000000000004, colsample_bytree=0.7500000000000002, colsample_bylevel=0.7500000000000001, alpha=0.2 \n",
      "[CV]  subsample=0.6, scale_pos_weight=3, n_estimators=30, min_child_weight=4, max_depth=15, learning_rate=0.10999999999999997, gamma=0.30000000000000004, colsample_bytree=0.7500000000000002, colsample_bylevel=0.7500000000000001, alpha=0.2, total=   1.8s\n",
      "[CV] subsample=0.7999999999999999, scale_pos_weight=3, n_estimators=60, min_child_weight=3, max_depth=23, learning_rate=0.4099999999999999, gamma=0.30000000000000004, colsample_bytree=0.6500000000000001, colsample_bylevel=0.8000000000000002, alpha=0.1 \n",
      "[CV]  subsample=0.7999999999999999, scale_pos_weight=3, n_estimators=60, min_child_weight=3, max_depth=23, learning_rate=0.4099999999999999, gamma=0.30000000000000004, colsample_bytree=0.6500000000000001, colsample_bylevel=0.8000000000000002, alpha=0.1, total=   4.7s\n",
      "[CV] subsample=0.7999999999999999, scale_pos_weight=3, n_estimators=60, min_child_weight=3, max_depth=23, learning_rate=0.4099999999999999, gamma=0.30000000000000004, colsample_bytree=0.6500000000000001, colsample_bylevel=0.8000000000000002, alpha=0.1 \n",
      "[CV]  subsample=0.7999999999999999, scale_pos_weight=3, n_estimators=60, min_child_weight=3, max_depth=23, learning_rate=0.4099999999999999, gamma=0.30000000000000004, colsample_bytree=0.6500000000000001, colsample_bylevel=0.8000000000000002, alpha=0.1, total=   4.8s\n",
      "[CV] subsample=0.7999999999999999, scale_pos_weight=3, n_estimators=60, min_child_weight=3, max_depth=23, learning_rate=0.4099999999999999, gamma=0.30000000000000004, colsample_bytree=0.6500000000000001, colsample_bylevel=0.8000000000000002, alpha=0.1 \n",
      "[CV]  subsample=0.7999999999999999, scale_pos_weight=3, n_estimators=60, min_child_weight=3, max_depth=23, learning_rate=0.4099999999999999, gamma=0.30000000000000004, colsample_bytree=0.6500000000000001, colsample_bylevel=0.8000000000000002, alpha=0.1, total=   4.7s\n",
      "[CV] subsample=0.7999999999999999, scale_pos_weight=3, n_estimators=60, min_child_weight=3, max_depth=23, learning_rate=0.4099999999999999, gamma=0.30000000000000004, colsample_bytree=0.6500000000000001, colsample_bylevel=0.8000000000000002, alpha=0.1 \n",
      "[CV]  subsample=0.7999999999999999, scale_pos_weight=3, n_estimators=60, min_child_weight=3, max_depth=23, learning_rate=0.4099999999999999, gamma=0.30000000000000004, colsample_bytree=0.6500000000000001, colsample_bylevel=0.8000000000000002, alpha=0.1, total=   4.7s\n",
      "[CV] subsample=0.8999999999999999, scale_pos_weight=5, n_estimators=120, min_child_weight=6, max_depth=29, learning_rate=0.4099999999999999, gamma=0.2, colsample_bytree=0.7500000000000002, colsample_bylevel=0.9000000000000002, alpha=0.4 \n",
      "[CV]  subsample=0.8999999999999999, scale_pos_weight=5, n_estimators=120, min_child_weight=6, max_depth=29, learning_rate=0.4099999999999999, gamma=0.2, colsample_bytree=0.7500000000000002, colsample_bylevel=0.9000000000000002, alpha=0.4, total=  10.1s\n",
      "[CV] subsample=0.8999999999999999, scale_pos_weight=5, n_estimators=120, min_child_weight=6, max_depth=29, learning_rate=0.4099999999999999, gamma=0.2, colsample_bytree=0.7500000000000002, colsample_bylevel=0.9000000000000002, alpha=0.4 \n",
      "[CV]  subsample=0.8999999999999999, scale_pos_weight=5, n_estimators=120, min_child_weight=6, max_depth=29, learning_rate=0.4099999999999999, gamma=0.2, colsample_bytree=0.7500000000000002, colsample_bylevel=0.9000000000000002, alpha=0.4, total=  10.5s\n",
      "[CV] subsample=0.8999999999999999, scale_pos_weight=5, n_estimators=120, min_child_weight=6, max_depth=29, learning_rate=0.4099999999999999, gamma=0.2, colsample_bytree=0.7500000000000002, colsample_bylevel=0.9000000000000002, alpha=0.4 \n",
      "[CV]  subsample=0.8999999999999999, scale_pos_weight=5, n_estimators=120, min_child_weight=6, max_depth=29, learning_rate=0.4099999999999999, gamma=0.2, colsample_bytree=0.7500000000000002, colsample_bylevel=0.9000000000000002, alpha=0.4, total=  10.8s\n",
      "[CV] subsample=0.8999999999999999, scale_pos_weight=5, n_estimators=120, min_child_weight=6, max_depth=29, learning_rate=0.4099999999999999, gamma=0.2, colsample_bytree=0.7500000000000002, colsample_bylevel=0.9000000000000002, alpha=0.4 \n",
      "[CV]  subsample=0.8999999999999999, scale_pos_weight=5, n_estimators=120, min_child_weight=6, max_depth=29, learning_rate=0.4099999999999999, gamma=0.2, colsample_bytree=0.7500000000000002, colsample_bylevel=0.9000000000000002, alpha=0.4, total=  10.6s\n",
      "[CV] subsample=0.7, scale_pos_weight=2, n_estimators=225, min_child_weight=4, max_depth=39, learning_rate=0.32999999999999996, gamma=0.0, colsample_bytree=0.7500000000000002, colsample_bylevel=0.9000000000000002, alpha=0.4 \n",
      "[CV]  subsample=0.7, scale_pos_weight=2, n_estimators=225, min_child_weight=4, max_depth=39, learning_rate=0.32999999999999996, gamma=0.0, colsample_bytree=0.7500000000000002, colsample_bylevel=0.9000000000000002, alpha=0.4, total=  14.2s\n",
      "[CV] subsample=0.7, scale_pos_weight=2, n_estimators=225, min_child_weight=4, max_depth=39, learning_rate=0.32999999999999996, gamma=0.0, colsample_bytree=0.7500000000000002, colsample_bylevel=0.9000000000000002, alpha=0.4 \n",
      "[CV]  subsample=0.7, scale_pos_weight=2, n_estimators=225, min_child_weight=4, max_depth=39, learning_rate=0.32999999999999996, gamma=0.0, colsample_bytree=0.7500000000000002, colsample_bylevel=0.9000000000000002, alpha=0.4, total=  13.9s\n",
      "[CV] subsample=0.7, scale_pos_weight=2, n_estimators=225, min_child_weight=4, max_depth=39, learning_rate=0.32999999999999996, gamma=0.0, colsample_bytree=0.7500000000000002, colsample_bylevel=0.9000000000000002, alpha=0.4 \n",
      "[CV]  subsample=0.7, scale_pos_weight=2, n_estimators=225, min_child_weight=4, max_depth=39, learning_rate=0.32999999999999996, gamma=0.0, colsample_bytree=0.7500000000000002, colsample_bylevel=0.9000000000000002, alpha=0.4, total=  14.5s\n",
      "[CV] subsample=0.7, scale_pos_weight=2, n_estimators=225, min_child_weight=4, max_depth=39, learning_rate=0.32999999999999996, gamma=0.0, colsample_bytree=0.7500000000000002, colsample_bylevel=0.9000000000000002, alpha=0.4 \n",
      "[CV]  subsample=0.7, scale_pos_weight=2, n_estimators=225, min_child_weight=4, max_depth=39, learning_rate=0.32999999999999996, gamma=0.0, colsample_bytree=0.7500000000000002, colsample_bylevel=0.9000000000000002, alpha=0.4, total=  14.8s\n",
      "[CV] subsample=0.8999999999999999, scale_pos_weight=2, n_estimators=90, min_child_weight=3, max_depth=15, learning_rate=0.48999999999999994, gamma=0.0, colsample_bytree=0.6500000000000001, colsample_bylevel=0.8000000000000002, alpha=0.7000000000000001 \n",
      "[CV]  subsample=0.8999999999999999, scale_pos_weight=2, n_estimators=90, min_child_weight=3, max_depth=15, learning_rate=0.48999999999999994, gamma=0.0, colsample_bytree=0.6500000000000001, colsample_bylevel=0.8000000000000002, alpha=0.7000000000000001, total=   4.7s\n",
      "[CV] subsample=0.8999999999999999, scale_pos_weight=2, n_estimators=90, min_child_weight=3, max_depth=15, learning_rate=0.48999999999999994, gamma=0.0, colsample_bytree=0.6500000000000001, colsample_bylevel=0.8000000000000002, alpha=0.7000000000000001 \n",
      "[CV]  subsample=0.8999999999999999, scale_pos_weight=2, n_estimators=90, min_child_weight=3, max_depth=15, learning_rate=0.48999999999999994, gamma=0.0, colsample_bytree=0.6500000000000001, colsample_bylevel=0.8000000000000002, alpha=0.7000000000000001, total=   4.7s\n",
      "[CV] subsample=0.8999999999999999, scale_pos_weight=2, n_estimators=90, min_child_weight=3, max_depth=15, learning_rate=0.48999999999999994, gamma=0.0, colsample_bytree=0.6500000000000001, colsample_bylevel=0.8000000000000002, alpha=0.7000000000000001 \n",
      "[CV]  subsample=0.8999999999999999, scale_pos_weight=2, n_estimators=90, min_child_weight=3, max_depth=15, learning_rate=0.48999999999999994, gamma=0.0, colsample_bytree=0.6500000000000001, colsample_bylevel=0.8000000000000002, alpha=0.7000000000000001, total=   4.7s\n",
      "[CV] subsample=0.8999999999999999, scale_pos_weight=2, n_estimators=90, min_child_weight=3, max_depth=15, learning_rate=0.48999999999999994, gamma=0.0, colsample_bytree=0.6500000000000001, colsample_bylevel=0.8000000000000002, alpha=0.7000000000000001 \n",
      "[CV]  subsample=0.8999999999999999, scale_pos_weight=2, n_estimators=90, min_child_weight=3, max_depth=15, learning_rate=0.48999999999999994, gamma=0.0, colsample_bytree=0.6500000000000001, colsample_bylevel=0.8000000000000002, alpha=0.7000000000000001, total=   4.7s\n",
      "[CV] subsample=0.7, scale_pos_weight=4, n_estimators=165, min_child_weight=5, max_depth=15, learning_rate=0.42999999999999994, gamma=0.2, colsample_bytree=0.8000000000000003, colsample_bylevel=0.7000000000000001, alpha=0.9 \n",
      "[CV]  subsample=0.7, scale_pos_weight=4, n_estimators=165, min_child_weight=5, max_depth=15, learning_rate=0.42999999999999994, gamma=0.2, colsample_bytree=0.8000000000000003, colsample_bylevel=0.7000000000000001, alpha=0.9, total=   8.6s\n",
      "[CV] subsample=0.7, scale_pos_weight=4, n_estimators=165, min_child_weight=5, max_depth=15, learning_rate=0.42999999999999994, gamma=0.2, colsample_bytree=0.8000000000000003, colsample_bylevel=0.7000000000000001, alpha=0.9 \n",
      "[CV]  subsample=0.7, scale_pos_weight=4, n_estimators=165, min_child_weight=5, max_depth=15, learning_rate=0.42999999999999994, gamma=0.2, colsample_bytree=0.8000000000000003, colsample_bylevel=0.7000000000000001, alpha=0.9, total=   8.7s\n",
      "[CV] subsample=0.7, scale_pos_weight=4, n_estimators=165, min_child_weight=5, max_depth=15, learning_rate=0.42999999999999994, gamma=0.2, colsample_bytree=0.8000000000000003, colsample_bylevel=0.7000000000000001, alpha=0.9 \n",
      "[CV]  subsample=0.7, scale_pos_weight=4, n_estimators=165, min_child_weight=5, max_depth=15, learning_rate=0.42999999999999994, gamma=0.2, colsample_bytree=0.8000000000000003, colsample_bylevel=0.7000000000000001, alpha=0.9, total=   8.9s\n",
      "[CV] subsample=0.7, scale_pos_weight=4, n_estimators=165, min_child_weight=5, max_depth=15, learning_rate=0.42999999999999994, gamma=0.2, colsample_bytree=0.8000000000000003, colsample_bylevel=0.7000000000000001, alpha=0.9 \n",
      "[CV]  subsample=0.7, scale_pos_weight=4, n_estimators=165, min_child_weight=5, max_depth=15, learning_rate=0.42999999999999994, gamma=0.2, colsample_bytree=0.8000000000000003, colsample_bylevel=0.7000000000000001, alpha=0.9, total=   8.8s\n",
      "[CV] subsample=0.6, scale_pos_weight=2, n_estimators=195, min_child_weight=8, max_depth=31, learning_rate=0.18999999999999997, gamma=0.2, colsample_bytree=0.6000000000000001, colsample_bylevel=0.8000000000000002, alpha=0.6 \n",
      "[CV]  subsample=0.6, scale_pos_weight=2, n_estimators=195, min_child_weight=8, max_depth=31, learning_rate=0.18999999999999997, gamma=0.2, colsample_bytree=0.6000000000000001, colsample_bylevel=0.8000000000000002, alpha=0.6, total=   4.0s\n",
      "[CV] subsample=0.6, scale_pos_weight=2, n_estimators=195, min_child_weight=8, max_depth=31, learning_rate=0.18999999999999997, gamma=0.2, colsample_bytree=0.6000000000000001, colsample_bylevel=0.8000000000000002, alpha=0.6 \n",
      "[CV]  subsample=0.6, scale_pos_weight=2, n_estimators=195, min_child_weight=8, max_depth=31, learning_rate=0.18999999999999997, gamma=0.2, colsample_bytree=0.6000000000000001, colsample_bylevel=0.8000000000000002, alpha=0.6, total=   4.0s\n",
      "[CV] subsample=0.6, scale_pos_weight=2, n_estimators=195, min_child_weight=8, max_depth=31, learning_rate=0.18999999999999997, gamma=0.2, colsample_bytree=0.6000000000000001, colsample_bylevel=0.8000000000000002, alpha=0.6 \n",
      "[CV]  subsample=0.6, scale_pos_weight=2, n_estimators=195, min_child_weight=8, max_depth=31, learning_rate=0.18999999999999997, gamma=0.2, colsample_bytree=0.6000000000000001, colsample_bylevel=0.8000000000000002, alpha=0.6, total=   4.0s\n",
      "[CV] subsample=0.6, scale_pos_weight=2, n_estimators=195, min_child_weight=8, max_depth=31, learning_rate=0.18999999999999997, gamma=0.2, colsample_bytree=0.6000000000000001, colsample_bylevel=0.8000000000000002, alpha=0.6 \n",
      "[CV]  subsample=0.6, scale_pos_weight=2, n_estimators=195, min_child_weight=8, max_depth=31, learning_rate=0.18999999999999997, gamma=0.2, colsample_bytree=0.6000000000000001, colsample_bylevel=0.8000000000000002, alpha=0.6, total=   4.1s\n",
      "[CV] subsample=0.7, scale_pos_weight=4, n_estimators=180, min_child_weight=7, max_depth=17, learning_rate=0.4099999999999999, gamma=0.0, colsample_bytree=0.7000000000000002, colsample_bylevel=0.6, alpha=0.4 \n",
      "[CV]  subsample=0.7, scale_pos_weight=4, n_estimators=180, min_child_weight=7, max_depth=17, learning_rate=0.4099999999999999, gamma=0.0, colsample_bytree=0.7000000000000002, colsample_bylevel=0.6, alpha=0.4, total=   5.4s\n",
      "[CV] subsample=0.7, scale_pos_weight=4, n_estimators=180, min_child_weight=7, max_depth=17, learning_rate=0.4099999999999999, gamma=0.0, colsample_bytree=0.7000000000000002, colsample_bylevel=0.6, alpha=0.4 \n",
      "[CV]  subsample=0.7, scale_pos_weight=4, n_estimators=180, min_child_weight=7, max_depth=17, learning_rate=0.4099999999999999, gamma=0.0, colsample_bytree=0.7000000000000002, colsample_bylevel=0.6, alpha=0.4, total=   5.5s\n",
      "[CV] subsample=0.7, scale_pos_weight=4, n_estimators=180, min_child_weight=7, max_depth=17, learning_rate=0.4099999999999999, gamma=0.0, colsample_bytree=0.7000000000000002, colsample_bylevel=0.6, alpha=0.4 \n",
      "[CV]  subsample=0.7, scale_pos_weight=4, n_estimators=180, min_child_weight=7, max_depth=17, learning_rate=0.4099999999999999, gamma=0.0, colsample_bytree=0.7000000000000002, colsample_bylevel=0.6, alpha=0.4, total=   5.6s\n",
      "[CV] subsample=0.7, scale_pos_weight=4, n_estimators=180, min_child_weight=7, max_depth=17, learning_rate=0.4099999999999999, gamma=0.0, colsample_bytree=0.7000000000000002, colsample_bylevel=0.6, alpha=0.4 \n",
      "[CV]  subsample=0.7, scale_pos_weight=4, n_estimators=180, min_child_weight=7, max_depth=17, learning_rate=0.4099999999999999, gamma=0.0, colsample_bytree=0.7000000000000002, colsample_bylevel=0.6, alpha=0.4, total=   5.8s\n",
      "[CV] subsample=0.6, scale_pos_weight=4, n_estimators=195, min_child_weight=2, max_depth=27, learning_rate=0.32999999999999996, gamma=0.1, colsample_bytree=0.55, colsample_bylevel=0.7500000000000001, alpha=0.30000000000000004 \n",
      "[CV]  subsample=0.6, scale_pos_weight=4, n_estimators=195, min_child_weight=2, max_depth=27, learning_rate=0.32999999999999996, gamma=0.1, colsample_bytree=0.55, colsample_bylevel=0.7500000000000001, alpha=0.30000000000000004, total=  14.3s\n",
      "[CV] subsample=0.6, scale_pos_weight=4, n_estimators=195, min_child_weight=2, max_depth=27, learning_rate=0.32999999999999996, gamma=0.1, colsample_bytree=0.55, colsample_bylevel=0.7500000000000001, alpha=0.30000000000000004 \n",
      "[CV]  subsample=0.6, scale_pos_weight=4, n_estimators=195, min_child_weight=2, max_depth=27, learning_rate=0.32999999999999996, gamma=0.1, colsample_bytree=0.55, colsample_bylevel=0.7500000000000001, alpha=0.30000000000000004, total=  14.2s\n",
      "[CV] subsample=0.6, scale_pos_weight=4, n_estimators=195, min_child_weight=2, max_depth=27, learning_rate=0.32999999999999996, gamma=0.1, colsample_bytree=0.55, colsample_bylevel=0.7500000000000001, alpha=0.30000000000000004 \n",
      "[CV]  subsample=0.6, scale_pos_weight=4, n_estimators=195, min_child_weight=2, max_depth=27, learning_rate=0.32999999999999996, gamma=0.1, colsample_bytree=0.55, colsample_bylevel=0.7500000000000001, alpha=0.30000000000000004, total=  14.5s\n",
      "[CV] subsample=0.6, scale_pos_weight=4, n_estimators=195, min_child_weight=2, max_depth=27, learning_rate=0.32999999999999996, gamma=0.1, colsample_bytree=0.55, colsample_bylevel=0.7500000000000001, alpha=0.30000000000000004 \n",
      "[CV]  subsample=0.6, scale_pos_weight=4, n_estimators=195, min_child_weight=2, max_depth=27, learning_rate=0.32999999999999996, gamma=0.1, colsample_bytree=0.55, colsample_bylevel=0.7500000000000001, alpha=0.30000000000000004, total=  14.4s\n",
      "[CV] subsample=0.6, scale_pos_weight=2, n_estimators=270, min_child_weight=4, max_depth=27, learning_rate=0.30999999999999994, gamma=0.4, colsample_bytree=0.55, colsample_bylevel=0.65, alpha=0.8 \n",
      "[CV]  subsample=0.6, scale_pos_weight=2, n_estimators=270, min_child_weight=4, max_depth=27, learning_rate=0.30999999999999994, gamma=0.4, colsample_bytree=0.55, colsample_bylevel=0.65, alpha=0.8, total=   6.8s\n",
      "[CV] subsample=0.6, scale_pos_weight=2, n_estimators=270, min_child_weight=4, max_depth=27, learning_rate=0.30999999999999994, gamma=0.4, colsample_bytree=0.55, colsample_bylevel=0.65, alpha=0.8 \n",
      "[CV]  subsample=0.6, scale_pos_weight=2, n_estimators=270, min_child_weight=4, max_depth=27, learning_rate=0.30999999999999994, gamma=0.4, colsample_bytree=0.55, colsample_bylevel=0.65, alpha=0.8, total=   6.9s\n",
      "[CV] subsample=0.6, scale_pos_weight=2, n_estimators=270, min_child_weight=4, max_depth=27, learning_rate=0.30999999999999994, gamma=0.4, colsample_bytree=0.55, colsample_bylevel=0.65, alpha=0.8 \n",
      "[CV]  subsample=0.6, scale_pos_weight=2, n_estimators=270, min_child_weight=4, max_depth=27, learning_rate=0.30999999999999994, gamma=0.4, colsample_bytree=0.55, colsample_bylevel=0.65, alpha=0.8, total=   7.0s\n",
      "[CV] subsample=0.6, scale_pos_weight=2, n_estimators=270, min_child_weight=4, max_depth=27, learning_rate=0.30999999999999994, gamma=0.4, colsample_bytree=0.55, colsample_bylevel=0.65, alpha=0.8 \n",
      "[CV]  subsample=0.6, scale_pos_weight=2, n_estimators=270, min_child_weight=4, max_depth=27, learning_rate=0.30999999999999994, gamma=0.4, colsample_bytree=0.55, colsample_bylevel=0.65, alpha=0.8, total=   7.3s\n"
     ]
    },
    {
     "name": "stderr",
     "output_type": "stream",
     "text": [
      "[Parallel(n_jobs=1)]: Done  80 out of  80 | elapsed: 16.0min finished\n"
     ]
    },
    {
     "name": "stdout",
     "output_type": "stream",
     "text": [
      "Best parameters:  {'subsample': 0.6, 'scale_pos_weight': 2, 'n_estimators': 180, 'min_child_weight': 1, 'max_depth': 25, 'learning_rate': 0.36999999999999994, 'gamma': 0.2, 'colsample_bytree': 0.5, 'colsample_bylevel': 0.8000000000000002, 'alpha': 0.30000000000000004}\n"
     ]
    }
   ],
   "source": [
    "from sklearn.model_selection import RandomizedSearchCV\n",
    "\n",
    "param_grid = dict(learning_rate = np.arange(0.01,0.5,0.02),\n",
    "                              n_estimators = np.arange(15,300,15),\n",
    "                              scale_pos_weight = np.arange(2,6,1),\n",
    "                              max_depth = np.arange(15,40,2),min_child_weight= np.arange(1,10,1),\n",
    "                              gamma = np.arange(0,0.5,0.1), alpha= np.arange(0.1,1,0.1),\n",
    "                              subsample = np.arange(0.6,1,0.1), colsample_bytree = np.arange(0.5,0.8,0.05),\n",
    "                              colsample_bylevel = np.arange(0.6,0.91,0.05))\n",
    "classifier = xgb.XGBClassifier()\n",
    "\n",
    "grid = RandomizedSearchCV(estimator=classifier, param_distributions=param_grid,\n",
    "                              cv=4, verbose=2, n_iter=20, n_jobs=1)\n",
    "grid_result = grid.fit(count_train,y_text_train)\n",
    "params_xgb_count = grid_result.best_params_\n",
    "print(\"Best parameters: \", params_xgb_count)"
   ]
  },
  {
   "cell_type": "code",
   "execution_count": 32,
   "metadata": {},
   "outputs": [
    {
     "name": "stdout",
     "output_type": "stream",
     "text": [
      "0.7019903173749328\n"
     ]
    }
   ],
   "source": [
    "import xgboost as xgb\n",
    "from sklearn.metrics import mean_squared_error\n",
    "from sklearn.model_selection import cross_val_score\n",
    "\n",
    "xg_reg = xgb.XGBRegressor(**params_xgb_count)\n",
    "xg_reg.fit(count_train,y_train) \n",
    "y_pred = xg_reg.predict(count_test)\n",
    "\n",
    "for i in range (0, len(y_pred)):\n",
    "    if y_pred[i] >= 0.5:       \n",
    "        y_pred[i] = 1 \n",
    "    else:  \n",
    "        y_pred[i]=0\n",
    "        \n",
    "accuracy = accuracy_score(y_pred,y_test)\n",
    "print(accuracy)"
   ]
  },
  {
   "cell_type": "code",
   "execution_count": 33,
   "metadata": {},
   "outputs": [
    {
     "data": {
      "text/plain": [
       "array([0.6 , 0.65, 0.7 , 0.75, 0.8 , 0.85, 0.9 ])"
      ]
     },
     "execution_count": 33,
     "metadata": {},
     "output_type": "execute_result"
    }
   ],
   "source": [
    "np.arange(0.6,0.91,0.05)"
   ]
  },
  {
   "cell_type": "code",
   "execution_count": 34,
   "metadata": {},
   "outputs": [
    {
     "data": {
      "text/plain": [
       "[0.6, 0.65, 0.7, 0.75, 0.8, 0.85, 0.9]"
      ]
     },
     "execution_count": 34,
     "metadata": {},
     "output_type": "execute_result"
    }
   ],
   "source": [
    "[0.6 , 0.65, 0.7 , 0.75, 0.8 , 0.85, 0.9 ]"
   ]
  },
  {
   "cell_type": "markdown",
   "metadata": {},
   "source": [
    "### XGBoost con Hash vectorizer"
   ]
  },
  {
   "cell_type": "code",
   "execution_count": 36,
   "metadata": {},
   "outputs": [
    {
     "name": "stdout",
     "output_type": "stream",
     "text": [
      "0.7912856374394835\n"
     ]
    }
   ],
   "source": [
    "import xgboost as xgb\n",
    "\n",
    "xg_reg = xgb.XGBRegressor(objective ='reg:logistic', \n",
    "                colsample_bytree = 0.45, colsample_bylevel = 0.4, learning_rate = 0.05,\n",
    "                max_depth = 25, min_child_weight = 1.1, alpha = 0.5, gamma =  0.4, n_estimators = 210)\n",
    "xg_reg.fit(hash_train, y_train)\n",
    "y_pred = xg_reg.predict(hash_test)\n",
    "\n",
    "for i in range (0, len(y_pred)):\n",
    "    if y_pred[i] >= 0.5:       \n",
    "        y_pred[i] = 1 \n",
    "    else:  \n",
    "        y_pred[i]=0\n",
    "        \n",
    "accuracy = accuracy_score(y_pred,y_test)\n",
    "print(accuracy)"
   ]
  },
  {
   "cell_type": "code",
   "execution_count": null,
   "metadata": {},
   "outputs": [],
   "source": []
  }
 ],
 "metadata": {
  "kernelspec": {
   "display_name": "Python 3",
   "language": "python",
   "name": "python3"
  },
  "language_info": {
   "codemirror_mode": {
    "name": "ipython",
    "version": 3
   },
   "file_extension": ".py",
   "mimetype": "text/x-python",
   "name": "python",
   "nbconvert_exporter": "python",
   "pygments_lexer": "ipython3",
   "version": "3.7.6"
  }
 },
 "nbformat": 4,
 "nbformat_minor": 4
}
