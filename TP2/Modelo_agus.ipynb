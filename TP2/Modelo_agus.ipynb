{
 "cells": [
  {
   "cell_type": "code",
   "execution_count": 1,
   "metadata": {},
   "outputs": [
    {
     "name": "stderr",
     "output_type": "stream",
     "text": [
      "[nltk_data] Downloading package stopwords to\n",
      "[nltk_data]     /home/agustin/nltk_data...\n",
      "[nltk_data]   Package stopwords is already up-to-date!\n"
     ]
    }
   ],
   "source": [
    "import numpy as np\n",
    "import pandas as pd\n",
    "from sklearn import preprocessing\n",
    "from sklearn.feature_extraction.text import CountVectorizer, TfidfVectorizer\n",
    "from sklearn.metrics import accuracy_score\n",
    "from sklearn.model_selection import train_test_split, KFold\n",
    "import nltk\n",
    "from nltk.corpus import stopwords\n",
    "from nltk.stem.snowball import SnowballStemmer\n",
    "import matplotlib\n",
    "from matplotlib import pyplot as plt\n",
    "%matplotlib inline\n",
    "%config InlineBackend.figure_format = 'retina'\n",
    "import string\n",
    "import io\n",
    "nltk.download('stopwords')\n",
    "from nltk.corpus import stopwords\n",
    "stopwords = stopwords.words('english')\n",
    "stemmer = SnowballStemmer('english')"
   ]
  },
  {
   "cell_type": "code",
   "execution_count": 2,
   "metadata": {},
   "outputs": [
    {
     "name": "stderr",
     "output_type": "stream",
     "text": [
      "[nltk_data] Downloading package vader_lexicon to\n",
      "[nltk_data]     /home/agustin/nltk_data...\n",
      "[nltk_data]   Package vader_lexicon is already up-to-date!\n"
     ]
    }
   ],
   "source": [
    "from nltk.sentiment.vader import SentimentIntensityAnalyzer\n",
    "nltk.download('vader_lexicon')\n",
    "sia = SentimentIntensityAnalyzer()\n",
    "def return_sia_compound_values(text):\n",
    "    return sia.polarity_scores(text)['compound']"
   ]
  },
  {
   "cell_type": "code",
   "execution_count": 3,
   "metadata": {},
   "outputs": [],
   "source": [
    "def remove_stopword(text):\n",
    "    new_text = []\n",
    "    for e in text:\n",
    "        if e not in stopwords and e.isalpha():\n",
    "            new_text.append(e)\n",
    "    text = new_text\n",
    "    return \" \".join(new_text)\n",
    "\n",
    "def stemm(text):\n",
    "    text = [stemmer.stem(word) for word in text.split()]\n",
    "    return \" \".join(text)\n",
    "\n",
    "def contains_punctuation(text):\n",
    "    punctuation = set(string.punctuation)\n",
    "    for character in text:\n",
    "        if character in punctuation:\n",
    "            return True\n",
    "    return False\n",
    "\n",
    "def amount_of_punctuation(text):\n",
    "    punctuation = set(string.punctuation)\n",
    "    amount = 0\n",
    "    for character in text:\n",
    "        if character in punctuation: amount += 1\n",
    "    return amount"
   ]
  },
  {
   "cell_type": "code",
   "execution_count": 4,
   "metadata": {},
   "outputs": [],
   "source": [
    "tweets = pd.read_csv(\"train.csv\", usecols=['id','text', 'target'])\n",
    "test = pd.read_csv(\"test.csv\")"
   ]
  },
  {
   "cell_type": "code",
   "execution_count": 5,
   "metadata": {},
   "outputs": [
    {
     "name": "stdout",
     "output_type": "stream",
     "text": [
      "<class 'pandas.core.frame.DataFrame'>\n",
      "Int64Index: 7434 entries, 0 to 7612\n",
      "Data columns (total 3 columns):\n",
      " #   Column  Non-Null Count  Dtype \n",
      "---  ------  --------------  ----- \n",
      " 0   id      7434 non-null   int64 \n",
      " 1   text    7434 non-null   object\n",
      " 2   target  7434 non-null   int64 \n",
      "dtypes: int64(2), object(1)\n",
      "memory usage: 232.3+ KB\n"
     ]
    }
   ],
   "source": [
    "tweets.drop_duplicates(subset = 'text', keep = False, inplace = True)\n",
    "tweets.info()"
   ]
  },
  {
   "cell_type": "code",
   "execution_count": 6,
   "metadata": {},
   "outputs": [
    {
     "data": {
      "text/html": [
       "<div>\n",
       "<style scoped>\n",
       "    .dataframe tbody tr th:only-of-type {\n",
       "        vertical-align: middle;\n",
       "    }\n",
       "\n",
       "    .dataframe tbody tr th {\n",
       "        vertical-align: top;\n",
       "    }\n",
       "\n",
       "    .dataframe thead th {\n",
       "        text-align: right;\n",
       "    }\n",
       "</style>\n",
       "<table border=\"1\" class=\"dataframe\">\n",
       "  <thead>\n",
       "    <tr style=\"text-align: right;\">\n",
       "      <th></th>\n",
       "      <th>id</th>\n",
       "      <th>text</th>\n",
       "      <th>target</th>\n",
       "      <th>text_without_stopwords</th>\n",
       "      <th>length</th>\n",
       "      <th>avg_word_length</th>\n",
       "      <th>amount_of_words</th>\n",
       "      <th>amount_of_unique_words</th>\n",
       "      <th>sentiment</th>\n",
       "      <th>stopwords_count</th>\n",
       "      <th>punctuation_count</th>\n",
       "      <th>mentions_count</th>\n",
       "      <th>hashtags_count</th>\n",
       "      <th>longest_word_length_without_stopwords</th>\n",
       "    </tr>\n",
       "  </thead>\n",
       "  <tbody>\n",
       "    <tr>\n",
       "      <th>0</th>\n",
       "      <td>1</td>\n",
       "      <td>Our Deeds are the Reason of this #earthquake M...</td>\n",
       "      <td>1</td>\n",
       "      <td>Our Deeds Reason May ALLAH Forgive us</td>\n",
       "      <td>69</td>\n",
       "      <td>4.384615</td>\n",
       "      <td>13</td>\n",
       "      <td>13</td>\n",
       "      <td>0.2732</td>\n",
       "      <td>6</td>\n",
       "      <td>1</td>\n",
       "      <td>0</td>\n",
       "      <td>1</td>\n",
       "      <td>7</td>\n",
       "    </tr>\n",
       "    <tr>\n",
       "      <th>1</th>\n",
       "      <td>4</td>\n",
       "      <td>Forest fire near La Ronge Sask. Canada</td>\n",
       "      <td>1</td>\n",
       "      <td>Forest fire near La Ronge Canada</td>\n",
       "      <td>38</td>\n",
       "      <td>4.571429</td>\n",
       "      <td>7</td>\n",
       "      <td>7</td>\n",
       "      <td>-0.3400</td>\n",
       "      <td>0</td>\n",
       "      <td>1</td>\n",
       "      <td>0</td>\n",
       "      <td>0</td>\n",
       "      <td>6</td>\n",
       "    </tr>\n",
       "    <tr>\n",
       "      <th>2</th>\n",
       "      <td>5</td>\n",
       "      <td>All residents asked to 'shelter in place' are ...</td>\n",
       "      <td>1</td>\n",
       "      <td>All residents asked notified No evacuation she...</td>\n",
       "      <td>133</td>\n",
       "      <td>5.090909</td>\n",
       "      <td>22</td>\n",
       "      <td>20</td>\n",
       "      <td>-0.2960</td>\n",
       "      <td>11</td>\n",
       "      <td>3</td>\n",
       "      <td>0</td>\n",
       "      <td>0</td>\n",
       "      <td>10</td>\n",
       "    </tr>\n",
       "    <tr>\n",
       "      <th>3</th>\n",
       "      <td>6</td>\n",
       "      <td>13,000 people receive #wildfires evacuation or...</td>\n",
       "      <td>1</td>\n",
       "      <td>people receive evacuation orders California</td>\n",
       "      <td>65</td>\n",
       "      <td>7.125000</td>\n",
       "      <td>8</td>\n",
       "      <td>8</td>\n",
       "      <td>0.0000</td>\n",
       "      <td>1</td>\n",
       "      <td>2</td>\n",
       "      <td>0</td>\n",
       "      <td>1</td>\n",
       "      <td>10</td>\n",
       "    </tr>\n",
       "    <tr>\n",
       "      <th>4</th>\n",
       "      <td>7</td>\n",
       "      <td>Just got sent this photo from Ruby #Alaska as ...</td>\n",
       "      <td>1</td>\n",
       "      <td>Just got sent photo Ruby smoke pours school</td>\n",
       "      <td>88</td>\n",
       "      <td>4.500000</td>\n",
       "      <td>16</td>\n",
       "      <td>15</td>\n",
       "      <td>0.0000</td>\n",
       "      <td>7</td>\n",
       "      <td>2</td>\n",
       "      <td>0</td>\n",
       "      <td>2</td>\n",
       "      <td>6</td>\n",
       "    </tr>\n",
       "  </tbody>\n",
       "</table>\n",
       "</div>"
      ],
      "text/plain": [
       "   id                                               text  target  \\\n",
       "0   1  Our Deeds are the Reason of this #earthquake M...       1   \n",
       "1   4             Forest fire near La Ronge Sask. Canada       1   \n",
       "2   5  All residents asked to 'shelter in place' are ...       1   \n",
       "3   6  13,000 people receive #wildfires evacuation or...       1   \n",
       "4   7  Just got sent this photo from Ruby #Alaska as ...       1   \n",
       "\n",
       "                              text_without_stopwords  length  avg_word_length  \\\n",
       "0              Our Deeds Reason May ALLAH Forgive us      69         4.384615   \n",
       "1                   Forest fire near La Ronge Canada      38         4.571429   \n",
       "2  All residents asked notified No evacuation she...     133         5.090909   \n",
       "3        people receive evacuation orders California      65         7.125000   \n",
       "4        Just got sent photo Ruby smoke pours school      88         4.500000   \n",
       "\n",
       "   amount_of_words  amount_of_unique_words  sentiment  stopwords_count  \\\n",
       "0               13                      13     0.2732                6   \n",
       "1                7                       7    -0.3400                0   \n",
       "2               22                      20    -0.2960               11   \n",
       "3                8                       8     0.0000                1   \n",
       "4               16                      15     0.0000                7   \n",
       "\n",
       "   punctuation_count  mentions_count  hashtags_count  \\\n",
       "0                  1               0               1   \n",
       "1                  1               0               0   \n",
       "2                  3               0               0   \n",
       "3                  2               0               1   \n",
       "4                  2               0               2   \n",
       "\n",
       "   longest_word_length_without_stopwords  \n",
       "0                                      7  \n",
       "1                                      6  \n",
       "2                                     10  \n",
       "3                                     10  \n",
       "4                                      6  "
      ]
     },
     "execution_count": 6,
     "metadata": {},
     "output_type": "execute_result"
    }
   ],
   "source": [
    "tweets_metrics = tweets[['id','text','target']]\n",
    "tweets_metrics['text_without_stopwords'] = tweets_metrics['text'].str.split()\n",
    "tweets_metrics['text_without_stopwords'] = tweets_metrics['text_without_stopwords'].apply(remove_stopword)\n",
    "\n",
    "tweets_metrics['length'] = tweets_metrics['text'].apply(lambda x: len(x))\n",
    "tweets_metrics['avg_word_length'] = tweets_metrics['text'].str.split().apply(lambda x: [len(y) for y in x]).transform(lambda x: np.mean(x))\n",
    "tweets_metrics['amount_of_words'] = tweets_metrics['text'].str.split().transform(lambda x: len(x))\n",
    "unique_words_by_tweet = tweets_metrics['text'].transform(lambda x: x.split()).transform(lambda x: pd.Series(x).unique()).transform(lambda x: len(x))\n",
    "tweets_metrics['amount_of_unique_words'] = unique_words_by_tweet\n",
    "tweets_metrics['sentiment'] = tweets_metrics['text'].apply(lambda x: return_sia_compound_values(x))\n",
    "tweets_metrics['stopwords_count'] = tweets_metrics['text'].apply(lambda x: len([word for word in str(x).lower().split() if word in stopwords]))\n",
    "tweets_metrics['punctuation_count'] = tweets_metrics['text'].apply(lambda x: amount_of_punctuation(x))\n",
    "mentions = tweets_metrics['text'].str.findall(r'@.\\S*?(?=\\s|[:]|$)').to_frame()\n",
    "tweets_metrics['mentions_count'] = mentions['text'].apply(lambda x: len(x))\n",
    "hashtags = tweets_metrics['text'].str.findall(r'#[^?\\s].*?(?=\\s|$)')\n",
    "tweets_metrics['hashtags_count'] = hashtags.apply(lambda x: len(x))\n",
    "tweets_metrics['longest_word_length_without_stopwords'] = tweets_metrics['text_without_stopwords'].apply(lambda x: ([len(word) for word in str(x).lower().split() if not word.startswith('http')])).apply(lambda x: max(x) if len(x) > 0 else 0)\n",
    "\n",
    "tweets_metrics.head()"
   ]
  },
  {
   "cell_type": "markdown",
   "metadata": {},
   "source": [
    "### Split de features"
   ]
  },
  {
   "cell_type": "code",
   "execution_count": 82,
   "metadata": {},
   "outputs": [],
   "source": [
    "data_cols = ['length','avg_word_length','amount_of_words','amount_of_unique_words','sentiment','stopwords_count','punctuation_count','mentions_count','hashtags_count','longest_word_length_without_stopwords']\n",
    "basic_data_cols = ['length','avg_word_length','amount_of_words','amount_of_unique_words','sentiment','stopwords_count','punctuation_count','longest_word_length_without_stopwords']\n",
    "x_train, x_test, y_train, y_test = \\\n",
    "train_test_split(tweets_metrics[data_cols], tweets_metrics['target'], test_size = 0.25, random_state = 123)"
   ]
  },
  {
   "cell_type": "code",
   "execution_count": 8,
   "metadata": {},
   "outputs": [],
   "source": [
    "vectorizer = TfidfVectorizer()\n",
    "tfidf_lgbm = vectorizer.fit_transform(tweets_metrics.loc[:, 'text'])\n",
    "array = tfidf_lgbm.todense()"
   ]
  },
  {
   "cell_type": "code",
   "execution_count": 9,
   "metadata": {},
   "outputs": [
    {
     "data": {
      "text/html": [
       "<div>\n",
       "<style scoped>\n",
       "    .dataframe tbody tr th:only-of-type {\n",
       "        vertical-align: middle;\n",
       "    }\n",
       "\n",
       "    .dataframe tbody tr th {\n",
       "        vertical-align: top;\n",
       "    }\n",
       "\n",
       "    .dataframe thead th {\n",
       "        text-align: right;\n",
       "    }\n",
       "</style>\n",
       "<table border=\"1\" class=\"dataframe\">\n",
       "  <thead>\n",
       "    <tr style=\"text-align: right;\">\n",
       "      <th></th>\n",
       "      <th>0</th>\n",
       "      <th>1</th>\n",
       "      <th>2</th>\n",
       "      <th>3</th>\n",
       "      <th>4</th>\n",
       "      <th>5</th>\n",
       "      <th>6</th>\n",
       "      <th>7</th>\n",
       "      <th>8</th>\n",
       "      <th>9</th>\n",
       "      <th>...</th>\n",
       "      <th>length</th>\n",
       "      <th>avg_word_length</th>\n",
       "      <th>amount_of_words</th>\n",
       "      <th>amount_of_unique_words</th>\n",
       "      <th>sentiment</th>\n",
       "      <th>stopwords_count</th>\n",
       "      <th>punctuation_count</th>\n",
       "      <th>mentions_count</th>\n",
       "      <th>hashtags_count</th>\n",
       "      <th>longest_word_length_without_stopwords</th>\n",
       "    </tr>\n",
       "  </thead>\n",
       "  <tbody>\n",
       "    <tr>\n",
       "      <th>0</th>\n",
       "      <td>0.0</td>\n",
       "      <td>0.000000</td>\n",
       "      <td>0.0</td>\n",
       "      <td>0.0</td>\n",
       "      <td>0.0</td>\n",
       "      <td>0.0</td>\n",
       "      <td>0.0</td>\n",
       "      <td>0.0</td>\n",
       "      <td>0.0</td>\n",
       "      <td>0.0</td>\n",
       "      <td>...</td>\n",
       "      <td>69</td>\n",
       "      <td>4.384615</td>\n",
       "      <td>13</td>\n",
       "      <td>13</td>\n",
       "      <td>0.2732</td>\n",
       "      <td>6</td>\n",
       "      <td>1</td>\n",
       "      <td>0</td>\n",
       "      <td>1</td>\n",
       "      <td>7</td>\n",
       "    </tr>\n",
       "    <tr>\n",
       "      <th>1</th>\n",
       "      <td>0.0</td>\n",
       "      <td>0.000000</td>\n",
       "      <td>0.0</td>\n",
       "      <td>0.0</td>\n",
       "      <td>0.0</td>\n",
       "      <td>0.0</td>\n",
       "      <td>0.0</td>\n",
       "      <td>0.0</td>\n",
       "      <td>0.0</td>\n",
       "      <td>0.0</td>\n",
       "      <td>...</td>\n",
       "      <td>38</td>\n",
       "      <td>4.571429</td>\n",
       "      <td>7</td>\n",
       "      <td>7</td>\n",
       "      <td>-0.3400</td>\n",
       "      <td>0</td>\n",
       "      <td>1</td>\n",
       "      <td>0</td>\n",
       "      <td>0</td>\n",
       "      <td>6</td>\n",
       "    </tr>\n",
       "    <tr>\n",
       "      <th>2</th>\n",
       "      <td>0.0</td>\n",
       "      <td>0.000000</td>\n",
       "      <td>0.0</td>\n",
       "      <td>0.0</td>\n",
       "      <td>0.0</td>\n",
       "      <td>0.0</td>\n",
       "      <td>0.0</td>\n",
       "      <td>0.0</td>\n",
       "      <td>0.0</td>\n",
       "      <td>0.0</td>\n",
       "      <td>...</td>\n",
       "      <td>133</td>\n",
       "      <td>5.090909</td>\n",
       "      <td>22</td>\n",
       "      <td>20</td>\n",
       "      <td>-0.2960</td>\n",
       "      <td>11</td>\n",
       "      <td>3</td>\n",
       "      <td>0</td>\n",
       "      <td>0</td>\n",
       "      <td>10</td>\n",
       "    </tr>\n",
       "    <tr>\n",
       "      <th>3</th>\n",
       "      <td>0.0</td>\n",
       "      <td>0.416232</td>\n",
       "      <td>0.0</td>\n",
       "      <td>0.0</td>\n",
       "      <td>0.0</td>\n",
       "      <td>0.0</td>\n",
       "      <td>0.0</td>\n",
       "      <td>0.0</td>\n",
       "      <td>0.0</td>\n",
       "      <td>0.0</td>\n",
       "      <td>...</td>\n",
       "      <td>65</td>\n",
       "      <td>7.125000</td>\n",
       "      <td>8</td>\n",
       "      <td>8</td>\n",
       "      <td>0.0000</td>\n",
       "      <td>1</td>\n",
       "      <td>2</td>\n",
       "      <td>0</td>\n",
       "      <td>1</td>\n",
       "      <td>10</td>\n",
       "    </tr>\n",
       "    <tr>\n",
       "      <th>4</th>\n",
       "      <td>0.0</td>\n",
       "      <td>0.000000</td>\n",
       "      <td>0.0</td>\n",
       "      <td>0.0</td>\n",
       "      <td>0.0</td>\n",
       "      <td>0.0</td>\n",
       "      <td>0.0</td>\n",
       "      <td>0.0</td>\n",
       "      <td>0.0</td>\n",
       "      <td>0.0</td>\n",
       "      <td>...</td>\n",
       "      <td>88</td>\n",
       "      <td>4.500000</td>\n",
       "      <td>16</td>\n",
       "      <td>15</td>\n",
       "      <td>0.0000</td>\n",
       "      <td>7</td>\n",
       "      <td>2</td>\n",
       "      <td>0</td>\n",
       "      <td>2</td>\n",
       "      <td>6</td>\n",
       "    </tr>\n",
       "    <tr>\n",
       "      <th>...</th>\n",
       "      <td>...</td>\n",
       "      <td>...</td>\n",
       "      <td>...</td>\n",
       "      <td>...</td>\n",
       "      <td>...</td>\n",
       "      <td>...</td>\n",
       "      <td>...</td>\n",
       "      <td>...</td>\n",
       "      <td>...</td>\n",
       "      <td>...</td>\n",
       "      <td>...</td>\n",
       "      <td>...</td>\n",
       "      <td>...</td>\n",
       "      <td>...</td>\n",
       "      <td>...</td>\n",
       "      <td>...</td>\n",
       "      <td>...</td>\n",
       "      <td>...</td>\n",
       "      <td>...</td>\n",
       "      <td>...</td>\n",
       "      <td>...</td>\n",
       "    </tr>\n",
       "    <tr>\n",
       "      <th>7429</th>\n",
       "      <td>0.0</td>\n",
       "      <td>0.000000</td>\n",
       "      <td>0.0</td>\n",
       "      <td>0.0</td>\n",
       "      <td>0.0</td>\n",
       "      <td>0.0</td>\n",
       "      <td>0.0</td>\n",
       "      <td>0.0</td>\n",
       "      <td>0.0</td>\n",
       "      <td>0.0</td>\n",
       "      <td>...</td>\n",
       "      <td>136</td>\n",
       "      <td>7.058824</td>\n",
       "      <td>17</td>\n",
       "      <td>17</td>\n",
       "      <td>-0.7579</td>\n",
       "      <td>2</td>\n",
       "      <td>15</td>\n",
       "      <td>0</td>\n",
       "      <td>1</td>\n",
       "      <td>10</td>\n",
       "    </tr>\n",
       "    <tr>\n",
       "      <th>7430</th>\n",
       "      <td>0.0</td>\n",
       "      <td>0.000000</td>\n",
       "      <td>0.0</td>\n",
       "      <td>0.0</td>\n",
       "      <td>0.0</td>\n",
       "      <td>0.0</td>\n",
       "      <td>0.0</td>\n",
       "      <td>0.0</td>\n",
       "      <td>0.0</td>\n",
       "      <td>0.0</td>\n",
       "      <td>...</td>\n",
       "      <td>105</td>\n",
       "      <td>6.571429</td>\n",
       "      <td>14</td>\n",
       "      <td>14</td>\n",
       "      <td>-0.7579</td>\n",
       "      <td>2</td>\n",
       "      <td>9</td>\n",
       "      <td>0</td>\n",
       "      <td>1</td>\n",
       "      <td>10</td>\n",
       "    </tr>\n",
       "    <tr>\n",
       "      <th>7431</th>\n",
       "      <td>0.0</td>\n",
       "      <td>0.000000</td>\n",
       "      <td>0.0</td>\n",
       "      <td>0.0</td>\n",
       "      <td>0.0</td>\n",
       "      <td>0.0</td>\n",
       "      <td>0.0</td>\n",
       "      <td>0.0</td>\n",
       "      <td>0.0</td>\n",
       "      <td>0.0</td>\n",
       "      <td>...</td>\n",
       "      <td>134</td>\n",
       "      <td>5.428571</td>\n",
       "      <td>21</td>\n",
       "      <td>21</td>\n",
       "      <td>0.9164</td>\n",
       "      <td>5</td>\n",
       "      <td>9</td>\n",
       "      <td>0</td>\n",
       "      <td>0</td>\n",
       "      <td>8</td>\n",
       "    </tr>\n",
       "    <tr>\n",
       "      <th>7432</th>\n",
       "      <td>0.0</td>\n",
       "      <td>0.000000</td>\n",
       "      <td>0.0</td>\n",
       "      <td>0.0</td>\n",
       "      <td>0.0</td>\n",
       "      <td>0.0</td>\n",
       "      <td>0.0</td>\n",
       "      <td>0.0</td>\n",
       "      <td>0.0</td>\n",
       "      <td>0.0</td>\n",
       "      <td>...</td>\n",
       "      <td>139</td>\n",
       "      <td>4.384615</td>\n",
       "      <td>26</td>\n",
       "      <td>21</td>\n",
       "      <td>0.4118</td>\n",
       "      <td>9</td>\n",
       "      <td>7</td>\n",
       "      <td>0</td>\n",
       "      <td>0</td>\n",
       "      <td>7</td>\n",
       "    </tr>\n",
       "    <tr>\n",
       "      <th>7433</th>\n",
       "      <td>0.0</td>\n",
       "      <td>0.000000</td>\n",
       "      <td>0.0</td>\n",
       "      <td>0.0</td>\n",
       "      <td>0.0</td>\n",
       "      <td>0.0</td>\n",
       "      <td>0.0</td>\n",
       "      <td>0.0</td>\n",
       "      <td>0.0</td>\n",
       "      <td>0.0</td>\n",
       "      <td>...</td>\n",
       "      <td>91</td>\n",
       "      <td>7.363636</td>\n",
       "      <td>11</td>\n",
       "      <td>11</td>\n",
       "      <td>-0.7717</td>\n",
       "      <td>2</td>\n",
       "      <td>6</td>\n",
       "      <td>1</td>\n",
       "      <td>0</td>\n",
       "      <td>8</td>\n",
       "    </tr>\n",
       "  </tbody>\n",
       "</table>\n",
       "<p>7263 rows × 21540 columns</p>\n",
       "</div>"
      ],
      "text/plain": [
       "        0         1    2    3    4    5    6    7    8    9  ...  length  \\\n",
       "0     0.0  0.000000  0.0  0.0  0.0  0.0  0.0  0.0  0.0  0.0  ...      69   \n",
       "1     0.0  0.000000  0.0  0.0  0.0  0.0  0.0  0.0  0.0  0.0  ...      38   \n",
       "2     0.0  0.000000  0.0  0.0  0.0  0.0  0.0  0.0  0.0  0.0  ...     133   \n",
       "3     0.0  0.416232  0.0  0.0  0.0  0.0  0.0  0.0  0.0  0.0  ...      65   \n",
       "4     0.0  0.000000  0.0  0.0  0.0  0.0  0.0  0.0  0.0  0.0  ...      88   \n",
       "...   ...       ...  ...  ...  ...  ...  ...  ...  ...  ...  ...     ...   \n",
       "7429  0.0  0.000000  0.0  0.0  0.0  0.0  0.0  0.0  0.0  0.0  ...     136   \n",
       "7430  0.0  0.000000  0.0  0.0  0.0  0.0  0.0  0.0  0.0  0.0  ...     105   \n",
       "7431  0.0  0.000000  0.0  0.0  0.0  0.0  0.0  0.0  0.0  0.0  ...     134   \n",
       "7432  0.0  0.000000  0.0  0.0  0.0  0.0  0.0  0.0  0.0  0.0  ...     139   \n",
       "7433  0.0  0.000000  0.0  0.0  0.0  0.0  0.0  0.0  0.0  0.0  ...      91   \n",
       "\n",
       "      avg_word_length  amount_of_words  amount_of_unique_words  sentiment  \\\n",
       "0            4.384615               13                      13     0.2732   \n",
       "1            4.571429                7                       7    -0.3400   \n",
       "2            5.090909               22                      20    -0.2960   \n",
       "3            7.125000                8                       8     0.0000   \n",
       "4            4.500000               16                      15     0.0000   \n",
       "...               ...              ...                     ...        ...   \n",
       "7429         7.058824               17                      17    -0.7579   \n",
       "7430         6.571429               14                      14    -0.7579   \n",
       "7431         5.428571               21                      21     0.9164   \n",
       "7432         4.384615               26                      21     0.4118   \n",
       "7433         7.363636               11                      11    -0.7717   \n",
       "\n",
       "      stopwords_count  punctuation_count  mentions_count  hashtags_count  \\\n",
       "0                   6                  1               0               1   \n",
       "1                   0                  1               0               0   \n",
       "2                  11                  3               0               0   \n",
       "3                   1                  2               0               1   \n",
       "4                   7                  2               0               2   \n",
       "...               ...                ...             ...             ...   \n",
       "7429                2                 15               0               1   \n",
       "7430                2                  9               0               1   \n",
       "7431                5                  9               0               0   \n",
       "7432                9                  7               0               0   \n",
       "7433                2                  6               1               0   \n",
       "\n",
       "      longest_word_length_without_stopwords  \n",
       "0                                         7  \n",
       "1                                         6  \n",
       "2                                        10  \n",
       "3                                        10  \n",
       "4                                         6  \n",
       "...                                     ...  \n",
       "7429                                     10  \n",
       "7430                                     10  \n",
       "7431                                      8  \n",
       "7432                                      7  \n",
       "7433                                      8  \n",
       "\n",
       "[7263 rows x 21540 columns]"
      ]
     },
     "execution_count": 9,
     "metadata": {},
     "output_type": "execute_result"
    }
   ],
   "source": [
    "df = pd.DataFrame(array)\n",
    "df['output'] = tweets['target']\n",
    "basic_features = tweets_metrics[['length','avg_word_length','amount_of_words','amount_of_unique_words','sentiment','stopwords_count','punctuation_count','mentions_count','hashtags_count','longest_word_length_without_stopwords']]\n",
    "tfidf_features = df.merge(basic_features, left_index = True, right_index = True)\n",
    "tfidf_features"
   ]
  },
  {
   "cell_type": "code",
   "execution_count": 10,
   "metadata": {},
   "outputs": [],
   "source": [
    "features = tfidf_features.columns.drop('output')\n",
    "x = tfidf_features.loc[:, features].values\n",
    "y = tfidf_features.loc[:, 'output'].values\n",
    "\n",
    "from sklearn.model_selection import train_test_split\n",
    "x_tfidf_train, x_tfidf_test, y_tfidf_train, y_tfidf_test = train_test_split(x, y, test_size = 0.25, random_state = 123)\n",
    "\n",
    "from sklearn.preprocessing import StandardScaler\n",
    "sc = StandardScaler()\n",
    "x_tfidf_train = sc.fit_transform(x_tfidf_train)\n",
    "x_tfidf_test = sc.transform(x_tfidf_test)"
   ]
  },
  {
   "cell_type": "markdown",
   "metadata": {},
   "source": [
    "### Split de TF-IDF"
   ]
  },
  {
   "cell_type": "code",
   "execution_count": 49,
   "metadata": {},
   "outputs": [],
   "source": [
    "x_text_train, x_text_test, y_text_train, y_text_test = \\\n",
    "train_test_split(tweets_metrics['text'], tweets_metrics['target'], test_size = 0.25, random_state = 123)"
   ]
  },
  {
   "cell_type": "code",
   "execution_count": 50,
   "metadata": {},
   "outputs": [
    {
     "name": "stdout",
     "output_type": "stream",
     "text": [
      "(5575, 17703) (1859, 17703)\n"
     ]
    }
   ],
   "source": [
    "tfid_vectorizer = TfidfVectorizer()\n",
    "train_vectors = tfid_vectorizer.fit_transform(x_text_train)\n",
    "test_vectors = tfid_vectorizer.transform(x_text_test)\n",
    "print(train_vectors.shape, test_vectors.shape)"
   ]
  },
  {
   "cell_type": "markdown",
   "metadata": {},
   "source": [
    "### Split count vectorizer"
   ]
  },
  {
   "cell_type": "code",
   "execution_count": 51,
   "metadata": {},
   "outputs": [
    {
     "name": "stdout",
     "output_type": "stream",
     "text": [
      "(5575, 53543) (1859, 53543) (5575,) (1859,)\n"
     ]
    }
   ],
   "source": [
    "from sklearn.feature_extraction.text import CountVectorizer\n",
    "count_vectorizer = CountVectorizer(analyzer='word', ngram_range=(2, 2))\n",
    "count_train = count_vectorizer.fit_transform(x_text_train)\n",
    "count_test = count_vectorizer.transform(x_text_test)\n",
    "print(count_train.shape, count_test.shape, y_text_train.shape,y_text_test.shape )"
   ]
  },
  {
   "cell_type": "markdown",
   "metadata": {},
   "source": [
    "### Para submits"
   ]
  },
  {
   "cell_type": "code",
   "execution_count": 52,
   "metadata": {},
   "outputs": [],
   "source": [
    "test = pd.read_csv(\"test.csv\")"
   ]
  },
  {
   "cell_type": "markdown",
   "metadata": {},
   "source": [
    "### TF-IDF"
   ]
  },
  {
   "cell_type": "code",
   "execution_count": null,
   "metadata": {},
   "outputs": [],
   "source": []
  },
  {
   "cell_type": "code",
   "execution_count": 53,
   "metadata": {},
   "outputs": [
    {
     "name": "stdout",
     "output_type": "stream",
     "text": [
      "(7434, 21529) (3263, 21529)\n"
     ]
    }
   ],
   "source": [
    "train_vectors_full = tfid_vectorizer.fit_transform(tweets_metrics['text'])\n",
    "test_vectors_full = tfid_vectorizer.transform(test['text'])\n",
    "y_train_full = tweets_metrics['target']\n",
    "print(train_vectors_full.shape, test_vectors_full.shape )"
   ]
  },
  {
   "cell_type": "markdown",
   "metadata": {},
   "source": [
    "### KNN : baseline\n",
    " *En principio usando un bootstrap del set de entrenamiento para medir accuracy. Se utilizo un 25% del set para entrenar y el 75% restante para la predicción. Se utilizó la representación TF-IDF para el entrenamiento ya que KNN funciona con valores numericos.*\n",
    " \n",
    "Methods\n",
    "\n",
    "* fit(self, X, y) Fit the model using X as training data and y as target values\n",
    "\n",
    "* get_params(self[, deep]) Get parameters for this estimator.\n",
    "\n",
    "* kneighbors(self[, X, n_neighbors, …]) Finds the K-neighbors of a point.\n",
    "\n",
    "* kneighbors_graph(self[, X, n_neighbors, mode]) Computes the (weighted) graph of k-Neighbors for points in X\n",
    "\n",
    "* predict(self, X) Predict the class labels for the provided data.\n",
    "\n",
    "* predict_proba(self, X) Return probability estimates for the test data X.\n",
    "\n",
    "* score(self, X, y[, sample_weight]) Return the mean accuracy on the given test data and labels.\n",
    "\n",
    "* set_params(self, \\*\\*params) Set the parameters of this estimator."
   ]
  },
  {
   "cell_type": "markdown",
   "metadata": {},
   "source": [
    "### KNN con basic features"
   ]
  },
  {
   "cell_type": "code",
   "execution_count": 16,
   "metadata": {},
   "outputs": [
    {
     "name": "stdout",
     "output_type": "stream",
     "text": [
      "22 0.6853146853146853\n"
     ]
    }
   ],
   "source": [
    "from sklearn.neighbors import KNeighborsClassifier\n",
    "knn = KNeighborsClassifier(n_neighbors=1)\n",
    "knn.fit(x_train, y_train)\n",
    "max = knn.score(x_test, y_test)\n",
    "actual = max\n",
    "optimo = 1\n",
    "\n",
    "for i in range(2, 100):\n",
    "    knn = KNeighborsClassifier(n_neighbors = i)\n",
    "    knn.fit(x_train, y_train)\n",
    "    actual = knn.score(x_test, y_test)\n",
    "    if max < actual:\n",
    "        optimo = i \n",
    "        max = actual\n",
    "\n",
    "print(optimo, max) #0.6853146853146853 con 20 con basic features 22 con features"
   ]
  },
  {
   "cell_type": "code",
   "execution_count": 96,
   "metadata": {},
   "outputs": [
    {
     "name": "stdout",
     "output_type": "stream",
     "text": [
      "0.6550295477903392\n"
     ]
    }
   ],
   "source": [
    "from sklearn.model_selection import cross_val_score\n",
    "\n",
    "knn = KNeighborsClassifier(n_neighbors=43)\n",
    "all_accuracies = cross_val_score(estimator=knn, X=x_train, y=y_train, cv=40)\n",
    "print(all_accuracies.mean())"
   ]
  },
  {
   "cell_type": "markdown",
   "metadata": {},
   "source": [
    "### KNN con TF-IDF"
   ]
  },
  {
   "cell_type": "code",
   "execution_count": 17,
   "metadata": {},
   "outputs": [
    {
     "name": "stdout",
     "output_type": "stream",
     "text": [
      "49 0.7961269499731038\n"
     ]
    }
   ],
   "source": [
    "from sklearn.neighbors import KNeighborsClassifier\n",
    "knn = KNeighborsClassifier(n_neighbors=1)\n",
    "knn.fit(train_vectors, y_text_train)\n",
    "max = knn.score(test_vectors, y_text_test)\n",
    "actual = max\n",
    "optimo = 1\n",
    "\n",
    "for i in range(2, 100):\n",
    "    knn = KNeighborsClassifier(n_neighbors = i)\n",
    "    knn.fit(train_vectors, y_text_train)\n",
    "    actual = knn.score(test_vectors, y_text_test)\n",
    "    if max < actual:\n",
    "        optimo = i \n",
    "        max = actual\n",
    "\n",
    "print(optimo, max) #0.7961269499731038 con 49"
   ]
  },
  {
   "cell_type": "code",
   "execution_count": 80,
   "metadata": {},
   "outputs": [
    {
     "name": "stdout",
     "output_type": "stream",
     "text": [
      "0.7852595066803699\n"
     ]
    }
   ],
   "source": [
    "from sklearn.model_selection import cross_val_score\n",
    "\n",
    "knn = KNeighborsClassifier(n_neighbors=17)\n",
    "all_accuracies = cross_val_score(estimator=knn, X=train_vectors, y=y_text_train, cv=40)\n",
    "print(all_accuracies.mean())"
   ]
  },
  {
   "cell_type": "markdown",
   "metadata": {},
   "source": [
    "### KNN con count vectorizer"
   ]
  },
  {
   "cell_type": "code",
   "execution_count": 19,
   "metadata": {},
   "outputs": [
    {
     "name": "stdout",
     "output_type": "stream",
     "text": [
      "1 0.6761699838622915\n"
     ]
    }
   ],
   "source": [
    "from sklearn.neighbors import KNeighborsClassifier\n",
    "knn = KNeighborsClassifier(n_neighbors=1)\n",
    "knn.fit(count_train, y_text_train)\n",
    "max = knn.score(count_test, y_text_test)\n",
    "actual = max\n",
    "optimo = 1\n",
    "\n",
    "for i in range(2, 100):\n",
    "    knn = KNeighborsClassifier(n_neighbors = i)\n",
    "    knn.fit(count_train, y_text_train)\n",
    "    actual = knn.score(count_test, y_text_test)\n",
    "    if max < actual:\n",
    "        optimo = i \n",
    "        max = actual\n",
    "\n",
    "print(optimo, max) #0.6778749159381304 con 1 (basura)"
   ]
  },
  {
   "cell_type": "markdown",
   "metadata": {},
   "source": [
    "### Submit"
   ]
  },
  {
   "cell_type": "code",
   "execution_count": 57,
   "metadata": {},
   "outputs": [],
   "source": [
    "knn = KNeighborsClassifier(n_neighbors=17)\n",
    "knn.fit(train_vectors_full, y_train_full)\n",
    "predicted = knn.predict(test_vectors_full)"
   ]
  },
  {
   "cell_type": "code",
   "execution_count": 59,
   "metadata": {},
   "outputs": [],
   "source": [
    "test['target'] = predicted\n",
    "submit_kaggle = test.loc[:, ['id', 'target']]\n",
    "submit_kaggle.to_csv(\"knn_tfidf.csv\", index=False)"
   ]
  },
  {
   "cell_type": "markdown",
   "metadata": {},
   "source": [
    "### XGBoost"
   ]
  },
  {
   "cell_type": "code",
   "execution_count": 54,
   "metadata": {},
   "outputs": [
    {
     "name": "stdout",
     "output_type": "stream",
     "text": [
      "0.7240451855836472\n"
     ]
    }
   ],
   "source": [
    "import xgboost as xgb\n",
    "from sklearn.metrics import mean_squared_error\n",
    "from sklearn.model_selection import cross_val_score\n",
    "from sklearn.model_selection import KFold\n",
    "\n",
    "#acc = 0.7305002689618074(objective ='binary:logistic', colsample_bytree = 0.6, learning_rate = 0.01, max_depth = 35,alpha = 0.5, n_estimators = 140) \n",
    "xg_reg = xgb.XGBRegressor(objective ='binary:logistic', \n",
    "                colsample_bytree = 0.65, learning_rate = 0.005,\n",
    "                max_depth = 30,alpha = 0.7, n_estimators = 310) \n",
    "xg_reg.fit(x_train,y_train) \n",
    "y_pred = xg_reg.predict(x_test)\n",
    "\n",
    "for i in range (0, len(y_pred)):\n",
    "    if y_pred[i] >= 0.5:       \n",
    "        y_pred[i] = 1 \n",
    "    else:  \n",
    "        y_pred[i]=0\n",
    "        \n",
    "accuracy = accuracy_score(y_pred,y_test)\n",
    "print(accuracy)"
   ]
  },
  {
   "cell_type": "code",
   "execution_count": 18,
   "metadata": {},
   "outputs": [
    {
     "data": {
      "text/plain": [
       "<matplotlib.axes._subplots.AxesSubplot at 0x7fbfac73f790>"
      ]
     },
     "execution_count": 18,
     "metadata": {},
     "output_type": "execute_result"
    },
    {
     "data": {
      "image/png": "[encoded data removed]",
      "text/plain": [
       "<Figure size 864x504 with 1 Axes>"
      ]
     },
     "metadata": {
      "image/png": {
       "height": 440,
       "width": 907
      },
      "needs_background": "light"
     },
     "output_type": "display_data"
    }
   ],
   "source": [
    "kfold = KFold(n_splits=10)\n",
    "results = cross_val_score(xg_reg, x_train, y_train, cv=kfold)\n",
    "results\n",
    "\n",
    "import matplotlib.pyplot as plt\n",
    "\n",
    "plt.rcParams['figure.figsize'] = [12, 7]\n",
    "xgb.plot_importance(xg_reg)"
   ]
  },
  {
   "cell_type": "markdown",
   "metadata": {},
   "source": [
    "### XGBoost con TF-IDF"
   ]
  },
  {
   "cell_type": "code",
   "execution_count": 247,
   "metadata": {},
   "outputs": [
    {
     "name": "stdout",
     "output_type": "stream",
     "text": [
      "0.792361484669177\n"
     ]
    }
   ],
   "source": [
    "#acu = 0.792361484669177objective ='reg:logistic', colsample_bytree = 0.45, colsample_bylevel = 0.4, learning_rate = 0.05, max_depth = 25, min_child_weight = 1.1, alpha = 0.5, gamma =  0.4, n_estimators = 210)\n",
    "xg_reg = xgb.XGBRegressor(objective ='reg:logistic', \n",
    "                          colsample_bytree = 0.45, colsample_bylevel = 0.4, learning_rate = 0.05,\n",
    "                max_depth = 25, min_child_weight = 1.1, alpha = 0.5, gamma =  0.4, n_estimators = 210)\n",
    "xg_reg.fit(train_vectors,y_text_train)\n",
    "preds = xg_reg.predict(test_vectors)\n",
    "for i in range (0, len(preds)):\n",
    "    if preds[i] >= 0.5:       \n",
    "        preds[i] = 1 \n",
    "    else:  \n",
    "        preds[i] = 0\n",
    "\n",
    "from sklearn.metrics import accuracy_score\n",
    "accuracy = accuracy_score(preds,y_text_test)\n",
    "print(accuracy)"
   ]
  },
  {
   "cell_type": "markdown",
   "metadata": {},
   "source": [
    "### Submit"
   ]
  },
  {
   "cell_type": "code",
   "execution_count": 267,
   "metadata": {},
   "outputs": [],
   "source": [
    "import xgboost as xgb\n",
    "xg_reg = xgb.XGBRegressor(objective ='reg:logistic', \n",
    "                colsample_bytree = 0.45, colsample_bylevel = 0.4, learning_rate = 0.05,\n",
    "                max_depth = 25, min_child_weight = 1.1, alpha = 0.5, gamma =  0.4, n_estimators = 210)\n",
    "xg_reg.fit(train_vectors_full, y_train_full)\n",
    "predicted = xg_reg.predict(test_vectors_full)\n",
    "for i in range (0, len(predicted)):\n",
    "    if predicted[i] >= 0.5:       \n",
    "        predicted[i] = int(1.0)\n",
    "    else:  \n",
    "        predicted[i] = int(0)\n",
    "test['target'] = predicted\n",
    "test['target'] = test['target'].astype(int)\n",
    "submit_kaggle = test.loc[:, ['id', 'target']]\n",
    "submit_kaggle.to_csv(\"submit_prueba_20.csv\", index=False)"
   ]
  },
  {
   "cell_type": "code",
   "execution_count": 249,
   "metadata": {},
   "outputs": [
    {
     "name": "stdout",
     "output_type": "stream",
     "text": [
      "0.3486382501805172\n"
     ]
    }
   ],
   "source": [
    "from sklearn.model_selection import cross_val_score\n",
    "\n",
    "xg_reg = xgb.XGBRegressor(objective ='reg:logistic', \n",
    "                colsample_bytree = 0.45, colsample_bylevel = 0.4, learning_rate = 0.05,\n",
    "                max_depth = 25, min_child_weight = 1.1, alpha = 0.5, gamma =  0.4, n_estimators = 210)\n",
    "all_accuracies = cross_val_score(estimator=xg_reg, X=train_vectors, y=y_text_train, cv=10)\n",
    "print(all_accuracies.mean())"
   ]
  },
  {
   "cell_type": "code",
   "execution_count": 25,
   "metadata": {},
   "outputs": [
    {
     "name": "stdout",
     "output_type": "stream",
     "text": [
      "Best parameter:  {'learning_rate': 0.38999999999999996, 'objective': 'binary:logistic'}\n"
     ]
    }
   ],
   "source": [
    "from sklearn.model_selection import GridSearchCV\n",
    "\n",
    "alpha_b = np.linspace(0.1, 0.9, 20)\n",
    "alpha_b = np.around(alpha_b, decimals=4)\n",
    "learning_rates = [0.01, 0.02, 0.03, 0.04, 0.05, 0.06, 0.07, 0.08, 0.09, 0.1]\n",
    "colsamples = [0.1, 0.2, 0.3, 0.35 ,0.4, 0.45,0.5, 0.55, 0.6,0.65, 0.7, 0.75, 0.8, 0.9]\n",
    "estimators = [50, 100, 125, 150 ,175, 200,225, 250, 275,300, 325, 350, 375, 400]\n",
    "dephs = [5, 10, 15, 20 ,25, 30,35, 40, 45,50, 55, 60, 65, 70]\n",
    "parametros = [{'objective': ['binary:logistic'],'learning_rate':np.arange(0.01,0.5,0.02)},\n",
    "                              {'n_estimators':np.arange(15,300,15)},\n",
    "                              {'scale_pos_weight':np.arange(2,6,1)},\n",
    "                              {'max_depth':np.arange(15,40,2),'min_child_weight':np.arange(1,10,1)},\n",
    "                              {'gamma':np.arange(0,0.5,0.1), 'alpha' : np.arange(0.1,1,0.1)},\n",
    "                              {'subsample':np.arange(0.6,1,0.1),'colsample_bytree':np.arange(0.5,0.91,0.05)},\n",
    "                              {'colsample_bylevel':np.arange(0.6,0.91,0.05)}]\n",
    "classifier = xgb.XGBRegressor()\n",
    "gridsearch = GridSearchCV(classifier, parametros, scoring = 'roc_auc', cv = 4)\n",
    "gridsearch.fit(train_vectors_full, y_train_full)\n",
    "print(\"Best parameter: \",gridsearch.best_params_)"
   ]
  },
  {
   "cell_type": "code",
   "execution_count": null,
   "metadata": {},
   "outputs": [],
   "source": []
  }
 ],
 "metadata": {
  "kernelspec": {
   "display_name": "Python 3",
   "language": "python",
   "name": "python3"
  },
  "language_info": {
   "codemirror_mode": {
    "name": "ipython",
    "version": 3
   },
   "file_extension": ".py",
   "mimetype": "text/x-python",
   "name": "python",
   "nbconvert_exporter": "python",
   "pygments_lexer": "ipython3",
   "version": "3.7.6"
  }
 },
 "nbformat": 4,
 "nbformat_minor": 4
}
